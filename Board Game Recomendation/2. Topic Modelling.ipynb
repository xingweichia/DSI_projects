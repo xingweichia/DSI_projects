{
 "cells": [
  {
   "cell_type": "markdown",
   "metadata": {},
   "source": [
    "## 2. Topic Modelling\n",
    "## Overview\n",
    "\n",
    "In this notebook, topic modelling was done on user comments to further understand user preference and discussion topics.\n",
    "\n",
    "Data sampling was done on the dataset with total of almost 15M user entries of rating or comments. After dropping the empty comment, we are left with ~3M rows and only games that have at least 5k users rating will be included. In order to have a smooth topic modelling process, we also only include comments that having word counts from 10 to 200 words.\n",
    "\n",
    "Comments were then classified to two classes: Positive or Negative. The threshold being used here is the average rating 6.40. Comments that have rating more than or equal to 6.40 will be classified as positive and vice versa.\n",
    "\n",
    "There are some interesting finding from the topic modelling. Regardless of positive or negative comments, the most discussed topic are board game mechanic, board game expansion, and playing time. This finding lead us to build a recommendation system that takes these topic as a main filtering for user when requesting for recommendations."
   ]
  },
  {
   "cell_type": "markdown",
   "metadata": {},
   "source": [
    "## Import"
   ]
  },
  {
   "cell_type": "code",
   "execution_count": 27,
   "metadata": {},
   "outputs": [],
   "source": [
    "import sys\n",
    "import re, numpy as np, pandas as pd\n",
    "from pprint import pprint\n",
    "import nltk\n",
    "\n",
    "# Gensim\n",
    "import gensim, spacy, logging, warnings\n",
    "import gensim.corpora as corpora\n",
    "from gensim.utils import lemmatize, simple_preprocess\n",
    "from gensim.models import CoherenceModel\n",
    "import matplotlib.pyplot as plt\n",
    "\n",
    "from wordcloud import WordCloud, STOPWORDS\n",
    "import matplotlib.colors as mcolors"
   ]
  },
  {
   "cell_type": "code",
   "execution_count": 2,
   "metadata": {},
   "outputs": [
    {
     "name": "stderr",
     "output_type": "stream",
     "text": [
      "[nltk_data] Downloading package stopwords to C:\\Users\\xing\n",
      "[nltk_data]     wei\\AppData\\Roaming\\nltk_data...\n",
      "[nltk_data]   Package stopwords is already up-to-date!\n"
     ]
    },
    {
     "data": {
      "text/plain": [
       "True"
      ]
     },
     "execution_count": 2,
     "metadata": {},
     "output_type": "execute_result"
    }
   ],
   "source": [
    "nltk.download('stopwords')"
   ]
  },
  {
   "cell_type": "code",
   "execution_count": 3,
   "metadata": {},
   "outputs": [],
   "source": [
    "# NLTK Stop words\n",
    "from nltk.corpus import stopwords\n",
    "stop_words = stopwords.words('english')\n",
    "stop_words.extend(['game', 'games','gaming', 'play','plays','played','playing', 'bgg', 'co', 'op'])"
   ]
  },
  {
   "cell_type": "markdown",
   "metadata": {},
   "source": [
    "## Read in Dataset"
   ]
  },
  {
   "cell_type": "code",
   "execution_count": 4,
   "metadata": {},
   "outputs": [
    {
     "data": {
      "text/html": [
       "<div>\n",
       "<style scoped>\n",
       "    .dataframe tbody tr th:only-of-type {\n",
       "        vertical-align: middle;\n",
       "    }\n",
       "\n",
       "    .dataframe tbody tr th {\n",
       "        vertical-align: top;\n",
       "    }\n",
       "\n",
       "    .dataframe thead th {\n",
       "        text-align: right;\n",
       "    }\n",
       "</style>\n",
       "<table border=\"1\" class=\"dataframe\">\n",
       "  <thead>\n",
       "    <tr style=\"text-align: right;\">\n",
       "      <th></th>\n",
       "      <th>user</th>\n",
       "      <th>rating</th>\n",
       "      <th>comment</th>\n",
       "      <th>id</th>\n",
       "      <th>name</th>\n",
       "      <th>comment_len</th>\n",
       "      <th>no of rating</th>\n",
       "      <th>clean_comment</th>\n",
       "    </tr>\n",
       "  </thead>\n",
       "  <tbody>\n",
       "    <tr>\n",
       "      <th>0</th>\n",
       "      <td>mitnachtKAUBO-I</td>\n",
       "      <td>10.0</td>\n",
       "      <td>Hands down my favorite new game of BGG CON 200...</td>\n",
       "      <td>30549</td>\n",
       "      <td>Pandemic</td>\n",
       "      <td>84</td>\n",
       "      <td>13482</td>\n",
       "      <td>hand favorite new game bgg con played time row...</td>\n",
       "    </tr>\n",
       "    <tr>\n",
       "      <th>1</th>\n",
       "      <td>avlawn</td>\n",
       "      <td>10.0</td>\n",
       "      <td>I tend to either love or easily tire of co-op ...</td>\n",
       "      <td>30549</td>\n",
       "      <td>Pandemic</td>\n",
       "      <td>78</td>\n",
       "      <td>13482</td>\n",
       "      <td>tend either love easily tire co op game pandem...</td>\n",
       "    </tr>\n",
       "    <tr>\n",
       "      <th>2</th>\n",
       "      <td>Mease19</td>\n",
       "      <td>10.0</td>\n",
       "      <td>This is an amazing co-op game.  I play mostly ...</td>\n",
       "      <td>30549</td>\n",
       "      <td>Pandemic</td>\n",
       "      <td>62</td>\n",
       "      <td>13482</td>\n",
       "      <td>amazing co op game play mostly wife game reall...</td>\n",
       "    </tr>\n",
       "    <tr>\n",
       "      <th>3</th>\n",
       "      <td>cfarrell</td>\n",
       "      <td>10.0</td>\n",
       "      <td>Hey! I can finally rate this game I've been pl...</td>\n",
       "      <td>30549</td>\n",
       "      <td>Pandemic</td>\n",
       "      <td>223</td>\n",
       "      <td>13482</td>\n",
       "      <td>hey finally rate game playtesting couple year ...</td>\n",
       "    </tr>\n",
       "    <tr>\n",
       "      <th>4</th>\n",
       "      <td>gregd</td>\n",
       "      <td>10.0</td>\n",
       "      <td>Love it- great fun with my son. 2 plays so far...</td>\n",
       "      <td>30549</td>\n",
       "      <td>Pandemic</td>\n",
       "      <td>16</td>\n",
       "      <td>13482</td>\n",
       "      <td>love great fun son play far looking forward</td>\n",
       "    </tr>\n",
       "  </tbody>\n",
       "</table>\n",
       "</div>"
      ],
      "text/plain": [
       "              user  rating                                            comment  \\\n",
       "0  mitnachtKAUBO-I    10.0  Hands down my favorite new game of BGG CON 200...   \n",
       "1           avlawn    10.0  I tend to either love or easily tire of co-op ...   \n",
       "2          Mease19    10.0  This is an amazing co-op game.  I play mostly ...   \n",
       "3         cfarrell    10.0  Hey! I can finally rate this game I've been pl...   \n",
       "4            gregd    10.0  Love it- great fun with my son. 2 plays so far...   \n",
       "\n",
       "      id      name  comment_len  no of rating  \\\n",
       "0  30549  Pandemic           84         13482   \n",
       "1  30549  Pandemic           78         13482   \n",
       "2  30549  Pandemic           62         13482   \n",
       "3  30549  Pandemic          223         13482   \n",
       "4  30549  Pandemic           16         13482   \n",
       "\n",
       "                                       clean_comment  \n",
       "0  hand favorite new game bgg con played time row...  \n",
       "1  tend either love easily tire co op game pandem...  \n",
       "2  amazing co op game play mostly wife game reall...  \n",
       "3  hey finally rate game playtesting couple year ...  \n",
       "4        love great fun son play far looking forward  "
      ]
     },
     "execution_count": 4,
     "metadata": {},
     "output_type": "execute_result"
    }
   ],
   "source": [
    "bg_comment = pd.read_csv('boardgames_comment.csv')\n",
    "bg_comment.head()"
   ]
  },
  {
   "cell_type": "code",
   "execution_count": 31,
   "metadata": {},
   "outputs": [
    {
     "data": {
      "text/plain": [
       "(236298, 8)"
      ]
     },
     "execution_count": 31,
     "metadata": {},
     "output_type": "execute_result"
    }
   ],
   "source": [
    "bg_comment = bg_comment[(bg_comment['no of rating']>5000) & (bg_comment['comment_len']>10)]\n",
    "bg_comment.shape"
   ]
  },
  {
   "cell_type": "markdown",
   "metadata": {},
   "source": [
    "### Positive Comments"
   ]
  },
  {
   "cell_type": "code",
   "execution_count": 34,
   "metadata": {},
   "outputs": [
    {
     "data": {
      "text/plain": [
       "(174208, 8)"
      ]
     },
     "execution_count": 34,
     "metadata": {},
     "output_type": "execute_result"
    }
   ],
   "source": [
    "bg_pos = bg_comment[(bg_comment['rating']>=6.4) & (bg_comment['comment_len']<200)]\n",
    "bg_pos.shape"
   ]
  },
  {
   "cell_type": "code",
   "execution_count": 35,
   "metadata": {},
   "outputs": [
    {
     "name": "stdout",
     "output_type": "stream",
     "text": [
      "[['hand', 'favorite', 'new', 'game', 'bgg', 'con', 'played', 'time', 'row', 'good', 'bad', 'pandemic', 'store', 'january', 'like', 'pure', 'co', 'game', 'lord', 'ring', 'feurio', 'etc', 'right', 'alley', 'role', 'choose', 'give', 'game', 'extra', 'variability', 'also', 'get', 'good', 'ramp', 'difficulty', 'adding', 'epidemic', 'card']]\n"
     ]
    }
   ],
   "source": [
    "# Tokenize words\n",
    "def sent_to_words(sentences):\n",
    "    for sent in sentences:\n",
    "        sent = gensim.utils.simple_preprocess(str(sent)) \n",
    "        yield(sent)  \n",
    "\n",
    "# Convert to list\n",
    "data = bg_pos['clean_comment'].values.tolist()\n",
    "data_words = list(sent_to_words(data))\n",
    "print(data_words[:1])"
   ]
  },
  {
   "cell_type": "code",
   "execution_count": 36,
   "metadata": {},
   "outputs": [],
   "source": [
    "# Build the bigram and trigram models\n",
    "bigram = gensim.models.Phrases(data_words, min_count=5, threshold=100) # higher threshold fewer phrases.\n",
    "trigram = gensim.models.Phrases(bigram[data_words], threshold=100)  \n",
    "bigram_mod = gensim.models.phrases.Phraser(bigram)\n",
    "trigram_mod = gensim.models.phrases.Phraser(trigram)"
   ]
  },
  {
   "cell_type": "code",
   "execution_count": 37,
   "metadata": {},
   "outputs": [],
   "source": [
    "# Words processing function\n",
    "def process_words(texts, stop_words=stop_words, allowed_postags=['NOUN', 'ADJ', 'VERB', 'ADV']):\n",
    "    \"\"\"Remove Stopwords, Form Bigrams, Trigrams and Lemmatization\"\"\"\n",
    "    texts = [[word for word in simple_preprocess(str(doc)) if word not in stop_words] for doc in texts]\n",
    "    texts = [bigram_mod[doc] for doc in texts]\n",
    "    texts = [trigram_mod[bigram_mod[doc]] for doc in texts]\n",
    "    texts_out = []\n",
    "    nlp = spacy.load('en_core_web_sm', disable=['parser', 'ner'])\n",
    "    for sent in texts:\n",
    "        doc = nlp(\" \".join(sent)) \n",
    "        texts_out.append([token.lemma_ for token in doc if token.pos_ in allowed_postags])\n",
    "        \n",
    "    # remove stopwords once more after lemmatization\n",
    "    texts_out = [[word for word in simple_preprocess(str(doc)) if word not in stop_words] for doc in texts_out]    \n",
    "    return texts_out"
   ]
  },
  {
   "cell_type": "code",
   "execution_count": 38,
   "metadata": {},
   "outputs": [],
   "source": [
    "data_ready_pos = process_words(data_words)  # processed Text Data!"
   ]
  },
  {
   "cell_type": "code",
   "execution_count": 39,
   "metadata": {},
   "outputs": [
    {
     "name": "stdout",
     "output_type": "stream",
     "text": [
      "[(0, '0.043*\"great\" + 0.040*\"group\" + 0.028*\"enough\" + 0.026*\"strategy\" + 0.025*\"old\" + 0.025*\"year\" + 0.022*\"gamer\" + 0.022*\"fun\" + 0.022*\"work\" + 0.018*\"favorite\"'), (1, '0.042*\"version\" + 0.036*\"time\" + 0.029*\"get\" + 0.029*\"expansion\" + 0.021*\"still\" + 0.020*\"love\" + 0.018*\"much\" + 0.017*\"many\" + 0.016*\"think\" + 0.016*\"edition\"'), (2, '0.072*\"player\" + 0.038*\"fun\" + 0.035*\"really\" + 0.025*\"lot\" + 0.023*\"rule\" + 0.022*\"make\" + 0.021*\"power\" + 0.020*\"great\" + 0.020*\"easy\" + 0.016*\"different\"'), (3, '0.070*\"good\" + 0.043*\"well\" + 0.042*\"card\" + 0.038*\"new\" + 0.022*\"original\" + 0.017*\"way\" + 0.017*\"find\" + 0.015*\"also\" + 0.013*\"ever\" + 0.013*\"pandemic\"')]\n"
     ]
    }
   ],
   "source": [
    "# Create Dictionary\n",
    "id2word = corpora.Dictionary(data_ready_pos)\n",
    "\n",
    "# Create Corpus: Term Document Frequency\n",
    "corpus = [id2word.doc2bow(text) for text in data_ready_pos]\n",
    "\n",
    "# Build LDA model\n",
    "lda_model = gensim.models.ldamodel.LdaModel(corpus=corpus,\n",
    "                                           id2word=id2word,\n",
    "                                           num_topics=4, \n",
    "                                           random_state=100,\n",
    "                                           update_every=1,\n",
    "                                           chunksize=10,\n",
    "                                           passes=10,\n",
    "                                           alpha='symmetric',\n",
    "                                           iterations=100,\n",
    "                                           per_word_topics=True)\n",
    "\n",
    "print(lda_model.print_topics())"
   ]
  },
  {
   "cell_type": "code",
   "execution_count": 40,
   "metadata": {},
   "outputs": [
    {
     "data": {
      "text/html": [
       "<div>\n",
       "<style scoped>\n",
       "    .dataframe tbody tr th:only-of-type {\n",
       "        vertical-align: middle;\n",
       "    }\n",
       "\n",
       "    .dataframe tbody tr th {\n",
       "        vertical-align: top;\n",
       "    }\n",
       "\n",
       "    .dataframe thead th {\n",
       "        text-align: right;\n",
       "    }\n",
       "</style>\n",
       "<table border=\"1\" class=\"dataframe\">\n",
       "  <thead>\n",
       "    <tr style=\"text-align: right;\">\n",
       "      <th></th>\n",
       "      <th>Document_No</th>\n",
       "      <th>Dominant_Topic</th>\n",
       "      <th>Topic_Perc_Contrib</th>\n",
       "      <th>Keywords</th>\n",
       "      <th>Text</th>\n",
       "    </tr>\n",
       "  </thead>\n",
       "  <tbody>\n",
       "    <tr>\n",
       "      <th>0</th>\n",
       "      <td>0</td>\n",
       "      <td>3.0</td>\n",
       "      <td>0.6306</td>\n",
       "      <td>good, well, card, new, original, way, find, also, ever, pandemic</td>\n",
       "      <td>[favorite, new, con, time, row, good, bad, pandemic, store, pure, lord_ring, feurio, role, choos...</td>\n",
       "    </tr>\n",
       "    <tr>\n",
       "      <th>1</th>\n",
       "      <td>1</td>\n",
       "      <td>1.0</td>\n",
       "      <td>0.6339</td>\n",
       "      <td>version, time, get, expansion, still, love, much, many, think, edition</td>\n",
       "      <td>[tend, love, easily, tire, pandemic, knizia, favorite, true, edge, merely, time, set, undertakin...</td>\n",
       "    </tr>\n",
       "    <tr>\n",
       "      <th>2</th>\n",
       "      <td>2</td>\n",
       "      <td>1.0</td>\n",
       "      <td>0.5293</td>\n",
       "      <td>version, time, get, expansion, still, love, much, many, think, edition</td>\n",
       "      <td>[amazing, mostly, wife, really, imagine, get, tired, win, lose, usually, want, immediately, brin...</td>\n",
       "    </tr>\n",
       "    <tr>\n",
       "      <th>3</th>\n",
       "      <td>3</td>\n",
       "      <td>0.0</td>\n",
       "      <td>0.3904</td>\n",
       "      <td>great, group, enough, strategy, old, year, gamer, fun, work, favorite</td>\n",
       "      <td>[love, great, fun, son, far]</td>\n",
       "    </tr>\n",
       "    <tr>\n",
       "      <th>4</th>\n",
       "      <td>4</td>\n",
       "      <td>1.0</td>\n",
       "      <td>0.4721</td>\n",
       "      <td>version, time, get, expansion, still, love, much, many, think, edition</td>\n",
       "      <td>[fun, strategy, require, definitely, accessible, non, gamer, player, son, use, role, open, hand,...</td>\n",
       "    </tr>\n",
       "    <tr>\n",
       "      <th>5</th>\n",
       "      <td>5</td>\n",
       "      <td>3.0</td>\n",
       "      <td>0.8112</td>\n",
       "      <td>good, well, card, new, original, way, find, also, ever, pandemic</td>\n",
       "      <td>[know, balanced, thing, absolutely, amazing, ball, find, new, way, look, cooperative, stand, hig...</td>\n",
       "    </tr>\n",
       "    <tr>\n",
       "      <th>6</th>\n",
       "      <td>6</td>\n",
       "      <td>0.0</td>\n",
       "      <td>0.5126</td>\n",
       "      <td>great, group, enough, strategy, old, year, gamer, fun, work, favorite</td>\n",
       "      <td>[family, player, finally, cooperative, work, together, stem, tide, global, pandemic, family, fri...</td>\n",
       "    </tr>\n",
       "    <tr>\n",
       "      <th>7</th>\n",
       "      <td>7</td>\n",
       "      <td>3.0</td>\n",
       "      <td>0.5923</td>\n",
       "      <td>good, well, card, new, original, way, find, also, ever, pandemic</td>\n",
       "      <td>[thematic, brisk, well, balanced, create, palpable, tension, currently, honest, favorite, board,...</td>\n",
       "    </tr>\n",
       "    <tr>\n",
       "      <th>8</th>\n",
       "      <td>8</td>\n",
       "      <td>2.0</td>\n",
       "      <td>0.7760</td>\n",
       "      <td>player, fun, really, lot, rule, make, power, great, easy, different</td>\n",
       "      <td>[try, appeal, nice, different, type, enjoy, much, hope, chance, soon]</td>\n",
       "    </tr>\n",
       "    <tr>\n",
       "      <th>9</th>\n",
       "      <td>9</td>\n",
       "      <td>2.0</td>\n",
       "      <td>0.8090</td>\n",
       "      <td>player, fun, really, lot, rule, make, power, great, easy, different</td>\n",
       "      <td>[great, fantastic, beat]</td>\n",
       "    </tr>\n",
       "  </tbody>\n",
       "</table>\n",
       "</div>"
      ],
      "text/plain": [
       "   Document_No  Dominant_Topic  Topic_Perc_Contrib  \\\n",
       "0            0             3.0              0.6306   \n",
       "1            1             1.0              0.6339   \n",
       "2            2             1.0              0.5293   \n",
       "3            3             0.0              0.3904   \n",
       "4            4             1.0              0.4721   \n",
       "5            5             3.0              0.8112   \n",
       "6            6             0.0              0.5126   \n",
       "7            7             3.0              0.5923   \n",
       "8            8             2.0              0.7760   \n",
       "9            9             2.0              0.8090   \n",
       "\n",
       "                                                                 Keywords  \\\n",
       "0        good, well, card, new, original, way, find, also, ever, pandemic   \n",
       "1  version, time, get, expansion, still, love, much, many, think, edition   \n",
       "2  version, time, get, expansion, still, love, much, many, think, edition   \n",
       "3   great, group, enough, strategy, old, year, gamer, fun, work, favorite   \n",
       "4  version, time, get, expansion, still, love, much, many, think, edition   \n",
       "5        good, well, card, new, original, way, find, also, ever, pandemic   \n",
       "6   great, group, enough, strategy, old, year, gamer, fun, work, favorite   \n",
       "7        good, well, card, new, original, way, find, also, ever, pandemic   \n",
       "8     player, fun, really, lot, rule, make, power, great, easy, different   \n",
       "9     player, fun, really, lot, rule, make, power, great, easy, different   \n",
       "\n",
       "                                                                                                  Text  \n",
       "0  [favorite, new, con, time, row, good, bad, pandemic, store, pure, lord_ring, feurio, role, choos...  \n",
       "1  [tend, love, easily, tire, pandemic, knizia, favorite, true, edge, merely, time, set, undertakin...  \n",
       "2  [amazing, mostly, wife, really, imagine, get, tired, win, lose, usually, want, immediately, brin...  \n",
       "3                                                                         [love, great, fun, son, far]  \n",
       "4  [fun, strategy, require, definitely, accessible, non, gamer, player, son, use, role, open, hand,...  \n",
       "5  [know, balanced, thing, absolutely, amazing, ball, find, new, way, look, cooperative, stand, hig...  \n",
       "6  [family, player, finally, cooperative, work, together, stem, tide, global, pandemic, family, fri...  \n",
       "7  [thematic, brisk, well, balanced, create, palpable, tension, currently, honest, favorite, board,...  \n",
       "8                                [try, appeal, nice, different, type, enjoy, much, hope, chance, soon]  \n",
       "9                                                                             [great, fantastic, beat]  "
      ]
     },
     "execution_count": 40,
     "metadata": {},
     "output_type": "execute_result"
    }
   ],
   "source": [
    "def format_topics_sentences(ldamodel=None, corpus=corpus, texts=data):\n",
    "    # Init output\n",
    "    sent_topics_df = pd.DataFrame()\n",
    "\n",
    "    # Get main topic in each document\n",
    "    for i, row_list in enumerate(ldamodel[corpus]):\n",
    "        row = row_list[0] if ldamodel.per_word_topics else row_list            \n",
    "        # print(row)\n",
    "        row = sorted(row, key=lambda x: (x[1]), reverse=True)\n",
    "        # Get the Dominant topic, Perc Contribution and Keywords for each document\n",
    "        for j, (topic_num, prop_topic) in enumerate(row):\n",
    "            if j == 0:  # => dominant topic\n",
    "                wp = ldamodel.show_topic(topic_num)\n",
    "                topic_keywords = \", \".join([word for word, prop in wp])\n",
    "                sent_topics_df = sent_topics_df.append(pd.Series([int(topic_num), round(prop_topic,4), topic_keywords]), ignore_index=True)\n",
    "            else:\n",
    "                break\n",
    "    sent_topics_df.columns = ['Dominant_Topic', 'Perc_Contribution', 'Topic_Keywords']\n",
    "\n",
    "    # Add original text to the end of the output\n",
    "    contents = pd.Series(texts)\n",
    "    sent_topics_df = pd.concat([sent_topics_df, contents], axis=1)\n",
    "    return(sent_topics_df)\n",
    "\n",
    "\n",
    "df_topic_sents_keywords = format_topics_sentences(ldamodel=lda_model, corpus=corpus, texts=data_ready_pos)\n",
    "\n",
    "# Format\n",
    "df_dominant_topic = df_topic_sents_keywords.reset_index()\n",
    "df_dominant_topic.columns = ['Document_No', 'Dominant_Topic', 'Topic_Perc_Contrib', 'Keywords', 'Text']\n",
    "df_dominant_topic.head(10)"
   ]
  },
  {
   "cell_type": "code",
   "execution_count": 41,
   "metadata": {},
   "outputs": [
    {
     "data": {
      "text/html": [
       "<div>\n",
       "<style scoped>\n",
       "    .dataframe tbody tr th:only-of-type {\n",
       "        vertical-align: middle;\n",
       "    }\n",
       "\n",
       "    .dataframe tbody tr th {\n",
       "        vertical-align: top;\n",
       "    }\n",
       "\n",
       "    .dataframe thead th {\n",
       "        text-align: right;\n",
       "    }\n",
       "</style>\n",
       "<table border=\"1\" class=\"dataframe\">\n",
       "  <thead>\n",
       "    <tr style=\"text-align: right;\">\n",
       "      <th></th>\n",
       "      <th>Topic_Num</th>\n",
       "      <th>Topic_Perc_Contrib</th>\n",
       "      <th>Keywords</th>\n",
       "      <th>Representative Text</th>\n",
       "    </tr>\n",
       "  </thead>\n",
       "  <tbody>\n",
       "    <tr>\n",
       "      <th>0</th>\n",
       "      <td>0.0</td>\n",
       "      <td>0.9498</td>\n",
       "      <td>great, group, enough, strategy, old, year, gamer, fun, work, favorite</td>\n",
       "      <td>[duraci, pero, todav, son, poca, jugadore, son, miedo, perder, con, extranjero, gente, hable, ella]</td>\n",
       "    </tr>\n",
       "    <tr>\n",
       "      <th>1</th>\n",
       "      <td>1.0</td>\n",
       "      <td>0.9505</td>\n",
       "      <td>version, time, get, expansion, still, love, much, many, think, edition</td>\n",
       "      <td>[start, release, unlimited, edition, drop, shortly, release, edition, get, summer, end, last, se...</td>\n",
       "    </tr>\n",
       "    <tr>\n",
       "      <th>2</th>\n",
       "      <td>2.0</td>\n",
       "      <td>0.9423</td>\n",
       "      <td>player, fun, really, lot, rule, make, power, great, easy, different</td>\n",
       "      <td>[always, easy, teach, fairly, simple, gameplay, lot, tough, decision, make, different, path_vict...</td>\n",
       "    </tr>\n",
       "    <tr>\n",
       "      <th>3</th>\n",
       "      <td>3.0</td>\n",
       "      <td>0.9750</td>\n",
       "      <td>good, well, card, new, original, way, find, also, ever, pandemic</td>\n",
       "      <td>[include, thing, thing, thing, thing, thing, thing, thing, thing, thing, thing, thing, thing, th...</td>\n",
       "    </tr>\n",
       "  </tbody>\n",
       "</table>\n",
       "</div>"
      ],
      "text/plain": [
       "   Topic_Num  Topic_Perc_Contrib  \\\n",
       "0        0.0              0.9498   \n",
       "1        1.0              0.9505   \n",
       "2        2.0              0.9423   \n",
       "3        3.0              0.9750   \n",
       "\n",
       "                                                                 Keywords  \\\n",
       "0   great, group, enough, strategy, old, year, gamer, fun, work, favorite   \n",
       "1  version, time, get, expansion, still, love, much, many, think, edition   \n",
       "2     player, fun, really, lot, rule, make, power, great, easy, different   \n",
       "3        good, well, card, new, original, way, find, also, ever, pandemic   \n",
       "\n",
       "                                                                                   Representative Text  \n",
       "0  [duraci, pero, todav, son, poca, jugadore, son, miedo, perder, con, extranjero, gente, hable, ella]  \n",
       "1  [start, release, unlimited, edition, drop, shortly, release, edition, get, summer, end, last, se...  \n",
       "2  [always, easy, teach, fairly, simple, gameplay, lot, tough, decision, make, different, path_vict...  \n",
       "3  [include, thing, thing, thing, thing, thing, thing, thing, thing, thing, thing, thing, thing, th...  "
      ]
     },
     "execution_count": 41,
     "metadata": {},
     "output_type": "execute_result"
    }
   ],
   "source": [
    "# Display setting to show more characters in column\n",
    "pd.options.display.max_colwidth = 100\n",
    "\n",
    "sent_topics_sorteddf_mallet = pd.DataFrame()\n",
    "sent_topics_outdf_grpd = df_topic_sents_keywords.groupby('Dominant_Topic')\n",
    "\n",
    "for i, grp in sent_topics_outdf_grpd:\n",
    "    sent_topics_sorteddf_mallet = pd.concat([sent_topics_sorteddf_mallet, \n",
    "                                             grp.sort_values(['Perc_Contribution'], ascending=False).head(1)], \n",
    "                                            axis=0)\n",
    "\n",
    "# Reset Index    \n",
    "sent_topics_sorteddf_mallet.reset_index(drop=True, inplace=True)\n",
    "\n",
    "# Format\n",
    "sent_topics_sorteddf_mallet.columns = ['Topic_Num', \"Topic_Perc_Contrib\", \"Keywords\", \"Representative Text\"]\n",
    "\n",
    "# Show\n",
    "sent_topics_sorteddf_mallet.head(10)"
   ]
  },
  {
   "cell_type": "code",
   "execution_count": 42,
   "metadata": {
    "scrolled": true
   },
   "outputs": [
    {
     "data": {
      "image/png": "[encoded data removed]",
      "text/plain": [
       "<Figure size 720x720 with 4 Axes>"
      ]
     },
     "metadata": {
      "needs_background": "light"
     },
     "output_type": "display_data"
    }
   ],
   "source": [
    "# 1. Wordcloud of Top N words in each topic\n",
    "cols = [color for name, color in mcolors.TABLEAU_COLORS.items()]  # more colors: 'mcolors.XKCD_COLORS'\n",
    "\n",
    "cloud = WordCloud(stopwords=stop_words,\n",
    "                  background_color='white',\n",
    "                  width=2500,\n",
    "                  height=1800,\n",
    "                  max_words=15,\n",
    "                  colormap='tab10',\n",
    "                  color_func=lambda *args, **kwargs: cols[i],\n",
    "                  prefer_horizontal=1.0)\n",
    "\n",
    "topics = lda_model.show_topics(formatted=False)\n",
    "\n",
    "fig, axes = plt.subplots(2, 2, figsize=(10,10), sharex=True, sharey=True)\n",
    "\n",
    "for i, ax in enumerate(axes.flatten()):\n",
    "    fig.add_subplot(ax)\n",
    "    topic_words = dict(topics[i][1])\n",
    "    cloud.generate_from_frequencies(topic_words, max_font_size=300)\n",
    "    plt.gca().imshow(cloud)\n",
    "    plt.gca().set_title('Topic ' + str(i), fontdict=dict(size=16))\n",
    "    plt.gca().axis('off')\n",
    "\n",
    "\n",
    "plt.subplots_adjust(wspace=0, hspace=0)\n",
    "plt.axis('off')\n",
    "plt.margins(x=0, y=0)\n",
    "plt.tight_layout()\n",
    "plt.show()"
   ]
  },
  {
   "cell_type": "markdown",
   "metadata": {},
   "source": [
    "Observations:\n",
    "\n",
    "Topic 0: Player age & Board game strategy\n",
    "- It is likely discussing about strategy games that is fun for all ages\n",
    "\n",
    "Topic 1: Board game version and expansion\n",
    "- It is likely discussing about players feelings on the different versions/editions/expansions of games\n",
    "\n",
    "Topic 2: Ease of play & no. of players\n",
    "- It is likely discussing about how the games have easy rules and would be fun for many players\n",
    "\n",
    "Topic 3: Card game originality \n",
    "- It is likely discussing about the originality of new card games"
   ]
  },
  {
   "cell_type": "markdown",
   "metadata": {},
   "source": [
    "### Negative Comments"
   ]
  },
  {
   "cell_type": "code",
   "execution_count": 43,
   "metadata": {},
   "outputs": [
    {
     "data": {
      "text/plain": [
       "(57012, 8)"
      ]
     },
     "execution_count": 43,
     "metadata": {},
     "output_type": "execute_result"
    }
   ],
   "source": [
    "bg_neg = bg_comment[(bg_comment['rating']<6.4) & (bg_comment['comment_len']<200)]\n",
    "bg_neg.shape"
   ]
  },
  {
   "cell_type": "code",
   "execution_count": 44,
   "metadata": {},
   "outputs": [
    {
     "name": "stdout",
     "output_type": "stream",
     "text": [
      "[['gameplay', 'theme', 'component', 'funfactor', 'overall', 'average', 'score', 'low', 'opinion', 'old', 'game', 'amazing', 'theme', 'never', 'get', 'old', 'mechanic', 'old', 'gameplay', 'nostalgic', 'feel', 'still', 'enjoy', 'playing']]\n"
     ]
    }
   ],
   "source": [
    "# Convert to list\n",
    "data_neg = bg_neg['clean_comment'].values.tolist()\n",
    "data_words_neg = list(sent_to_words(data_neg))   # function that tokenize the word\n",
    "print(data_words_neg[:1])"
   ]
  },
  {
   "cell_type": "code",
   "execution_count": 45,
   "metadata": {},
   "outputs": [],
   "source": [
    "# Build the bigram and trigram models\n",
    "bigram = gensim.models.Phrases(data_words_neg, min_count=5, threshold=100) # higher threshold fewer phrases.\n",
    "trigram = gensim.models.Phrases(bigram[data_words_neg], threshold=100)  \n",
    "bigram_mod = gensim.models.phrases.Phraser(bigram)\n",
    "trigram_mod = gensim.models.phrases.Phraser(trigram)"
   ]
  },
  {
   "cell_type": "code",
   "execution_count": 46,
   "metadata": {},
   "outputs": [],
   "source": [
    "data_ready_neg = process_words(data_words_neg)  # processed Text Data!"
   ]
  },
  {
   "cell_type": "code",
   "execution_count": 47,
   "metadata": {},
   "outputs": [
    {
     "name": "stdout",
     "output_type": "stream",
     "text": [
      "[(0, '0.049*\"player\" + 0.039*\"time\" + 0.029*\"fun\" + 0.025*\"make\" + 0.023*\"much\" + 0.021*\"seem\" + 0.018*\"good\" + 0.016*\"luck\" + 0.013*\"long\" + 0.013*\"win\"'), (1, '0.040*\"well\" + 0.028*\"would\" + 0.027*\"much\" + 0.026*\"people\" + 0.026*\"think\" + 0.022*\"many\" + 0.020*\"try\" + 0.020*\"edition\" + 0.020*\"find\" + 0.019*\"bad\"'), (2, '0.055*\"version\" + 0.048*\"get\" + 0.033*\"card\" + 0.026*\"rule\" + 0.024*\"power\" + 0.023*\"random\" + 0.021*\"know\" + 0.020*\"expansion\" + 0.019*\"group\" + 0.018*\"pretty\"'), (3, '0.047*\"really\" + 0.032*\"feel\" + 0.031*\"never\" + 0.026*\"still\" + 0.026*\"want\" + 0.024*\"see\" + 0.023*\"enjoy\" + 0.018*\"rating\" + 0.017*\"end\" + 0.017*\"mechanic\"')]\n"
     ]
    }
   ],
   "source": [
    "# Create Dictionary\n",
    "id2word_neg = corpora.Dictionary(data_ready_neg)\n",
    "\n",
    "# Create Corpus: Term Document Frequency\n",
    "corpus_neg = [id2word_neg.doc2bow(text) for text in data_ready_neg]\n",
    "\n",
    "# Build LDA model\n",
    "lda_model_neg = gensim.models.ldamodel.LdaModel(corpus=corpus_neg,\n",
    "                                           id2word=id2word_neg,\n",
    "                                           num_topics=4, \n",
    "                                           random_state=100,\n",
    "                                           update_every=1,\n",
    "                                           chunksize=10,\n",
    "                                           passes=10,\n",
    "                                           alpha='symmetric',\n",
    "                                           iterations=100,\n",
    "                                           per_word_topics=True)\n",
    "\n",
    "print(lda_model_neg.print_topics())"
   ]
  },
  {
   "cell_type": "code",
   "execution_count": 48,
   "metadata": {
    "scrolled": false
   },
   "outputs": [
    {
     "data": {
      "text/html": [
       "<div>\n",
       "<style scoped>\n",
       "    .dataframe tbody tr th:only-of-type {\n",
       "        vertical-align: middle;\n",
       "    }\n",
       "\n",
       "    .dataframe tbody tr th {\n",
       "        vertical-align: top;\n",
       "    }\n",
       "\n",
       "    .dataframe thead th {\n",
       "        text-align: right;\n",
       "    }\n",
       "</style>\n",
       "<table border=\"1\" class=\"dataframe\">\n",
       "  <thead>\n",
       "    <tr style=\"text-align: right;\">\n",
       "      <th></th>\n",
       "      <th>Document_No</th>\n",
       "      <th>Dominant_Topic</th>\n",
       "      <th>Topic_Perc_Contrib</th>\n",
       "      <th>Keywords</th>\n",
       "      <th>Text</th>\n",
       "    </tr>\n",
       "  </thead>\n",
       "  <tbody>\n",
       "    <tr>\n",
       "      <th>0</th>\n",
       "      <td>0</td>\n",
       "      <td>3.0</td>\n",
       "      <td>0.7872</td>\n",
       "      <td>really, feel, never, still, want, see, enjoy, rating, end, mechanic</td>\n",
       "      <td>[funfactor, overall, average, score, low, opinion, old, amazing, theme, never, old, mechanic, ol...</td>\n",
       "    </tr>\n",
       "    <tr>\n",
       "      <th>1</th>\n",
       "      <td>1</td>\n",
       "      <td>2.0</td>\n",
       "      <td>0.6611</td>\n",
       "      <td>version, get, card, rule, power, random, know, expansion, group, pretty</td>\n",
       "      <td>[original, rule, use, auctioning, bad]</td>\n",
       "    </tr>\n",
       "    <tr>\n",
       "      <th>2</th>\n",
       "      <td>2</td>\n",
       "      <td>1.0</td>\n",
       "      <td>0.6322</td>\n",
       "      <td>well, would, much, people, think, many, try, edition, find, bad</td>\n",
       "      <td>[rarely, rate, low, sheer, genius, creation, great, old, outplayed, great, milestone, boardgame]</td>\n",
       "    </tr>\n",
       "    <tr>\n",
       "      <th>3</th>\n",
       "      <td>3</td>\n",
       "      <td>3.0</td>\n",
       "      <td>0.7474</td>\n",
       "      <td>really, feel, never, still, want, see, enjoy, rating, end, mechanic</td>\n",
       "      <td>[aesthetic, component, concept, mechanism, combine, total]</td>\n",
       "    </tr>\n",
       "    <tr>\n",
       "      <th>4</th>\n",
       "      <td>4</td>\n",
       "      <td>1.0</td>\n",
       "      <td>0.8681</td>\n",
       "      <td>well, would, much, people, think, many, try, edition, find, bad</td>\n",
       "      <td>[woody, good, name, great, bit, much, maligned, think, come, people, bring, people, well, bad]</td>\n",
       "    </tr>\n",
       "    <tr>\n",
       "      <th>5</th>\n",
       "      <td>5</td>\n",
       "      <td>1.0</td>\n",
       "      <td>0.7084</td>\n",
       "      <td>well, would, much, people, think, many, try, edition, find, bad</td>\n",
       "      <td>[classic, collection, solid, high, book]</td>\n",
       "    </tr>\n",
       "    <tr>\n",
       "      <th>6</th>\n",
       "      <td>6</td>\n",
       "      <td>2.0</td>\n",
       "      <td>0.6250</td>\n",
       "      <td>version, get, card, rule, power, random, know, expansion, group, pretty</td>\n",
       "      <td>[know]</td>\n",
       "    </tr>\n",
       "    <tr>\n",
       "      <th>7</th>\n",
       "      <td>7</td>\n",
       "      <td>2.0</td>\n",
       "      <td>0.7467</td>\n",
       "      <td>version, get, card, rule, power, random, know, expansion, group, pretty</td>\n",
       "      <td>[right, crowd, get, interminally, bore, use, house, rule, keep, inject, cash, put, luxury, tax, ...</td>\n",
       "    </tr>\n",
       "    <tr>\n",
       "      <th>8</th>\n",
       "      <td>8</td>\n",
       "      <td>0.0</td>\n",
       "      <td>0.7483</td>\n",
       "      <td>player, time, fun, make, much, seem, good, luck, long, win</td>\n",
       "      <td>[good, rule, keep, push, money, mortgage, go, straight, hotel, fun, short, time]</td>\n",
       "    </tr>\n",
       "    <tr>\n",
       "      <th>9</th>\n",
       "      <td>9</td>\n",
       "      <td>0.0</td>\n",
       "      <td>0.7884</td>\n",
       "      <td>player, time, fun, make, much, seem, good, luck, long, win</td>\n",
       "      <td>[gamer, open, trading, may, make, luck, orient, great, fun, trading, boring, suffer, much, probl...</td>\n",
       "    </tr>\n",
       "  </tbody>\n",
       "</table>\n",
       "</div>"
      ],
      "text/plain": [
       "   Document_No  Dominant_Topic  Topic_Perc_Contrib  \\\n",
       "0            0             3.0              0.7872   \n",
       "1            1             2.0              0.6611   \n",
       "2            2             1.0              0.6322   \n",
       "3            3             3.0              0.7474   \n",
       "4            4             1.0              0.8681   \n",
       "5            5             1.0              0.7084   \n",
       "6            6             2.0              0.6250   \n",
       "7            7             2.0              0.7467   \n",
       "8            8             0.0              0.7483   \n",
       "9            9             0.0              0.7884   \n",
       "\n",
       "                                                                  Keywords  \\\n",
       "0      really, feel, never, still, want, see, enjoy, rating, end, mechanic   \n",
       "1  version, get, card, rule, power, random, know, expansion, group, pretty   \n",
       "2          well, would, much, people, think, many, try, edition, find, bad   \n",
       "3      really, feel, never, still, want, see, enjoy, rating, end, mechanic   \n",
       "4          well, would, much, people, think, many, try, edition, find, bad   \n",
       "5          well, would, much, people, think, many, try, edition, find, bad   \n",
       "6  version, get, card, rule, power, random, know, expansion, group, pretty   \n",
       "7  version, get, card, rule, power, random, know, expansion, group, pretty   \n",
       "8               player, time, fun, make, much, seem, good, luck, long, win   \n",
       "9               player, time, fun, make, much, seem, good, luck, long, win   \n",
       "\n",
       "                                                                                                  Text  \n",
       "0  [funfactor, overall, average, score, low, opinion, old, amazing, theme, never, old, mechanic, ol...  \n",
       "1                                                               [original, rule, use, auctioning, bad]  \n",
       "2     [rarely, rate, low, sheer, genius, creation, great, old, outplayed, great, milestone, boardgame]  \n",
       "3                                           [aesthetic, component, concept, mechanism, combine, total]  \n",
       "4       [woody, good, name, great, bit, much, maligned, think, come, people, bring, people, well, bad]  \n",
       "5                                                             [classic, collection, solid, high, book]  \n",
       "6                                                                                               [know]  \n",
       "7  [right, crowd, get, interminally, bore, use, house, rule, keep, inject, cash, put, luxury, tax, ...  \n",
       "8                     [good, rule, keep, push, money, mortgage, go, straight, hotel, fun, short, time]  \n",
       "9  [gamer, open, trading, may, make, luck, orient, great, fun, trading, boring, suffer, much, probl...  "
      ]
     },
     "execution_count": 48,
     "metadata": {},
     "output_type": "execute_result"
    }
   ],
   "source": [
    "df_topic_sents_keywords_neg = format_topics_sentences(ldamodel=lda_model_neg, corpus=corpus_neg, texts=data_ready_neg)\n",
    "\n",
    "# Format\n",
    "df_dominant_topic_neg = df_topic_sents_keywords_neg.reset_index()\n",
    "df_dominant_topic_neg.columns = ['Document_No', 'Dominant_Topic', 'Topic_Perc_Contrib', 'Keywords', 'Text']\n",
    "df_dominant_topic_neg.head(10)"
   ]
  },
  {
   "cell_type": "code",
   "execution_count": 49,
   "metadata": {},
   "outputs": [
    {
     "data": {
      "text/html": [
       "<div>\n",
       "<style scoped>\n",
       "    .dataframe tbody tr th:only-of-type {\n",
       "        vertical-align: middle;\n",
       "    }\n",
       "\n",
       "    .dataframe tbody tr th {\n",
       "        vertical-align: top;\n",
       "    }\n",
       "\n",
       "    .dataframe thead th {\n",
       "        text-align: right;\n",
       "    }\n",
       "</style>\n",
       "<table border=\"1\" class=\"dataframe\">\n",
       "  <thead>\n",
       "    <tr style=\"text-align: right;\">\n",
       "      <th></th>\n",
       "      <th>Topic_Num</th>\n",
       "      <th>Topic_Perc_Contrib</th>\n",
       "      <th>Keywords</th>\n",
       "      <th>Representative Text</th>\n",
       "    </tr>\n",
       "  </thead>\n",
       "  <tbody>\n",
       "    <tr>\n",
       "      <th>0</th>\n",
       "      <td>0.0</td>\n",
       "      <td>0.9317</td>\n",
       "      <td>player, time, fun, make, much, seem, good, luck, long, win</td>\n",
       "      <td>[die, die, die, tear, der, die, die, die, die, die]</td>\n",
       "    </tr>\n",
       "    <tr>\n",
       "      <th>1</th>\n",
       "      <td>1.0</td>\n",
       "      <td>0.9268</td>\n",
       "      <td>well, would, much, people, think, many, try, edition, find, bad</td>\n",
       "      <td>[love, insect, move, bit, chess, way, lot, chess, club, student, like, though]</td>\n",
       "    </tr>\n",
       "    <tr>\n",
       "      <th>2</th>\n",
       "      <td>2.0</td>\n",
       "      <td>0.9856</td>\n",
       "      <td>version, get, card, rule, power, random, know, expansion, group, pretty</td>\n",
       "      <td>[buy, magic, card, buy, magic, card, buy, magic, card, buy, magic, card, buy, magic, card, buy, ...</td>\n",
       "    </tr>\n",
       "    <tr>\n",
       "      <th>3</th>\n",
       "      <td>3.0</td>\n",
       "      <td>0.9060</td>\n",
       "      <td>really, feel, never, still, want, see, enjoy, rating, end, mechanic</td>\n",
       "      <td>[experience, thematic, immersion, depth, mechanic, personal, rating]</td>\n",
       "    </tr>\n",
       "  </tbody>\n",
       "</table>\n",
       "</div>"
      ],
      "text/plain": [
       "   Topic_Num  Topic_Perc_Contrib  \\\n",
       "0        0.0              0.9317   \n",
       "1        1.0              0.9268   \n",
       "2        2.0              0.9856   \n",
       "3        3.0              0.9060   \n",
       "\n",
       "                                                                  Keywords  \\\n",
       "0               player, time, fun, make, much, seem, good, luck, long, win   \n",
       "1          well, would, much, people, think, many, try, edition, find, bad   \n",
       "2  version, get, card, rule, power, random, know, expansion, group, pretty   \n",
       "3      really, feel, never, still, want, see, enjoy, rating, end, mechanic   \n",
       "\n",
       "                                                                                   Representative Text  \n",
       "0                                                  [die, die, die, tear, der, die, die, die, die, die]  \n",
       "1                       [love, insect, move, bit, chess, way, lot, chess, club, student, like, though]  \n",
       "2  [buy, magic, card, buy, magic, card, buy, magic, card, buy, magic, card, buy, magic, card, buy, ...  \n",
       "3                                 [experience, thematic, immersion, depth, mechanic, personal, rating]  "
      ]
     },
     "execution_count": 49,
     "metadata": {},
     "output_type": "execute_result"
    }
   ],
   "source": [
    "# Display setting to show more characters in column\n",
    "pd.options.display.max_colwidth = 100\n",
    "\n",
    "sent_topics_sorteddf_mallet = pd.DataFrame()\n",
    "sent_topics_outdf_grpd = df_topic_sents_keywords_neg.groupby('Dominant_Topic')\n",
    "\n",
    "for i, grp in sent_topics_outdf_grpd:\n",
    "    sent_topics_sorteddf_mallet = pd.concat([sent_topics_sorteddf_mallet, \n",
    "                                             grp.sort_values(['Perc_Contribution'], ascending=False).head(1)], \n",
    "                                            axis=0)\n",
    "\n",
    "# Reset Index    \n",
    "sent_topics_sorteddf_mallet.reset_index(drop=True, inplace=True)\n",
    "\n",
    "# Format\n",
    "sent_topics_sorteddf_mallet.columns = ['Topic_Num', \"Topic_Perc_Contrib\", \"Keywords\", \"Representative Text\"]\n",
    "\n",
    "# Show\n",
    "sent_topics_sorteddf_mallet.head(10)"
   ]
  },
  {
   "cell_type": "code",
   "execution_count": 50,
   "metadata": {
    "scrolled": true
   },
   "outputs": [
    {
     "data": {
      "image/png": "[encoded data removed]",
      "text/plain": [
       "<Figure size 720x720 with 4 Axes>"
      ]
     },
     "metadata": {
      "needs_background": "light"
     },
     "output_type": "display_data"
    }
   ],
   "source": [
    "# 1. Wordcloud of Top N words in each topic\n",
    "cols = [color for name, color in mcolors.TABLEAU_COLORS.items()]  # more colors: 'mcolors.XKCD_COLORS'\n",
    "\n",
    "cloud = WordCloud(stopwords=stop_words,\n",
    "                  background_color='white',\n",
    "                  width=2500,\n",
    "                  height=1800,\n",
    "                  max_words=30,\n",
    "                  colormap='tab10',\n",
    "                  color_func=lambda *args, **kwargs: cols[i],\n",
    "                  prefer_horizontal=1.0)\n",
    "\n",
    "topics = lda_model_neg.show_topics(formatted=False)\n",
    "\n",
    "fig, axes = plt.subplots(2, 2, figsize=(10,10), sharex=True, sharey=True)\n",
    "\n",
    "for i, ax in enumerate(axes.flatten()):\n",
    "    fig.add_subplot(ax)\n",
    "    topic_words = dict(topics[i][1])\n",
    "    cloud.generate_from_frequencies(topic_words, max_font_size=300)\n",
    "    plt.gca().imshow(cloud)\n",
    "    plt.gca().set_title('Topic ' + str(i), fontdict=dict(size=16))\n",
    "    plt.gca().axis('off')\n",
    "\n",
    "\n",
    "plt.subplots_adjust(wspace=0, hspace=0)\n",
    "plt.axis('off')\n",
    "plt.margins(x=0, y=0)\n",
    "plt.tight_layout()\n",
    "plt.show()"
   ]
  },
  {
   "cell_type": "markdown",
   "metadata": {},
   "source": [
    "Observations:\n",
    "\n",
    "Topic 0: Playing time \n",
    "- It is likely discussing about long playing time as well as highly based on luck\n",
    "\n",
    "Topic 1: Bad to have too many editions\n",
    "- It is likely discussing about how too many editions may lead to players having a hard time to try them all\n",
    "\n",
    "Topic 2: Certain versions with random powerful cards\n",
    "- It is likely discussing about how certain versions/expansions may have random powerful cards that doesn't fit with the rest.\n",
    "\n",
    "Topic 3: Wrong mechanics leading to never ending games\n",
    "- It is likely discussing about how there are certian loop holes in the mechanic of the games which would lead to never ending games."
   ]
  },
  {
   "cell_type": "markdown",
   "metadata": {},
   "source": [
    "### Visualization"
   ]
  },
  {
   "cell_type": "code",
   "execution_count": 51,
   "metadata": {},
   "outputs": [],
   "source": [
    "import pyLDAvis.gensim"
   ]
  },
  {
   "cell_type": "markdown",
   "metadata": {},
   "source": [
    "#### Positive Topics"
   ]
  },
  {
   "cell_type": "code",
   "execution_count": 52,
   "metadata": {},
   "outputs": [
    {
     "data": {
      "text/html": [
       "\n",
       "<link rel=\"stylesheet\" type=\"text/css\" href=\"https://cdn.rawgit.com/bmabey/pyLDAvis/files/ldavis.v1.0.0.css\">\n",
       "\n",
       "\n",
       "<div id=\"ldavis_el66427232896249042895639595\"></div>\n",
       "<script type=\"text/javascript\">\n",
       "\n",
       "var ldavis_el66427232896249042895639595_data = {\"mdsDat\": {\"x\": [-0.2863597103991014, -0.15458830033940626, 0.3195109319740999, 0.12143707876440771], \"y\": [-0.14063272606048147, 0.031214692959330343, -0.24603715175609409, 0.3554551848572452], \"topics\": [1, 2, 3, 4], \"cluster\": [1, 1, 1, 1], \"Freq\": [32.58100891113281, 29.729333877563477, 23.33504295349121, 14.354619026184082]}, \"tinfo\": {\"Term\": [\"good\", \"player\", \"version\", \"well\", \"card\", \"great\", \"time\", \"new\", \"really\", \"fun\", \"group\", \"get\", \"expansion\", \"lot\", \"rule\", \"enough\", \"still\", \"power\", \"love\", \"original\", \"strategy\", \"easy\", \"old\", \"year\", \"gamer\", \"many\", \"work\", \"different\", \"think\", \"simple\", \"version\", \"time\", \"get\", \"expansion\", \"still\", \"love\", \"many\", \"think\", \"people\", \"first\", \"would\", \"edition\", \"try\", \"go\", \"take\", \"classic\", \"see\", \"never\", \"want\", \"use\", \"rating\", \"role\", \"could\", \"quite\", \"buy\", \"set\", \"right\", \"say\", \"copy\", \"often\", \"much\", \"enjoy\", \"even\", \"come\", \"player\", \"really\", \"lot\", \"rule\", \"easy\", \"power\", \"simple\", \"different\", \"bit\", \"little\", \"always\", \"character\", \"add\", \"nice\", \"theme\", \"interesting\", \"mechanic\", \"learn\", \"component\", \"luck\", \"quick\", \"hard\", \"tile\", \"teach\", \"far\", \"race\", \"solid\", \"interaction\", \"gameplay\", \"variety\", \"decision\", \"player\", \"fun\", \"make\", \"great\", \"pretty\", \"feel\", \"much\", \"win\", \"good\", \"well\", \"card\", \"new\", \"original\", \"find\", \"way\", \"pandemic\", \"ever\", \"give\", \"high\", \"know\", \"thing\", \"board\", \"prefer\", \"look\", \"probably\", \"design\", \"back\", \"however\", \"bad\", \"include\", \"especially\", \"rather\", \"collection\", \"building\", \"day\", \"art\", \"draft\", \"real\", \"allow\", \"also\", \"may\", \"base\", \"cosmic\", \"group\", \"enough\", \"strategy\", \"old\", \"year\", \"gamer\", \"work\", \"favorite\", \"friend\", \"family\", \"light\", \"table\", \"like\", \"non\", \"become\", \"enjoyable\", \"gateway\", \"reason\", \"definitely\", \"bring\", \"large\", \"negotiation\", \"recommend\", \"ability\", \"understand\", \"chaotic\", \"boardgame\", \"challenge\", \"fact\", \"together\", \"perfect\", \"mayfair_edition\", \"great\", \"fun\", \"fast\"], \"Freq\": [42127.0, 66084.0, 35184.0, 26239.0, 25180.0, 31515.0, 30332.0, 22632.0, 26900.0, 37195.0, 14834.0, 24569.0, 24425.0, 19383.0, 17495.0, 10422.0, 17352.0, 15999.0, 17127.0, 12988.0, 9615.0, 15204.0, 9375.0, 9246.0, 8245.0, 13968.0, 8010.0, 12603.0, 13634.0, 12478.0, 35183.90234375, 30331.580078125, 24568.966796875, 24424.173828125, 17351.390625, 17126.384765625, 13967.427734375, 13633.74609375, 13296.431640625, 13001.166015625, 11875.1845703125, 13486.9345703125, 10577.1494140625, 10307.642578125, 9588.5029296875, 9285.048828125, 8384.578125, 8064.271484375, 7930.630859375, 8183.18359375, 7668.48486328125, 7051.57861328125, 6494.1806640625, 6346.689453125, 6156.638671875, 6325.97705078125, 6179.64306640625, 5977.560546875, 5284.6259765625, 5132.69921875, 15274.791015625, 9863.6962890625, 7544.912109375, 6571.6728515625, 11074.7236328125, 26899.63671875, 19382.78125, 17494.66015625, 15203.361328125, 15998.859375, 12477.30859375, 12602.9453125, 11844.6318359375, 11571.0556640625, 10952.3486328125, 9828.1455078125, 8463.2841796875, 8243.8603515625, 7582.82861328125, 7704.04736328125, 7070.083984375, 6819.951171875, 6942.17724609375, 6140.779296875, 5845.259765625, 5569.06787109375, 5225.93017578125, 4929.65380859375, 5213.26416015625, 5037.37841796875, 4080.431640625, 3966.860107421875, 3801.376953125, 3847.385009765625, 3554.98828125, 55009.39453125, 29072.6875, 17081.39453125, 15526.96875, 5905.5615234375, 7098.67626953125, 7073.90771484375, 5672.9677734375, 42126.5078125, 26238.380859375, 25179.98828125, 22631.642578125, 12988.0205078125, 10082.361328125, 10106.0712890625, 7855.09619140625, 8102.1240234375, 7394.4794921875, 7011.71728515625, 6817.47119140625, 6614.9384765625, 6011.51025390625, 5819.88623046875, 5563.35546875, 5400.10205078125, 5293.8349609375, 5144.3662109375, 4816.7724609375, 4623.330078125, 4354.56396484375, 3876.490478515625, 3429.09228515625, 3449.891845703125, 3305.24951171875, 3430.206298828125, 3410.04345703125, 3037.089111328125, 2669.162841796875, 2805.549072265625, 8787.6640625, 5528.08056640625, 5432.70751953125, 3426.238525390625, 14833.9482421875, 10421.3212890625, 9614.1630859375, 9374.9208984375, 9245.701171875, 8245.154296875, 8010.09033203125, 6757.72705078125, 6545.37451171875, 6289.826171875, 5388.02392578125, 5309.40478515625, 5332.6591796875, 4830.10693359375, 4146.21240234375, 4052.259765625, 3489.512939453125, 3473.298828125, 3415.8125, 3353.849609375, 3294.7861328125, 3487.510986328125, 2939.0927734375, 3171.225830078125, 2769.545654296875, 3113.165283203125, 2660.05615234375, 2660.2998046875, 2806.799560546875, 2584.916259765625, 2644.445556640625, 3050.970703125, 15987.625, 8122.41845703125, 3326.42138671875], \"Total\": [42127.0, 66084.0, 35184.0, 26239.0, 25180.0, 31515.0, 30332.0, 22632.0, 26900.0, 37195.0, 14834.0, 24569.0, 24425.0, 19383.0, 17495.0, 10422.0, 17352.0, 15999.0, 17127.0, 12988.0, 9615.0, 15204.0, 9375.0, 9246.0, 8245.0, 13968.0, 8010.0, 12603.0, 13634.0, 12478.0, 35184.94140625, 30332.501953125, 24569.884765625, 24425.083984375, 17352.310546875, 17127.326171875, 13968.365234375, 13634.6650390625, 13297.3408203125, 13002.0712890625, 11876.103515625, 13488.01171875, 10578.0703125, 10308.5625, 9589.4267578125, 9285.978515625, 8385.49609375, 8065.18310546875, 7931.53515625, 8184.12158203125, 7669.4033203125, 7052.5703125, 6495.12841796875, 6347.62109375, 6157.548828125, 6326.9296875, 6180.5849609375, 5978.47265625, 5285.56005859375, 5133.60693359375, 22349.31640625, 13224.4755859375, 9070.91015625, 7726.50439453125, 66084.734375, 26900.517578125, 19383.6640625, 17495.576171875, 15204.2236328125, 15999.892578125, 12478.1796875, 12603.833984375, 11845.513671875, 11571.9287109375, 10953.240234375, 9829.0888671875, 8464.1630859375, 8244.7255859375, 7583.68701171875, 7704.92138671875, 7070.94091796875, 6820.81005859375, 6943.1044921875, 6141.63671875, 5846.1240234375, 5569.93896484375, 5226.77880859375, 4930.5048828125, 5214.16748046875, 5038.36669921875, 4081.29833984375, 3967.714599609375, 3802.24462890625, 3848.2939453125, 3555.848388671875, 66084.734375, 37195.67578125, 22988.634765625, 31515.16015625, 7896.0947265625, 12130.537109375, 22349.31640625, 9456.2412109375, 42127.390625, 26239.267578125, 25180.87109375, 22632.55859375, 12988.9443359375, 10083.248046875, 10106.9697265625, 7855.95361328125, 8103.025390625, 7395.36083984375, 7012.6103515625, 6818.35400390625, 6615.8203125, 6012.3720703125, 5820.7646484375, 5564.2412109375, 5400.97509765625, 5294.72998046875, 5145.2958984375, 4817.66650390625, 4624.21142578125, 4355.46435546875, 3877.397705078125, 3429.956298828125, 3450.781982421875, 3306.112548828125, 3431.111083984375, 3410.9443359375, 3037.94384765625, 2670.042724609375, 2806.485107421875, 11177.9814453125, 8129.6982421875, 8677.39453125, 3932.5986328125, 14834.8095703125, 10422.197265625, 9615.0185546875, 9375.810546875, 9246.5859375, 8245.9951171875, 8010.9658203125, 6758.59912109375, 6546.2421875, 6290.66845703125, 5388.87451171875, 5310.2646484375, 5333.5556640625, 4830.951171875, 4147.08544921875, 4053.121826171875, 3490.350341796875, 3474.17529296875, 3416.677490234375, 3354.711181640625, 3295.658935546875, 3488.537109375, 2939.98583984375, 3172.190185546875, 2770.417724609375, 3114.14892578125, 2660.910400390625, 2661.164794921875, 2807.715576171875, 2585.76708984375, 2645.325439453125, 3152.10693359375, 31515.16015625, 37195.67578125, 4659.53662109375], \"Category\": [\"Default\", \"Default\", \"Default\", \"Default\", \"Default\", \"Default\", \"Default\", \"Default\", \"Default\", \"Default\", \"Default\", \"Default\", \"Default\", \"Default\", \"Default\", \"Default\", \"Default\", \"Default\", \"Default\", \"Default\", \"Default\", \"Default\", \"Default\", \"Default\", \"Default\", \"Default\", \"Default\", \"Default\", \"Default\", \"Default\", \"Topic1\", \"Topic1\", \"Topic1\", \"Topic1\", \"Topic1\", \"Topic1\", \"Topic1\", \"Topic1\", \"Topic1\", \"Topic1\", \"Topic1\", \"Topic1\", \"Topic1\", \"Topic1\", \"Topic1\", \"Topic1\", \"Topic1\", \"Topic1\", \"Topic1\", \"Topic1\", \"Topic1\", \"Topic1\", \"Topic1\", \"Topic1\", \"Topic1\", \"Topic1\", \"Topic1\", \"Topic1\", \"Topic1\", \"Topic1\", \"Topic1\", \"Topic1\", \"Topic1\", \"Topic1\", \"Topic1\", \"Topic2\", \"Topic2\", \"Topic2\", \"Topic2\", \"Topic2\", \"Topic2\", \"Topic2\", \"Topic2\", \"Topic2\", \"Topic2\", \"Topic2\", \"Topic2\", \"Topic2\", \"Topic2\", \"Topic2\", \"Topic2\", \"Topic2\", \"Topic2\", \"Topic2\", \"Topic2\", \"Topic2\", \"Topic2\", \"Topic2\", \"Topic2\", \"Topic2\", \"Topic2\", \"Topic2\", \"Topic2\", \"Topic2\", \"Topic2\", \"Topic2\", \"Topic2\", \"Topic2\", \"Topic2\", \"Topic2\", \"Topic2\", \"Topic2\", \"Topic2\", \"Topic3\", \"Topic3\", \"Topic3\", \"Topic3\", \"Topic3\", \"Topic3\", \"Topic3\", \"Topic3\", \"Topic3\", \"Topic3\", \"Topic3\", \"Topic3\", \"Topic3\", \"Topic3\", \"Topic3\", \"Topic3\", \"Topic3\", \"Topic3\", \"Topic3\", \"Topic3\", \"Topic3\", \"Topic3\", \"Topic3\", \"Topic3\", \"Topic3\", \"Topic3\", \"Topic3\", \"Topic3\", \"Topic3\", \"Topic3\", \"Topic3\", \"Topic3\", \"Topic3\", \"Topic3\", \"Topic3\", \"Topic4\", \"Topic4\", \"Topic4\", \"Topic4\", \"Topic4\", \"Topic4\", \"Topic4\", \"Topic4\", \"Topic4\", \"Topic4\", \"Topic4\", \"Topic4\", \"Topic4\", \"Topic4\", \"Topic4\", \"Topic4\", \"Topic4\", \"Topic4\", \"Topic4\", \"Topic4\", \"Topic4\", \"Topic4\", \"Topic4\", \"Topic4\", \"Topic4\", \"Topic4\", \"Topic4\", \"Topic4\", \"Topic4\", \"Topic4\", \"Topic4\", \"Topic4\", \"Topic4\", \"Topic4\", \"Topic4\"], \"logprob\": [30.0, 29.0, 28.0, 27.0, 26.0, 25.0, 24.0, 23.0, 22.0, 21.0, 20.0, 19.0, 18.0, 17.0, 16.0, 15.0, 14.0, 13.0, 12.0, 11.0, 10.0, 9.0, 8.0, 7.0, 6.0, 5.0, 4.0, 3.0, 2.0, 1.0, -3.1756999492645264, -3.3241000175476074, -3.534899950027466, -3.540800094604492, -3.882699966430664, -3.895699977874756, -4.099599838256836, -4.123799800872803, -4.148799896240234, -4.171299934387207, -4.261899948120117, -4.1346001625061035, -4.377600193023682, -4.40339994430542, -4.475800037384033, -4.507900238037109, -4.609899997711182, -4.648900032043457, -4.665599822998047, -4.634300231933594, -4.69920015335083, -4.783100128173828, -4.8653998374938965, -4.888400077819824, -4.918799877166748, -4.89169979095459, -4.91510009765625, -4.948299884796143, -5.071499824523926, -5.1006999015808105, -4.0100998878479, -4.447500228881836, -4.7154998779296875, -4.853600025177002, -4.331699848175049, -3.35260009765625, -3.6803998947143555, -3.7827999591827393, -3.9231998920440674, -3.8722000122070312, -4.120800018310547, -4.110799789428711, -4.172900199890137, -4.196199893951416, -4.251200199127197, -4.359499931335449, -4.508999824523926, -4.535299777984619, -4.618899822235107, -4.603000164031982, -4.688899993896484, -4.724899768829346, -4.707099914550781, -4.829800128936768, -4.8790998458862305, -4.927499771118164, -4.991099834442139, -5.049499988555908, -4.993500232696533, -5.027900218963623, -5.238500118255615, -5.2667999267578125, -5.3094000816345215, -5.297299861907959, -5.376399993896484, -2.637200117111206, -3.274899959564209, -3.80679988861084, -3.9021999835968018, -4.868800163269043, -4.684800148010254, -4.688300132751465, -4.908999919891357, -2.661900043487549, -3.1352999210357666, -3.176500082015991, -3.2832000255584717, -3.8385000228881836, -4.091800212860107, -4.089399814605713, -4.341400146484375, -4.310400009155273, -4.401800155639648, -4.454999923706055, -4.483099937438965, -4.513199806213379, -4.60890007019043, -4.641300201416016, -4.686399936676025, -4.716100215911865, -4.736000061035156, -4.764699935913086, -4.83050012588501, -4.871399879455566, -4.931300163269043, -5.047599792480469, -5.170300006866455, -5.1641998291015625, -5.207099914550781, -5.169899940490723, -5.17579984664917, -5.2916998863220215, -5.42080020904541, -5.370999813079834, -4.2291998863220215, -4.692699909210205, -4.710100173950195, -5.17110013961792, -3.2197999954223633, -3.5727999210357666, -3.65339994430542, -3.6786000728607178, -3.692500114440918, -3.8071000576019287, -3.8359999656677246, -4.00600004196167, -4.037899971008301, -4.077700138092041, -4.232500076293945, -4.247200012207031, -4.242800235748291, -4.341800212860107, -4.494500160217285, -4.517399787902832, -4.666900157928467, -4.671599864959717, -4.688300132751465, -4.706600189208984, -4.724299907684326, -4.667500019073486, -4.838600158691406, -4.762599945068359, -4.8979997634887695, -4.781000137329102, -4.938300132751465, -4.938199996948242, -4.8846001625061035, -4.9670000076293945, -4.944200038909912, -4.801199913024902, -3.14490008354187, -3.822000026702881, -4.714799880981445], \"loglift\": [30.0, 29.0, 28.0, 27.0, 26.0, 25.0, 24.0, 23.0, 22.0, 21.0, 20.0, 19.0, 18.0, 17.0, 16.0, 15.0, 14.0, 13.0, 12.0, 11.0, 10.0, 9.0, 8.0, 7.0, 6.0, 5.0, 4.0, 3.0, 2.0, 1.0, 1.121399998664856, 1.121399998664856, 1.121399998664856, 1.121399998664856, 1.121399998664856, 1.121399998664856, 1.121399998664856, 1.121399998664856, 1.121399998664856, 1.121399998664856, 1.121399998664856, 1.121399998664856, 1.121399998664856, 1.121399998664856, 1.1212999820709229, 1.1212999820709229, 1.1212999820709229, 1.1212999820709229, 1.1212999820709229, 1.1212999820709229, 1.1212999820709229, 1.1212999820709229, 1.1212999820709229, 1.1212999820709229, 1.1212999820709229, 1.1212999820709229, 1.1212999820709229, 1.1212999820709229, 1.1212999820709229, 1.1212999820709229, 0.7408000230789185, 0.8281999826431274, 0.9372000098228455, 0.9595999717712402, -0.6647999882698059, 1.2130000591278076, 1.2130000591278076, 1.2130000591278076, 1.2130000591278076, 1.2130000591278076, 1.2130000591278076, 1.2130000591278076, 1.2130000591278076, 1.2130000591278076, 1.2130000591278076, 1.2129000425338745, 1.2129000425338745, 1.2129000425338745, 1.2129000425338745, 1.2129000425338745, 1.2129000425338745, 1.2129000425338745, 1.2129000425338745, 1.2129000425338745, 1.2129000425338745, 1.2129000425338745, 1.2129000425338745, 1.2129000425338745, 1.2129000425338745, 1.2128000259399414, 1.2128000259399414, 1.2128000259399414, 1.2128000259399414, 1.2128000259399414, 1.2128000259399414, 1.0296000242233276, 0.9666000008583069, 0.9160000085830688, 0.5051000118255615, 0.9225999712944031, 0.6772000193595886, 0.06270000338554382, 0.7020999789237976, 1.455199956893921, 1.455199956893921, 1.455199956893921, 1.455199956893921, 1.4551000595092773, 1.4551000595092773, 1.4551000595092773, 1.4551000595092773, 1.4551000595092773, 1.4551000595092773, 1.4551000595092773, 1.4551000595092773, 1.4551000595092773, 1.4551000595092773, 1.4551000595092773, 1.4551000595092773, 1.4551000595092773, 1.4550000429153442, 1.4550000429153442, 1.4550000429153442, 1.4550000429153442, 1.4550000429153442, 1.4550000429153442, 1.4550000429153442, 1.4550000429153442, 1.4550000429153442, 1.4550000429153442, 1.4550000429153442, 1.4549000263214111, 1.4549000263214111, 1.4549000263214111, 1.2145999670028687, 1.0694999694824219, 0.9868999719619751, 1.3173999786376953, 1.940999984741211, 1.940999984741211, 1.940999984741211, 1.940999984741211, 1.940999984741211, 1.940999984741211, 1.940999984741211, 1.940999984741211, 1.940999984741211, 1.940999984741211, 1.9408999681472778, 1.9408999681472778, 1.9408999681472778, 1.9408999681472778, 1.9408999681472778, 1.9408999681472778, 1.9408999681472778, 1.9407999515533447, 1.9407999515533447, 1.9407999515533447, 1.9407999515533447, 1.9407999515533447, 1.9407999515533447, 1.9407999515533447, 1.9407999515533447, 1.9407999515533447, 1.9407999515533447, 1.9407999515533447, 1.9407999515533447, 1.9407999515533447, 1.9407999515533447, 1.9084999561309814, 1.2624000310897827, 0.4194999933242798, 1.604099988937378]}, \"token.table\": {\"Topic\": [4, 2, 3, 3, 4, 2, 3, 3, 3, 2, 3, 4, 2, 3, 4, 4, 3, 1, 3, 4, 4, 2, 1, 3, 1, 3, 2, 1, 1, 2, 3, 4, 1, 3, 2, 4, 3, 2, 3, 2, 1, 1, 2, 4, 4, 4, 3, 1, 4, 3, 1, 4, 4, 2, 1, 4, 4, 1, 2, 3, 1, 4, 2, 4, 2, 4, 4, 1, 3, 1, 3, 2, 4, 4, 2, 3, 3, 3, 2, 2, 3, 4, 2, 4, 4, 2, 3, 2, 1, 2, 1, 2, 1, 2, 3, 2, 3, 4, 2, 1, 2, 4, 1, 3, 2, 4, 1, 4, 3, 3, 1, 4, 1, 2, 2, 3, 2, 3, 3, 2, 1, 2, 3, 1, 3, 2, 4, 4, 1, 1, 2, 1, 1, 1, 2, 2, 1, 4, 4, 1, 2, 2, 3, 1, 2, 1, 4, 1, 4, 1, 2, 1, 1, 3, 3, 1, 2, 4, 1, 4], \"Freq\": [0.9996247887611389, 0.9998626112937927, 0.9998271465301514, 0.7861884832382202, 0.2138132005929947, 0.9998867511749268, 0.9997231364250183, 0.9997481107711792, 0.9997380375862122, 0.3738449215888977, 0.6261096000671387, 0.9997382760047913, 0.9999566078186035, 0.9999381303787231, 0.9996578693389893, 0.9997879862785339, 0.9996634721755981, 0.9999108910560608, 0.9999654293060303, 0.9995623230934143, 0.9996310472488403, 0.9998891949653625, 0.9998946189880371, 0.999773383140564, 0.8505786657333374, 0.14935602247714996, 0.9998409152030945, 0.9998940229415894, 0.000254284794209525, 0.022631345316767693, 0.8711796998977661, 0.10603675246238708, 0.9998262524604797, 0.9996761679649353, 0.9997614026069641, 0.9998016953468323, 0.9998621344566345, 0.9999338388442993, 0.9996893405914307, 0.9999195337295532, 0.9999250173568726, 0.7458896636962891, 0.15728412568569183, 0.09679022431373596, 0.9997231960296631, 0.9998851418495178, 0.9996395111083984, 0.8317798376083374, 0.16811984777450562, 0.9998734593391418, 0.9999555945396423, 0.9997451305389404, 0.9998937249183655, 0.9997760653495789, 0.28607994318008423, 0.7138049006462097, 0.999911367893219, 0.4147384464740753, 0.585217297077179, 0.9998762011528015, 0.9999176263809204, 0.9998102188110352, 0.781623125076294, 0.21835871040821075, 0.9996726512908936, 0.9998793005943298, 0.9998996257781982, 0.9999639987945557, 0.9998160004615784, 0.9999454617500305, 0.999990701675415, 0.4926835298538208, 0.5073114037513733, 0.9999454021453857, 0.9998314380645752, 0.9999129772186279, 0.9998616576194763, 0.9998933672904968, 0.9998198747634888, 0.9998804330825806, 0.9998013973236084, 0.9998000860214233, 0.9998812079429626, 0.9998376965522766, 0.9998958110809326, 0.9999197721481323, 0.9997769594192505, 0.9999657273292542, 0.9999225735664368, 0.9998963475227356, 0.25695306062698364, 0.7430193424224854, 0.9999022483825684, 0.319938063621521, 0.6799760460853577, 0.0009517443832010031, 0.03109031543135643, 0.9679239988327026, 0.9998669028282166, 0.6834660768508911, 0.31651973724365234, 0.9998460412025452, 0.9998533129692078, 0.999975323677063, 0.9999120235443115, 0.9998031258583069, 0.9998817443847656, 0.9999135732650757, 0.999927282333374, 0.9998785853385925, 0.99989914894104, 0.9994989633560181, 0.16758787631988525, 0.8324010372161865, 0.9999442100524902, 0.999868631362915, 0.7479646801948547, 0.252023309469223, 0.9998194575309753, 0.9998077154159546, 0.9999021291732788, 0.9997287392616272, 0.9997211694717407, 0.9998170137405396, 0.9996094703674316, 0.9999807476997375, 0.9996616840362549, 0.9996646642684937, 0.9999053478240967, 0.9999191164970398, 0.9999670386314392, 0.9999209642410278, 0.999940812587738, 0.9998530745506287, 0.9999054670333862, 0.9996818900108337, 0.9999244809150696, 0.9998940825462341, 0.9997618198394775, 0.9999554753303528, 0.9998975992202759, 0.9999094009399414, 0.9998760223388672, 0.9999512434005737, 0.9998509883880615, 0.9999834299087524, 0.9997033476829529, 0.9998987913131714, 0.9998492002487183, 0.9998629689216614, 0.999663770198822, 0.9999732375144958, 0.9999325275421143, 0.9999040365219116, 0.9999517202377319, 0.4000532329082489, 0.5999212265014648, 0.9998794198036194, 0.9999070763587952, 0.9999366402626038], \"Term\": [\"ability\", \"add\", \"allow\", \"also\", \"also\", \"always\", \"art\", \"back\", \"bad\", \"base\", \"base\", \"become\", \"bit\", \"board\", \"boardgame\", \"bring\", \"building\", \"buy\", \"card\", \"challenge\", \"chaotic\", \"character\", \"classic\", \"collection\", \"come\", \"come\", \"component\", \"copy\", \"cosmic\", \"cosmic\", \"cosmic\", \"cosmic\", \"could\", \"day\", \"decision\", \"definitely\", \"design\", \"different\", \"draft\", \"easy\", \"edition\", \"enjoy\", \"enjoy\", \"enjoy\", \"enjoyable\", \"enough\", \"especially\", \"even\", \"even\", \"ever\", \"expansion\", \"fact\", \"family\", \"far\", \"fast\", \"fast\", \"favorite\", \"feel\", \"feel\", \"find\", \"first\", \"friend\", \"fun\", \"fun\", \"gameplay\", \"gamer\", \"gateway\", \"get\", \"give\", \"go\", \"good\", \"great\", \"great\", \"group\", \"hard\", \"high\", \"however\", \"include\", \"interaction\", \"interesting\", \"know\", \"large\", \"learn\", \"light\", \"like\", \"little\", \"look\", \"lot\", \"love\", \"luck\", \"make\", \"make\", \"many\", \"may\", \"may\", \"mayfair_edition\", \"mayfair_edition\", \"mayfair_edition\", \"mechanic\", \"much\", \"much\", \"negotiation\", \"never\", \"new\", \"nice\", \"non\", \"often\", \"old\", \"original\", \"pandemic\", \"people\", \"perfect\", \"player\", \"player\", \"power\", \"prefer\", \"pretty\", \"pretty\", \"probably\", \"quick\", \"quite\", \"race\", \"rather\", \"rating\", \"real\", \"really\", \"reason\", \"recommend\", \"right\", \"role\", \"rule\", \"say\", \"see\", \"set\", \"simple\", \"solid\", \"still\", \"strategy\", \"table\", \"take\", \"teach\", \"theme\", \"thing\", \"think\", \"tile\", \"time\", \"together\", \"try\", \"understand\", \"use\", \"variety\", \"version\", \"want\", \"way\", \"well\", \"win\", \"win\", \"work\", \"would\", \"year\"]}, \"R\": 30, \"lambda.step\": 0.01, \"plot.opts\": {\"xlab\": \"PC1\", \"ylab\": \"PC2\"}, \"topic.order\": [2, 3, 4, 1]};\n",
       "\n",
       "function LDAvis_load_lib(url, callback){\n",
       "  var s = document.createElement('script');\n",
       "  s.src = url;\n",
       "  s.async = true;\n",
       "  s.onreadystatechange = s.onload = callback;\n",
       "  s.onerror = function(){console.warn(\"failed to load library \" + url);};\n",
       "  document.getElementsByTagName(\"head\")[0].appendChild(s);\n",
       "}\n",
       "\n",
       "if(typeof(LDAvis) !== \"undefined\"){\n",
       "   // already loaded: just create the visualization\n",
       "   !function(LDAvis){\n",
       "       new LDAvis(\"#\" + \"ldavis_el66427232896249042895639595\", ldavis_el66427232896249042895639595_data);\n",
       "   }(LDAvis);\n",
       "}else if(typeof define === \"function\" && define.amd){\n",
       "   // require.js is available: use it to load d3/LDAvis\n",
       "   require.config({paths: {d3: \"https://cdnjs.cloudflare.com/ajax/libs/d3/3.5.5/d3.min\"}});\n",
       "   require([\"d3\"], function(d3){\n",
       "      window.d3 = d3;\n",
       "      LDAvis_load_lib(\"https://cdn.rawgit.com/bmabey/pyLDAvis/files/ldavis.v1.0.0.js\", function(){\n",
       "        new LDAvis(\"#\" + \"ldavis_el66427232896249042895639595\", ldavis_el66427232896249042895639595_data);\n",
       "      });\n",
       "    });\n",
       "}else{\n",
       "    // require.js not available: dynamically load d3 & LDAvis\n",
       "    LDAvis_load_lib(\"https://cdnjs.cloudflare.com/ajax/libs/d3/3.5.5/d3.min.js\", function(){\n",
       "         LDAvis_load_lib(\"https://cdn.rawgit.com/bmabey/pyLDAvis/files/ldavis.v1.0.0.js\", function(){\n",
       "                 new LDAvis(\"#\" + \"ldavis_el66427232896249042895639595\", ldavis_el66427232896249042895639595_data);\n",
       "            })\n",
       "         });\n",
       "}\n",
       "</script>"
      ],
      "text/plain": [
       "PreparedData(topic_coordinates=              x         y  topics  cluster       Freq\n",
       "topic                                                \n",
       "1     -0.286360 -0.140633       1        1  32.581009\n",
       "2     -0.154588  0.031215       2        1  29.729334\n",
       "3      0.319511 -0.246037       3        1  23.335043\n",
       "0      0.121437  0.355455       4        1  14.354619, topic_info=                 Term          Freq         Total Category  logprob  loglift\n",
       "12               good  42127.000000  42127.000000  Default  30.0000  30.0000\n",
       "37             player  66084.000000  66084.000000  Default  29.0000  29.0000\n",
       "136           version  35184.000000  35184.000000  Default  28.0000  28.0000\n",
       "120              well  26239.000000  26239.000000  Default  27.0000  27.0000\n",
       "3                card  25180.000000  25180.000000  Default  26.0000  26.0000\n",
       "...               ...           ...           ...      ...      ...      ...\n",
       "264           perfect   2644.445557   2645.325439   Topic4  -4.9442   1.9408\n",
       "5237  mayfair_edition   3050.970703   3152.106934   Topic4  -4.8012   1.9085\n",
       "53              great  15987.625000  31515.160156   Topic4  -3.1449   1.2624\n",
       "67                fun   8122.418457  37195.675781   Topic4  -3.8220   0.4195\n",
       "30               fast   3326.421387   4659.536621   Topic4  -4.7148   1.6041\n",
       "\n",
       "[173 rows x 6 columns], token_table=      Topic      Freq     Term\n",
       "term                          \n",
       "254       4  0.999625  ability\n",
       "0         2  0.999863      add\n",
       "458       3  0.999827    allow\n",
       "1         3  0.786188     also\n",
       "1         4  0.213813     also\n",
       "...     ...       ...      ...\n",
       "65        1  0.400053      win\n",
       "65        2  0.599921      win\n",
       "108       4  0.999879     work\n",
       "272       1  0.999907    would\n",
       "137       4  0.999937     year\n",
       "\n",
       "[160 rows x 3 columns], R=30, lambda_step=0.01, plot_opts={'xlab': 'PC1', 'ylab': 'PC2'}, topic_order=[2, 3, 4, 1])"
      ]
     },
     "execution_count": 52,
     "metadata": {},
     "output_type": "execute_result"
    }
   ],
   "source": [
    "pyLDAvis.enable_notebook()\n",
    "vis = pyLDAvis.gensim.prepare(lda_model, corpus, dictionary=lda_model.id2word)\n",
    "vis"
   ]
  },
  {
   "cell_type": "markdown",
   "metadata": {},
   "source": [
    "#### Negative Topics"
   ]
  },
  {
   "cell_type": "code",
   "execution_count": 54,
   "metadata": {},
   "outputs": [
    {
     "data": {
      "text/html": [
       "\n",
       "<link rel=\"stylesheet\" type=\"text/css\" href=\"https://cdn.rawgit.com/bmabey/pyLDAvis/files/ldavis.v1.0.0.css\">\n",
       "\n",
       "\n",
       "<div id=\"ldavis_el6642722245946568215575137\"></div>\n",
       "<script type=\"text/javascript\">\n",
       "\n",
       "var ldavis_el6642722245946568215575137_data = {\"mdsDat\": {\"x\": [-0.23370873751932447, -0.1828761424254644, 0.08392346777157773, 0.33266141217321105], \"y\": [0.08809940741187414, 0.08197591207154822, -0.37050453251411253, 0.20042921303069036], \"topics\": [1, 2, 3, 4], \"cluster\": [1, 1, 1, 1], \"Freq\": [33.10240936279297, 24.71722984313965, 22.051366806030273, 20.128990173339844]}, \"tinfo\": {\"Term\": [\"player\", \"version\", \"really\", \"get\", \"time\", \"well\", \"feel\", \"fun\", \"card\", \"never\", \"would\", \"make\", \"people\", \"think\", \"still\", \"want\", \"rule\", \"much\", \"power\", \"see\", \"many\", \"enjoy\", \"seem\", \"random\", \"try\", \"edition\", \"know\", \"find\", \"bad\", \"way\", \"player\", \"time\", \"fun\", \"make\", \"seem\", \"luck\", \"long\", \"win\", \"take\", \"interesting\", \"turn\", \"go\", \"boring\", \"strategy\", \"enough\", \"dice\", \"may\", \"roll\", \"thing\", \"maybe\", \"always\", \"simple\", \"negotiation\", \"back\", \"sure\", \"often\", \"day\", \"keep\", \"problem\", \"control\", \"chaotic\", \"attack\", \"little\", \"also\", \"much\", \"good\", \"even\", \"first\", \"lot\", \"well\", \"would\", \"people\", \"think\", \"many\", \"find\", \"try\", \"bad\", \"way\", \"new\", \"great\", \"edition\", \"bit\", \"love\", \"give\", \"come\", \"quite\", \"easy\", \"board\", \"hate\", \"understand\", \"however\", \"classic\", \"far\", \"nice\", \"piece\", \"high\", \"rate\", \"design\", \"prefer\", \"tell\", \"much\", \"good\", \"lot\", \"say\", \"really\", \"feel\", \"never\", \"want\", \"still\", \"see\", \"enjoy\", \"rating\", \"end\", \"mechanic\", \"theme\", \"need\", \"ever\", \"point\", \"rather\", \"base\", \"lose\", \"year\", \"work\", \"old\", \"least\", \"else\", \"gameplay\", \"big\", \"resource\", \"sell\", \"reason\", \"component\", \"dull\", \"score\", \"interaction\", \"cooperative\", \"first\", \"experience\", \"version\", \"get\", \"card\", \"rule\", \"random\", \"power\", \"know\", \"expansion\", \"group\", \"pretty\", \"use\", \"probably\", \"different\", \"tile\", \"draw\", \"look\", \"decision\", \"trade\", \"right\", \"start\", \"add\", \"bore\", \"hour\", \"original\", \"update\", \"actually\", \"race\", \"buy\", \"early\", \"put\"], \"Freq\": [14239.0, 9771.0, 9113.0, 8508.0, 11322.0, 8770.0, 6201.0, 8417.0, 5761.0, 5918.0, 6004.0, 7355.0, 5697.0, 5537.0, 5110.0, 5032.0, 4536.0, 12396.0, 4322.0, 4574.0, 4860.0, 4452.0, 5954.0, 4060.0, 4385.0, 4335.0, 3726.0, 4247.0, 4187.0, 4118.0, 14238.7529296875, 11321.5361328125, 8416.4091796875, 7354.25439453125, 5953.40234375, 4731.7373046875, 3868.62353515625, 3788.984619140625, 3785.096435546875, 3747.521240234375, 3509.635986328125, 3581.364501953125, 3263.759765625, 3186.281494140625, 3104.849365234375, 2921.6201171875, 3081.814208984375, 2929.5078125, 3007.542724609375, 2531.45361328125, 2175.300537109375, 2145.565673828125, 2200.888916015625, 1738.342041015625, 1627.2662353515625, 1515.2353515625, 1551.6663818359375, 1462.500244140625, 1386.157958984375, 1358.3116455078125, 1585.0888671875, 1524.9598388671875, 2918.168212890625, 2672.03759765625, 6645.43408203125, 5315.06103515625, 3219.190673828125, 3083.07958984375, 2224.464111328125, 8769.931640625, 6003.388671875, 5696.240234375, 5536.8310546875, 4859.1572265625, 4246.79052734375, 4384.240234375, 4186.48486328125, 4118.064453125, 4066.62451171875, 3784.85107421875, 4334.3896484375, 3519.16748046875, 3261.536865234375, 3156.261962890625, 2572.898681640625, 2373.155029296875, 2143.6728515625, 2112.85107421875, 2213.026611328125, 2116.60986328125, 1874.2623291015625, 1832.346923828125, 1701.05810546875, 1701.2486572265625, 1730.9368896484375, 1588.285400390625, 1601.3779296875, 1532.1544189453125, 1511.666748046875, 1513.0989990234375, 5750.5751953125, 3802.9580078125, 1907.0552978515625, 1659.2215576171875, 9112.3857421875, 6200.96923828125, 5917.43115234375, 5031.8349609375, 5109.50439453125, 4573.513671875, 4451.72900390625, 3564.357177734375, 3234.96337890625, 3190.69091796875, 2760.894287109375, 2804.431396484375, 2740.21337890625, 2517.4462890625, 2467.677734375, 2489.970703125, 2112.63037109375, 1931.4986572265625, 1857.1971435546875, 1806.143310546875, 1725.9384765625, 1657.130859375, 1697.9249267578125, 1602.427978515625, 1520.9366455078125, 1187.8121337890625, 1113.6363525390625, 1159.8409423828125, 1000.9905395507812, 926.4961547851562, 957.8135375976562, 1574.123291015625, 2048.32080078125, 1440.488525390625, 9770.18359375, 8507.3642578125, 5760.46142578125, 4535.97607421875, 4059.915283203125, 4321.5234375, 3725.681396484375, 3455.844970703125, 3298.91552734375, 3259.46728515625, 2741.962646484375, 2697.998779296875, 2598.652099609375, 2274.682861328125, 2250.01318359375, 2173.34912109375, 1948.1728515625, 1911.5831298828125, 1953.895751953125, 1824.6082763671875, 1766.3082275390625, 1539.372314453125, 1548.282958984375, 1488.3724365234375, 1306.3033447265625, 1300.5841064453125, 1366.21142578125, 1250.578125, 1133.28564453125, 1105.1248779296875], \"Total\": [14239.0, 9771.0, 9113.0, 8508.0, 11322.0, 8770.0, 6201.0, 8417.0, 5761.0, 5918.0, 6004.0, 7355.0, 5697.0, 5537.0, 5110.0, 5032.0, 4536.0, 12396.0, 4322.0, 4574.0, 4860.0, 4452.0, 5954.0, 4060.0, 4385.0, 4335.0, 3726.0, 4247.0, 4187.0, 4118.0, 14239.611328125, 11322.4189453125, 8417.2841796875, 7355.11669921875, 5954.30078125, 4732.58251953125, 3869.49365234375, 3789.84423828125, 3785.961181640625, 3748.40283203125, 3510.481201171875, 3582.233642578125, 3264.620361328125, 3187.130126953125, 3105.734130859375, 2922.45703125, 3082.699462890625, 2930.35205078125, 3008.414794921875, 2532.36328125, 2176.159423828125, 2146.4404296875, 2201.817626953125, 1739.290283203125, 1628.16015625, 1516.088134765625, 1552.5616455078125, 1463.3751220703125, 1387.0076904296875, 1359.18115234375, 1586.4744873046875, 1526.476806640625, 3430.91455078125, 3130.5, 12396.5986328125, 9118.6142578125, 4595.1748046875, 5131.97412109375, 4132.1103515625, 8770.802734375, 6004.27001953125, 5697.10595703125, 5537.716796875, 4860.03076171875, 4247.66455078125, 4385.15087890625, 4187.37158203125, 4118.96142578125, 4067.5283203125, 3785.72607421875, 4335.49560546875, 3520.068115234375, 3262.4111328125, 3157.164306640625, 2573.78955078125, 2374.027587890625, 2144.54248046875, 2113.71240234375, 2213.93017578125, 2117.503173828125, 1875.131591796875, 1833.2169189453125, 1701.9287109375, 1702.1314697265625, 1731.8590087890625, 1589.15576171875, 1602.2603759765625, 1533.04443359375, 1512.5506591796875, 1514.0093994140625, 12396.5986328125, 9118.6142578125, 4132.1103515625, 2241.48046875, 9113.24609375, 6201.82861328125, 5918.3046875, 5032.70458984375, 5110.390625, 4574.37841796875, 4452.5986328125, 3565.240478515625, 3235.822265625, 3191.560791015625, 2761.74267578125, 2805.306640625, 2741.07470703125, 2518.310791015625, 2468.536865234375, 2490.841064453125, 2113.49609375, 1932.3636474609375, 1858.060791015625, 1807.0697021484375, 1726.825439453125, 1657.984375, 1698.810791015625, 1603.290771484375, 1521.775146484375, 1188.708740234375, 1114.49267578125, 1160.7327880859375, 1001.83935546875, 927.3307495117188, 958.7073364257812, 1687.02294921875, 5131.97412109375, 2504.99755859375, 9771.125, 8508.2265625, 5761.34228515625, 4536.85986328125, 4060.805908203125, 4322.51904296875, 3726.556396484375, 3456.68994140625, 3299.795654296875, 3260.339599609375, 2742.828857421875, 2698.87841796875, 2599.545654296875, 2275.514404296875, 2250.86279296875, 2174.242431640625, 1949.047607421875, 1912.4451904296875, 1954.7794189453125, 1825.4737548828125, 1767.171875, 1540.2352294921875, 1549.1812744140625, 1489.2620849609375, 1307.180419921875, 1301.47119140625, 1367.1558837890625, 1251.44921875, 1134.1693115234375, 1105.9976806640625], \"Category\": [\"Default\", \"Default\", \"Default\", \"Default\", \"Default\", \"Default\", \"Default\", \"Default\", \"Default\", \"Default\", \"Default\", \"Default\", \"Default\", \"Default\", \"Default\", \"Default\", \"Default\", \"Default\", \"Default\", \"Default\", \"Default\", \"Default\", \"Default\", \"Default\", \"Default\", \"Default\", \"Default\", \"Default\", \"Default\", \"Default\", \"Topic1\", \"Topic1\", \"Topic1\", \"Topic1\", \"Topic1\", \"Topic1\", \"Topic1\", \"Topic1\", \"Topic1\", \"Topic1\", \"Topic1\", \"Topic1\", \"Topic1\", \"Topic1\", \"Topic1\", \"Topic1\", \"Topic1\", \"Topic1\", \"Topic1\", \"Topic1\", \"Topic1\", \"Topic1\", \"Topic1\", \"Topic1\", \"Topic1\", \"Topic1\", \"Topic1\", \"Topic1\", \"Topic1\", \"Topic1\", \"Topic1\", \"Topic1\", \"Topic1\", \"Topic1\", \"Topic1\", \"Topic1\", \"Topic1\", \"Topic1\", \"Topic1\", \"Topic2\", \"Topic2\", \"Topic2\", \"Topic2\", \"Topic2\", \"Topic2\", \"Topic2\", \"Topic2\", \"Topic2\", \"Topic2\", \"Topic2\", \"Topic2\", \"Topic2\", \"Topic2\", \"Topic2\", \"Topic2\", \"Topic2\", \"Topic2\", \"Topic2\", \"Topic2\", \"Topic2\", \"Topic2\", \"Topic2\", \"Topic2\", \"Topic2\", \"Topic2\", \"Topic2\", \"Topic2\", \"Topic2\", \"Topic2\", \"Topic2\", \"Topic2\", \"Topic2\", \"Topic2\", \"Topic2\", \"Topic3\", \"Topic3\", \"Topic3\", \"Topic3\", \"Topic3\", \"Topic3\", \"Topic3\", \"Topic3\", \"Topic3\", \"Topic3\", \"Topic3\", \"Topic3\", \"Topic3\", \"Topic3\", \"Topic3\", \"Topic3\", \"Topic3\", \"Topic3\", \"Topic3\", \"Topic3\", \"Topic3\", \"Topic3\", \"Topic3\", \"Topic3\", \"Topic3\", \"Topic3\", \"Topic3\", \"Topic3\", \"Topic3\", \"Topic3\", \"Topic3\", \"Topic3\", \"Topic3\", \"Topic3\", \"Topic4\", \"Topic4\", \"Topic4\", \"Topic4\", \"Topic4\", \"Topic4\", \"Topic4\", \"Topic4\", \"Topic4\", \"Topic4\", \"Topic4\", \"Topic4\", \"Topic4\", \"Topic4\", \"Topic4\", \"Topic4\", \"Topic4\", \"Topic4\", \"Topic4\", \"Topic4\", \"Topic4\", \"Topic4\", \"Topic4\", \"Topic4\", \"Topic4\", \"Topic4\", \"Topic4\", \"Topic4\", \"Topic4\", \"Topic4\"], \"logprob\": [30.0, 29.0, 28.0, 27.0, 26.0, 25.0, 24.0, 23.0, 22.0, 21.0, 20.0, 19.0, 18.0, 17.0, 16.0, 15.0, 14.0, 13.0, 12.0, 11.0, 10.0, 9.0, 8.0, 7.0, 6.0, 5.0, 4.0, 3.0, 2.0, 1.0, -3.01419997215271, -3.243499994277954, -3.5399999618530273, -3.6749000549316406, -3.886199951171875, -4.115900039672852, -4.317299842834473, -4.338099956512451, -4.339099884033203, -4.349100112915039, -4.414700031280518, -4.394400119781494, -4.487299919128418, -4.511300086975098, -4.537199974060059, -4.5980000495910645, -4.5447001457214355, -4.595300197601318, -4.5690999031066895, -4.741399765014648, -4.89300012588501, -4.906799793243408, -4.88129997253418, -5.117199897766113, -5.183300018310547, -5.2546000480651855, -5.230800151824951, -5.289999961853027, -5.343599796295166, -5.363900184631348, -5.209499835968018, -5.248199939727783, -4.5991997718811035, -4.687300205230713, -3.77620005607605, -3.9995999336242676, -4.500999927520752, -4.5441999435424805, -4.870699882507324, -3.206700086593628, -3.585700035095215, -3.6382999420166016, -3.666599988937378, -3.7971999645233154, -3.9319000244140625, -3.900099992752075, -3.946199893951416, -3.9626998901367188, -3.9753000736236572, -4.047100067138672, -3.9114999771118164, -4.119800090789795, -4.195899963378906, -4.228700160980225, -4.433000087738037, -4.513899803161621, -4.615600109100342, -4.630000114440918, -4.583700180053711, -4.628300189971924, -4.749899864196777, -4.772500038146973, -4.846799850463867, -4.846700191497803, -4.829400062561035, -4.91540002822876, -4.907199859619141, -4.951399803161621, -4.964900016784668, -4.963900089263916, -3.6287999153137207, -4.042300224304199, -4.732500076293945, -4.871699810028076, -3.05430006980896, -3.439199924468994, -3.4860000610351562, -3.648200035095215, -3.6328001022338867, -3.7437000274658203, -3.770699977874756, -3.993000030517578, -4.089900016784668, -4.103700160980225, -4.2484002113342285, -4.232699871063232, -4.255899906158447, -4.340700149536133, -4.3607001304626465, -4.3516998291015625, -4.515999794006348, -4.605599880218506, -4.644899845123291, -4.672800064086914, -4.718200206756592, -4.758900165557861, -4.734499931335449, -4.792399883270264, -4.844600200653076, -5.091800212860107, -5.156300067901611, -5.115699768066406, -5.263000011444092, -5.3403000831604, -5.307000160217285, -4.810200214385986, -4.546899795532227, -4.89900016784668, -2.893399953842163, -3.0318000316619873, -3.4217000007629395, -3.6607000827789307, -3.7716000080108643, -3.7091000080108643, -3.8575000762939453, -3.9326999187469482, -3.979099988937378, -3.9911999702453613, -4.164100170135498, -4.180200099945068, -4.217700004577637, -4.350900173187256, -4.361800193786621, -4.396500110626221, -4.505799770355225, -4.524799823760986, -4.502900123596191, -4.571400165557861, -4.603799819946289, -4.741399765014648, -4.735599994659424, -4.775000095367432, -4.9054999351501465, -4.909900188446045, -4.8607001304626465, -4.949100017547607, -5.047599792480469, -5.072800159454346], \"loglift\": [30.0, 29.0, 28.0, 27.0, 26.0, 25.0, 24.0, 23.0, 22.0, 21.0, 20.0, 19.0, 18.0, 17.0, 16.0, 15.0, 14.0, 13.0, 12.0, 11.0, 10.0, 9.0, 8.0, 7.0, 6.0, 5.0, 4.0, 3.0, 2.0, 1.0, 1.1054999828338623, 1.1054999828338623, 1.1054999828338623, 1.1053999662399292, 1.1053999662399292, 1.1053999662399292, 1.105299949645996, 1.105299949645996, 1.105299949645996, 1.105299949645996, 1.105299949645996, 1.105299949645996, 1.105299949645996, 1.105299949645996, 1.105299949645996, 1.105299949645996, 1.105299949645996, 1.105299949645996, 1.105299949645996, 1.1052000522613525, 1.1052000522613525, 1.1052000522613525, 1.1051000356674194, 1.1050000190734863, 1.1050000190734863, 1.1050000190734863, 1.1050000190734863, 1.1050000190734863, 1.1050000190734863, 1.1049000024795532, 1.104699969291687, 1.104599952697754, 0.9437000155448914, 0.9472000002861023, 0.4821000099182129, 0.5658000111579895, 0.7497000098228455, 0.5960000157356262, 0.486299991607666, 1.3976000547409058, 1.3975000381469727, 1.3975000381469727, 1.3975000381469727, 1.3975000381469727, 1.3975000381469727, 1.3975000381469727, 1.3975000381469727, 1.3975000381469727, 1.3974000215530396, 1.3974000215530396, 1.3974000215530396, 1.3974000215530396, 1.3974000215530396, 1.3974000215530396, 1.3973000049591064, 1.3973000049591064, 1.3973000049591064, 1.3973000049591064, 1.3973000049591064, 1.3971999883651733, 1.3971999883651733, 1.3971999883651733, 1.3971999883651733, 1.3971999883651733, 1.3970999717712402, 1.3970999717712402, 1.3970999717712402, 1.3970999717712402, 1.3970999717712402, 1.3970999717712402, 0.6294999718666077, 0.5231000185012817, 0.6244000196456909, 1.0968999862670898, 1.5117000341415405, 1.5117000341415405, 1.5116000175476074, 1.5116000175476074, 1.5116000175476074, 1.5116000175476074, 1.5116000175476074, 1.5115000009536743, 1.5115000009536743, 1.5115000009536743, 1.5115000009536743, 1.5115000009536743, 1.5115000009536743, 1.5115000009536743, 1.5113999843597412, 1.5113999843597412, 1.5113999843597412, 1.511299967765808, 1.511299967765808, 1.511299967765808, 1.511299967765808, 1.511299967765808, 1.511299967765808, 1.511299967765808, 1.511199951171875, 1.5110000371932983, 1.5110000371932983, 1.5110000371932983, 1.5109000205993652, 1.5109000205993652, 1.5109000205993652, 1.4424999952316284, 0.5932999849319458, 0.9585000276565552, 1.6029000282287598, 1.6029000282287598, 1.6029000282287598, 1.6028000116348267, 1.6028000116348267, 1.6028000116348267, 1.6028000116348267, 1.6028000116348267, 1.6026999950408936, 1.6026999950408936, 1.6026999950408936, 1.6026999950408936, 1.6026999950408936, 1.6025999784469604, 1.6025999784469604, 1.6025999784469604, 1.6025999784469604, 1.6025999784469604, 1.6025999784469604, 1.6024999618530273, 1.6024999618530273, 1.6023999452590942, 1.6023999452590942, 1.6023999452590942, 1.6023000478744507, 1.6023000478744507, 1.6023000478744507, 1.6023000478744507, 1.6022000312805176, 1.6022000312805176]}, \"token.table\": {\"Topic\": [4, 4, 1, 4, 1, 1, 3, 1, 2, 3, 3, 2, 2, 4, 1, 4, 4, 1, 2, 2, 2, 3, 1, 1, 2, 3, 4, 1, 4, 2, 1, 4, 4, 3, 4, 2, 2, 3, 3, 3, 1, 1, 2, 3, 3, 4, 2, 3, 2, 3, 2, 1, 3, 1, 3, 4, 2, 1, 1, 2, 2, 4, 2, 2, 4, 2, 3, 1, 1, 4, 3, 1, 3, 1, 4, 3, 1, 2, 2, 1, 1, 2, 1, 1, 3, 1, 2, 3, 1, 3, 2, 2, 1, 3, 4, 2, 2, 1, 3, 4, 2, 4, 4, 1, 4, 2, 4, 4, 2, 3, 3, 3, 3, 3, 4, 1, 4, 2, 3, 3, 3, 1, 3, 1, 4, 3, 1, 1, 1, 2, 3, 1, 2, 4, 1, 4, 2, 1, 2, 4, 4, 4, 3, 2, 2, 1, 3, 2, 3], \"Freq\": [0.9996379613876343, 0.999336838722229, 0.8535377979278564, 0.1463025063276291, 0.9994671940803528, 0.9990325570106506, 0.0006551033002324402, 0.9992581605911255, 0.9996724724769592, 0.9996623396873474, 0.9991949200630188, 0.9996965527534485, 0.9996629357337952, 0.9991980195045471, 0.999809980392456, 0.9996410608291626, 0.999767005443573, 0.9990705847740173, 0.000630328431725502, 0.9993361830711365, 0.9996932148933411, 0.9993686676025391, 0.9991309642791748, 0.027859726920723915, 0.03260180726647377, 0.9330044984817505, 0.006520361639559269, 0.9996382594108582, 0.9994624853134155, 0.9993187189102173, 0.9998435974121094, 0.9997900724411011, 0.9996166825294495, 0.9991621971130371, 0.9989690184593201, 0.9997470378875732, 0.99965500831604, 0.9994062781333923, 0.9997459053993225, 0.9998655319213867, 0.9997636079788208, 0.7005174160003662, 0.13231270015239716, 0.1669142097234726, 0.9996079206466675, 0.9998003840446472, 0.4247509241104126, 0.574850857257843, 0.9994543194770813, 0.9998663663864136, 0.9998435378074646, 0.6007434725761414, 0.3990667164325714, 0.999847412109375, 0.9995227456092834, 0.9998558163642883, 0.9996312260627747, 0.9996556043624878, 0.5828736424446106, 0.4170589745044708, 0.9998081922531128, 0.9997588992118835, 0.9995798468589783, 0.9992727041244507, 0.9992374777793884, 0.9993965029716492, 0.9992622137069702, 0.99989253282547, 0.999743640422821, 0.9998506903648376, 0.9995219707489014, 0.850502073764801, 0.14923134446144104, 0.9998724460601807, 0.9994285702705383, 0.9997652769088745, 0.5382237434387207, 0.46150752902030945, 0.9998739957809448, 0.9998769164085388, 0.9998481869697571, 0.9997879266738892, 0.9997730851173401, 0.9994616508483887, 0.9998242855072021, 0.536034107208252, 0.4639175832271576, 0.9995342493057251, 0.9996286630630493, 0.9997795224189758, 0.9998701214790344, 0.9993352890014648, 0.9992823004722595, 0.9994080662727356, 0.9991525411605835, 0.9998058676719666, 0.9995039701461792, 0.9999570846557617, 0.9994794726371765, 0.9998798966407776, 0.9996359348297119, 0.9995891451835632, 0.9996744990348816, 0.9992734789848328, 0.9990979433059692, 0.9995671510696411, 0.9991545081138611, 0.999801516532898, 0.9992133975028992, 0.9997825026512146, 0.999652087688446, 0.9998632669448853, 0.9995579123497009, 0.9994906187057495, 0.9996013045310974, 0.9998798370361328, 0.9998104572296143, 0.7401358485221863, 0.2596498131752014, 0.9985649585723877, 0.9999172687530518, 0.9997815489768982, 0.9994037747383118, 0.9997947812080383, 0.999740481376648, 0.999923586845398, 0.9996454119682312, 0.9992874264717102, 0.9997461438179016, 0.9993333220481873, 0.9997310638427734, 0.9998621344566345, 0.9998705387115479, 0.9997739195823669, 0.9999629855155945, 0.9997671842575073, 0.999737560749054, 0.9998629093170166, 0.9997623562812805, 0.9990969896316528, 0.9996978044509888, 0.999884843826294, 0.9998599886894226, 0.9997665882110596, 0.999908447265625, 0.9997772574424744, 0.9994291067123413, 0.9997884631156921, 0.9992943406105042], \"Term\": [\"actually\", \"add\", \"also\", \"also\", \"always\", \"attack\", \"attack\", \"back\", \"bad\", \"base\", \"big\", \"bit\", \"board\", \"bore\", \"boring\", \"buy\", \"card\", \"chaotic\", \"chaotic\", \"classic\", \"come\", \"component\", \"control\", \"cooperative\", \"cooperative\", \"cooperative\", \"cooperative\", \"day\", \"decision\", \"design\", \"dice\", \"different\", \"draw\", \"dull\", \"early\", \"easy\", \"edition\", \"else\", \"end\", \"enjoy\", \"enough\", \"even\", \"even\", \"even\", \"ever\", \"expansion\", \"experience\", \"experience\", \"far\", \"feel\", \"find\", \"first\", \"first\", \"fun\", \"gameplay\", \"get\", \"give\", \"go\", \"good\", \"good\", \"great\", \"group\", \"hate\", \"high\", \"hour\", \"however\", \"interaction\", \"interesting\", \"keep\", \"know\", \"least\", \"little\", \"little\", \"long\", \"look\", \"lose\", \"lot\", \"lot\", \"love\", \"luck\", \"make\", \"many\", \"may\", \"maybe\", \"mechanic\", \"much\", \"much\", \"need\", \"negotiation\", \"never\", \"new\", \"nice\", \"often\", \"old\", \"original\", \"people\", \"piece\", \"player\", \"point\", \"power\", \"prefer\", \"pretty\", \"probably\", \"problem\", \"put\", \"quite\", \"race\", \"random\", \"rate\", \"rather\", \"rating\", \"really\", \"reason\", \"resource\", \"right\", \"roll\", \"rule\", \"say\", \"say\", \"score\", \"see\", \"seem\", \"sell\", \"simple\", \"start\", \"still\", \"strategy\", \"sure\", \"take\", \"tell\", \"theme\", \"thing\", \"think\", \"tile\", \"time\", \"trade\", \"try\", \"turn\", \"understand\", \"update\", \"use\", \"version\", \"want\", \"way\", \"well\", \"win\", \"work\", \"would\", \"year\"]}, \"R\": 30, \"lambda.step\": 0.01, \"plot.opts\": {\"xlab\": \"PC1\", \"ylab\": \"PC2\"}, \"topic.order\": [1, 2, 4, 3]};\n",
       "\n",
       "function LDAvis_load_lib(url, callback){\n",
       "  var s = document.createElement('script');\n",
       "  s.src = url;\n",
       "  s.async = true;\n",
       "  s.onreadystatechange = s.onload = callback;\n",
       "  s.onerror = function(){console.warn(\"failed to load library \" + url);};\n",
       "  document.getElementsByTagName(\"head\")[0].appendChild(s);\n",
       "}\n",
       "\n",
       "if(typeof(LDAvis) !== \"undefined\"){\n",
       "   // already loaded: just create the visualization\n",
       "   !function(LDAvis){\n",
       "       new LDAvis(\"#\" + \"ldavis_el6642722245946568215575137\", ldavis_el6642722245946568215575137_data);\n",
       "   }(LDAvis);\n",
       "}else if(typeof define === \"function\" && define.amd){\n",
       "   // require.js is available: use it to load d3/LDAvis\n",
       "   require.config({paths: {d3: \"https://cdnjs.cloudflare.com/ajax/libs/d3/3.5.5/d3.min\"}});\n",
       "   require([\"d3\"], function(d3){\n",
       "      window.d3 = d3;\n",
       "      LDAvis_load_lib(\"https://cdn.rawgit.com/bmabey/pyLDAvis/files/ldavis.v1.0.0.js\", function(){\n",
       "        new LDAvis(\"#\" + \"ldavis_el6642722245946568215575137\", ldavis_el6642722245946568215575137_data);\n",
       "      });\n",
       "    });\n",
       "}else{\n",
       "    // require.js not available: dynamically load d3 & LDAvis\n",
       "    LDAvis_load_lib(\"https://cdnjs.cloudflare.com/ajax/libs/d3/3.5.5/d3.min.js\", function(){\n",
       "         LDAvis_load_lib(\"https://cdn.rawgit.com/bmabey/pyLDAvis/files/ldavis.v1.0.0.js\", function(){\n",
       "                 new LDAvis(\"#\" + \"ldavis_el6642722245946568215575137\", ldavis_el6642722245946568215575137_data);\n",
       "            })\n",
       "         });\n",
       "}\n",
       "</script>"
      ],
      "text/plain": [
       "PreparedData(topic_coordinates=              x         y  topics  cluster       Freq\n",
       "topic                                                \n",
       "0     -0.233709  0.088099       1        1  33.102409\n",
       "1     -0.182876  0.081976       2        1  24.717230\n",
       "3      0.083923 -0.370505       3        1  22.051367\n",
       "2      0.332661  0.200429       4        1  20.128990, topic_info=          Term          Freq         Total Category  logprob  loglift\n",
       "90      player  14239.000000  14239.000000  Default  30.0000  30.0000\n",
       "107    version   9771.000000   9771.000000  Default  29.0000  29.0000\n",
       "91      really   9113.000000   9113.000000  Default  28.0000  28.0000\n",
       "56         get   8508.000000   8508.000000  Default  27.0000  27.0000\n",
       "73        time  11322.000000  11322.000000  Default  26.0000  26.0000\n",
       "...        ...           ...           ...      ...      ...      ...\n",
       "426   actually   1300.584106   1301.471191   Topic4  -4.9099   1.6023\n",
       "1141      race   1366.211426   1367.155884   Topic4  -4.8607   1.6023\n",
       "146        buy   1250.578125   1251.449219   Topic4  -4.9491   1.6023\n",
       "208      early   1133.285645   1134.169312   Topic4  -5.0476   1.6022\n",
       "62         put   1105.124878   1105.997681   Topic4  -5.0728   1.6022\n",
       "\n",
       "[168 rows x 6 columns], token_table=      Topic      Freq      Term\n",
       "term                           \n",
       "426       4  0.999638  actually\n",
       "292       4  0.999337       add\n",
       "141       1  0.853538      also\n",
       "141       4  0.146303      also\n",
       "116       1  0.999467    always\n",
       "...     ...       ...       ...\n",
       "44        2  0.999908      well\n",
       "200       1  0.999777       win\n",
       "95        3  0.999429      work\n",
       "317       2  0.999788     would\n",
       "170       3  0.999294      year\n",
       "\n",
       "[149 rows x 3 columns], R=30, lambda_step=0.01, plot_opts={'xlab': 'PC1', 'ylab': 'PC2'}, topic_order=[1, 2, 4, 3])"
      ]
     },
     "execution_count": 54,
     "metadata": {},
     "output_type": "execute_result"
    }
   ],
   "source": [
    "pyLDAvis.enable_notebook()\n",
    "vis_neg = pyLDAvis.gensim.prepare(lda_model_neg, corpus_neg, id2word_neg)\n",
    "vis_neg"
   ]
  },
  {
   "cell_type": "code",
   "execution_count": null,
   "metadata": {},
   "outputs": [],
   "source": []
  }
 ],
 "metadata": {
  "kernelspec": {
   "display_name": "Python 3",
   "language": "python",
   "name": "python3"
  },
  "language_info": {
   "codemirror_mode": {
    "name": "ipython",
    "version": 3
   },
   "file_extension": ".py",
   "mimetype": "text/x-python",
   "name": "python",
   "nbconvert_exporter": "python",
   "pygments_lexer": "ipython3",
   "version": "3.7.6"
  }
 },
 "nbformat": 4,
 "nbformat_minor": 4
}
