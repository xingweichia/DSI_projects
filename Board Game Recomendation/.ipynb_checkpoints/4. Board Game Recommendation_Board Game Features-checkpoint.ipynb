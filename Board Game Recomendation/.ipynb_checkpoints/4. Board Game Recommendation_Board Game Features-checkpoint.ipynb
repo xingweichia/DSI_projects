{
 "cells": [
  {
   "cell_type": "markdown",
   "metadata": {
    "id": "hcmMIUzZ_ka4"
   },
   "source": [
    "## 4. Board Game Recommendation_Board Game Features\n",
    "## Overview\n",
    "\n",
    "In order to enhance the recommendation system, few different models was built with different features. The modelling process did takes the result from topic modelling into account and built a recommendation system based on board game mechanic and etc. After combining all the keywords, TF-IDF vectorizer was used to create the feature matrix so that the cosine similarity score can be calculated and used to make recommendations."
   ]
  },
  {
   "cell_type": "code",
   "execution_count": null,
   "metadata": {
    "colab": {
     "base_uri": "https://localhost:8080/",
     "height": 35
    },
    "executionInfo": {
     "elapsed": 22670,
     "status": "ok",
     "timestamp": 1602471786838,
     "user": {
      "displayName": "xing wei chia",
      "photoUrl": "",
      "userId": "07433573390488668056"
     },
     "user_tz": -480
    },
    "id": "MYbIh49OVdSW",
    "outputId": "3b542468-bfdf-4dcd-d7e0-8ac3bd0849d2"
   },
   "outputs": [
    {
     "name": "stdout",
     "output_type": "stream",
     "text": [
      "Mounted at /content/drive/\n"
     ]
    }
   ],
   "source": [
    "# Importing datasets from folder\n",
    "from google.colab import drive\n",
    "drive.mount(\"/content/drive/\")"
   ]
  },
  {
   "cell_type": "code",
   "execution_count": null,
   "metadata": {
    "id": "9UPlQGDEVlMU"
   },
   "outputs": [],
   "source": [
    "# File location variable \n",
    "file = '/content/drive/My Drive/Capstone/'"
   ]
  },
  {
   "cell_type": "code",
   "execution_count": null,
   "metadata": {
    "id": "hO_aGhF4Vsms"
   },
   "outputs": [],
   "source": [
    "import pandas as pd\n",
    "import numpy as np\n",
    "import nltk\n",
    "import regex as re\n",
    "import string\n",
    "\n",
    "from bs4 import BeautifulSoup  \n",
    "from nltk.corpus import stopwords \n",
    "from nltk.stem import WordNetLemmatizer\n",
    "from sklearn.feature_extraction.text import TfidfVectorizer\n",
    "\n",
    "from scipy import sparse\n",
    "from sklearn.metrics.pairwise import pairwise_distances,linear_kernel\n"
   ]
  },
  {
   "cell_type": "code",
   "execution_count": null,
   "metadata": {
    "colab": {
     "base_uri": "https://localhost:8080/",
     "height": 299
    },
    "executionInfo": {
     "elapsed": 25746,
     "status": "ok",
     "timestamp": 1602471789963,
     "user": {
      "displayName": "xing wei chia",
      "photoUrl": "",
      "userId": "07433573390488668056"
     },
     "user_tz": -480
    },
    "id": "PzT0yvlmgeXT",
    "outputId": "9f726679-a2da-4f70-c067-bd39776f9777"
   },
   "outputs": [
    {
     "data": {
      "text/html": [
       "<div>\n",
       "<style scoped>\n",
       "    .dataframe tbody tr th:only-of-type {\n",
       "        vertical-align: middle;\n",
       "    }\n",
       "\n",
       "    .dataframe tbody tr th {\n",
       "        vertical-align: top;\n",
       "    }\n",
       "\n",
       "    .dataframe thead th {\n",
       "        text-align: right;\n",
       "    }\n",
       "</style>\n",
       "<table border=\"1\" class=\"dataframe\">\n",
       "  <thead>\n",
       "    <tr style=\"text-align: right;\">\n",
       "      <th></th>\n",
       "      <th>id</th>\n",
       "      <th>name</th>\n",
       "      <th>year</th>\n",
       "      <th>rank</th>\n",
       "      <th>bayes average</th>\n",
       "      <th>users rated</th>\n",
       "      <th>url</th>\n",
       "      <th>type</th>\n",
       "      <th>thumbnail</th>\n",
       "      <th>image</th>\n",
       "      <th>alternate</th>\n",
       "      <th>description</th>\n",
       "      <th>minplayers</th>\n",
       "      <th>maxplayers</th>\n",
       "      <th>suggested_num_players</th>\n",
       "      <th>suggested_playerage</th>\n",
       "      <th>suggested_language_dependence</th>\n",
       "      <th>playingtime</th>\n",
       "      <th>minplaytime</th>\n",
       "      <th>maxplaytime</th>\n",
       "      <th>minage</th>\n",
       "      <th>boardgamecategory</th>\n",
       "      <th>boardgamemechanic</th>\n",
       "      <th>boardgamefamily</th>\n",
       "      <th>boardgameexpansion</th>\n",
       "      <th>boardgameimplementation</th>\n",
       "      <th>boardgamedesigner</th>\n",
       "      <th>boardgameartist</th>\n",
       "      <th>boardgamepublisher</th>\n",
       "      <th>average</th>\n",
       "      <th>Board Game Rank</th>\n",
       "      <th>Strategy Game Rank</th>\n",
       "      <th>Family Game Rank</th>\n",
       "      <th>stddev</th>\n",
       "      <th>median</th>\n",
       "      <th>owned</th>\n",
       "      <th>trading</th>\n",
       "      <th>wanting</th>\n",
       "      <th>wishing</th>\n",
       "      <th>numcomments</th>\n",
       "      <th>numweights</th>\n",
       "      <th>averageweight</th>\n",
       "      <th>boardgameintegration</th>\n",
       "      <th>boardgamecompilation</th>\n",
       "      <th>Party Game Rank</th>\n",
       "      <th>Abstract Game Rank</th>\n",
       "      <th>Thematic Rank</th>\n",
       "      <th>War Game Rank</th>\n",
       "      <th>Customizable Rank</th>\n",
       "      <th>Children's Game Rank</th>\n",
       "      <th>RPG Item Rank</th>\n",
       "      <th>Accessory Rank</th>\n",
       "      <th>Video Game Rank</th>\n",
       "      <th>Amiga Rank</th>\n",
       "      <th>Commodore 64 Rank</th>\n",
       "      <th>Arcade Rank</th>\n",
       "      <th>Atari ST Rank</th>\n",
       "    </tr>\n",
       "  </thead>\n",
       "  <tbody>\n",
       "    <tr>\n",
       "      <th>0</th>\n",
       "      <td>30549</td>\n",
       "      <td>Pandemic</td>\n",
       "      <td>2008</td>\n",
       "      <td>91</td>\n",
       "      <td>7.518</td>\n",
       "      <td>96186</td>\n",
       "      <td>/boardgame/30549/pandemic</td>\n",
       "      <td>boardgame</td>\n",
       "      <td>https://cf.geekdo-images.com/thumb/img/HEKrtpT...</td>\n",
       "      <td>https://cf.geekdo-images.com/original/img/j-pf...</td>\n",
       "      <td>['EPIZOotic', 'Pandemia', 'Pandemia 10 Anivers...</td>\n",
       "      <td>In Pandemic, several virulent diseases have br...</td>\n",
       "      <td>2</td>\n",
       "      <td>4</td>\n",
       "      <td>[OrderedDict([('@numplayers', '1'), ('result',...</td>\n",
       "      <td>[OrderedDict([('@value', '2'), ('@numvotes', '...</td>\n",
       "      <td>[OrderedDict([('@level', '16'), ('@value', 'No...</td>\n",
       "      <td>45</td>\n",
       "      <td>45</td>\n",
       "      <td>45</td>\n",
       "      <td>8</td>\n",
       "      <td>['Medical']</td>\n",
       "      <td>['Action Points', 'Cooperative Game', 'Hand Ma...</td>\n",
       "      <td>['Game: Pandemic', 'Medical: Diseases', 'Occup...</td>\n",
       "      <td>['Pandemic: Gen Con 2016 Promos – Z-Force Team...</td>\n",
       "      <td>['Pandemic Legacy: Season 0', 'Pandemic Legacy...</td>\n",
       "      <td>['Matt Leacock']</td>\n",
       "      <td>['Josh Cappel', 'Christian Hanisch', 'Régis Mo...</td>\n",
       "      <td>['Z-Man Games, Inc.', '(Unknown)', 'Albi', 'As...</td>\n",
       "      <td>7.61567</td>\n",
       "      <td>91</td>\n",
       "      <td>104.0</td>\n",
       "      <td>10.0</td>\n",
       "      <td>1.32632</td>\n",
       "      <td>0</td>\n",
       "      <td>144727</td>\n",
       "      <td>2191</td>\n",
       "      <td>640</td>\n",
       "      <td>8571</td>\n",
       "      <td>15778</td>\n",
       "      <td>5232</td>\n",
       "      <td>2.4148</td>\n",
       "      <td>NaN</td>\n",
       "      <td>NaN</td>\n",
       "      <td>NaN</td>\n",
       "      <td>NaN</td>\n",
       "      <td>NaN</td>\n",
       "      <td>NaN</td>\n",
       "      <td>NaN</td>\n",
       "      <td>NaN</td>\n",
       "      <td>NaN</td>\n",
       "      <td>NaN</td>\n",
       "      <td>NaN</td>\n",
       "      <td>NaN</td>\n",
       "      <td>NaN</td>\n",
       "      <td>NaN</td>\n",
       "      <td>NaN</td>\n",
       "    </tr>\n",
       "    <tr>\n",
       "      <th>1</th>\n",
       "      <td>822</td>\n",
       "      <td>Carcassonne</td>\n",
       "      <td>2000</td>\n",
       "      <td>173</td>\n",
       "      <td>7.311</td>\n",
       "      <td>96181</td>\n",
       "      <td>/boardgame/822/carcassonne</td>\n",
       "      <td>boardgame</td>\n",
       "      <td>https://cf.geekdo-images.com/thumb/img/kqE4YJS...</td>\n",
       "      <td>https://cf.geekdo-images.com/original/img/o4p6...</td>\n",
       "      <td>['Carcassonne Jubilee Edition', 'Carcassonne: ...</td>\n",
       "      <td>Carcassonne is a tile-placement game in which ...</td>\n",
       "      <td>2</td>\n",
       "      <td>5</td>\n",
       "      <td>[OrderedDict([('@numplayers', '1'), ('result',...</td>\n",
       "      <td>[OrderedDict([('@value', '2'), ('@numvotes', '...</td>\n",
       "      <td>[OrderedDict([('@level', '41'), ('@value', 'No...</td>\n",
       "      <td>45</td>\n",
       "      <td>30</td>\n",
       "      <td>45</td>\n",
       "      <td>7</td>\n",
       "      <td>['City Building', 'Medieval', 'Territory Build...</td>\n",
       "      <td>['Area Majority / Influence', 'Map Addition', ...</td>\n",
       "      <td>['Components: Black meeples', 'Components: Blu...</td>\n",
       "      <td>['20 Jahre Darmstadt Spielt', 'Apothecaries An...</td>\n",
       "      <td>['The Ark of the Covenant', 'Carcassonne: Amaz...</td>\n",
       "      <td>['Klaus-Jürgen Wrede']</td>\n",
       "      <td>['Doris Matthäus', 'Anne Pätzke', 'Chris Quill...</td>\n",
       "      <td>['Hans im Glück', '999 Games', 'Albi', 'Bard C...</td>\n",
       "      <td>7.41884</td>\n",
       "      <td>173</td>\n",
       "      <td>NaN</td>\n",
       "      <td>34.0</td>\n",
       "      <td>1.30369</td>\n",
       "      <td>0</td>\n",
       "      <td>140066</td>\n",
       "      <td>1587</td>\n",
       "      <td>539</td>\n",
       "      <td>6286</td>\n",
       "      <td>17720</td>\n",
       "      <td>7304</td>\n",
       "      <td>1.9158</td>\n",
       "      <td>['Carcassonne: Wheel of Fortune']</td>\n",
       "      <td>['Carcassonne Big Box', 'Carcassonne Big Box 2...</td>\n",
       "      <td>NaN</td>\n",
       "      <td>NaN</td>\n",
       "      <td>NaN</td>\n",
       "      <td>NaN</td>\n",
       "      <td>NaN</td>\n",
       "      <td>NaN</td>\n",
       "      <td>NaN</td>\n",
       "      <td>NaN</td>\n",
       "      <td>NaN</td>\n",
       "      <td>NaN</td>\n",
       "      <td>NaN</td>\n",
       "      <td>NaN</td>\n",
       "      <td>NaN</td>\n",
       "    </tr>\n",
       "  </tbody>\n",
       "</table>\n",
       "</div>"
      ],
      "text/plain": [
       "      id         name  year  ...  Commodore 64 Rank  Arcade Rank  Atari ST Rank\n",
       "0  30549     Pandemic  2008  ...                NaN          NaN            NaN\n",
       "1    822  Carcassonne  2000  ...                NaN          NaN            NaN\n",
       "\n",
       "[2 rows x 57 columns]"
      ]
     },
     "execution_count": 5,
     "metadata": {
      "tags": []
     },
     "output_type": "execute_result"
    }
   ],
   "source": [
    "bg_con = pd.read_csv(file + 'boardgames_content.csv')\n",
    "bg_con.head(2)"
   ]
  },
  {
   "cell_type": "markdown",
   "metadata": {
    "id": "ZZCv7Eq8DGFV"
   },
   "source": [
    "## Recommendation based on Cosine Similarity Score"
   ]
  },
  {
   "cell_type": "code",
   "execution_count": null,
   "metadata": {
    "id": "lCkDzX58kMOc"
   },
   "outputs": [],
   "source": [
    "# Function for recommendations\n",
    "\n",
    "def recommendations(title, tfidf_matrix):\n",
    "    # Compute the cosine similarity matrix (getting dot product of the tfidf matrix)\n",
    "    cosine_sim = linear_kernel(tfidf_matrix, tfidf_matrix)\n",
    "\n",
    "    # Create a data series with the index is boardgame name\n",
    "    bg_n = pd.Series(bg_con.index, index=bg_con['name']).drop_duplicates()\n",
    "\n",
    "    # Get the index of the boardgame that matches the title input\n",
    "    i = bg_n[title]\n",
    "\n",
    "    # Get the similarity scores of all boardgame with that searched boardgame\n",
    "    cs_score = list(enumerate(cosine_sim[i]))\n",
    "\n",
    "    # Sort the boardgame based on the cosine similarity scores\n",
    "    cs_score = sorted(cs_score, key=lambda x: x[1], reverse=True)\n",
    "\n",
    "    # Get the scores of the 5 most similar boardgame\n",
    "    print('*********************************************************************')\n",
    "    print(f'Top 5 Similar Boardgames with {title}: ')\n",
    "    print(' ')\n",
    "    cs_score = cs_score[1:6]\n",
    "\n",
    "    # Get the boardgame index\n",
    "    boardgames = [i[0] for i in cs_score]\n",
    "\n",
    "    # Return the top 5 most similar boardgame with details\n",
    "    return bg_con[['name','url']].iloc[boardgames]"
   ]
  },
  {
   "cell_type": "markdown",
   "metadata": {
    "id": "meAUwzI68asr"
   },
   "source": [
    "## Recommendation based on game description\n",
    "\n",
    "Recommend board games that have similar game desciption with the search"
   ]
  },
  {
   "cell_type": "code",
   "execution_count": null,
   "metadata": {
    "id": "lMEc6QJ1cUiC"
   },
   "outputs": [],
   "source": [
    "# Fill na with empty string if any\n",
    "bg_con['description'] = bg_con['description'].fillna(' ')"
   ]
  },
  {
   "cell_type": "code",
   "execution_count": null,
   "metadata": {
    "colab": {
     "base_uri": "https://localhost:8080/",
     "height": 70
    },
    "executionInfo": {
     "elapsed": 26085,
     "status": "ok",
     "timestamp": 1602471790380,
     "user": {
      "displayName": "xing wei chia",
      "photoUrl": "",
      "userId": "07433573390488668056"
     },
     "user_tz": -480
    },
    "id": "-Hx5MhOcA8pI",
    "outputId": "827f1c33-3865-495b-9807-f42dc5091182"
   },
   "outputs": [
    {
     "name": "stdout",
     "output_type": "stream",
     "text": [
      "[nltk_data] Downloading package stopwords to /root/nltk_data...\n",
      "[nltk_data]   Unzipping corpora/stopwords.zip.\n"
     ]
    },
    {
     "data": {
      "text/plain": [
       "True"
      ]
     },
     "execution_count": 8,
     "metadata": {
      "tags": []
     },
     "output_type": "execute_result"
    }
   ],
   "source": [
    "nltk.download('stopwords')"
   ]
  },
  {
   "cell_type": "code",
   "execution_count": null,
   "metadata": {
    "colab": {
     "base_uri": "https://localhost:8080/",
     "height": 70
    },
    "executionInfo": {
     "elapsed": 31957,
     "status": "ok",
     "timestamp": 1602471796296,
     "user": {
      "displayName": "xing wei chia",
      "photoUrl": "",
      "userId": "07433573390488668056"
     },
     "user_tz": -480
    },
    "id": "DMg8FKAKA7Z6",
    "outputId": "f59b1b9b-e251-4217-8fe0-946aa2819e25"
   },
   "outputs": [
    {
     "name": "stdout",
     "output_type": "stream",
     "text": [
      "[nltk_data] Downloading package wordnet to /root/nltk_data...\n",
      "[nltk_data]   Unzipping corpora/wordnet.zip.\n"
     ]
    },
    {
     "data": {
      "text/plain": [
       "True"
      ]
     },
     "execution_count": 9,
     "metadata": {
      "tags": []
     },
     "output_type": "execute_result"
    }
   ],
   "source": [
    "nltk.download('wordnet')"
   ]
  },
  {
   "cell_type": "code",
   "execution_count": null,
   "metadata": {
    "id": "K-j0dW2NAayI"
   },
   "outputs": [],
   "source": [
    "# Cleaning on the description before vectorizer\n",
    "\n",
    "def cleaning(text):\n",
    "    \n",
    "    text_bs = BeautifulSoup(text).get_text()    # 1. Remove HTML.\n",
    "    letters = re.sub(\"[^a-zA-Z]\", \" \", text_bs)    # 2. Remove non-letters.\n",
    "    words = letters.lower().split()                      # 3. Convert to lower case, split into individual words.\n",
    "    stops = set(stopwords.words('english'))\n",
    "    meaningful_words = [w for w in words if w not in stops]   # 4. Remove stopwords.\n",
    "    lemmatizer = WordNetLemmatizer()                          # 5. Lemmatize\n",
    "    meaningful_words_lemmatized = [lemmatizer.lemmatize(w) for w in meaningful_words]   \n",
    "    \n",
    "    return(\" \".join(meaningful_words_lemmatized))  # 6.Join the words back into one string separated by space,return the result."
   ]
  },
  {
   "cell_type": "code",
   "execution_count": null,
   "metadata": {
    "colab": {
     "base_uri": "https://localhost:8080/",
     "height": 316
    },
    "executionInfo": {
     "elapsed": 53296,
     "status": "ok",
     "timestamp": 1602471817669,
     "user": {
      "displayName": "xing wei chia",
      "photoUrl": "",
      "userId": "07433573390488668056"
     },
     "user_tz": -480
    },
    "id": "A8GUDx40B6tY",
    "outputId": "cdc2c82a-feda-426d-a9ed-71462628b439"
   },
   "outputs": [
    {
     "data": {
      "text/html": [
       "<div>\n",
       "<style scoped>\n",
       "    .dataframe tbody tr th:only-of-type {\n",
       "        vertical-align: middle;\n",
       "    }\n",
       "\n",
       "    .dataframe tbody tr th {\n",
       "        vertical-align: top;\n",
       "    }\n",
       "\n",
       "    .dataframe thead th {\n",
       "        text-align: right;\n",
       "    }\n",
       "</style>\n",
       "<table border=\"1\" class=\"dataframe\">\n",
       "  <thead>\n",
       "    <tr style=\"text-align: right;\">\n",
       "      <th></th>\n",
       "      <th>id</th>\n",
       "      <th>name</th>\n",
       "      <th>year</th>\n",
       "      <th>rank</th>\n",
       "      <th>bayes average</th>\n",
       "      <th>users rated</th>\n",
       "      <th>url</th>\n",
       "      <th>type</th>\n",
       "      <th>thumbnail</th>\n",
       "      <th>image</th>\n",
       "      <th>alternate</th>\n",
       "      <th>description</th>\n",
       "      <th>minplayers</th>\n",
       "      <th>maxplayers</th>\n",
       "      <th>suggested_num_players</th>\n",
       "      <th>suggested_playerage</th>\n",
       "      <th>suggested_language_dependence</th>\n",
       "      <th>playingtime</th>\n",
       "      <th>minplaytime</th>\n",
       "      <th>maxplaytime</th>\n",
       "      <th>minage</th>\n",
       "      <th>boardgamecategory</th>\n",
       "      <th>boardgamemechanic</th>\n",
       "      <th>boardgamefamily</th>\n",
       "      <th>boardgameexpansion</th>\n",
       "      <th>boardgameimplementation</th>\n",
       "      <th>boardgamedesigner</th>\n",
       "      <th>boardgameartist</th>\n",
       "      <th>boardgamepublisher</th>\n",
       "      <th>average</th>\n",
       "      <th>Board Game Rank</th>\n",
       "      <th>Strategy Game Rank</th>\n",
       "      <th>Family Game Rank</th>\n",
       "      <th>stddev</th>\n",
       "      <th>median</th>\n",
       "      <th>owned</th>\n",
       "      <th>trading</th>\n",
       "      <th>wanting</th>\n",
       "      <th>wishing</th>\n",
       "      <th>numcomments</th>\n",
       "      <th>numweights</th>\n",
       "      <th>averageweight</th>\n",
       "      <th>boardgameintegration</th>\n",
       "      <th>boardgamecompilation</th>\n",
       "      <th>Party Game Rank</th>\n",
       "      <th>Abstract Game Rank</th>\n",
       "      <th>Thematic Rank</th>\n",
       "      <th>War Game Rank</th>\n",
       "      <th>Customizable Rank</th>\n",
       "      <th>Children's Game Rank</th>\n",
       "      <th>RPG Item Rank</th>\n",
       "      <th>Accessory Rank</th>\n",
       "      <th>Video Game Rank</th>\n",
       "      <th>Amiga Rank</th>\n",
       "      <th>Commodore 64 Rank</th>\n",
       "      <th>Arcade Rank</th>\n",
       "      <th>Atari ST Rank</th>\n",
       "      <th>description clean</th>\n",
       "    </tr>\n",
       "  </thead>\n",
       "  <tbody>\n",
       "    <tr>\n",
       "      <th>0</th>\n",
       "      <td>30549</td>\n",
       "      <td>Pandemic</td>\n",
       "      <td>2008</td>\n",
       "      <td>91</td>\n",
       "      <td>7.518</td>\n",
       "      <td>96186</td>\n",
       "      <td>/boardgame/30549/pandemic</td>\n",
       "      <td>boardgame</td>\n",
       "      <td>https://cf.geekdo-images.com/thumb/img/HEKrtpT...</td>\n",
       "      <td>https://cf.geekdo-images.com/original/img/j-pf...</td>\n",
       "      <td>['EPIZOotic', 'Pandemia', 'Pandemia 10 Anivers...</td>\n",
       "      <td>In Pandemic, several virulent diseases have br...</td>\n",
       "      <td>2</td>\n",
       "      <td>4</td>\n",
       "      <td>[OrderedDict([('@numplayers', '1'), ('result',...</td>\n",
       "      <td>[OrderedDict([('@value', '2'), ('@numvotes', '...</td>\n",
       "      <td>[OrderedDict([('@level', '16'), ('@value', 'No...</td>\n",
       "      <td>45</td>\n",
       "      <td>45</td>\n",
       "      <td>45</td>\n",
       "      <td>8</td>\n",
       "      <td>['Medical']</td>\n",
       "      <td>['Action Points', 'Cooperative Game', 'Hand Ma...</td>\n",
       "      <td>['Game: Pandemic', 'Medical: Diseases', 'Occup...</td>\n",
       "      <td>['Pandemic: Gen Con 2016 Promos – Z-Force Team...</td>\n",
       "      <td>['Pandemic Legacy: Season 0', 'Pandemic Legacy...</td>\n",
       "      <td>['Matt Leacock']</td>\n",
       "      <td>['Josh Cappel', 'Christian Hanisch', 'Régis Mo...</td>\n",
       "      <td>['Z-Man Games, Inc.', '(Unknown)', 'Albi', 'As...</td>\n",
       "      <td>7.61567</td>\n",
       "      <td>91</td>\n",
       "      <td>104.0</td>\n",
       "      <td>10.0</td>\n",
       "      <td>1.32632</td>\n",
       "      <td>0</td>\n",
       "      <td>144727</td>\n",
       "      <td>2191</td>\n",
       "      <td>640</td>\n",
       "      <td>8571</td>\n",
       "      <td>15778</td>\n",
       "      <td>5232</td>\n",
       "      <td>2.4148</td>\n",
       "      <td>NaN</td>\n",
       "      <td>NaN</td>\n",
       "      <td>NaN</td>\n",
       "      <td>NaN</td>\n",
       "      <td>NaN</td>\n",
       "      <td>NaN</td>\n",
       "      <td>NaN</td>\n",
       "      <td>NaN</td>\n",
       "      <td>NaN</td>\n",
       "      <td>NaN</td>\n",
       "      <td>NaN</td>\n",
       "      <td>NaN</td>\n",
       "      <td>NaN</td>\n",
       "      <td>NaN</td>\n",
       "      <td>NaN</td>\n",
       "      <td>pandemic several virulent disease broken simul...</td>\n",
       "    </tr>\n",
       "    <tr>\n",
       "      <th>1</th>\n",
       "      <td>822</td>\n",
       "      <td>Carcassonne</td>\n",
       "      <td>2000</td>\n",
       "      <td>173</td>\n",
       "      <td>7.311</td>\n",
       "      <td>96181</td>\n",
       "      <td>/boardgame/822/carcassonne</td>\n",
       "      <td>boardgame</td>\n",
       "      <td>https://cf.geekdo-images.com/thumb/img/kqE4YJS...</td>\n",
       "      <td>https://cf.geekdo-images.com/original/img/o4p6...</td>\n",
       "      <td>['Carcassonne Jubilee Edition', 'Carcassonne: ...</td>\n",
       "      <td>Carcassonne is a tile-placement game in which ...</td>\n",
       "      <td>2</td>\n",
       "      <td>5</td>\n",
       "      <td>[OrderedDict([('@numplayers', '1'), ('result',...</td>\n",
       "      <td>[OrderedDict([('@value', '2'), ('@numvotes', '...</td>\n",
       "      <td>[OrderedDict([('@level', '41'), ('@value', 'No...</td>\n",
       "      <td>45</td>\n",
       "      <td>30</td>\n",
       "      <td>45</td>\n",
       "      <td>7</td>\n",
       "      <td>['City Building', 'Medieval', 'Territory Build...</td>\n",
       "      <td>['Area Majority / Influence', 'Map Addition', ...</td>\n",
       "      <td>['Components: Black meeples', 'Components: Blu...</td>\n",
       "      <td>['20 Jahre Darmstadt Spielt', 'Apothecaries An...</td>\n",
       "      <td>['The Ark of the Covenant', 'Carcassonne: Amaz...</td>\n",
       "      <td>['Klaus-Jürgen Wrede']</td>\n",
       "      <td>['Doris Matthäus', 'Anne Pätzke', 'Chris Quill...</td>\n",
       "      <td>['Hans im Glück', '999 Games', 'Albi', 'Bard C...</td>\n",
       "      <td>7.41884</td>\n",
       "      <td>173</td>\n",
       "      <td>NaN</td>\n",
       "      <td>34.0</td>\n",
       "      <td>1.30369</td>\n",
       "      <td>0</td>\n",
       "      <td>140066</td>\n",
       "      <td>1587</td>\n",
       "      <td>539</td>\n",
       "      <td>6286</td>\n",
       "      <td>17720</td>\n",
       "      <td>7304</td>\n",
       "      <td>1.9158</td>\n",
       "      <td>['Carcassonne: Wheel of Fortune']</td>\n",
       "      <td>['Carcassonne Big Box', 'Carcassonne Big Box 2...</td>\n",
       "      <td>NaN</td>\n",
       "      <td>NaN</td>\n",
       "      <td>NaN</td>\n",
       "      <td>NaN</td>\n",
       "      <td>NaN</td>\n",
       "      <td>NaN</td>\n",
       "      <td>NaN</td>\n",
       "      <td>NaN</td>\n",
       "      <td>NaN</td>\n",
       "      <td>NaN</td>\n",
       "      <td>NaN</td>\n",
       "      <td>NaN</td>\n",
       "      <td>NaN</td>\n",
       "      <td>carcassonne tile placement game player draw pl...</td>\n",
       "    </tr>\n",
       "  </tbody>\n",
       "</table>\n",
       "</div>"
      ],
      "text/plain": [
       "      id  ...                                  description clean\n",
       "0  30549  ...  pandemic several virulent disease broken simul...\n",
       "1    822  ...  carcassonne tile placement game player draw pl...\n",
       "\n",
       "[2 rows x 58 columns]"
      ]
     },
     "execution_count": 11,
     "metadata": {
      "tags": []
     },
     "output_type": "execute_result"
    }
   ],
   "source": [
    "text_clean = []\n",
    "for text in bg_con['description']:\n",
    "    text_clean.append(cleaning(text))\n",
    "\n",
    "bg_con['description clean'] = text_clean\n",
    "bg_con.head(2)"
   ]
  },
  {
   "cell_type": "markdown",
   "metadata": {
    "id": "rHpR5db-IenS"
   },
   "source": [
    "### TF-IDF matrix for board game description"
   ]
  },
  {
   "cell_type": "code",
   "execution_count": null,
   "metadata": {
    "colab": {
     "base_uri": "https://localhost:8080/",
     "height": 52
    },
    "executionInfo": {
     "elapsed": 12113,
     "status": "ok",
     "timestamp": 1602478086954,
     "user": {
      "displayName": "xing wei chia",
      "photoUrl": "",
      "userId": "07433573390488668056"
     },
     "user_tz": -480
    },
    "id": "JYzyDVDi8hEr",
    "outputId": "f34fb341-cfaa-4215-8bd6-fef794ca623d"
   },
   "outputs": [
    {
     "name": "stdout",
     "output_type": "stream",
     "text": [
      "Example feature: ['aa', 'aa anti', 'aa battery', 'aa combat', 'aa good']\n",
      "Matrix shape: (19230, 995063)\n"
     ]
    }
   ],
   "source": [
    "# define TF-IDF Vectorizer, remove all english stop words, select ngram 1 & 2\n",
    "tfidf = TfidfVectorizer(analyzer='word',ngram_range=(1, 2),stop_words='english')\n",
    "\n",
    "# Fit and transform the data in order to get the matrix\n",
    "description = tfidf.fit_transform(bg_con['description clean'])\n",
    "tfidf_feature_names = tfidf.get_feature_names()\n",
    "\n",
    "# Print out some features name and matrix shape\n",
    "print(f'Example feature: {tfidf_feature_names[0:5]}')\n",
    "print(f'Matrix shape: {description.shape}')"
   ]
  },
  {
   "cell_type": "code",
   "execution_count": null,
   "metadata": {
    "colab": {
     "base_uri": "https://localhost:8080/",
     "height": 253
    },
    "executionInfo": {
     "elapsed": 20068,
     "status": "ok",
     "timestamp": 1602478116389,
     "user": {
      "displayName": "xing wei chia",
      "photoUrl": "",
      "userId": "07433573390488668056"
     },
     "user_tz": -480
    },
    "id": "iDwgXos0_reC",
    "outputId": "a77e449e-4ca7-48e3-e94a-f695eeff78c1"
   },
   "outputs": [
    {
     "name": "stdout",
     "output_type": "stream",
     "text": [
      "*********************************************************************\n",
      "Top 5 Similar Boardgames with Pandemic: \n",
      " \n"
     ]
    },
    {
     "data": {
      "text/html": [
       "<div>\n",
       "<style scoped>\n",
       "    .dataframe tbody tr th:only-of-type {\n",
       "        vertical-align: middle;\n",
       "    }\n",
       "\n",
       "    .dataframe tbody tr th {\n",
       "        vertical-align: top;\n",
       "    }\n",
       "\n",
       "    .dataframe thead th {\n",
       "        text-align: right;\n",
       "    }\n",
       "</style>\n",
       "<table border=\"1\" class=\"dataframe\">\n",
       "  <thead>\n",
       "    <tr style=\"text-align: right;\">\n",
       "      <th></th>\n",
       "      <th>name</th>\n",
       "      <th>url</th>\n",
       "    </tr>\n",
       "  </thead>\n",
       "  <tbody>\n",
       "    <tr>\n",
       "      <th>29</th>\n",
       "      <td>Pandemic Legacy: Season 1</td>\n",
       "      <td>/boardgame/161936/pandemic-legacy-season-1</td>\n",
       "    </tr>\n",
       "    <tr>\n",
       "      <th>333</th>\n",
       "      <td>Pandemic: The Cure</td>\n",
       "      <td>/boardgame/150658/pandemic-cure</td>\n",
       "    </tr>\n",
       "    <tr>\n",
       "      <th>999</th>\n",
       "      <td>Pandemic: Contagion</td>\n",
       "      <td>/boardgame/157789/pandemic-contagion</td>\n",
       "    </tr>\n",
       "    <tr>\n",
       "      <th>6396</th>\n",
       "      <td>Side Effects</td>\n",
       "      <td>/boardgame/230765/side-effects</td>\n",
       "    </tr>\n",
       "    <tr>\n",
       "      <th>6556</th>\n",
       "      <td>Pandemic: Hot Zone – North America</td>\n",
       "      <td>/boardgame/301919/pandemic-hot-zone-north-america</td>\n",
       "    </tr>\n",
       "  </tbody>\n",
       "</table>\n",
       "</div>"
      ],
      "text/plain": [
       "                                    name                                                url\n",
       "29             Pandemic Legacy: Season 1         /boardgame/161936/pandemic-legacy-season-1\n",
       "333                   Pandemic: The Cure                    /boardgame/150658/pandemic-cure\n",
       "999                  Pandemic: Contagion               /boardgame/157789/pandemic-contagion\n",
       "6396                        Side Effects                     /boardgame/230765/side-effects\n",
       "6556  Pandemic: Hot Zone – North America  /boardgame/301919/pandemic-hot-zone-north-america"
      ]
     },
     "execution_count": 38,
     "metadata": {
      "tags": []
     },
     "output_type": "execute_result"
    }
   ],
   "source": [
    "recommendations('Pandemic', description)"
   ]
  },
  {
   "cell_type": "markdown",
   "metadata": {
    "id": "EE_eWSXjUhlR"
   },
   "source": [
    "## Recommendation based on boardgame category and boardgame mechanic"
   ]
  },
  {
   "cell_type": "code",
   "execution_count": null,
   "metadata": {
    "colab": {
     "base_uri": "https://localhost:8080/",
     "height": 200
    },
    "executionInfo": {
     "elapsed": 82543,
     "status": "ok",
     "timestamp": 1602471846988,
     "user": {
      "displayName": "xing wei chia",
      "photoUrl": "",
      "userId": "07433573390488668056"
     },
     "user_tz": -480
    },
    "id": "m01MhyMNMudb",
    "outputId": "6723f2d0-630a-4dfc-9c24-80f3f0e86ee5"
   },
   "outputs": [
    {
     "data": {
      "text/html": [
       "<div>\n",
       "<style scoped>\n",
       "    .dataframe tbody tr th:only-of-type {\n",
       "        vertical-align: middle;\n",
       "    }\n",
       "\n",
       "    .dataframe tbody tr th {\n",
       "        vertical-align: top;\n",
       "    }\n",
       "\n",
       "    .dataframe thead th {\n",
       "        text-align: right;\n",
       "    }\n",
       "</style>\n",
       "<table border=\"1\" class=\"dataframe\">\n",
       "  <thead>\n",
       "    <tr style=\"text-align: right;\">\n",
       "      <th></th>\n",
       "      <th>name</th>\n",
       "      <th>boardgamecategory</th>\n",
       "      <th>boardgamemechanic</th>\n",
       "    </tr>\n",
       "  </thead>\n",
       "  <tbody>\n",
       "    <tr>\n",
       "      <th>0</th>\n",
       "      <td>Pandemic</td>\n",
       "      <td>['Medical']</td>\n",
       "      <td>['Action Points', 'Cooperative Game', 'Hand Ma...</td>\n",
       "    </tr>\n",
       "    <tr>\n",
       "      <th>1</th>\n",
       "      <td>Carcassonne</td>\n",
       "      <td>['City Building', 'Medieval', 'Territory Build...</td>\n",
       "      <td>['Area Majority / Influence', 'Map Addition', ...</td>\n",
       "    </tr>\n",
       "    <tr>\n",
       "      <th>2</th>\n",
       "      <td>Catan</td>\n",
       "      <td>['Economic', 'Negotiation']</td>\n",
       "      <td>['Dice Rolling', 'Hexagon Grid', 'Income', 'Mo...</td>\n",
       "    </tr>\n",
       "    <tr>\n",
       "      <th>3</th>\n",
       "      <td>7 Wonders</td>\n",
       "      <td>['Ancient', 'Card Game', 'City Building', 'Civ...</td>\n",
       "      <td>['Card Drafting', 'Drafting', 'Hand Management...</td>\n",
       "    </tr>\n",
       "    <tr>\n",
       "      <th>4</th>\n",
       "      <td>Dominion</td>\n",
       "      <td>['Card Game', 'Medieval']</td>\n",
       "      <td>['Deck, Bag, and Pool Building', 'Delayed Purc...</td>\n",
       "    </tr>\n",
       "  </tbody>\n",
       "</table>\n",
       "</div>"
      ],
      "text/plain": [
       "          name  ...                                  boardgamemechanic\n",
       "0     Pandemic  ...  ['Action Points', 'Cooperative Game', 'Hand Ma...\n",
       "1  Carcassonne  ...  ['Area Majority / Influence', 'Map Addition', ...\n",
       "2        Catan  ...  ['Dice Rolling', 'Hexagon Grid', 'Income', 'Mo...\n",
       "3    7 Wonders  ...  ['Card Drafting', 'Drafting', 'Hand Management...\n",
       "4     Dominion  ...  ['Deck, Bag, and Pool Building', 'Delayed Purc...\n",
       "\n",
       "[5 rows x 3 columns]"
      ]
     },
     "execution_count": 14,
     "metadata": {
      "tags": []
     },
     "output_type": "execute_result"
    }
   ],
   "source": [
    "# Select interested features column\n",
    "features_col = ['name','boardgamecategory','boardgamemechanic']\n",
    "bg_f = bg_con[features_col]\n",
    "bg_f.head()        "
   ]
  },
  {
   "cell_type": "code",
   "execution_count": null,
   "metadata": {
    "colab": {
     "base_uri": "https://localhost:8080/",
     "height": 230
    },
    "executionInfo": {
     "elapsed": 82518,
     "status": "ok",
     "timestamp": 1602471846989,
     "user": {
      "displayName": "xing wei chia",
      "photoUrl": "",
      "userId": "07433573390488668056"
     },
     "user_tz": -480
    },
    "id": "p2NLGLsW0Uh4",
    "outputId": "6f534ba1-1d28-482f-c62d-5869930a6377",
    "scrolled": true
   },
   "outputs": [
    {
     "name": "stderr",
     "output_type": "stream",
     "text": [
      "/usr/local/lib/python3.6/dist-packages/ipykernel_launcher.py:2: SettingWithCopyWarning: \n",
      "A value is trying to be set on a copy of a slice from a DataFrame.\n",
      "Try using .loc[row_indexer,col_indexer] = value instead\n",
      "\n",
      "See the caveats in the documentation: https://pandas.pydata.org/pandas-docs/stable/user_guide/indexing.html#returning-a-view-versus-a-copy\n",
      "  \n",
      "/usr/local/lib/python3.6/dist-packages/ipykernel_launcher.py:3: SettingWithCopyWarning: \n",
      "A value is trying to be set on a copy of a slice from a DataFrame.\n",
      "Try using .loc[row_indexer,col_indexer] = value instead\n",
      "\n",
      "See the caveats in the documentation: https://pandas.pydata.org/pandas-docs/stable/user_guide/indexing.html#returning-a-view-versus-a-copy\n",
      "  This is separate from the ipykernel package so we can avoid doing imports until\n"
     ]
    }
   ],
   "source": [
    "# Fill na with empty string if any\n",
    "bg_f['boardgamecategory'] = bg_f['boardgamecategory'].fillna(' ')\n",
    "bg_f['boardgamemechanic'] = bg_f['boardgamemechanic'].fillna(' ')"
   ]
  },
  {
   "cell_type": "code",
   "execution_count": null,
   "metadata": {
    "colab": {
     "base_uri": "https://localhost:8080/",
     "height": 124
    },
    "executionInfo": {
     "elapsed": 82469,
     "status": "ok",
     "timestamp": 1602471846990,
     "user": {
      "displayName": "xing wei chia",
      "photoUrl": "",
      "userId": "07433573390488668056"
     },
     "user_tz": -480
    },
    "id": "IQnlwb0DsF3r",
    "outputId": "264fb598-7bab-453a-fba3-febe52fa146a"
   },
   "outputs": [
    {
     "name": "stderr",
     "output_type": "stream",
     "text": [
      "/usr/local/lib/python3.6/dist-packages/ipykernel_launcher.py:12: SettingWithCopyWarning: \n",
      "A value is trying to be set on a copy of a slice from a DataFrame.\n",
      "Try using .loc[row_indexer,col_indexer] = value instead\n",
      "\n",
      "See the caveats in the documentation: https://pandas.pydata.org/pandas-docs/stable/user_guide/indexing.html#returning-a-view-versus-a-copy\n",
      "  if sys.path[0] == '':\n"
     ]
    }
   ],
   "source": [
    "# Cleaning of words\n",
    "# In order to not lose the meaning of the words, combine two words as one\n",
    "\n",
    "# Data not in a list but a string, so using a string way to clean\n",
    "cleaned = []\n",
    "for words in bg_f['boardgamecategory']:\n",
    "  comma = words.replace(\",\", \"comma\")\n",
    "  text = re.sub(r'[^\\w\\s]','',comma)\n",
    "  joinword = text.replace(' ','')\n",
    "  cleaned_word = joinword.replace('comma',' ')\n",
    "  cleaned.append(cleaned_word.lower())\n",
    "  \n",
    "bg_f['boardgamecategory'] = cleaned"
   ]
  },
  {
   "cell_type": "code",
   "execution_count": null,
   "metadata": {
    "colab": {
     "base_uri": "https://localhost:8080/",
     "height": 124
    },
    "executionInfo": {
     "elapsed": 82426,
     "status": "ok",
     "timestamp": 1602471846991,
     "user": {
      "displayName": "xing wei chia",
      "photoUrl": "",
      "userId": "07433573390488668056"
     },
     "user_tz": -480
    },
    "id": "yk8gbtGW1mSy",
    "outputId": "62f781d0-3d90-4113-a3de-12dded3a2035"
   },
   "outputs": [
    {
     "name": "stderr",
     "output_type": "stream",
     "text": [
      "/usr/local/lib/python3.6/dist-packages/ipykernel_launcher.py:11: SettingWithCopyWarning: \n",
      "A value is trying to be set on a copy of a slice from a DataFrame.\n",
      "Try using .loc[row_indexer,col_indexer] = value instead\n",
      "\n",
      "See the caveats in the documentation: https://pandas.pydata.org/pandas-docs/stable/user_guide/indexing.html#returning-a-view-versus-a-copy\n",
      "  # This is added back by InteractiveShellApp.init_path()\n"
     ]
    }
   ],
   "source": [
    "# Cleaning of words\n",
    "\n",
    "cleaned2 = []\n",
    "for words in bg_f['boardgamemechanic']:\n",
    "  comma = words.replace(\",\", \"comma\")\n",
    "  text = re.sub(r'[^\\w\\s]','',comma)\n",
    "  joinword = text.replace(' ','')\n",
    "  cleaned_word = joinword.replace('comma',' ')\n",
    "  cleaned2.append(cleaned_word.lower())\n",
    "\n",
    "bg_f['boardgamemechanic'] = cleaned2"
   ]
  },
  {
   "cell_type": "code",
   "execution_count": null,
   "metadata": {
    "colab": {
     "base_uri": "https://localhost:8080/",
     "height": 200
    },
    "executionInfo": {
     "elapsed": 82792,
     "status": "ok",
     "timestamp": 1602471847393,
     "user": {
      "displayName": "xing wei chia",
      "photoUrl": "",
      "userId": "07433573390488668056"
     },
     "user_tz": -480
    },
    "id": "W4hjhNkp1uw8",
    "outputId": "04f70120-7a54-4b83-d788-6bf608025c85"
   },
   "outputs": [
    {
     "data": {
      "text/html": [
       "<div>\n",
       "<style scoped>\n",
       "    .dataframe tbody tr th:only-of-type {\n",
       "        vertical-align: middle;\n",
       "    }\n",
       "\n",
       "    .dataframe tbody tr th {\n",
       "        vertical-align: top;\n",
       "    }\n",
       "\n",
       "    .dataframe thead th {\n",
       "        text-align: right;\n",
       "    }\n",
       "</style>\n",
       "<table border=\"1\" class=\"dataframe\">\n",
       "  <thead>\n",
       "    <tr style=\"text-align: right;\">\n",
       "      <th></th>\n",
       "      <th>name</th>\n",
       "      <th>boardgamecategory</th>\n",
       "      <th>boardgamemechanic</th>\n",
       "    </tr>\n",
       "  </thead>\n",
       "  <tbody>\n",
       "    <tr>\n",
       "      <th>0</th>\n",
       "      <td>Pandemic</td>\n",
       "      <td>medical</td>\n",
       "      <td>actionpoints cooperativegame handmanagement po...</td>\n",
       "    </tr>\n",
       "    <tr>\n",
       "      <th>1</th>\n",
       "      <td>Carcassonne</td>\n",
       "      <td>citybuilding medieval territorybuilding</td>\n",
       "      <td>areamajorityinfluence mapaddition tileplacement</td>\n",
       "    </tr>\n",
       "    <tr>\n",
       "      <th>2</th>\n",
       "      <td>Catan</td>\n",
       "      <td>economic negotiation</td>\n",
       "      <td>dicerolling hexagongrid income modularboard ne...</td>\n",
       "    </tr>\n",
       "    <tr>\n",
       "      <th>3</th>\n",
       "      <td>7 Wonders</td>\n",
       "      <td>ancient cardgame citybuilding civilization eco...</td>\n",
       "      <td>carddrafting drafting handmanagement setcollec...</td>\n",
       "    </tr>\n",
       "    <tr>\n",
       "      <th>4</th>\n",
       "      <td>Dominion</td>\n",
       "      <td>cardgame medieval</td>\n",
       "      <td>deck bag andpoolbuilding delayedpurchase handm...</td>\n",
       "    </tr>\n",
       "  </tbody>\n",
       "</table>\n",
       "</div>"
      ],
      "text/plain": [
       "          name  ...                                  boardgamemechanic\n",
       "0     Pandemic  ...  actionpoints cooperativegame handmanagement po...\n",
       "1  Carcassonne  ...    areamajorityinfluence mapaddition tileplacement\n",
       "2        Catan  ...  dicerolling hexagongrid income modularboard ne...\n",
       "3    7 Wonders  ...  carddrafting drafting handmanagement setcollec...\n",
       "4     Dominion  ...  deck bag andpoolbuilding delayedpurchase handm...\n",
       "\n",
       "[5 rows x 3 columns]"
      ]
     },
     "execution_count": 18,
     "metadata": {
      "tags": []
     },
     "output_type": "execute_result"
    }
   ],
   "source": [
    "bg_f.head()"
   ]
  },
  {
   "cell_type": "code",
   "execution_count": null,
   "metadata": {
    "colab": {
     "base_uri": "https://localhost:8080/",
     "height": 358
    },
    "executionInfo": {
     "elapsed": 83877,
     "status": "ok",
     "timestamp": 1602471848507,
     "user": {
      "displayName": "xing wei chia",
      "photoUrl": "",
      "userId": "07433573390488668056"
     },
     "user_tz": -480
    },
    "id": "1MFaI2Pc1q3n",
    "outputId": "28ac1a1d-9b89-4877-c1e7-9c4343df1900"
   },
   "outputs": [
    {
     "name": "stderr",
     "output_type": "stream",
     "text": [
      "/usr/local/lib/python3.6/dist-packages/ipykernel_launcher.py:1: SettingWithCopyWarning: \n",
      "A value is trying to be set on a copy of a slice from a DataFrame.\n",
      "Try using .loc[row_indexer,col_indexer] = value instead\n",
      "\n",
      "See the caveats in the documentation: https://pandas.pydata.org/pandas-docs/stable/user_guide/indexing.html#returning-a-view-versus-a-copy\n",
      "  \"\"\"Entry point for launching an IPython kernel.\n"
     ]
    },
    {
     "data": {
      "text/html": [
       "<div>\n",
       "<style scoped>\n",
       "    .dataframe tbody tr th:only-of-type {\n",
       "        vertical-align: middle;\n",
       "    }\n",
       "\n",
       "    .dataframe tbody tr th {\n",
       "        vertical-align: top;\n",
       "    }\n",
       "\n",
       "    .dataframe thead th {\n",
       "        text-align: right;\n",
       "    }\n",
       "</style>\n",
       "<table border=\"1\" class=\"dataframe\">\n",
       "  <thead>\n",
       "    <tr style=\"text-align: right;\">\n",
       "      <th></th>\n",
       "      <th>name</th>\n",
       "      <th>boardgamecategory</th>\n",
       "      <th>boardgamemechanic</th>\n",
       "      <th>words</th>\n",
       "    </tr>\n",
       "  </thead>\n",
       "  <tbody>\n",
       "    <tr>\n",
       "      <th>0</th>\n",
       "      <td>Pandemic</td>\n",
       "      <td>medical</td>\n",
       "      <td>actionpoints cooperativegame handmanagement po...</td>\n",
       "      <td>medical actionpoints cooperativegame handmanag...</td>\n",
       "    </tr>\n",
       "    <tr>\n",
       "      <th>1</th>\n",
       "      <td>Carcassonne</td>\n",
       "      <td>citybuilding medieval territorybuilding</td>\n",
       "      <td>areamajorityinfluence mapaddition tileplacement</td>\n",
       "      <td>citybuilding medieval territorybuilding areama...</td>\n",
       "    </tr>\n",
       "    <tr>\n",
       "      <th>2</th>\n",
       "      <td>Catan</td>\n",
       "      <td>economic negotiation</td>\n",
       "      <td>dicerolling hexagongrid income modularboard ne...</td>\n",
       "      <td>economic negotiation dicerolling hexagongrid i...</td>\n",
       "    </tr>\n",
       "    <tr>\n",
       "      <th>3</th>\n",
       "      <td>7 Wonders</td>\n",
       "      <td>ancient cardgame citybuilding civilization eco...</td>\n",
       "      <td>carddrafting drafting handmanagement setcollec...</td>\n",
       "      <td>ancient cardgame citybuilding civilization eco...</td>\n",
       "    </tr>\n",
       "    <tr>\n",
       "      <th>4</th>\n",
       "      <td>Dominion</td>\n",
       "      <td>cardgame medieval</td>\n",
       "      <td>deck bag andpoolbuilding delayedpurchase handm...</td>\n",
       "      <td>cardgame medieval deck bag andpoolbuilding del...</td>\n",
       "    </tr>\n",
       "  </tbody>\n",
       "</table>\n",
       "</div>"
      ],
      "text/plain": [
       "          name  ...                                              words\n",
       "0     Pandemic  ...  medical actionpoints cooperativegame handmanag...\n",
       "1  Carcassonne  ...  citybuilding medieval territorybuilding areama...\n",
       "2        Catan  ...  economic negotiation dicerolling hexagongrid i...\n",
       "3    7 Wonders  ...  ancient cardgame citybuilding civilization eco...\n",
       "4     Dominion  ...  cardgame medieval deck bag andpoolbuilding del...\n",
       "\n",
       "[5 rows x 4 columns]"
      ]
     },
     "execution_count": 19,
     "metadata": {
      "tags": []
     },
     "output_type": "execute_result"
    }
   ],
   "source": [
    "bg_f['words'] = bg_f[['boardgamecategory', 'boardgamemechanic']].agg(' '.join, axis=1)\n",
    "bg_f.head()"
   ]
  },
  {
   "cell_type": "markdown",
   "metadata": {
    "id": "dGGX0l7OJonp"
   },
   "source": [
    "### TF-IDF matrix for bag of words (board game category & board game mechanic)"
   ]
  },
  {
   "cell_type": "code",
   "execution_count": null,
   "metadata": {
    "colab": {
     "base_uri": "https://localhost:8080/",
     "height": 72
    },
    "executionInfo": {
     "elapsed": 1130,
     "status": "ok",
     "timestamp": 1602478381190,
     "user": {
      "displayName": "xing wei chia",
      "photoUrl": "",
      "userId": "07433573390488668056"
     },
     "user_tz": -480
    },
    "id": "Bsw4M8jMkxD9",
    "outputId": "b248a9a9-f7d9-4118-a06d-cfd198adea28"
   },
   "outputs": [
    {
     "name": "stdout",
     "output_type": "stream",
     "text": [
      "Example feature: ['abstractstrategy', 'abstractstrategy actiondexterity', 'abstractstrategy actionpoints', 'abstractstrategy actionqueue', 'abstractstrategy adventure']\n",
      "Matrix shape: (19230, 6760)\n"
     ]
    }
   ],
   "source": [
    "# define TF-IDF Vectorizer, remove all english stop words, select ngram 1 & 2\n",
    "tfidf = TfidfVectorizer(analyzer='word',ngram_range=(1, 2),stop_words='english')\n",
    "\n",
    "# Fit and transform the data in order to get the matrix\n",
    "category_mechanic = tfidf.fit_transform(bg_f['words'])\n",
    "tfidf_feature_names = tfidf.get_feature_names()\n",
    "\n",
    "# Print out some features name and matrix shape\n",
    "print(f'Example feature: {tfidf_feature_names[0:5]}')\n",
    "print(f'Matrix shape: {category_mechanic.shape}')"
   ]
  },
  {
   "cell_type": "code",
   "execution_count": null,
   "metadata": {
    "colab": {
     "base_uri": "https://localhost:8080/",
     "height": 253
    },
    "executionInfo": {
     "elapsed": 4551,
     "status": "ok",
     "timestamp": 1602478424843,
     "user": {
      "displayName": "xing wei chia",
      "photoUrl": "",
      "userId": "07433573390488668056"
     },
     "user_tz": -480
    },
    "id": "r7--eBugkw79",
    "outputId": "d84df11d-f469-48ff-8e27-efe55922c28e"
   },
   "outputs": [
    {
     "name": "stdout",
     "output_type": "stream",
     "text": [
      "*********************************************************************\n",
      "Top 5 Similar Boardgames with Pandemic: \n",
      " \n"
     ]
    },
    {
     "data": {
      "text/html": [
       "<div>\n",
       "<style scoped>\n",
       "    .dataframe tbody tr th:only-of-type {\n",
       "        vertical-align: middle;\n",
       "    }\n",
       "\n",
       "    .dataframe tbody tr th {\n",
       "        vertical-align: top;\n",
       "    }\n",
       "\n",
       "    .dataframe thead th {\n",
       "        text-align: right;\n",
       "    }\n",
       "</style>\n",
       "<table border=\"1\" class=\"dataframe\">\n",
       "  <thead>\n",
       "    <tr style=\"text-align: right;\">\n",
       "      <th></th>\n",
       "      <th>name</th>\n",
       "      <th>url</th>\n",
       "    </tr>\n",
       "  </thead>\n",
       "  <tbody>\n",
       "    <tr>\n",
       "      <th>6556</th>\n",
       "      <td>Pandemic: Hot Zone – North America</td>\n",
       "      <td>/boardgame/301919/pandemic-hot-zone-north-america</td>\n",
       "    </tr>\n",
       "    <tr>\n",
       "      <th>399</th>\n",
       "      <td>Pandemic: Iberia</td>\n",
       "      <td>/boardgame/198928/pandemic-iberia</td>\n",
       "    </tr>\n",
       "    <tr>\n",
       "      <th>29</th>\n",
       "      <td>Pandemic Legacy: Season 1</td>\n",
       "      <td>/boardgame/161936/pandemic-legacy-season-1</td>\n",
       "    </tr>\n",
       "    <tr>\n",
       "      <th>437</th>\n",
       "      <td>Pandemic: Reign of Cthulhu</td>\n",
       "      <td>/boardgame/192153/pandemic-reign-cthulhu</td>\n",
       "    </tr>\n",
       "    <tr>\n",
       "      <th>572</th>\n",
       "      <td>Keltis</td>\n",
       "      <td>/boardgame/34585/keltis</td>\n",
       "    </tr>\n",
       "  </tbody>\n",
       "</table>\n",
       "</div>"
      ],
      "text/plain": [
       "                                    name                                                url\n",
       "6556  Pandemic: Hot Zone – North America  /boardgame/301919/pandemic-hot-zone-north-america\n",
       "399                     Pandemic: Iberia                  /boardgame/198928/pandemic-iberia\n",
       "29             Pandemic Legacy: Season 1         /boardgame/161936/pandemic-legacy-season-1\n",
       "437           Pandemic: Reign of Cthulhu           /boardgame/192153/pandemic-reign-cthulhu\n",
       "572                               Keltis                            /boardgame/34585/keltis"
      ]
     },
     "execution_count": 40,
     "metadata": {
      "tags": []
     },
     "output_type": "execute_result"
    }
   ],
   "source": [
    "recommendations('Pandemic', category_mechanic)"
   ]
  },
  {
   "cell_type": "markdown",
   "metadata": {
    "id": "4tOWBC3EnCz3"
   },
   "source": [
    "## Recommendation based on boardgame designer, artist, and publisher"
   ]
  },
  {
   "cell_type": "code",
   "execution_count": null,
   "metadata": {
    "colab": {
     "base_uri": "https://localhost:8080/",
     "height": 200
    },
    "executionInfo": {
     "elapsed": 87389,
     "status": "ok",
     "timestamp": 1602471852157,
     "user": {
      "displayName": "xing wei chia",
      "photoUrl": "",
      "userId": "07433573390488668056"
     },
     "user_tz": -480
    },
    "id": "SOVcIKjmlRtl",
    "outputId": "a54e98b7-5ed9-48c5-be1e-001ec7bd441b"
   },
   "outputs": [
    {
     "data": {
      "text/html": [
       "<div>\n",
       "<style scoped>\n",
       "    .dataframe tbody tr th:only-of-type {\n",
       "        vertical-align: middle;\n",
       "    }\n",
       "\n",
       "    .dataframe tbody tr th {\n",
       "        vertical-align: top;\n",
       "    }\n",
       "\n",
       "    .dataframe thead th {\n",
       "        text-align: right;\n",
       "    }\n",
       "</style>\n",
       "<table border=\"1\" class=\"dataframe\">\n",
       "  <thead>\n",
       "    <tr style=\"text-align: right;\">\n",
       "      <th></th>\n",
       "      <th>name</th>\n",
       "      <th>boardgamedesigner</th>\n",
       "      <th>boardgameartist</th>\n",
       "      <th>boardgamepublisher</th>\n",
       "    </tr>\n",
       "  </thead>\n",
       "  <tbody>\n",
       "    <tr>\n",
       "      <th>0</th>\n",
       "      <td>Pandemic</td>\n",
       "      <td>['Matt Leacock']</td>\n",
       "      <td>['Josh Cappel', 'Christian Hanisch', 'Régis Mo...</td>\n",
       "      <td>['Z-Man Games, Inc.', '(Unknown)', 'Albi', 'As...</td>\n",
       "    </tr>\n",
       "    <tr>\n",
       "      <th>1</th>\n",
       "      <td>Carcassonne</td>\n",
       "      <td>['Klaus-Jürgen Wrede']</td>\n",
       "      <td>['Doris Matthäus', 'Anne Pätzke', 'Chris Quill...</td>\n",
       "      <td>['Hans im Glück', '999 Games', 'Albi', 'Bard C...</td>\n",
       "    </tr>\n",
       "    <tr>\n",
       "      <th>2</th>\n",
       "      <td>Catan</td>\n",
       "      <td>['Klaus Teuber']</td>\n",
       "      <td>['Volkan Baga', 'Tanja Donner', 'Pete Fenlon',...</td>\n",
       "      <td>['KOSMOS', '999 Games', 'Albi', 'Astrel Games'...</td>\n",
       "    </tr>\n",
       "    <tr>\n",
       "      <th>3</th>\n",
       "      <td>7 Wonders</td>\n",
       "      <td>['Antoine Bauza']</td>\n",
       "      <td>['Antoine Bauza', 'Miguel Coimbra']</td>\n",
       "      <td>['Repos Production', 'ADC Blackfire Entertainm...</td>\n",
       "    </tr>\n",
       "    <tr>\n",
       "      <th>4</th>\n",
       "      <td>Dominion</td>\n",
       "      <td>['Donald X. Vaccarino']</td>\n",
       "      <td>['Matthias Catrein', 'Julien Delval', 'Tomasz ...</td>\n",
       "      <td>['Rio Grande Games', '999 Games', 'Albi', 'Bar...</td>\n",
       "    </tr>\n",
       "  </tbody>\n",
       "</table>\n",
       "</div>"
      ],
      "text/plain": [
       "          name  ...                                 boardgamepublisher\n",
       "0     Pandemic  ...  ['Z-Man Games, Inc.', '(Unknown)', 'Albi', 'As...\n",
       "1  Carcassonne  ...  ['Hans im Glück', '999 Games', 'Albi', 'Bard C...\n",
       "2        Catan  ...  ['KOSMOS', '999 Games', 'Albi', 'Astrel Games'...\n",
       "3    7 Wonders  ...  ['Repos Production', 'ADC Blackfire Entertainm...\n",
       "4     Dominion  ...  ['Rio Grande Games', '999 Games', 'Albi', 'Bar...\n",
       "\n",
       "[5 rows x 4 columns]"
      ]
     },
     "execution_count": 22,
     "metadata": {
      "tags": []
     },
     "output_type": "execute_result"
    }
   ],
   "source": [
    "features_col = ['name','boardgamedesigner','boardgameartist','boardgamepublisher']\n",
    "bg_f2 = bg_con[features_col]\n",
    "bg_f2.head()    "
   ]
  },
  {
   "cell_type": "code",
   "execution_count": null,
   "metadata": {
    "colab": {
     "base_uri": "https://localhost:8080/",
     "height": 337
    },
    "executionInfo": {
     "elapsed": 87372,
     "status": "ok",
     "timestamp": 1602471852170,
     "user": {
      "displayName": "xing wei chia",
      "photoUrl": "",
      "userId": "07433573390488668056"
     },
     "user_tz": -480
    },
    "id": "7wp6d-3aoXit",
    "outputId": "8569b6f4-6027-46e8-c3c1-1ff65ce457d1"
   },
   "outputs": [
    {
     "name": "stderr",
     "output_type": "stream",
     "text": [
      "/usr/local/lib/python3.6/dist-packages/ipykernel_launcher.py:2: SettingWithCopyWarning: \n",
      "A value is trying to be set on a copy of a slice from a DataFrame.\n",
      "Try using .loc[row_indexer,col_indexer] = value instead\n",
      "\n",
      "See the caveats in the documentation: https://pandas.pydata.org/pandas-docs/stable/user_guide/indexing.html#returning-a-view-versus-a-copy\n",
      "  \n",
      "/usr/local/lib/python3.6/dist-packages/ipykernel_launcher.py:3: SettingWithCopyWarning: \n",
      "A value is trying to be set on a copy of a slice from a DataFrame.\n",
      "Try using .loc[row_indexer,col_indexer] = value instead\n",
      "\n",
      "See the caveats in the documentation: https://pandas.pydata.org/pandas-docs/stable/user_guide/indexing.html#returning-a-view-versus-a-copy\n",
      "  This is separate from the ipykernel package so we can avoid doing imports until\n",
      "/usr/local/lib/python3.6/dist-packages/ipykernel_launcher.py:4: SettingWithCopyWarning: \n",
      "A value is trying to be set on a copy of a slice from a DataFrame.\n",
      "Try using .loc[row_indexer,col_indexer] = value instead\n",
      "\n",
      "See the caveats in the documentation: https://pandas.pydata.org/pandas-docs/stable/user_guide/indexing.html#returning-a-view-versus-a-copy\n",
      "  after removing the cwd from sys.path.\n"
     ]
    }
   ],
   "source": [
    "# Fill na with empty string if any\n",
    "bg_f2['boardgamedesigner'] = bg_f2['boardgamedesigner'].fillna(' ')\n",
    "bg_f2['boardgameartist'] = bg_f2['boardgameartist'].fillna(' ')\n",
    "bg_f2['boardgamepublisher'] = bg_f2['boardgamepublisher'].fillna(' ')"
   ]
  },
  {
   "cell_type": "code",
   "execution_count": null,
   "metadata": {
    "colab": {
     "base_uri": "https://localhost:8080/",
     "height": 124
    },
    "executionInfo": {
     "elapsed": 87343,
     "status": "ok",
     "timestamp": 1602471852171,
     "user": {
      "displayName": "xing wei chia",
      "photoUrl": "",
      "userId": "07433573390488668056"
     },
     "user_tz": -480
    },
    "id": "TJwxmPvC3n8h",
    "outputId": "2d1c039b-f019-41db-a67a-9309575c3119"
   },
   "outputs": [
    {
     "name": "stderr",
     "output_type": "stream",
     "text": [
      "/usr/local/lib/python3.6/dist-packages/ipykernel_launcher.py:11: SettingWithCopyWarning: \n",
      "A value is trying to be set on a copy of a slice from a DataFrame.\n",
      "Try using .loc[row_indexer,col_indexer] = value instead\n",
      "\n",
      "See the caveats in the documentation: https://pandas.pydata.org/pandas-docs/stable/user_guide/indexing.html#returning-a-view-versus-a-copy\n",
      "  # This is added back by InteractiveShellApp.init_path()\n"
     ]
    }
   ],
   "source": [
    "# Cleaning of words\n",
    "\n",
    "cleanedd = []\n",
    "for words in bg_f2['boardgamedesigner']:\n",
    "  comma = words.replace(\",\", \"comma\")\n",
    "  text = re.sub(r'[^\\w\\s]','',comma)\n",
    "  joinword = text.replace(' ','')\n",
    "  cleaned_word = joinword.replace('comma',' ')\n",
    "  cleanedd.append(cleaned_word.lower())\n",
    "  \n",
    "bg_f2['boardgamedesigner'] = cleanedd"
   ]
  },
  {
   "cell_type": "code",
   "execution_count": null,
   "metadata": {
    "colab": {
     "base_uri": "https://localhost:8080/",
     "height": 124
    },
    "executionInfo": {
     "elapsed": 87331,
     "status": "ok",
     "timestamp": 1602471852173,
     "user": {
      "displayName": "xing wei chia",
      "photoUrl": "",
      "userId": "07433573390488668056"
     },
     "user_tz": -480
    },
    "id": "vlbDZNEg3nka",
    "outputId": "d9996838-8db4-4b88-b28e-88b10d2d73e3"
   },
   "outputs": [
    {
     "name": "stderr",
     "output_type": "stream",
     "text": [
      "/usr/local/lib/python3.6/dist-packages/ipykernel_launcher.py:11: SettingWithCopyWarning: \n",
      "A value is trying to be set on a copy of a slice from a DataFrame.\n",
      "Try using .loc[row_indexer,col_indexer] = value instead\n",
      "\n",
      "See the caveats in the documentation: https://pandas.pydata.org/pandas-docs/stable/user_guide/indexing.html#returning-a-view-versus-a-copy\n",
      "  # This is added back by InteractiveShellApp.init_path()\n"
     ]
    }
   ],
   "source": [
    "# Cleaning of words\n",
    "\n",
    "cleaneda = []\n",
    "for words in bg_f2['boardgameartist']:\n",
    "  comma = words.replace(\",\", \"comma\")\n",
    "  text = re.sub(r'[^\\w\\s]','',comma)\n",
    "  joinword = text.replace(' ','')\n",
    "  cleaned_word = joinword.replace('comma',' ')\n",
    "  cleaneda.append(cleaned_word.lower())\n",
    "  \n",
    "bg_f2['boardgameartist'] = cleaneda"
   ]
  },
  {
   "cell_type": "code",
   "execution_count": null,
   "metadata": {
    "colab": {
     "base_uri": "https://localhost:8080/",
     "height": 124
    },
    "executionInfo": {
     "elapsed": 87769,
     "status": "ok",
     "timestamp": 1602471852626,
     "user": {
      "displayName": "xing wei chia",
      "photoUrl": "",
      "userId": "07433573390488668056"
     },
     "user_tz": -480
    },
    "id": "S5XAE0qH3nHj",
    "outputId": "39cb55ce-6e68-4593-fa4f-627a9859cf2c"
   },
   "outputs": [
    {
     "name": "stderr",
     "output_type": "stream",
     "text": [
      "/usr/local/lib/python3.6/dist-packages/ipykernel_launcher.py:11: SettingWithCopyWarning: \n",
      "A value is trying to be set on a copy of a slice from a DataFrame.\n",
      "Try using .loc[row_indexer,col_indexer] = value instead\n",
      "\n",
      "See the caveats in the documentation: https://pandas.pydata.org/pandas-docs/stable/user_guide/indexing.html#returning-a-view-versus-a-copy\n",
      "  # This is added back by InteractiveShellApp.init_path()\n"
     ]
    }
   ],
   "source": [
    "# Cleaning of words\n",
    "\n",
    "cleanedp = []\n",
    "for words in bg_f2['boardgamepublisher']:\n",
    "  comma = words.replace(\",\", \"comma\")\n",
    "  text = re.sub(r'[^\\w\\s]','',comma)\n",
    "  joinword = text.replace(' ','')\n",
    "  cleaned_word = joinword.replace('comma',' ')\n",
    "  cleanedp.append(cleaned_word.lower())\n",
    "  \n",
    "bg_f2['boardgamepublisher'] = cleanedp"
   ]
  },
  {
   "cell_type": "code",
   "execution_count": null,
   "metadata": {
    "colab": {
     "base_uri": "https://localhost:8080/",
     "height": 200
    },
    "executionInfo": {
     "elapsed": 87756,
     "status": "ok",
     "timestamp": 1602471852628,
     "user": {
      "displayName": "xing wei chia",
      "photoUrl": "",
      "userId": "07433573390488668056"
     },
     "user_tz": -480
    },
    "id": "xwhCt_S_4MVX",
    "outputId": "508b6219-c0e1-421f-8125-7fc528645933"
   },
   "outputs": [
    {
     "data": {
      "text/html": [
       "<div>\n",
       "<style scoped>\n",
       "    .dataframe tbody tr th:only-of-type {\n",
       "        vertical-align: middle;\n",
       "    }\n",
       "\n",
       "    .dataframe tbody tr th {\n",
       "        vertical-align: top;\n",
       "    }\n",
       "\n",
       "    .dataframe thead th {\n",
       "        text-align: right;\n",
       "    }\n",
       "</style>\n",
       "<table border=\"1\" class=\"dataframe\">\n",
       "  <thead>\n",
       "    <tr style=\"text-align: right;\">\n",
       "      <th></th>\n",
       "      <th>name</th>\n",
       "      <th>boardgamedesigner</th>\n",
       "      <th>boardgameartist</th>\n",
       "      <th>boardgamepublisher</th>\n",
       "    </tr>\n",
       "  </thead>\n",
       "  <tbody>\n",
       "    <tr>\n",
       "      <th>0</th>\n",
       "      <td>Pandemic</td>\n",
       "      <td>mattleacock</td>\n",
       "      <td>joshcappel christianhanisch régismoulun chrisq...</td>\n",
       "      <td>zmangames inc unknown albi asmodee asmodeeital...</td>\n",
       "    </tr>\n",
       "    <tr>\n",
       "      <th>1</th>\n",
       "      <td>Carcassonne</td>\n",
       "      <td>klausjürgenwrede</td>\n",
       "      <td>dorismatthäus annepätzke chrisquilliams klausj...</td>\n",
       "      <td>hansimglück 999games albi bardcentrumgier berg...</td>\n",
       "    </tr>\n",
       "    <tr>\n",
       "      <th>2</th>\n",
       "      <td>Catan</td>\n",
       "      <td>klausteuber</td>\n",
       "      <td>volkanbaga tanjadonner petefenlon jasonhawkins...</td>\n",
       "      <td>kosmos 999games albi astrelgames bergsalaenigm...</td>\n",
       "    </tr>\n",
       "    <tr>\n",
       "      <th>3</th>\n",
       "      <td>7 Wonders</td>\n",
       "      <td>antoinebauza</td>\n",
       "      <td>antoinebauza miguelcoimbra</td>\n",
       "      <td>reposproduction adcblackfireentertainment asmo...</td>\n",
       "    </tr>\n",
       "    <tr>\n",
       "      <th>4</th>\n",
       "      <td>Dominion</td>\n",
       "      <td>donaldxvaccarino</td>\n",
       "      <td>matthiascatrein juliendelval tomaszjedruszek r...</td>\n",
       "      <td>riograndegames 999games albi bardcentrumgier c...</td>\n",
       "    </tr>\n",
       "  </tbody>\n",
       "</table>\n",
       "</div>"
      ],
      "text/plain": [
       "          name  ...                                 boardgamepublisher\n",
       "0     Pandemic  ...  zmangames inc unknown albi asmodee asmodeeital...\n",
       "1  Carcassonne  ...  hansimglück 999games albi bardcentrumgier berg...\n",
       "2        Catan  ...  kosmos 999games albi astrelgames bergsalaenigm...\n",
       "3    7 Wonders  ...  reposproduction adcblackfireentertainment asmo...\n",
       "4     Dominion  ...  riograndegames 999games albi bardcentrumgier c...\n",
       "\n",
       "[5 rows x 4 columns]"
      ]
     },
     "execution_count": 27,
     "metadata": {
      "tags": []
     },
     "output_type": "execute_result"
    }
   ],
   "source": [
    "bg_f2.head()"
   ]
  },
  {
   "cell_type": "code",
   "execution_count": null,
   "metadata": {
    "colab": {
     "base_uri": "https://localhost:8080/",
     "height": 392
    },
    "executionInfo": {
     "elapsed": 88883,
     "status": "ok",
     "timestamp": 1602471853769,
     "user": {
      "displayName": "xing wei chia",
      "photoUrl": "",
      "userId": "07433573390488668056"
     },
     "user_tz": -480
    },
    "id": "r_csJeb14Mmh",
    "outputId": "6d65b8f3-e876-4c9d-9a3e-1482e84aff95"
   },
   "outputs": [
    {
     "name": "stderr",
     "output_type": "stream",
     "text": [
      "/usr/local/lib/python3.6/dist-packages/ipykernel_launcher.py:1: SettingWithCopyWarning: \n",
      "A value is trying to be set on a copy of a slice from a DataFrame.\n",
      "Try using .loc[row_indexer,col_indexer] = value instead\n",
      "\n",
      "See the caveats in the documentation: https://pandas.pydata.org/pandas-docs/stable/user_guide/indexing.html#returning-a-view-versus-a-copy\n",
      "  \"\"\"Entry point for launching an IPython kernel.\n"
     ]
    },
    {
     "data": {
      "text/html": [
       "<div>\n",
       "<style scoped>\n",
       "    .dataframe tbody tr th:only-of-type {\n",
       "        vertical-align: middle;\n",
       "    }\n",
       "\n",
       "    .dataframe tbody tr th {\n",
       "        vertical-align: top;\n",
       "    }\n",
       "\n",
       "    .dataframe thead th {\n",
       "        text-align: right;\n",
       "    }\n",
       "</style>\n",
       "<table border=\"1\" class=\"dataframe\">\n",
       "  <thead>\n",
       "    <tr style=\"text-align: right;\">\n",
       "      <th></th>\n",
       "      <th>name</th>\n",
       "      <th>boardgamedesigner</th>\n",
       "      <th>boardgameartist</th>\n",
       "      <th>boardgamepublisher</th>\n",
       "      <th>words</th>\n",
       "    </tr>\n",
       "  </thead>\n",
       "  <tbody>\n",
       "    <tr>\n",
       "      <th>0</th>\n",
       "      <td>Pandemic</td>\n",
       "      <td>mattleacock</td>\n",
       "      <td>joshcappel christianhanisch régismoulun chrisq...</td>\n",
       "      <td>zmangames inc unknown albi asmodee asmodeeital...</td>\n",
       "      <td>mattleacock joshcappel christianhanisch régism...</td>\n",
       "    </tr>\n",
       "    <tr>\n",
       "      <th>1</th>\n",
       "      <td>Carcassonne</td>\n",
       "      <td>klausjürgenwrede</td>\n",
       "      <td>dorismatthäus annepätzke chrisquilliams klausj...</td>\n",
       "      <td>hansimglück 999games albi bardcentrumgier berg...</td>\n",
       "      <td>klausjürgenwrede dorismatthäus annepätzke chri...</td>\n",
       "    </tr>\n",
       "    <tr>\n",
       "      <th>2</th>\n",
       "      <td>Catan</td>\n",
       "      <td>klausteuber</td>\n",
       "      <td>volkanbaga tanjadonner petefenlon jasonhawkins...</td>\n",
       "      <td>kosmos 999games albi astrelgames bergsalaenigm...</td>\n",
       "      <td>klausteuber volkanbaga tanjadonner petefenlon ...</td>\n",
       "    </tr>\n",
       "    <tr>\n",
       "      <th>3</th>\n",
       "      <td>7 Wonders</td>\n",
       "      <td>antoinebauza</td>\n",
       "      <td>antoinebauza miguelcoimbra</td>\n",
       "      <td>reposproduction adcblackfireentertainment asmo...</td>\n",
       "      <td>antoinebauza antoinebauza miguelcoimbra reposp...</td>\n",
       "    </tr>\n",
       "    <tr>\n",
       "      <th>4</th>\n",
       "      <td>Dominion</td>\n",
       "      <td>donaldxvaccarino</td>\n",
       "      <td>matthiascatrein juliendelval tomaszjedruszek r...</td>\n",
       "      <td>riograndegames 999games albi bardcentrumgier c...</td>\n",
       "      <td>donaldxvaccarino matthiascatrein juliendelval ...</td>\n",
       "    </tr>\n",
       "  </tbody>\n",
       "</table>\n",
       "</div>"
      ],
      "text/plain": [
       "          name  ...                                              words\n",
       "0     Pandemic  ...  mattleacock joshcappel christianhanisch régism...\n",
       "1  Carcassonne  ...  klausjürgenwrede dorismatthäus annepätzke chri...\n",
       "2        Catan  ...  klausteuber volkanbaga tanjadonner petefenlon ...\n",
       "3    7 Wonders  ...  antoinebauza antoinebauza miguelcoimbra reposp...\n",
       "4     Dominion  ...  donaldxvaccarino matthiascatrein juliendelval ...\n",
       "\n",
       "[5 rows x 5 columns]"
      ]
     },
     "execution_count": 28,
     "metadata": {
      "tags": []
     },
     "output_type": "execute_result"
    }
   ],
   "source": [
    "bg_f2['words'] = bg_f2[['boardgamedesigner', 'boardgameartist','boardgamepublisher']].agg(' '.join, axis=1)\n",
    "bg_f2.head()"
   ]
  },
  {
   "cell_type": "markdown",
   "metadata": {
    "id": "2ZiJGszBKLee"
   },
   "source": [
    "### TF-IDF matrix for bag of words (board game artist, designer, and publisher)"
   ]
  },
  {
   "cell_type": "code",
   "execution_count": null,
   "metadata": {
    "colab": {
     "base_uri": "https://localhost:8080/",
     "height": 72
    },
    "executionInfo": {
     "elapsed": 1479,
     "status": "ok",
     "timestamp": 1602478524270,
     "user": {
      "displayName": "xing wei chia",
      "photoUrl": "",
      "userId": "07433573390488668056"
     },
     "user_tz": -480
    },
    "id": "aSH-AufNeUsG",
    "outputId": "3c8a110c-704c-440e-8c9a-f09e58713aa1"
   },
   "outputs": [
    {
     "name": "stdout",
     "output_type": "stream",
     "text": [
      "Example feature: ['0hrarttechnology', '101codinganddesign', '101codinganddesign editionspielwiese', '123gameséditions', '123gameséditions actiongt']\n",
      "Matrix shape: (19230, 80301)\n"
     ]
    }
   ],
   "source": [
    "# define TF-IDF Vectorizer, remove all english stop words, select ngram 1 & 2\n",
    "tfidf = TfidfVectorizer(analyzer='word',ngram_range=(1, 2),stop_words='english')\n",
    "\n",
    "# Fit and transform the data in order to get the matrix\n",
    "artist_designer_publisher = tfidf.fit_transform(bg_f2['words'])\n",
    "tfidf_feature_names = tfidf.get_feature_names()\n",
    "\n",
    "# Print out some features name and matrix shape\n",
    "print(f'Example feature: {tfidf_feature_names[0:5]}')\n",
    "print(f'Matrix shape: {artist_designer_publisher.shape}')"
   ]
  },
  {
   "cell_type": "code",
   "execution_count": null,
   "metadata": {
    "colab": {
     "base_uri": "https://localhost:8080/",
     "height": 253
    },
    "executionInfo": {
     "elapsed": 1654,
     "status": "ok",
     "timestamp": 1602478534270,
     "user": {
      "displayName": "xing wei chia",
      "photoUrl": "",
      "userId": "07433573390488668056"
     },
     "user_tz": -480
    },
    "id": "XjG8WqT6p6b_",
    "outputId": "652ac46f-5499-416d-dce5-06a1c53a35fb"
   },
   "outputs": [
    {
     "name": "stdout",
     "output_type": "stream",
     "text": [
      "*********************************************************************\n",
      "Top 5 Similar Boardgames with Pandemic: \n",
      " \n"
     ]
    },
    {
     "data": {
      "text/html": [
       "<div>\n",
       "<style scoped>\n",
       "    .dataframe tbody tr th:only-of-type {\n",
       "        vertical-align: middle;\n",
       "    }\n",
       "\n",
       "    .dataframe tbody tr th {\n",
       "        vertical-align: top;\n",
       "    }\n",
       "\n",
       "    .dataframe thead th {\n",
       "        text-align: right;\n",
       "    }\n",
       "</style>\n",
       "<table border=\"1\" class=\"dataframe\">\n",
       "  <thead>\n",
       "    <tr style=\"text-align: right;\">\n",
       "      <th></th>\n",
       "      <th>name</th>\n",
       "      <th>url</th>\n",
       "    </tr>\n",
       "  </thead>\n",
       "  <tbody>\n",
       "    <tr>\n",
       "      <th>29</th>\n",
       "      <td>Pandemic Legacy: Season 1</td>\n",
       "      <td>/boardgame/161936/pandemic-legacy-season-1</td>\n",
       "    </tr>\n",
       "    <tr>\n",
       "      <th>3</th>\n",
       "      <td>7 Wonders</td>\n",
       "      <td>/boardgame/68448/7-wonders</td>\n",
       "    </tr>\n",
       "    <tr>\n",
       "      <th>13</th>\n",
       "      <td>Splendor</td>\n",
       "      <td>/boardgame/148228/splendor</td>\n",
       "    </tr>\n",
       "    <tr>\n",
       "      <th>18</th>\n",
       "      <td>Dixit</td>\n",
       "      <td>/boardgame/39856/dixit</td>\n",
       "    </tr>\n",
       "    <tr>\n",
       "      <th>285</th>\n",
       "      <td>Pandemic Legacy: Season 2</td>\n",
       "      <td>/boardgame/221107/pandemic-legacy-season-2</td>\n",
       "    </tr>\n",
       "  </tbody>\n",
       "</table>\n",
       "</div>"
      ],
      "text/plain": [
       "                          name                                         url\n",
       "29   Pandemic Legacy: Season 1  /boardgame/161936/pandemic-legacy-season-1\n",
       "3                    7 Wonders                  /boardgame/68448/7-wonders\n",
       "13                    Splendor                  /boardgame/148228/splendor\n",
       "18                       Dixit                      /boardgame/39856/dixit\n",
       "285  Pandemic Legacy: Season 2  /boardgame/221107/pandemic-legacy-season-2"
      ]
     },
     "execution_count": 42,
     "metadata": {
      "tags": []
     },
     "output_type": "execute_result"
    }
   ],
   "source": [
    "recommendations('Pandemic', artist_designer_publisher)"
   ]
  },
  {
   "cell_type": "markdown",
   "metadata": {
    "id": "y-Fu_cHjvn0d"
   },
   "source": [
    "## General Recommendation\n",
    "\n",
    "Recommend similar games based on the general informations including almost all the features of the game"
   ]
  },
  {
   "cell_type": "code",
   "execution_count": null,
   "metadata": {
    "colab": {
     "base_uri": "https://localhost:8080/",
     "height": 109
    },
    "executionInfo": {
     "elapsed": 1132,
     "status": "ok",
     "timestamp": 1602475444273,
     "user": {
      "displayName": "xing wei chia",
      "photoUrl": "",
      "userId": "07433573390488668056"
     },
     "user_tz": -480
    },
    "id": "MMpGOqwmvzNz",
    "outputId": "73b30bd5-523a-4689-f04d-ca0e99ca9d4f"
   },
   "outputs": [
    {
     "data": {
      "text/html": [
       "<div>\n",
       "<style scoped>\n",
       "    .dataframe tbody tr th:only-of-type {\n",
       "        vertical-align: middle;\n",
       "    }\n",
       "\n",
       "    .dataframe tbody tr th {\n",
       "        vertical-align: top;\n",
       "    }\n",
       "\n",
       "    .dataframe thead th {\n",
       "        text-align: right;\n",
       "    }\n",
       "</style>\n",
       "<table border=\"1\" class=\"dataframe\">\n",
       "  <thead>\n",
       "    <tr style=\"text-align: right;\">\n",
       "      <th></th>\n",
       "      <th>name</th>\n",
       "      <th>description clean</th>\n",
       "    </tr>\n",
       "  </thead>\n",
       "  <tbody>\n",
       "    <tr>\n",
       "      <th>0</th>\n",
       "      <td>Pandemic</td>\n",
       "      <td>pandemic several virulent disease broken simul...</td>\n",
       "    </tr>\n",
       "    <tr>\n",
       "      <th>1</th>\n",
       "      <td>Carcassonne</td>\n",
       "      <td>carcassonne tile placement game player draw pl...</td>\n",
       "    </tr>\n",
       "  </tbody>\n",
       "</table>\n",
       "</div>"
      ],
      "text/plain": [
       "          name                                  description clean\n",
       "0     Pandemic  pandemic several virulent disease broken simul...\n",
       "1  Carcassonne  carcassonne tile placement game player draw pl..."
      ]
     },
     "execution_count": 32,
     "metadata": {
      "tags": []
     },
     "output_type": "execute_result"
    }
   ],
   "source": [
    "bg_gen = bg_con[['name','description clean']]\n",
    "bg_gen.head(2)"
   ]
  },
  {
   "cell_type": "code",
   "execution_count": null,
   "metadata": {
    "colab": {
     "base_uri": "https://localhost:8080/",
     "height": 518
    },
    "executionInfo": {
     "elapsed": 1054,
     "status": "ok",
     "timestamp": 1602475566640,
     "user": {
      "displayName": "xing wei chia",
      "photoUrl": "",
      "userId": "07433573390488668056"
     },
     "user_tz": -480
    },
    "id": "k7DXGF5Ovzoo",
    "outputId": "540148c2-a1a9-4ec7-ab7e-5abda69b940a"
   },
   "outputs": [
    {
     "name": "stderr",
     "output_type": "stream",
     "text": [
      "/usr/local/lib/python3.6/dist-packages/ipykernel_launcher.py:1: SettingWithCopyWarning: \n",
      "A value is trying to be set on a copy of a slice from a DataFrame.\n",
      "Try using .loc[row_indexer,col_indexer] = value instead\n",
      "\n",
      "See the caveats in the documentation: https://pandas.pydata.org/pandas-docs/stable/user_guide/indexing.html#returning-a-view-versus-a-copy\n",
      "  \"\"\"Entry point for launching an IPython kernel.\n",
      "/usr/local/lib/python3.6/dist-packages/ipykernel_launcher.py:2: SettingWithCopyWarning: \n",
      "A value is trying to be set on a copy of a slice from a DataFrame.\n",
      "Try using .loc[row_indexer,col_indexer] = value instead\n",
      "\n",
      "See the caveats in the documentation: https://pandas.pydata.org/pandas-docs/stable/user_guide/indexing.html#returning-a-view-versus-a-copy\n",
      "  \n"
     ]
    },
    {
     "data": {
      "text/html": [
       "<div>\n",
       "<style scoped>\n",
       "    .dataframe tbody tr th:only-of-type {\n",
       "        vertical-align: middle;\n",
       "    }\n",
       "\n",
       "    .dataframe tbody tr th {\n",
       "        vertical-align: top;\n",
       "    }\n",
       "\n",
       "    .dataframe thead th {\n",
       "        text-align: right;\n",
       "    }\n",
       "</style>\n",
       "<table border=\"1\" class=\"dataframe\">\n",
       "  <thead>\n",
       "    <tr style=\"text-align: right;\">\n",
       "      <th></th>\n",
       "      <th>name</th>\n",
       "      <th>description clean</th>\n",
       "      <th>words cm</th>\n",
       "      <th>words dap</th>\n",
       "    </tr>\n",
       "  </thead>\n",
       "  <tbody>\n",
       "    <tr>\n",
       "      <th>0</th>\n",
       "      <td>Pandemic</td>\n",
       "      <td>pandemic several virulent disease broken simul...</td>\n",
       "      <td>medical actionpoints cooperativegame handmanag...</td>\n",
       "      <td>mattleacock joshcappel christianhanisch régism...</td>\n",
       "    </tr>\n",
       "    <tr>\n",
       "      <th>1</th>\n",
       "      <td>Carcassonne</td>\n",
       "      <td>carcassonne tile placement game player draw pl...</td>\n",
       "      <td>citybuilding medieval territorybuilding areama...</td>\n",
       "      <td>klausjürgenwrede dorismatthäus annepätzke chri...</td>\n",
       "    </tr>\n",
       "    <tr>\n",
       "      <th>2</th>\n",
       "      <td>Catan</td>\n",
       "      <td>catan formerly settler catan player try domina...</td>\n",
       "      <td>economic negotiation dicerolling hexagongrid i...</td>\n",
       "      <td>klausteuber volkanbaga tanjadonner petefenlon ...</td>\n",
       "    </tr>\n",
       "    <tr>\n",
       "      <th>3</th>\n",
       "      <td>7 Wonders</td>\n",
       "      <td>leader one great city ancient world gather res...</td>\n",
       "      <td>ancient cardgame citybuilding civilization eco...</td>\n",
       "      <td>antoinebauza antoinebauza miguelcoimbra reposp...</td>\n",
       "    </tr>\n",
       "    <tr>\n",
       "      <th>4</th>\n",
       "      <td>Dominion</td>\n",
       "      <td>monarch like parent ruler small pleasant kingd...</td>\n",
       "      <td>cardgame medieval deck bag andpoolbuilding del...</td>\n",
       "      <td>donaldxvaccarino matthiascatrein juliendelval ...</td>\n",
       "    </tr>\n",
       "  </tbody>\n",
       "</table>\n",
       "</div>"
      ],
      "text/plain": [
       "          name  ...                                          words dap\n",
       "0     Pandemic  ...  mattleacock joshcappel christianhanisch régism...\n",
       "1  Carcassonne  ...  klausjürgenwrede dorismatthäus annepätzke chri...\n",
       "2        Catan  ...  klausteuber volkanbaga tanjadonner petefenlon ...\n",
       "3    7 Wonders  ...  antoinebauza antoinebauza miguelcoimbra reposp...\n",
       "4     Dominion  ...  donaldxvaccarino matthiascatrein juliendelval ...\n",
       "\n",
       "[5 rows x 4 columns]"
      ]
     },
     "execution_count": 33,
     "metadata": {
      "tags": []
     },
     "output_type": "execute_result"
    }
   ],
   "source": [
    "bg_gen['words cm'] = bg_f['words']\n",
    "bg_gen['words dap'] = bg_f2['words']\n",
    "bg_gen.head()"
   ]
  },
  {
   "cell_type": "code",
   "execution_count": null,
   "metadata": {
    "colab": {
     "base_uri": "https://localhost:8080/",
     "height": 446
    },
    "executionInfo": {
     "elapsed": 2402,
     "status": "ok",
     "timestamp": 1602477645567,
     "user": {
      "displayName": "xing wei chia",
      "photoUrl": "",
      "userId": "07433573390488668056"
     },
     "user_tz": -480
    },
    "id": "pOfyM_AQvzb-",
    "outputId": "7dd83a00-b87b-4b37-d27d-ffb70446d04e"
   },
   "outputs": [
    {
     "name": "stderr",
     "output_type": "stream",
     "text": [
      "/usr/local/lib/python3.6/dist-packages/ipykernel_launcher.py:1: SettingWithCopyWarning: \n",
      "A value is trying to be set on a copy of a slice from a DataFrame.\n",
      "Try using .loc[row_indexer,col_indexer] = value instead\n",
      "\n",
      "See the caveats in the documentation: https://pandas.pydata.org/pandas-docs/stable/user_guide/indexing.html#returning-a-view-versus-a-copy\n",
      "  \"\"\"Entry point for launching an IPython kernel.\n"
     ]
    },
    {
     "data": {
      "text/html": [
       "<div>\n",
       "<style scoped>\n",
       "    .dataframe tbody tr th:only-of-type {\n",
       "        vertical-align: middle;\n",
       "    }\n",
       "\n",
       "    .dataframe tbody tr th {\n",
       "        vertical-align: top;\n",
       "    }\n",
       "\n",
       "    .dataframe thead th {\n",
       "        text-align: right;\n",
       "    }\n",
       "</style>\n",
       "<table border=\"1\" class=\"dataframe\">\n",
       "  <thead>\n",
       "    <tr style=\"text-align: right;\">\n",
       "      <th></th>\n",
       "      <th>name</th>\n",
       "      <th>description clean</th>\n",
       "      <th>words cm</th>\n",
       "      <th>words dap</th>\n",
       "      <th>words</th>\n",
       "    </tr>\n",
       "  </thead>\n",
       "  <tbody>\n",
       "    <tr>\n",
       "      <th>0</th>\n",
       "      <td>Pandemic</td>\n",
       "      <td>pandemic several virulent disease broken simul...</td>\n",
       "      <td>medical actionpoints cooperativegame handmanag...</td>\n",
       "      <td>mattleacock joshcappel christianhanisch régism...</td>\n",
       "      <td>pandemic several virulent disease broken simul...</td>\n",
       "    </tr>\n",
       "    <tr>\n",
       "      <th>1</th>\n",
       "      <td>Carcassonne</td>\n",
       "      <td>carcassonne tile placement game player draw pl...</td>\n",
       "      <td>citybuilding medieval territorybuilding areama...</td>\n",
       "      <td>klausjürgenwrede dorismatthäus annepätzke chri...</td>\n",
       "      <td>carcassonne tile placement game player draw pl...</td>\n",
       "    </tr>\n",
       "    <tr>\n",
       "      <th>2</th>\n",
       "      <td>Catan</td>\n",
       "      <td>catan formerly settler catan player try domina...</td>\n",
       "      <td>economic negotiation dicerolling hexagongrid i...</td>\n",
       "      <td>klausteuber volkanbaga tanjadonner petefenlon ...</td>\n",
       "      <td>catan formerly settler catan player try domina...</td>\n",
       "    </tr>\n",
       "    <tr>\n",
       "      <th>3</th>\n",
       "      <td>7 Wonders</td>\n",
       "      <td>leader one great city ancient world gather res...</td>\n",
       "      <td>ancient cardgame citybuilding civilization eco...</td>\n",
       "      <td>antoinebauza antoinebauza miguelcoimbra reposp...</td>\n",
       "      <td>leader one great city ancient world gather res...</td>\n",
       "    </tr>\n",
       "    <tr>\n",
       "      <th>4</th>\n",
       "      <td>Dominion</td>\n",
       "      <td>monarch like parent ruler small pleasant kingd...</td>\n",
       "      <td>cardgame medieval deck bag andpoolbuilding del...</td>\n",
       "      <td>donaldxvaccarino matthiascatrein juliendelval ...</td>\n",
       "      <td>monarch like parent ruler small pleasant kingd...</td>\n",
       "    </tr>\n",
       "  </tbody>\n",
       "</table>\n",
       "</div>"
      ],
      "text/plain": [
       "          name  ...                                              words\n",
       "0     Pandemic  ...  pandemic several virulent disease broken simul...\n",
       "1  Carcassonne  ...  carcassonne tile placement game player draw pl...\n",
       "2        Catan  ...  catan formerly settler catan player try domina...\n",
       "3    7 Wonders  ...  leader one great city ancient world gather res...\n",
       "4     Dominion  ...  monarch like parent ruler small pleasant kingd...\n",
       "\n",
       "[5 rows x 5 columns]"
      ]
     },
     "execution_count": 34,
     "metadata": {
      "tags": []
     },
     "output_type": "execute_result"
    }
   ],
   "source": [
    "bg_gen['words'] = bg_gen[['description clean', 'words cm','words dap']].agg(' '.join, axis=1)\n",
    "bg_gen.head()"
   ]
  },
  {
   "cell_type": "markdown",
   "metadata": {
    "id": "LwJEYreqKhaP"
   },
   "source": [
    "### TF-IDF matrix for bag of words"
   ]
  },
  {
   "cell_type": "code",
   "execution_count": null,
   "metadata": {
    "colab": {
     "base_uri": "https://localhost:8080/",
     "height": 72
    },
    "executionInfo": {
     "elapsed": 13293,
     "status": "ok",
     "timestamp": 1602478612482,
     "user": {
      "displayName": "xing wei chia",
      "photoUrl": "",
      "userId": "07433573390488668056"
     },
     "user_tz": -480
    },
    "id": "48Wuv5zPGp6Y",
    "outputId": "ac505915-aee5-4141-9a1d-e71d11c93001"
   },
   "outputs": [
    {
     "name": "stdout",
     "output_type": "stream",
     "text": [
      "Example feature: ['0hrarttechnology', '101codinganddesign', '101codinganddesign editionspielwiese', '123gameséditions', '123gameséditions actiongt']\n",
      "Matrix shape: (19230, 1103516)\n"
     ]
    }
   ],
   "source": [
    "# define TF-IDF Vectorizer, remove all english stop words, select ngram 1 & 2\n",
    "tfidf = TfidfVectorizer(analyzer='word',ngram_range=(1, 2),stop_words='english')\n",
    "\n",
    "# Fit and transform the data in order to get the matrix\n",
    "boardgames_info = tfidf.fit_transform(bg_gen['words'])\n",
    "tfidf_feature_names = tfidf.get_feature_names()\n",
    "\n",
    "# Print out some features name and matrix shape\n",
    "print(f'Example feature: {tfidf_feature_names[0:5]}')\n",
    "print(f'Matrix shape: {boardgames_info.shape}')"
   ]
  },
  {
   "cell_type": "code",
   "execution_count": null,
   "metadata": {
    "colab": {
     "base_uri": "https://localhost:8080/",
     "height": 253
    },
    "executionInfo": {
     "elapsed": 19468,
     "status": "ok",
     "timestamp": 1602478724845,
     "user": {
      "displayName": "xing wei chia",
      "photoUrl": "",
      "userId": "07433573390488668056"
     },
     "user_tz": -480
    },
    "id": "QJ3MmIbrGqHy",
    "outputId": "7806b39e-9248-46d6-cd54-cd03df0cccf5"
   },
   "outputs": [
    {
     "name": "stdout",
     "output_type": "stream",
     "text": [
      "*********************************************************************\n",
      "Top 5 Similar Boardgames with Pandemic: \n",
      " \n"
     ]
    },
    {
     "data": {
      "text/html": [
       "<div>\n",
       "<style scoped>\n",
       "    .dataframe tbody tr th:only-of-type {\n",
       "        vertical-align: middle;\n",
       "    }\n",
       "\n",
       "    .dataframe tbody tr th {\n",
       "        vertical-align: top;\n",
       "    }\n",
       "\n",
       "    .dataframe thead th {\n",
       "        text-align: right;\n",
       "    }\n",
       "</style>\n",
       "<table border=\"1\" class=\"dataframe\">\n",
       "  <thead>\n",
       "    <tr style=\"text-align: right;\">\n",
       "      <th></th>\n",
       "      <th>name</th>\n",
       "      <th>url</th>\n",
       "    </tr>\n",
       "  </thead>\n",
       "  <tbody>\n",
       "    <tr>\n",
       "      <th>29</th>\n",
       "      <td>Pandemic Legacy: Season 1</td>\n",
       "      <td>/boardgame/161936/pandemic-legacy-season-1</td>\n",
       "    </tr>\n",
       "    <tr>\n",
       "      <th>333</th>\n",
       "      <td>Pandemic: The Cure</td>\n",
       "      <td>/boardgame/150658/pandemic-cure</td>\n",
       "    </tr>\n",
       "    <tr>\n",
       "      <th>999</th>\n",
       "      <td>Pandemic: Contagion</td>\n",
       "      <td>/boardgame/157789/pandemic-contagion</td>\n",
       "    </tr>\n",
       "    <tr>\n",
       "      <th>6556</th>\n",
       "      <td>Pandemic: Hot Zone – North America</td>\n",
       "      <td>/boardgame/301919/pandemic-hot-zone-north-america</td>\n",
       "    </tr>\n",
       "    <tr>\n",
       "      <th>6396</th>\n",
       "      <td>Side Effects</td>\n",
       "      <td>/boardgame/230765/side-effects</td>\n",
       "    </tr>\n",
       "  </tbody>\n",
       "</table>\n",
       "</div>"
      ],
      "text/plain": [
       "                                    name                                                url\n",
       "29             Pandemic Legacy: Season 1         /boardgame/161936/pandemic-legacy-season-1\n",
       "333                   Pandemic: The Cure                    /boardgame/150658/pandemic-cure\n",
       "999                  Pandemic: Contagion               /boardgame/157789/pandemic-contagion\n",
       "6556  Pandemic: Hot Zone – North America  /boardgame/301919/pandemic-hot-zone-north-america\n",
       "6396                        Side Effects                     /boardgame/230765/side-effects"
      ]
     },
     "execution_count": 44,
     "metadata": {
      "tags": []
     },
     "output_type": "execute_result"
    }
   ],
   "source": [
    "recommendations('Pandemic', boardgames_info)"
   ]
  },
  {
   "cell_type": "markdown",
   "metadata": {
    "id": "oJw-8MAwj2sj"
   },
   "source": [
    "\n",
    "## Limitation & Recommendation\n",
    "\n",
    "#### Deploy the models \n",
    "- Due to time constraint, the next step for this project will be deploying the models and building the recommendation system in the website for users\n",
    "\n",
    "#### User profile data for collabrative filtering \n",
    "- In order to build a more customised recommendation system, the team should put in effort to collect more user ratings from different games and from there we can easily get the user profile and build a recommendation system that suits each user based on their preferences.\n",
    "\n",
    "#### Board game features improvements\n",
    "- Based on the topic modelling, we have some findings that can be provided to board game publishers for further improvements on the board game thus potentially increasing user base and sales. "
   ]
  },
  {
   "cell_type": "code",
   "execution_count": null,
   "metadata": {},
   "outputs": [],
   "source": []
  }
 ],
 "metadata": {
  "colab": {
   "authorship_tag": "ABX9TyOUdLxwIbYNFVeybugMxHAm",
   "collapsed_sections": [],
   "name": "3. Board Game Recommendation_Content Based.ipynb",
   "provenance": [],
   "toc_visible": true
  },
  "kernelspec": {
   "display_name": "Python 3",
   "language": "python",
   "name": "python3"
  },
  "language_info": {
   "codemirror_mode": {
    "name": "ipython",
    "version": 3
   },
   "file_extension": ".py",
   "mimetype": "text/x-python",
   "name": "python",
   "nbconvert_exporter": "python",
   "pygments_lexer": "ipython3",
   "version": "3.7.6"
  }
 },
 "nbformat": 4,
 "nbformat_minor": 1
}
