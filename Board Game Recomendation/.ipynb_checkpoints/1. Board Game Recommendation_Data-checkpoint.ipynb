{
 "cells": [
  {
   "cell_type": "markdown",
   "metadata": {
    "id": "mDV2Q2o9fpv7"
   },
   "source": [
    "# DSI Capstone Project: Board Game Recommendation\n",
    "\n",
    "\n",
    "## Problem Statement\n",
    "\n",
    "[BoardGameGeek](https://www.boardgamegeek.com/) is an online board gaming resource and community. \n",
    "The site is updated on a real-time basis by its large and still growing user base, making the 'Geek the largest and most up-to-date place to get gaming information! \n",
    "\n",
    "As part of Board Game Geek, our team of data scientist is tasked to constantly make improvement on our website by using latest data collected. In this project, we are tasked to make a more user friendly recommendation system based on data updated in August 2020. We were also tasked to do topic modelling on the user comments to further understand player needs.\n",
    "\n",
    "## Overview\n",
    "\n",
    "There are a total of 4 part of codes:\n",
    "1. Data Cleaning and Exploratory Data Analysis\n",
    "2. Topic Modelling\n",
    "3. Modelling with user rating\n",
    "4. Modelling with board game features\n",
    "\n",
    "There is also a data description included for more information on the data used in this project.\n",
    "\n",
    "As the size of the dataset is too big, the data can be obtain from the link provided below.\n",
    "\n",
    "[Data Source](https://www.kaggle.com/jvanelteren/boardgamegeek-reviews?select=games_detailed_info.csv)\n",
    "\n",
    "- Board Game infomation such as ranking, designer and publisher. (19330 Board Games)\n",
    "- Board game user rating and reviews. (15M users)\n",
    "\n",
    "\n",
    "\n",
    "## 1. Board Game Recommendation_Data\n",
    "The objective of this notebook are exploratory data analysis and data cleaning. After cleaning of the data, datasets was saved for modelling.\n"
   ]
  },
  {
   "cell_type": "markdown",
   "metadata": {},
   "source": [
    "## Imports"
   ]
  },
  {
   "cell_type": "code",
   "execution_count": 1,
   "metadata": {
    "colab": {
     "base_uri": "https://localhost:8080/",
     "height": 35
    },
    "executionInfo": {
     "elapsed": 1801,
     "status": "ok",
     "timestamp": 1602489168533,
     "user": {
      "displayName": "xing wei chia",
      "photoUrl": "",
      "userId": "07433573390488668056"
     },
     "user_tz": -480
    },
    "id": "rdFooDQinohS",
    "outputId": "afd6b014-80a1-4b44-a784-17ebfd7bcc09"
   },
   "outputs": [
    {
     "name": "stdout",
     "output_type": "stream",
     "text": [
      "Drive already mounted at /content/drive/; to attempt to forcibly remount, call drive.mount(\"/content/drive/\", force_remount=True).\n"
     ]
    }
   ],
   "source": [
    "# Importing datasets from folder\n",
    "from google.colab import drive\n",
    "drive.mount(\"/content/drive/\")"
   ]
  },
  {
   "cell_type": "code",
   "execution_count": 2,
   "metadata": {
    "executionInfo": {
     "elapsed": 2074,
     "status": "ok",
     "timestamp": 1602489175923,
     "user": {
      "displayName": "xing wei chia",
      "photoUrl": "",
      "userId": "07433573390488668056"
     },
     "user_tz": -480
    },
    "id": "tA-5shhdn-c5"
   },
   "outputs": [],
   "source": [
    "# File location variable \n",
    "file = '/content/drive/My Drive/Capstone/'"
   ]
  },
  {
   "cell_type": "code",
   "execution_count": 4,
   "metadata": {
    "executionInfo": {
     "elapsed": 2144,
     "status": "ok",
     "timestamp": 1602489221720,
     "user": {
      "displayName": "xing wei chia",
      "photoUrl": "",
      "userId": "07433573390488668056"
     },
     "user_tz": -480
    },
    "id": "V9jFWghRn-lB"
   },
   "outputs": [],
   "source": [
    "import pandas as pd\n",
    "import numpy as np\n",
    "import seaborn as sns\n",
    "import matplotlib.pyplot as plt\n",
    "import regex as re\n",
    "plt.style.use('seaborn-pastel')\n",
    "\n",
    "import nltk\n",
    "from bs4 import BeautifulSoup  \n",
    "from nltk.corpus import stopwords # Import the stopword list\n",
    "from nltk.stem import WordNetLemmatizer\n",
    " "
   ]
  },
  {
   "cell_type": "markdown",
   "metadata": {
    "id": "2ehH2GLuoQSA"
   },
   "source": [
    "# Board Game General"
   ]
  },
  {
   "cell_type": "code",
   "execution_count": 5,
   "metadata": {
    "colab": {
     "base_uri": "https://localhost:8080/",
     "height": 302
    },
    "executionInfo": {
     "elapsed": 3675,
     "status": "ok",
     "timestamp": 1602489228038,
     "user": {
      "displayName": "xing wei chia",
      "photoUrl": "",
      "userId": "07433573390488668056"
     },
     "user_tz": -480
    },
    "id": "4w1tSQOYoJhT",
    "outputId": "5c5c3ae1-405e-4243-eac4-924bb80b12e5"
   },
   "outputs": [
    {
     "data": {
      "text/html": [
       "<div>\n",
       "<style scoped>\n",
       "    .dataframe tbody tr th:only-of-type {\n",
       "        vertical-align: middle;\n",
       "    }\n",
       "\n",
       "    .dataframe tbody tr th {\n",
       "        vertical-align: top;\n",
       "    }\n",
       "\n",
       "    .dataframe thead th {\n",
       "        text-align: right;\n",
       "    }\n",
       "</style>\n",
       "<table border=\"1\" class=\"dataframe\">\n",
       "  <thead>\n",
       "    <tr style=\"text-align: right;\">\n",
       "      <th></th>\n",
       "      <th>Unnamed: 0</th>\n",
       "      <th>ID</th>\n",
       "      <th>Name</th>\n",
       "      <th>Year</th>\n",
       "      <th>Rank</th>\n",
       "      <th>Average</th>\n",
       "      <th>Bayes average</th>\n",
       "      <th>Users rated</th>\n",
       "      <th>URL</th>\n",
       "      <th>Thumbnail</th>\n",
       "    </tr>\n",
       "  </thead>\n",
       "  <tbody>\n",
       "    <tr>\n",
       "      <th>0</th>\n",
       "      <td>90</td>\n",
       "      <td>30549</td>\n",
       "      <td>Pandemic</td>\n",
       "      <td>2008</td>\n",
       "      <td>91</td>\n",
       "      <td>7.62</td>\n",
       "      <td>7.518</td>\n",
       "      <td>96186</td>\n",
       "      <td>/boardgame/30549/pandemic</td>\n",
       "      <td>https://cf.geekdo-images.com/micro/img/0m3-oqB...</td>\n",
       "    </tr>\n",
       "    <tr>\n",
       "      <th>1</th>\n",
       "      <td>172</td>\n",
       "      <td>822</td>\n",
       "      <td>Carcassonne</td>\n",
       "      <td>2000</td>\n",
       "      <td>173</td>\n",
       "      <td>7.42</td>\n",
       "      <td>7.311</td>\n",
       "      <td>96181</td>\n",
       "      <td>/boardgame/822/carcassonne</td>\n",
       "      <td>https://cf.geekdo-images.com/micro/img/z0tTaij...</td>\n",
       "    </tr>\n",
       "    <tr>\n",
       "      <th>2</th>\n",
       "      <td>380</td>\n",
       "      <td>13</td>\n",
       "      <td>Catan</td>\n",
       "      <td>1995</td>\n",
       "      <td>381</td>\n",
       "      <td>7.16</td>\n",
       "      <td>7.001</td>\n",
       "      <td>96171</td>\n",
       "      <td>/boardgame/13/catan</td>\n",
       "      <td>https://cf.geekdo-images.com/micro/img/e0y6Bog...</td>\n",
       "    </tr>\n",
       "    <tr>\n",
       "      <th>3</th>\n",
       "      <td>49</td>\n",
       "      <td>68448</td>\n",
       "      <td>7 Wonders</td>\n",
       "      <td>2010</td>\n",
       "      <td>50</td>\n",
       "      <td>7.76</td>\n",
       "      <td>7.662</td>\n",
       "      <td>79830</td>\n",
       "      <td>/boardgame/68448/7-wonders</td>\n",
       "      <td>https://cf.geekdo-images.com/micro/img/h-Ejv31...</td>\n",
       "    </tr>\n",
       "    <tr>\n",
       "      <th>4</th>\n",
       "      <td>87</td>\n",
       "      <td>36218</td>\n",
       "      <td>Dominion</td>\n",
       "      <td>2008</td>\n",
       "      <td>88</td>\n",
       "      <td>7.63</td>\n",
       "      <td>7.521</td>\n",
       "      <td>74933</td>\n",
       "      <td>/boardgame/36218/dominion</td>\n",
       "      <td>https://cf.geekdo-images.com/micro/img/VYp2s2f...</td>\n",
       "    </tr>\n",
       "  </tbody>\n",
       "</table>\n",
       "</div>"
      ],
      "text/plain": [
       "   Unnamed: 0  ...                                          Thumbnail\n",
       "0          90  ...  https://cf.geekdo-images.com/micro/img/0m3-oqB...\n",
       "1         172  ...  https://cf.geekdo-images.com/micro/img/z0tTaij...\n",
       "2         380  ...  https://cf.geekdo-images.com/micro/img/e0y6Bog...\n",
       "3          49  ...  https://cf.geekdo-images.com/micro/img/h-Ejv31...\n",
       "4          87  ...  https://cf.geekdo-images.com/micro/img/VYp2s2f...\n",
       "\n",
       "[5 rows x 10 columns]"
      ]
     },
     "execution_count": 5,
     "metadata": {
      "tags": []
     },
     "output_type": "execute_result"
    }
   ],
   "source": [
    "bgames = pd.read_csv(file + '2020-08-19.csv')\n",
    "bgames.head()"
   ]
  },
  {
   "cell_type": "code",
   "execution_count": 6,
   "metadata": {
    "executionInfo": {
     "elapsed": 2984,
     "status": "ok",
     "timestamp": 1602489232973,
     "user": {
      "displayName": "xing wei chia",
      "photoUrl": "",
      "userId": "07433573390488668056"
     },
     "user_tz": -480
    },
    "id": "l08_Nvleow7h"
   },
   "outputs": [],
   "source": [
    "# Change columns to be lowercase\n",
    "bgames.columns = bgames.columns.str.lower() "
   ]
  },
  {
   "cell_type": "code",
   "execution_count": 7,
   "metadata": {
    "colab": {
     "base_uri": "https://localhost:8080/",
     "height": 319
    },
    "executionInfo": {
     "elapsed": 1397,
     "status": "ok",
     "timestamp": 1602489235172,
     "user": {
      "displayName": "xing wei chia",
      "photoUrl": "",
      "userId": "07433573390488668056"
     },
     "user_tz": -480
    },
    "id": "ylGiEueCoY_i",
    "outputId": "a0b43c5c-a070-4ef4-ed25-dc8ed647ad18",
    "scrolled": true
   },
   "outputs": [
    {
     "name": "stdout",
     "output_type": "stream",
     "text": [
      "<class 'pandas.core.frame.DataFrame'>\n",
      "RangeIndex: 19330 entries, 0 to 19329\n",
      "Data columns (total 10 columns):\n",
      " #   Column         Non-Null Count  Dtype  \n",
      "---  ------         --------------  -----  \n",
      " 0   unnamed: 0     19330 non-null  int64  \n",
      " 1   id             19330 non-null  int64  \n",
      " 2   name           19330 non-null  object \n",
      " 3   year           19330 non-null  int64  \n",
      " 4   rank           19330 non-null  int64  \n",
      " 5   average        19330 non-null  float64\n",
      " 6   bayes average  19330 non-null  float64\n",
      " 7   users rated    19330 non-null  int64  \n",
      " 8   url            19330 non-null  object \n",
      " 9   thumbnail      19317 non-null  object \n",
      "dtypes: float64(2), int64(5), object(3)\n",
      "memory usage: 1.5+ MB\n"
     ]
    }
   ],
   "source": [
    "bgames.info()"
   ]
  },
  {
   "cell_type": "markdown",
   "metadata": {
    "id": "Xq17ERyMotxI"
   },
   "source": [
    "Note: \n",
    "- Only `Thumbnail` has null value"
   ]
  },
  {
   "cell_type": "code",
   "execution_count": 8,
   "metadata": {
    "colab": {
     "base_uri": "https://localhost:8080/",
     "height": 291
    },
    "executionInfo": {
     "elapsed": 1092,
     "status": "ok",
     "timestamp": 1602489238460,
     "user": {
      "displayName": "xing wei chia",
      "photoUrl": "",
      "userId": "07433573390488668056"
     },
     "user_tz": -480
    },
    "id": "ZZj668kJoog6",
    "outputId": "06a896bb-bb1b-4c3f-94fb-ef8dc9425e9b",
    "scrolled": true
   },
   "outputs": [
    {
     "data": {
      "text/html": [
       "<div>\n",
       "<style scoped>\n",
       "    .dataframe tbody tr th:only-of-type {\n",
       "        vertical-align: middle;\n",
       "    }\n",
       "\n",
       "    .dataframe tbody tr th {\n",
       "        vertical-align: top;\n",
       "    }\n",
       "\n",
       "    .dataframe thead th {\n",
       "        text-align: right;\n",
       "    }\n",
       "</style>\n",
       "<table border=\"1\" class=\"dataframe\">\n",
       "  <thead>\n",
       "    <tr style=\"text-align: right;\">\n",
       "      <th></th>\n",
       "      <th>unnamed: 0</th>\n",
       "      <th>id</th>\n",
       "      <th>year</th>\n",
       "      <th>rank</th>\n",
       "      <th>average</th>\n",
       "      <th>bayes average</th>\n",
       "      <th>users rated</th>\n",
       "    </tr>\n",
       "  </thead>\n",
       "  <tbody>\n",
       "    <tr>\n",
       "      <th>count</th>\n",
       "      <td>19330.000000</td>\n",
       "      <td>19330.000000</td>\n",
       "      <td>19330.000000</td>\n",
       "      <td>19330.000000</td>\n",
       "      <td>19330.000000</td>\n",
       "      <td>19330.000000</td>\n",
       "      <td>19330.000000</td>\n",
       "    </tr>\n",
       "    <tr>\n",
       "      <th>mean</th>\n",
       "      <td>9664.500000</td>\n",
       "      <td>101516.303052</td>\n",
       "      <td>1986.127832</td>\n",
       "      <td>9665.500000</td>\n",
       "      <td>6.392256</td>\n",
       "      <td>5.688917</td>\n",
       "      <td>818.132023</td>\n",
       "    </tr>\n",
       "    <tr>\n",
       "      <th>std</th>\n",
       "      <td>5580.234687</td>\n",
       "      <td>94301.242369</td>\n",
       "      <td>193.375292</td>\n",
       "      <td>5580.234687</td>\n",
       "      <td>0.930497</td>\n",
       "      <td>0.369647</td>\n",
       "      <td>3369.033741</td>\n",
       "    </tr>\n",
       "    <tr>\n",
       "      <th>min</th>\n",
       "      <td>0.000000</td>\n",
       "      <td>1.000000</td>\n",
       "      <td>0.000000</td>\n",
       "      <td>1.000000</td>\n",
       "      <td>1.050000</td>\n",
       "      <td>3.536000</td>\n",
       "      <td>30.000000</td>\n",
       "    </tr>\n",
       "    <tr>\n",
       "      <th>25%</th>\n",
       "      <td>4832.250000</td>\n",
       "      <td>10203.750000</td>\n",
       "      <td>2000.000000</td>\n",
       "      <td>4833.250000</td>\n",
       "      <td>5.810000</td>\n",
       "      <td>5.511000</td>\n",
       "      <td>55.000000</td>\n",
       "    </tr>\n",
       "    <tr>\n",
       "      <th>50%</th>\n",
       "      <td>9664.500000</td>\n",
       "      <td>72782.500000</td>\n",
       "      <td>2010.000000</td>\n",
       "      <td>9665.500000</td>\n",
       "      <td>6.420000</td>\n",
       "      <td>5.550000</td>\n",
       "      <td>119.000000</td>\n",
       "    </tr>\n",
       "    <tr>\n",
       "      <th>75%</th>\n",
       "      <td>14496.750000</td>\n",
       "      <td>182383.750000</td>\n",
       "      <td>2016.000000</td>\n",
       "      <td>14497.750000</td>\n",
       "      <td>7.010000</td>\n",
       "      <td>5.686000</td>\n",
       "      <td>378.000000</td>\n",
       "    </tr>\n",
       "    <tr>\n",
       "      <th>max</th>\n",
       "      <td>19329.000000</td>\n",
       "      <td>314040.000000</td>\n",
       "      <td>3500.000000</td>\n",
       "      <td>19330.000000</td>\n",
       "      <td>9.690000</td>\n",
       "      <td>8.569000</td>\n",
       "      <td>96186.000000</td>\n",
       "    </tr>\n",
       "  </tbody>\n",
       "</table>\n",
       "</div>"
      ],
      "text/plain": [
       "         unnamed: 0             id  ...  bayes average   users rated\n",
       "count  19330.000000   19330.000000  ...   19330.000000  19330.000000\n",
       "mean    9664.500000  101516.303052  ...       5.688917    818.132023\n",
       "std     5580.234687   94301.242369  ...       0.369647   3369.033741\n",
       "min        0.000000       1.000000  ...       3.536000     30.000000\n",
       "25%     4832.250000   10203.750000  ...       5.511000     55.000000\n",
       "50%     9664.500000   72782.500000  ...       5.550000    119.000000\n",
       "75%    14496.750000  182383.750000  ...       5.686000    378.000000\n",
       "max    19329.000000  314040.000000  ...       8.569000  96186.000000\n",
       "\n",
       "[8 rows x 7 columns]"
      ]
     },
     "execution_count": 8,
     "metadata": {
      "tags": []
     },
     "output_type": "execute_result"
    }
   ],
   "source": [
    "bgames.describe()"
   ]
  },
  {
   "cell_type": "code",
   "execution_count": 9,
   "metadata": {
    "colab": {
     "base_uri": "https://localhost:8080/",
     "height": 52
    },
    "executionInfo": {
     "elapsed": 1114,
     "status": "ok",
     "timestamp": 1602489242123,
     "user": {
      "displayName": "xing wei chia",
      "photoUrl": "",
      "userId": "07433573390488668056"
     },
     "user_tz": -480
    },
    "id": "z-7c_PZuozsl",
    "outputId": "a679c12f-7cb0-43e6-af3d-b4ffeaf073d6"
   },
   "outputs": [
    {
     "name": "stdout",
     "output_type": "stream",
     "text": [
      "No. of unique ID: 19330\n",
      "No. of unique boardgame name: 18984\n"
     ]
    }
   ],
   "source": [
    "# Find what amount of boardgames\n",
    "print('No. of unique ID: ' + str(bgames['id'].nunique()))\n",
    "print('No. of unique boardgame name: ' +  str(bgames['name'].nunique()))"
   ]
  },
  {
   "cell_type": "code",
   "execution_count": 10,
   "metadata": {
    "colab": {
     "base_uri": "https://localhost:8080/",
     "height": 302
    },
    "executionInfo": {
     "elapsed": 1145,
     "status": "ok",
     "timestamp": 1602489244517,
     "user": {
      "displayName": "xing wei chia",
      "photoUrl": "",
      "userId": "07433573390488668056"
     },
     "user_tz": -480
    },
    "id": "0YahKmfJo2DJ",
    "outputId": "4aadee5c-e310-4daa-f0c0-8f6e423842c2",
    "scrolled": true
   },
   "outputs": [
    {
     "data": {
      "text/html": [
       "<div>\n",
       "<style scoped>\n",
       "    .dataframe tbody tr th:only-of-type {\n",
       "        vertical-align: middle;\n",
       "    }\n",
       "\n",
       "    .dataframe tbody tr th {\n",
       "        vertical-align: top;\n",
       "    }\n",
       "\n",
       "    .dataframe thead th {\n",
       "        text-align: right;\n",
       "    }\n",
       "</style>\n",
       "<table border=\"1\" class=\"dataframe\">\n",
       "  <thead>\n",
       "    <tr style=\"text-align: right;\">\n",
       "      <th></th>\n",
       "      <th>unnamed: 0</th>\n",
       "      <th>id</th>\n",
       "      <th>name</th>\n",
       "      <th>year</th>\n",
       "      <th>rank</th>\n",
       "      <th>average</th>\n",
       "      <th>bayes average</th>\n",
       "      <th>users rated</th>\n",
       "      <th>url</th>\n",
       "      <th>thumbnail</th>\n",
       "    </tr>\n",
       "  </thead>\n",
       "  <tbody>\n",
       "    <tr>\n",
       "      <th>501</th>\n",
       "      <td>468</td>\n",
       "      <td>205398</td>\n",
       "      <td>Citadels</td>\n",
       "      <td>2016</td>\n",
       "      <td>469</td>\n",
       "      <td>7.33</td>\n",
       "      <td>6.913</td>\n",
       "      <td>6369</td>\n",
       "      <td>/boardgame/205398/citadels</td>\n",
       "      <td>https://cf.geekdo-images.com/micro/img/RFC2Af9...</td>\n",
       "    </tr>\n",
       "    <tr>\n",
       "      <th>538</th>\n",
       "      <td>1278</td>\n",
       "      <td>10093</td>\n",
       "      <td>Axis &amp; Allies</td>\n",
       "      <td>2004</td>\n",
       "      <td>1279</td>\n",
       "      <td>6.70</td>\n",
       "      <td>6.346</td>\n",
       "      <td>5739</td>\n",
       "      <td>/boardgame/10093/axis-allies</td>\n",
       "      <td>https://cf.geekdo-images.com/micro/img/mfACHF9...</td>\n",
       "    </tr>\n",
       "    <tr>\n",
       "      <th>566</th>\n",
       "      <td>337</td>\n",
       "      <td>18833</td>\n",
       "      <td>Lord of the Rings: The Confrontation</td>\n",
       "      <td>2005</td>\n",
       "      <td>338</td>\n",
       "      <td>7.48</td>\n",
       "      <td>7.046</td>\n",
       "      <td>5520</td>\n",
       "      <td>/boardgame/18833/lord-rings-confrontation</td>\n",
       "      <td>https://cf.geekdo-images.com/micro/img/HZUZDcX...</td>\n",
       "    </tr>\n",
       "    <tr>\n",
       "      <th>789</th>\n",
       "      <td>1052</td>\n",
       "      <td>15</td>\n",
       "      <td>Cosmic Encounter</td>\n",
       "      <td>1977</td>\n",
       "      <td>1053</td>\n",
       "      <td>6.91</td>\n",
       "      <td>6.463</td>\n",
       "      <td>3819</td>\n",
       "      <td>/boardgame/15/cosmic-encounter</td>\n",
       "      <td>https://cf.geekdo-images.com/micro/img/7Ee6BKk...</td>\n",
       "    </tr>\n",
       "    <tr>\n",
       "      <th>1395</th>\n",
       "      <td>445</td>\n",
       "      <td>283355</td>\n",
       "      <td>Dune</td>\n",
       "      <td>2019</td>\n",
       "      <td>446</td>\n",
       "      <td>8.23</td>\n",
       "      <td>6.935</td>\n",
       "      <td>2063</td>\n",
       "      <td>/boardgame/283355/dune</td>\n",
       "      <td>https://cf.geekdo-images.com/micro/img/0CtMLWI...</td>\n",
       "    </tr>\n",
       "  </tbody>\n",
       "</table>\n",
       "</div>"
      ],
      "text/plain": [
       "      unnamed: 0  ...                                          thumbnail\n",
       "501          468  ...  https://cf.geekdo-images.com/micro/img/RFC2Af9...\n",
       "538         1278  ...  https://cf.geekdo-images.com/micro/img/mfACHF9...\n",
       "566          337  ...  https://cf.geekdo-images.com/micro/img/HZUZDcX...\n",
       "789         1052  ...  https://cf.geekdo-images.com/micro/img/7Ee6BKk...\n",
       "1395         445  ...  https://cf.geekdo-images.com/micro/img/0CtMLWI...\n",
       "\n",
       "[5 rows x 10 columns]"
      ]
     },
     "execution_count": 10,
     "metadata": {
      "tags": []
     },
     "output_type": "execute_result"
    }
   ],
   "source": [
    "# Check for duplicated name\n",
    "bgames[bgames['name'].duplicated()].head()"
   ]
  },
  {
   "cell_type": "code",
   "execution_count": 11,
   "metadata": {
    "colab": {
     "base_uri": "https://localhost:8080/",
     "height": 160
    },
    "executionInfo": {
     "elapsed": 1087,
     "status": "ok",
     "timestamp": 1602489247611,
     "user": {
      "displayName": "xing wei chia",
      "photoUrl": "",
      "userId": "07433573390488668056"
     },
     "user_tz": -480
    },
    "id": "nQdYV80ppvuB",
    "outputId": "9e6ef34a-7676-4367-8726-81a9c380c673"
   },
   "outputs": [
    {
     "data": {
      "text/html": [
       "<div>\n",
       "<style scoped>\n",
       "    .dataframe tbody tr th:only-of-type {\n",
       "        vertical-align: middle;\n",
       "    }\n",
       "\n",
       "    .dataframe tbody tr th {\n",
       "        vertical-align: top;\n",
       "    }\n",
       "\n",
       "    .dataframe thead th {\n",
       "        text-align: right;\n",
       "    }\n",
       "</style>\n",
       "<table border=\"1\" class=\"dataframe\">\n",
       "  <thead>\n",
       "    <tr style=\"text-align: right;\">\n",
       "      <th></th>\n",
       "      <th>unnamed: 0</th>\n",
       "      <th>id</th>\n",
       "      <th>name</th>\n",
       "      <th>year</th>\n",
       "      <th>rank</th>\n",
       "      <th>average</th>\n",
       "      <th>bayes average</th>\n",
       "      <th>users rated</th>\n",
       "      <th>url</th>\n",
       "      <th>thumbnail</th>\n",
       "    </tr>\n",
       "  </thead>\n",
       "  <tbody>\n",
       "    <tr>\n",
       "      <th>19</th>\n",
       "      <td>393</td>\n",
       "      <td>478</td>\n",
       "      <td>Citadels</td>\n",
       "      <td>2000</td>\n",
       "      <td>394</td>\n",
       "      <td>7.09</td>\n",
       "      <td>6.984</td>\n",
       "      <td>46895</td>\n",
       "      <td>/boardgame/478/citadels</td>\n",
       "      <td>https://cf.geekdo-images.com/micro/img/gpoesw1...</td>\n",
       "    </tr>\n",
       "    <tr>\n",
       "      <th>501</th>\n",
       "      <td>468</td>\n",
       "      <td>205398</td>\n",
       "      <td>Citadels</td>\n",
       "      <td>2016</td>\n",
       "      <td>469</td>\n",
       "      <td>7.33</td>\n",
       "      <td>6.913</td>\n",
       "      <td>6369</td>\n",
       "      <td>/boardgame/205398/citadels</td>\n",
       "      <td>https://cf.geekdo-images.com/micro/img/RFC2Af9...</td>\n",
       "    </tr>\n",
       "  </tbody>\n",
       "</table>\n",
       "</div>"
      ],
      "text/plain": [
       "     unnamed: 0  ...                                          thumbnail\n",
       "19          393  ...  https://cf.geekdo-images.com/micro/img/gpoesw1...\n",
       "501         468  ...  https://cf.geekdo-images.com/micro/img/RFC2Af9...\n",
       "\n",
       "[2 rows x 10 columns]"
      ]
     },
     "execution_count": 11,
     "metadata": {
      "tags": []
     },
     "output_type": "execute_result"
    }
   ],
   "source": [
    "bgames[bgames['name']=='Citadels']"
   ]
  },
  {
   "cell_type": "markdown",
   "metadata": {
    "id": "Qb4NB4dko6W1"
   },
   "source": [
    "Note: \n",
    "- There are some game with same name but published in different year, thus have duplicated but no null value"
   ]
  },
  {
   "cell_type": "markdown",
   "metadata": {
    "id": "LnfzAyhepAIz"
   },
   "source": [
    "# Board Game Details"
   ]
  },
  {
   "cell_type": "code",
   "execution_count": 12,
   "metadata": {
    "colab": {
     "base_uri": "https://localhost:8080/",
     "height": 561
    },
    "executionInfo": {
     "elapsed": 12959,
     "status": "ok",
     "timestamp": 1602489263483,
     "user": {
      "displayName": "xing wei chia",
      "photoUrl": "",
      "userId": "07433573390488668056"
     },
     "user_tz": -480
    },
    "id": "Q2DZTdEKpBW8",
    "outputId": "750e5e6e-dffc-4576-efbd-cff8fa3cfd32",
    "scrolled": true
   },
   "outputs": [
    {
     "data": {
      "text/html": [
       "<div>\n",
       "<style scoped>\n",
       "    .dataframe tbody tr th:only-of-type {\n",
       "        vertical-align: middle;\n",
       "    }\n",
       "\n",
       "    .dataframe tbody tr th {\n",
       "        vertical-align: top;\n",
       "    }\n",
       "\n",
       "    .dataframe thead th {\n",
       "        text-align: right;\n",
       "    }\n",
       "</style>\n",
       "<table border=\"1\" class=\"dataframe\">\n",
       "  <thead>\n",
       "    <tr style=\"text-align: right;\">\n",
       "      <th></th>\n",
       "      <th>Unnamed: 0</th>\n",
       "      <th>type</th>\n",
       "      <th>id</th>\n",
       "      <th>thumbnail</th>\n",
       "      <th>image</th>\n",
       "      <th>primary</th>\n",
       "      <th>alternate</th>\n",
       "      <th>description</th>\n",
       "      <th>yearpublished</th>\n",
       "      <th>minplayers</th>\n",
       "      <th>maxplayers</th>\n",
       "      <th>suggested_num_players</th>\n",
       "      <th>suggested_playerage</th>\n",
       "      <th>suggested_language_dependence</th>\n",
       "      <th>playingtime</th>\n",
       "      <th>minplaytime</th>\n",
       "      <th>maxplaytime</th>\n",
       "      <th>minage</th>\n",
       "      <th>boardgamecategory</th>\n",
       "      <th>boardgamemechanic</th>\n",
       "      <th>boardgamefamily</th>\n",
       "      <th>boardgameexpansion</th>\n",
       "      <th>boardgameimplementation</th>\n",
       "      <th>boardgamedesigner</th>\n",
       "      <th>boardgameartist</th>\n",
       "      <th>boardgamepublisher</th>\n",
       "      <th>usersrated</th>\n",
       "      <th>average</th>\n",
       "      <th>bayesaverage</th>\n",
       "      <th>Board Game Rank</th>\n",
       "      <th>Strategy Game Rank</th>\n",
       "      <th>Family Game Rank</th>\n",
       "      <th>stddev</th>\n",
       "      <th>median</th>\n",
       "      <th>owned</th>\n",
       "      <th>trading</th>\n",
       "      <th>wanting</th>\n",
       "      <th>wishing</th>\n",
       "      <th>numcomments</th>\n",
       "      <th>numweights</th>\n",
       "      <th>averageweight</th>\n",
       "      <th>boardgameintegration</th>\n",
       "      <th>boardgamecompilation</th>\n",
       "      <th>Party Game Rank</th>\n",
       "      <th>Abstract Game Rank</th>\n",
       "      <th>Thematic Rank</th>\n",
       "      <th>War Game Rank</th>\n",
       "      <th>Customizable Rank</th>\n",
       "      <th>Children's Game Rank</th>\n",
       "      <th>RPG Item Rank</th>\n",
       "      <th>Accessory Rank</th>\n",
       "      <th>Video Game Rank</th>\n",
       "      <th>Amiga Rank</th>\n",
       "      <th>Commodore 64 Rank</th>\n",
       "      <th>Arcade Rank</th>\n",
       "      <th>Atari ST Rank</th>\n",
       "    </tr>\n",
       "  </thead>\n",
       "  <tbody>\n",
       "    <tr>\n",
       "      <th>0</th>\n",
       "      <td>0</td>\n",
       "      <td>boardgame</td>\n",
       "      <td>30549</td>\n",
       "      <td>https://cf.geekdo-images.com/thumb/img/HEKrtpT...</td>\n",
       "      <td>https://cf.geekdo-images.com/original/img/j-pf...</td>\n",
       "      <td>Pandemic</td>\n",
       "      <td>['EPIZOotic', 'Pandemia', 'Pandemia 10 Anivers...</td>\n",
       "      <td>In Pandemic, several virulent diseases have br...</td>\n",
       "      <td>2008</td>\n",
       "      <td>2</td>\n",
       "      <td>4</td>\n",
       "      <td>[OrderedDict([('@numplayers', '1'), ('result',...</td>\n",
       "      <td>[OrderedDict([('@value', '2'), ('@numvotes', '...</td>\n",
       "      <td>[OrderedDict([('@level', '16'), ('@value', 'No...</td>\n",
       "      <td>45</td>\n",
       "      <td>45</td>\n",
       "      <td>45</td>\n",
       "      <td>8</td>\n",
       "      <td>['Medical']</td>\n",
       "      <td>['Action Points', 'Cooperative Game', 'Hand Ma...</td>\n",
       "      <td>['Game: Pandemic', 'Medical: Diseases', 'Occup...</td>\n",
       "      <td>['Pandemic: Gen Con 2016 Promos – Z-Force Team...</td>\n",
       "      <td>['Pandemic Legacy: Season 0', 'Pandemic Legacy...</td>\n",
       "      <td>['Matt Leacock']</td>\n",
       "      <td>['Josh Cappel', 'Christian Hanisch', 'Régis Mo...</td>\n",
       "      <td>['Z-Man Games, Inc.', '(Unknown)', 'Albi', 'As...</td>\n",
       "      <td>96241</td>\n",
       "      <td>7.61567</td>\n",
       "      <td>7.51795</td>\n",
       "      <td>91</td>\n",
       "      <td>104.0</td>\n",
       "      <td>10.0</td>\n",
       "      <td>1.32632</td>\n",
       "      <td>0</td>\n",
       "      <td>144727</td>\n",
       "      <td>2191</td>\n",
       "      <td>640</td>\n",
       "      <td>8571</td>\n",
       "      <td>15778</td>\n",
       "      <td>5232</td>\n",
       "      <td>2.4148</td>\n",
       "      <td>NaN</td>\n",
       "      <td>NaN</td>\n",
       "      <td>NaN</td>\n",
       "      <td>NaN</td>\n",
       "      <td>NaN</td>\n",
       "      <td>NaN</td>\n",
       "      <td>NaN</td>\n",
       "      <td>NaN</td>\n",
       "      <td>NaN</td>\n",
       "      <td>NaN</td>\n",
       "      <td>NaN</td>\n",
       "      <td>NaN</td>\n",
       "      <td>NaN</td>\n",
       "      <td>NaN</td>\n",
       "      <td>NaN</td>\n",
       "    </tr>\n",
       "    <tr>\n",
       "      <th>1</th>\n",
       "      <td>1</td>\n",
       "      <td>boardgame</td>\n",
       "      <td>822</td>\n",
       "      <td>https://cf.geekdo-images.com/thumb/img/kqE4YJS...</td>\n",
       "      <td>https://cf.geekdo-images.com/original/img/o4p6...</td>\n",
       "      <td>Carcassonne</td>\n",
       "      <td>['Carcassonne Jubilee Edition', 'Carcassonne: ...</td>\n",
       "      <td>Carcassonne is a tile-placement game in which ...</td>\n",
       "      <td>2000</td>\n",
       "      <td>2</td>\n",
       "      <td>5</td>\n",
       "      <td>[OrderedDict([('@numplayers', '1'), ('result',...</td>\n",
       "      <td>[OrderedDict([('@value', '2'), ('@numvotes', '...</td>\n",
       "      <td>[OrderedDict([('@level', '41'), ('@value', 'No...</td>\n",
       "      <td>45</td>\n",
       "      <td>30</td>\n",
       "      <td>45</td>\n",
       "      <td>7</td>\n",
       "      <td>['City Building', 'Medieval', 'Territory Build...</td>\n",
       "      <td>['Area Majority / Influence', 'Map Addition', ...</td>\n",
       "      <td>['Components: Black meeples', 'Components: Blu...</td>\n",
       "      <td>['20 Jahre Darmstadt Spielt', 'Apothecaries An...</td>\n",
       "      <td>['The Ark of the Covenant', 'Carcassonne: Amaz...</td>\n",
       "      <td>['Klaus-Jürgen Wrede']</td>\n",
       "      <td>['Doris Matthäus', 'Anne Pätzke', 'Chris Quill...</td>\n",
       "      <td>['Hans im Glück', '999 Games', 'Albi', 'Bard C...</td>\n",
       "      <td>96228</td>\n",
       "      <td>7.41884</td>\n",
       "      <td>7.31105</td>\n",
       "      <td>173</td>\n",
       "      <td>NaN</td>\n",
       "      <td>34.0</td>\n",
       "      <td>1.30369</td>\n",
       "      <td>0</td>\n",
       "      <td>140066</td>\n",
       "      <td>1587</td>\n",
       "      <td>539</td>\n",
       "      <td>6286</td>\n",
       "      <td>17720</td>\n",
       "      <td>7304</td>\n",
       "      <td>1.9158</td>\n",
       "      <td>['Carcassonne: Wheel of Fortune']</td>\n",
       "      <td>['Carcassonne Big Box', 'Carcassonne Big Box 2...</td>\n",
       "      <td>NaN</td>\n",
       "      <td>NaN</td>\n",
       "      <td>NaN</td>\n",
       "      <td>NaN</td>\n",
       "      <td>NaN</td>\n",
       "      <td>NaN</td>\n",
       "      <td>NaN</td>\n",
       "      <td>NaN</td>\n",
       "      <td>NaN</td>\n",
       "      <td>NaN</td>\n",
       "      <td>NaN</td>\n",
       "      <td>NaN</td>\n",
       "      <td>NaN</td>\n",
       "    </tr>\n",
       "    <tr>\n",
       "      <th>2</th>\n",
       "      <td>2</td>\n",
       "      <td>boardgame</td>\n",
       "      <td>13</td>\n",
       "      <td>https://cf.geekdo-images.com/thumb/img/g8LvJsd...</td>\n",
       "      <td>https://cf.geekdo-images.com/original/img/A-0y...</td>\n",
       "      <td>Catan</td>\n",
       "      <td>['CATAN', 'Catan (Колонизаторы)', 'Catan telep...</td>\n",
       "      <td>In Catan (formerly The Settlers of Catan), pla...</td>\n",
       "      <td>1995</td>\n",
       "      <td>3</td>\n",
       "      <td>4</td>\n",
       "      <td>[OrderedDict([('@numplayers', '1'), ('result',...</td>\n",
       "      <td>[OrderedDict([('@value', '2'), ('@numvotes', '...</td>\n",
       "      <td>[OrderedDict([('@level', '226'), ('@value', 'N...</td>\n",
       "      <td>120</td>\n",
       "      <td>60</td>\n",
       "      <td>120</td>\n",
       "      <td>10</td>\n",
       "      <td>['Economic', 'Negotiation']</td>\n",
       "      <td>['Dice Rolling', 'Hexagon Grid', 'Income', 'Mo...</td>\n",
       "      <td>['Game: Catan', 'Promotional: Promo Board Games']</td>\n",
       "      <td>['20 Jahre Darmstadt Spielt', 'Brettspiel Adve...</td>\n",
       "      <td>['Baden-Württemberg Catan', \"CATAN 3D Collecto...</td>\n",
       "      <td>['Klaus Teuber']</td>\n",
       "      <td>['Volkan Baga', 'Tanja Donner', 'Pete Fenlon',...</td>\n",
       "      <td>['KOSMOS', '999 Games', 'Albi', 'Astrel Games'...</td>\n",
       "      <td>96213</td>\n",
       "      <td>7.16265</td>\n",
       "      <td>7.00045</td>\n",
       "      <td>381</td>\n",
       "      <td>348.0</td>\n",
       "      <td>108.0</td>\n",
       "      <td>1.47908</td>\n",
       "      <td>0</td>\n",
       "      <td>144656</td>\n",
       "      <td>1825</td>\n",
       "      <td>474</td>\n",
       "      <td>5310</td>\n",
       "      <td>17859</td>\n",
       "      <td>7187</td>\n",
       "      <td>2.3264</td>\n",
       "      <td>NaN</td>\n",
       "      <td>[\"CATAN 3D Collector's Edition\", 'Catan: 25 Ja...</td>\n",
       "      <td>NaN</td>\n",
       "      <td>NaN</td>\n",
       "      <td>NaN</td>\n",
       "      <td>NaN</td>\n",
       "      <td>NaN</td>\n",
       "      <td>NaN</td>\n",
       "      <td>NaN</td>\n",
       "      <td>NaN</td>\n",
       "      <td>NaN</td>\n",
       "      <td>NaN</td>\n",
       "      <td>NaN</td>\n",
       "      <td>NaN</td>\n",
       "      <td>NaN</td>\n",
       "    </tr>\n",
       "    <tr>\n",
       "      <th>3</th>\n",
       "      <td>3</td>\n",
       "      <td>boardgame</td>\n",
       "      <td>68448</td>\n",
       "      <td>https://cf.geekdo-images.com/thumb/img/Grz-qM9...</td>\n",
       "      <td>https://cf.geekdo-images.com/original/img/3DP_...</td>\n",
       "      <td>7 Wonders</td>\n",
       "      <td>['7 csoda', '7 Cudów Świata', '7 divů světa', ...</td>\n",
       "      <td>You are the leader of one of the 7 great citie...</td>\n",
       "      <td>2010</td>\n",
       "      <td>2</td>\n",
       "      <td>7</td>\n",
       "      <td>[OrderedDict([('@numplayers', '1'), ('result',...</td>\n",
       "      <td>[OrderedDict([('@value', '2'), ('@numvotes', '...</td>\n",
       "      <td>[OrderedDict([('@level', '1'), ('@value', 'No ...</td>\n",
       "      <td>30</td>\n",
       "      <td>30</td>\n",
       "      <td>30</td>\n",
       "      <td>10</td>\n",
       "      <td>['Ancient', 'Card Game', 'City Building', 'Civ...</td>\n",
       "      <td>['Card Drafting', 'Drafting', 'Hand Management...</td>\n",
       "      <td>['Game: 7 Wonders', 'Mechanic: Tableau Building']</td>\n",
       "      <td>['7 Wonders: Armada', '7 Wonders: Babel', '7 W...</td>\n",
       "      <td>['7 Wonders (Second Edition)', '7 Wonders Duel']</td>\n",
       "      <td>['Antoine Bauza']</td>\n",
       "      <td>['Antoine Bauza', 'Miguel Coimbra']</td>\n",
       "      <td>['Repos Production', 'ADC Blackfire Entertainm...</td>\n",
       "      <td>79873</td>\n",
       "      <td>7.76049</td>\n",
       "      <td>7.66214</td>\n",
       "      <td>51</td>\n",
       "      <td>58.0</td>\n",
       "      <td>6.0</td>\n",
       "      <td>1.27618</td>\n",
       "      <td>0</td>\n",
       "      <td>106137</td>\n",
       "      <td>1393</td>\n",
       "      <td>1044</td>\n",
       "      <td>10875</td>\n",
       "      <td>13304</td>\n",
       "      <td>4423</td>\n",
       "      <td>2.3321</td>\n",
       "      <td>NaN</td>\n",
       "      <td>NaN</td>\n",
       "      <td>NaN</td>\n",
       "      <td>NaN</td>\n",
       "      <td>NaN</td>\n",
       "      <td>NaN</td>\n",
       "      <td>NaN</td>\n",
       "      <td>NaN</td>\n",
       "      <td>NaN</td>\n",
       "      <td>NaN</td>\n",
       "      <td>NaN</td>\n",
       "      <td>NaN</td>\n",
       "      <td>NaN</td>\n",
       "      <td>NaN</td>\n",
       "      <td>NaN</td>\n",
       "    </tr>\n",
       "    <tr>\n",
       "      <th>4</th>\n",
       "      <td>4</td>\n",
       "      <td>boardgame</td>\n",
       "      <td>36218</td>\n",
       "      <td>https://cf.geekdo-images.com/thumb/img/iPlTR5c...</td>\n",
       "      <td>https://cf.geekdo-images.com/original/img/oN8C...</td>\n",
       "      <td>Dominion</td>\n",
       "      <td>['Dominion: Basisspiel', 'Dominion: In naam va...</td>\n",
       "      <td>&amp;quot;You are a monarch, like your parents bef...</td>\n",
       "      <td>2008</td>\n",
       "      <td>2</td>\n",
       "      <td>4</td>\n",
       "      <td>[OrderedDict([('@numplayers', '1'), ('result',...</td>\n",
       "      <td>[OrderedDict([('@value', '2'), ('@numvotes', '...</td>\n",
       "      <td>[OrderedDict([('@level', '31'), ('@value', 'No...</td>\n",
       "      <td>30</td>\n",
       "      <td>30</td>\n",
       "      <td>30</td>\n",
       "      <td>13</td>\n",
       "      <td>['Card Game', 'Medieval']</td>\n",
       "      <td>['Deck, Bag, and Pool Building', 'Delayed Purc...</td>\n",
       "      <td>['Crowdfunding: Wspieram', 'Game: Dominion', '...</td>\n",
       "      <td>['Ancient Times (Fan Expansion for Dominion)',...</td>\n",
       "      <td>['Dominion (Second Edition)', 'Het Koninkrijk ...</td>\n",
       "      <td>['Donald X. Vaccarino']</td>\n",
       "      <td>['Matthias Catrein', 'Julien Delval', 'Tomasz ...</td>\n",
       "      <td>['Rio Grande Games', '999 Games', 'Albi', 'Bar...</td>\n",
       "      <td>74959</td>\n",
       "      <td>7.62671</td>\n",
       "      <td>7.52038</td>\n",
       "      <td>89</td>\n",
       "      <td>89.0</td>\n",
       "      <td>NaN</td>\n",
       "      <td>1.42504</td>\n",
       "      <td>0</td>\n",
       "      <td>97736</td>\n",
       "      <td>1897</td>\n",
       "      <td>637</td>\n",
       "      <td>7607</td>\n",
       "      <td>13008</td>\n",
       "      <td>4850</td>\n",
       "      <td>2.3586</td>\n",
       "      <td>['Dominion: Intrigue']</td>\n",
       "      <td>['Dominion Big Box (English)', 'Dominion Big B...</td>\n",
       "      <td>NaN</td>\n",
       "      <td>NaN</td>\n",
       "      <td>NaN</td>\n",
       "      <td>NaN</td>\n",
       "      <td>NaN</td>\n",
       "      <td>NaN</td>\n",
       "      <td>NaN</td>\n",
       "      <td>NaN</td>\n",
       "      <td>NaN</td>\n",
       "      <td>NaN</td>\n",
       "      <td>NaN</td>\n",
       "      <td>NaN</td>\n",
       "      <td>NaN</td>\n",
       "    </tr>\n",
       "  </tbody>\n",
       "</table>\n",
       "</div>"
      ],
      "text/plain": [
       "   Unnamed: 0       type     id  ... Commodore 64 Rank Arcade Rank Atari ST Rank\n",
       "0           0  boardgame  30549  ...               NaN         NaN           NaN\n",
       "1           1  boardgame    822  ...               NaN         NaN           NaN\n",
       "2           2  boardgame     13  ...               NaN         NaN           NaN\n",
       "3           3  boardgame  68448  ...               NaN         NaN           NaN\n",
       "4           4  boardgame  36218  ...               NaN         NaN           NaN\n",
       "\n",
       "[5 rows x 56 columns]"
      ]
     },
     "execution_count": 12,
     "metadata": {
      "tags": []
     },
     "output_type": "execute_result"
    }
   ],
   "source": [
    "bg_detail = pd.read_csv(file + 'games_detailed_info.csv')\n",
    "bg_detail.head()"
   ]
  },
  {
   "cell_type": "code",
   "execution_count": 13,
   "metadata": {
    "colab": {
     "base_uri": "https://localhost:8080/",
     "height": 1000
    },
    "executionInfo": {
     "elapsed": 1105,
     "status": "ok",
     "timestamp": 1602489296782,
     "user": {
      "displayName": "xing wei chia",
      "photoUrl": "",
      "userId": "07433573390488668056"
     },
     "user_tz": -480
    },
    "id": "I8zyFgnXpFXV",
    "outputId": "daacd3c9-af4d-4e3f-a29e-5e56021969b7",
    "scrolled": true
   },
   "outputs": [
    {
     "name": "stdout",
     "output_type": "stream",
     "text": [
      "<class 'pandas.core.frame.DataFrame'>\n",
      "RangeIndex: 19230 entries, 0 to 19229\n",
      "Data columns (total 56 columns):\n",
      " #   Column                         Non-Null Count  Dtype  \n",
      "---  ------                         --------------  -----  \n",
      " 0   Unnamed: 0                     19230 non-null  int64  \n",
      " 1   type                           19230 non-null  object \n",
      " 2   id                             19230 non-null  int64  \n",
      " 3   thumbnail                      19211 non-null  object \n",
      " 4   image                          19211 non-null  object \n",
      " 5   primary                        19230 non-null  object \n",
      " 6   alternate                      7685 non-null   object \n",
      " 7   description                    19229 non-null  object \n",
      " 8   yearpublished                  19230 non-null  int64  \n",
      " 9   minplayers                     19230 non-null  int64  \n",
      " 10  maxplayers                     19230 non-null  int64  \n",
      " 11  suggested_num_players          19230 non-null  object \n",
      " 12  suggested_playerage            16884 non-null  object \n",
      " 13  suggested_language_dependence  16645 non-null  object \n",
      " 14  playingtime                    19230 non-null  int64  \n",
      " 15  minplaytime                    19230 non-null  int64  \n",
      " 16  maxplaytime                    19230 non-null  int64  \n",
      " 17  minage                         19230 non-null  int64  \n",
      " 18  boardgamecategory              19009 non-null  object \n",
      " 19  boardgamemechanic              17681 non-null  object \n",
      " 20  boardgamefamily                14743 non-null  object \n",
      " 21  boardgameexpansion             4784 non-null   object \n",
      " 22  boardgameimplementation        4091 non-null   object \n",
      " 23  boardgamedesigner              18800 non-null  object \n",
      " 24  boardgameartist                13833 non-null  object \n",
      " 25  boardgamepublisher             19230 non-null  object \n",
      " 26  usersrated                     19230 non-null  int64  \n",
      " 27  average                        19230 non-null  float64\n",
      " 28  bayesaverage                   19230 non-null  float64\n",
      " 29  Board Game Rank                19230 non-null  int64  \n",
      " 30  Strategy Game Rank             2075 non-null   float64\n",
      " 31  Family Game Rank               2001 non-null   float64\n",
      " 32  stddev                         19230 non-null  float64\n",
      " 33  median                         19230 non-null  int64  \n",
      " 34  owned                          19230 non-null  int64  \n",
      " 35  trading                        19230 non-null  int64  \n",
      " 36  wanting                        19230 non-null  int64  \n",
      " 37  wishing                        19230 non-null  int64  \n",
      " 38  numcomments                    19230 non-null  int64  \n",
      " 39  numweights                     19230 non-null  int64  \n",
      " 40  averageweight                  19230 non-null  float64\n",
      " 41  boardgameintegration           1418 non-null   object \n",
      " 42  boardgamecompilation           694 non-null    object \n",
      " 43  Party Game Rank                582 non-null    float64\n",
      " 44  Abstract Game Rank             1026 non-null   float64\n",
      " 45  Thematic Rank                  1125 non-null   float64\n",
      " 46  War Game Rank                  3213 non-null   float64\n",
      " 47  Customizable Rank              289 non-null    float64\n",
      " 48  Children's Game Rank           810 non-null    float64\n",
      " 49  RPG Item Rank                  1 non-null      float64\n",
      " 50  Accessory Rank                 1 non-null      float64\n",
      " 51  Video Game Rank                1 non-null      float64\n",
      " 52  Amiga Rank                     1 non-null      float64\n",
      " 53  Commodore 64 Rank              1 non-null      float64\n",
      " 54  Arcade Rank                    1 non-null      float64\n",
      " 55  Atari ST Rank                  1 non-null      float64\n",
      "dtypes: float64(19), int64(18), object(19)\n",
      "memory usage: 8.2+ MB\n"
     ]
    }
   ],
   "source": [
    "bg_detail.info()"
   ]
  },
  {
   "cell_type": "code",
   "execution_count": 14,
   "metadata": {
    "colab": {
     "base_uri": "https://localhost:8080/",
     "height": 1000
    },
    "executionInfo": {
     "elapsed": 1290,
     "status": "ok",
     "timestamp": 1602489300655,
     "user": {
      "displayName": "xing wei chia",
      "photoUrl": "",
      "userId": "07433573390488668056"
     },
     "user_tz": -480
    },
    "id": "qxH9VgG4pfG6",
    "outputId": "912124f9-1e5e-46cc-868e-9494c3f5273c",
    "scrolled": true
   },
   "outputs": [
    {
     "data": {
      "text/html": [
       "<div>\n",
       "<style scoped>\n",
       "    .dataframe tbody tr th:only-of-type {\n",
       "        vertical-align: middle;\n",
       "    }\n",
       "\n",
       "    .dataframe tbody tr th {\n",
       "        vertical-align: top;\n",
       "    }\n",
       "\n",
       "    .dataframe thead th {\n",
       "        text-align: right;\n",
       "    }\n",
       "</style>\n",
       "<table border=\"1\" class=\"dataframe\">\n",
       "  <thead>\n",
       "    <tr style=\"text-align: right;\">\n",
       "      <th></th>\n",
       "      <th>count</th>\n",
       "      <th>mean</th>\n",
       "      <th>std</th>\n",
       "      <th>min</th>\n",
       "      <th>25%</th>\n",
       "      <th>50%</th>\n",
       "      <th>75%</th>\n",
       "      <th>max</th>\n",
       "    </tr>\n",
       "  </thead>\n",
       "  <tbody>\n",
       "    <tr>\n",
       "      <th>Unnamed: 0</th>\n",
       "      <td>19230.0</td>\n",
       "      <td>9614.500000</td>\n",
       "      <td>5551.367174</td>\n",
       "      <td>0.000000</td>\n",
       "      <td>4807.250000</td>\n",
       "      <td>9614.50000</td>\n",
       "      <td>14421.750000</td>\n",
       "      <td>19229.00000</td>\n",
       "    </tr>\n",
       "    <tr>\n",
       "      <th>id</th>\n",
       "      <td>19230.0</td>\n",
       "      <td>101482.306032</td>\n",
       "      <td>94272.241105</td>\n",
       "      <td>1.000000</td>\n",
       "      <td>10213.250000</td>\n",
       "      <td>72758.50000</td>\n",
       "      <td>182275.500000</td>\n",
       "      <td>314040.00000</td>\n",
       "    </tr>\n",
       "    <tr>\n",
       "      <th>yearpublished</th>\n",
       "      <td>19230.0</td>\n",
       "      <td>1984.083515</td>\n",
       "      <td>212.855292</td>\n",
       "      <td>-3500.000000</td>\n",
       "      <td>2000.000000</td>\n",
       "      <td>2010.00000</td>\n",
       "      <td>2016.000000</td>\n",
       "      <td>2021.00000</td>\n",
       "    </tr>\n",
       "    <tr>\n",
       "      <th>minplayers</th>\n",
       "      <td>19230.0</td>\n",
       "      <td>2.028913</td>\n",
       "      <td>0.685728</td>\n",
       "      <td>0.000000</td>\n",
       "      <td>2.000000</td>\n",
       "      <td>2.00000</td>\n",
       "      <td>2.000000</td>\n",
       "      <td>10.00000</td>\n",
       "    </tr>\n",
       "    <tr>\n",
       "      <th>maxplayers</th>\n",
       "      <td>19230.0</td>\n",
       "      <td>5.618253</td>\n",
       "      <td>15.372052</td>\n",
       "      <td>0.000000</td>\n",
       "      <td>4.000000</td>\n",
       "      <td>4.00000</td>\n",
       "      <td>6.000000</td>\n",
       "      <td>999.00000</td>\n",
       "    </tr>\n",
       "    <tr>\n",
       "      <th>playingtime</th>\n",
       "      <td>19230.0</td>\n",
       "      <td>96.594800</td>\n",
       "      <td>1025.842077</td>\n",
       "      <td>0.000000</td>\n",
       "      <td>30.000000</td>\n",
       "      <td>45.00000</td>\n",
       "      <td>90.000000</td>\n",
       "      <td>120000.00000</td>\n",
       "    </tr>\n",
       "    <tr>\n",
       "      <th>minplaytime</th>\n",
       "      <td>19230.0</td>\n",
       "      <td>66.622933</td>\n",
       "      <td>473.585168</td>\n",
       "      <td>0.000000</td>\n",
       "      <td>20.000000</td>\n",
       "      <td>30.00000</td>\n",
       "      <td>60.000000</td>\n",
       "      <td>60000.00000</td>\n",
       "    </tr>\n",
       "    <tr>\n",
       "      <th>maxplaytime</th>\n",
       "      <td>19230.0</td>\n",
       "      <td>96.594800</td>\n",
       "      <td>1025.842077</td>\n",
       "      <td>0.000000</td>\n",
       "      <td>30.000000</td>\n",
       "      <td>45.00000</td>\n",
       "      <td>90.000000</td>\n",
       "      <td>120000.00000</td>\n",
       "    </tr>\n",
       "    <tr>\n",
       "      <th>minage</th>\n",
       "      <td>19230.0</td>\n",
       "      <td>9.603016</td>\n",
       "      <td>3.631453</td>\n",
       "      <td>0.000000</td>\n",
       "      <td>8.000000</td>\n",
       "      <td>10.00000</td>\n",
       "      <td>12.000000</td>\n",
       "      <td>25.00000</td>\n",
       "    </tr>\n",
       "    <tr>\n",
       "      <th>usersrated</th>\n",
       "      <td>19230.0</td>\n",
       "      <td>822.717161</td>\n",
       "      <td>3379.271776</td>\n",
       "      <td>30.000000</td>\n",
       "      <td>56.000000</td>\n",
       "      <td>120.00000</td>\n",
       "      <td>381.750000</td>\n",
       "      <td>96241.00000</td>\n",
       "    </tr>\n",
       "    <tr>\n",
       "      <th>average</th>\n",
       "      <td>19230.0</td>\n",
       "      <td>6.392653</td>\n",
       "      <td>0.929939</td>\n",
       "      <td>1.048440</td>\n",
       "      <td>5.806900</td>\n",
       "      <td>6.42035</td>\n",
       "      <td>7.010558</td>\n",
       "      <td>9.68750</td>\n",
       "    </tr>\n",
       "    <tr>\n",
       "      <th>bayesaverage</th>\n",
       "      <td>19230.0</td>\n",
       "      <td>5.689886</td>\n",
       "      <td>0.370425</td>\n",
       "      <td>3.535930</td>\n",
       "      <td>5.510853</td>\n",
       "      <td>5.55031</td>\n",
       "      <td>5.688070</td>\n",
       "      <td>8.56858</td>\n",
       "    </tr>\n",
       "    <tr>\n",
       "      <th>Board Game Rank</th>\n",
       "      <td>19230.0</td>\n",
       "      <td>9646.834997</td>\n",
       "      <td>5588.107451</td>\n",
       "      <td>1.000000</td>\n",
       "      <td>4808.250000</td>\n",
       "      <td>9618.50000</td>\n",
       "      <td>14485.750000</td>\n",
       "      <td>19345.00000</td>\n",
       "    </tr>\n",
       "    <tr>\n",
       "      <th>Strategy Game Rank</th>\n",
       "      <td>2075.0</td>\n",
       "      <td>1038.000000</td>\n",
       "      <td>599.145224</td>\n",
       "      <td>1.000000</td>\n",
       "      <td>519.500000</td>\n",
       "      <td>1038.00000</td>\n",
       "      <td>1556.500000</td>\n",
       "      <td>2075.00000</td>\n",
       "    </tr>\n",
       "    <tr>\n",
       "      <th>Family Game Rank</th>\n",
       "      <td>2001.0</td>\n",
       "      <td>1001.096952</td>\n",
       "      <td>577.935002</td>\n",
       "      <td>1.000000</td>\n",
       "      <td>501.000000</td>\n",
       "      <td>1001.00000</td>\n",
       "      <td>1501.000000</td>\n",
       "      <td>2002.00000</td>\n",
       "    </tr>\n",
       "    <tr>\n",
       "      <th>stddev</th>\n",
       "      <td>19230.0</td>\n",
       "      <td>1.513299</td>\n",
       "      <td>0.286779</td>\n",
       "      <td>0.211388</td>\n",
       "      <td>1.318545</td>\n",
       "      <td>1.47496</td>\n",
       "      <td>1.657758</td>\n",
       "      <td>4.26273</td>\n",
       "    </tr>\n",
       "    <tr>\n",
       "      <th>median</th>\n",
       "      <td>19230.0</td>\n",
       "      <td>0.000000</td>\n",
       "      <td>0.000000</td>\n",
       "      <td>0.000000</td>\n",
       "      <td>0.000000</td>\n",
       "      <td>0.00000</td>\n",
       "      <td>0.000000</td>\n",
       "      <td>0.00000</td>\n",
       "    </tr>\n",
       "    <tr>\n",
       "      <th>owned</th>\n",
       "      <td>19230.0</td>\n",
       "      <td>1366.457202</td>\n",
       "      <td>4804.515804</td>\n",
       "      <td>2.000000</td>\n",
       "      <td>146.000000</td>\n",
       "      <td>309.00000</td>\n",
       "      <td>846.000000</td>\n",
       "      <td>144727.00000</td>\n",
       "    </tr>\n",
       "    <tr>\n",
       "      <th>trading</th>\n",
       "      <td>19230.0</td>\n",
       "      <td>43.892356</td>\n",
       "      <td>99.838295</td>\n",
       "      <td>0.000000</td>\n",
       "      <td>5.000000</td>\n",
       "      <td>14.00000</td>\n",
       "      <td>40.000000</td>\n",
       "      <td>2411.00000</td>\n",
       "    </tr>\n",
       "    <tr>\n",
       "      <th>wanting</th>\n",
       "      <td>19230.0</td>\n",
       "      <td>42.625117</td>\n",
       "      <td>120.364181</td>\n",
       "      <td>0.000000</td>\n",
       "      <td>3.000000</td>\n",
       "      <td>9.00000</td>\n",
       "      <td>28.000000</td>\n",
       "      <td>2081.00000</td>\n",
       "    </tr>\n",
       "    <tr>\n",
       "      <th>wishing</th>\n",
       "      <td>19230.0</td>\n",
       "      <td>212.265055</td>\n",
       "      <td>710.211423</td>\n",
       "      <td>0.000000</td>\n",
       "      <td>13.000000</td>\n",
       "      <td>37.00000</td>\n",
       "      <td>121.000000</td>\n",
       "      <td>16232.00000</td>\n",
       "    </tr>\n",
       "    <tr>\n",
       "      <th>numcomments</th>\n",
       "      <td>19230.0</td>\n",
       "      <td>209.624493</td>\n",
       "      <td>646.246821</td>\n",
       "      <td>1.000000</td>\n",
       "      <td>25.000000</td>\n",
       "      <td>50.50000</td>\n",
       "      <td>136.000000</td>\n",
       "      <td>17859.00000</td>\n",
       "    </tr>\n",
       "    <tr>\n",
       "      <th>numweights</th>\n",
       "      <td>19230.0</td>\n",
       "      <td>51.319865</td>\n",
       "      <td>207.105944</td>\n",
       "      <td>0.000000</td>\n",
       "      <td>4.000000</td>\n",
       "      <td>10.00000</td>\n",
       "      <td>27.000000</td>\n",
       "      <td>7304.00000</td>\n",
       "    </tr>\n",
       "    <tr>\n",
       "      <th>averageweight</th>\n",
       "      <td>19230.0</td>\n",
       "      <td>1.994581</td>\n",
       "      <td>0.850195</td>\n",
       "      <td>0.000000</td>\n",
       "      <td>1.333300</td>\n",
       "      <td>1.96935</td>\n",
       "      <td>2.555600</td>\n",
       "      <td>5.00000</td>\n",
       "    </tr>\n",
       "    <tr>\n",
       "      <th>Party Game Rank</th>\n",
       "      <td>582.0</td>\n",
       "      <td>291.500000</td>\n",
       "      <td>168.153204</td>\n",
       "      <td>1.000000</td>\n",
       "      <td>146.250000</td>\n",
       "      <td>291.50000</td>\n",
       "      <td>436.750000</td>\n",
       "      <td>582.00000</td>\n",
       "    </tr>\n",
       "    <tr>\n",
       "      <th>Abstract Game Rank</th>\n",
       "      <td>1026.0</td>\n",
       "      <td>514.294347</td>\n",
       "      <td>297.205070</td>\n",
       "      <td>1.000000</td>\n",
       "      <td>257.250000</td>\n",
       "      <td>513.50000</td>\n",
       "      <td>770.750000</td>\n",
       "      <td>1029.00000</td>\n",
       "    </tr>\n",
       "    <tr>\n",
       "      <th>Thematic Rank</th>\n",
       "      <td>1125.0</td>\n",
       "      <td>563.000000</td>\n",
       "      <td>324.903832</td>\n",
       "      <td>1.000000</td>\n",
       "      <td>282.000000</td>\n",
       "      <td>563.00000</td>\n",
       "      <td>844.000000</td>\n",
       "      <td>1125.00000</td>\n",
       "    </tr>\n",
       "    <tr>\n",
       "      <th>War Game Rank</th>\n",
       "      <td>3213.0</td>\n",
       "      <td>1610.208839</td>\n",
       "      <td>931.857885</td>\n",
       "      <td>1.000000</td>\n",
       "      <td>804.000000</td>\n",
       "      <td>1608.00000</td>\n",
       "      <td>2413.000000</td>\n",
       "      <td>3232.00000</td>\n",
       "    </tr>\n",
       "    <tr>\n",
       "      <th>Customizable Rank</th>\n",
       "      <td>289.0</td>\n",
       "      <td>145.532872</td>\n",
       "      <td>84.220320</td>\n",
       "      <td>1.000000</td>\n",
       "      <td>73.000000</td>\n",
       "      <td>145.00000</td>\n",
       "      <td>218.000000</td>\n",
       "      <td>291.00000</td>\n",
       "    </tr>\n",
       "    <tr>\n",
       "      <th>Children's Game Rank</th>\n",
       "      <td>810.0</td>\n",
       "      <td>409.014815</td>\n",
       "      <td>236.632200</td>\n",
       "      <td>1.000000</td>\n",
       "      <td>204.250000</td>\n",
       "      <td>408.50000</td>\n",
       "      <td>614.750000</td>\n",
       "      <td>817.00000</td>\n",
       "    </tr>\n",
       "    <tr>\n",
       "      <th>RPG Item Rank</th>\n",
       "      <td>1.0</td>\n",
       "      <td>437.000000</td>\n",
       "      <td>NaN</td>\n",
       "      <td>437.000000</td>\n",
       "      <td>437.000000</td>\n",
       "      <td>437.00000</td>\n",
       "      <td>437.000000</td>\n",
       "      <td>437.00000</td>\n",
       "    </tr>\n",
       "    <tr>\n",
       "      <th>Accessory Rank</th>\n",
       "      <td>1.0</td>\n",
       "      <td>113.000000</td>\n",
       "      <td>NaN</td>\n",
       "      <td>113.000000</td>\n",
       "      <td>113.000000</td>\n",
       "      <td>113.00000</td>\n",
       "      <td>113.000000</td>\n",
       "      <td>113.00000</td>\n",
       "    </tr>\n",
       "    <tr>\n",
       "      <th>Video Game Rank</th>\n",
       "      <td>1.0</td>\n",
       "      <td>5117.000000</td>\n",
       "      <td>NaN</td>\n",
       "      <td>5117.000000</td>\n",
       "      <td>5117.000000</td>\n",
       "      <td>5117.00000</td>\n",
       "      <td>5117.000000</td>\n",
       "      <td>5117.00000</td>\n",
       "    </tr>\n",
       "    <tr>\n",
       "      <th>Amiga Rank</th>\n",
       "      <td>1.0</td>\n",
       "      <td>218.000000</td>\n",
       "      <td>NaN</td>\n",
       "      <td>218.000000</td>\n",
       "      <td>218.000000</td>\n",
       "      <td>218.00000</td>\n",
       "      <td>218.000000</td>\n",
       "      <td>218.00000</td>\n",
       "    </tr>\n",
       "    <tr>\n",
       "      <th>Commodore 64 Rank</th>\n",
       "      <td>1.0</td>\n",
       "      <td>172.000000</td>\n",
       "      <td>NaN</td>\n",
       "      <td>172.000000</td>\n",
       "      <td>172.000000</td>\n",
       "      <td>172.00000</td>\n",
       "      <td>172.000000</td>\n",
       "      <td>172.00000</td>\n",
       "    </tr>\n",
       "    <tr>\n",
       "      <th>Arcade Rank</th>\n",
       "      <td>1.0</td>\n",
       "      <td>160.000000</td>\n",
       "      <td>NaN</td>\n",
       "      <td>160.000000</td>\n",
       "      <td>160.000000</td>\n",
       "      <td>160.00000</td>\n",
       "      <td>160.000000</td>\n",
       "      <td>160.00000</td>\n",
       "    </tr>\n",
       "    <tr>\n",
       "      <th>Atari ST Rank</th>\n",
       "      <td>1.0</td>\n",
       "      <td>134.000000</td>\n",
       "      <td>NaN</td>\n",
       "      <td>134.000000</td>\n",
       "      <td>134.000000</td>\n",
       "      <td>134.00000</td>\n",
       "      <td>134.000000</td>\n",
       "      <td>134.00000</td>\n",
       "    </tr>\n",
       "  </tbody>\n",
       "</table>\n",
       "</div>"
      ],
      "text/plain": [
       "                        count           mean  ...            75%           max\n",
       "Unnamed: 0            19230.0    9614.500000  ...   14421.750000   19229.00000\n",
       "id                    19230.0  101482.306032  ...  182275.500000  314040.00000\n",
       "yearpublished         19230.0    1984.083515  ...    2016.000000    2021.00000\n",
       "minplayers            19230.0       2.028913  ...       2.000000      10.00000\n",
       "maxplayers            19230.0       5.618253  ...       6.000000     999.00000\n",
       "playingtime           19230.0      96.594800  ...      90.000000  120000.00000\n",
       "minplaytime           19230.0      66.622933  ...      60.000000   60000.00000\n",
       "maxplaytime           19230.0      96.594800  ...      90.000000  120000.00000\n",
       "minage                19230.0       9.603016  ...      12.000000      25.00000\n",
       "usersrated            19230.0     822.717161  ...     381.750000   96241.00000\n",
       "average               19230.0       6.392653  ...       7.010558       9.68750\n",
       "bayesaverage          19230.0       5.689886  ...       5.688070       8.56858\n",
       "Board Game Rank       19230.0    9646.834997  ...   14485.750000   19345.00000\n",
       "Strategy Game Rank     2075.0    1038.000000  ...    1556.500000    2075.00000\n",
       "Family Game Rank       2001.0    1001.096952  ...    1501.000000    2002.00000\n",
       "stddev                19230.0       1.513299  ...       1.657758       4.26273\n",
       "median                19230.0       0.000000  ...       0.000000       0.00000\n",
       "owned                 19230.0    1366.457202  ...     846.000000  144727.00000\n",
       "trading               19230.0      43.892356  ...      40.000000    2411.00000\n",
       "wanting               19230.0      42.625117  ...      28.000000    2081.00000\n",
       "wishing               19230.0     212.265055  ...     121.000000   16232.00000\n",
       "numcomments           19230.0     209.624493  ...     136.000000   17859.00000\n",
       "numweights            19230.0      51.319865  ...      27.000000    7304.00000\n",
       "averageweight         19230.0       1.994581  ...       2.555600       5.00000\n",
       "Party Game Rank         582.0     291.500000  ...     436.750000     582.00000\n",
       "Abstract Game Rank     1026.0     514.294347  ...     770.750000    1029.00000\n",
       "Thematic Rank          1125.0     563.000000  ...     844.000000    1125.00000\n",
       "War Game Rank          3213.0    1610.208839  ...    2413.000000    3232.00000\n",
       "Customizable Rank       289.0     145.532872  ...     218.000000     291.00000\n",
       "Children's Game Rank    810.0     409.014815  ...     614.750000     817.00000\n",
       "RPG Item Rank             1.0     437.000000  ...     437.000000     437.00000\n",
       "Accessory Rank            1.0     113.000000  ...     113.000000     113.00000\n",
       "Video Game Rank           1.0    5117.000000  ...    5117.000000    5117.00000\n",
       "Amiga Rank                1.0     218.000000  ...     218.000000     218.00000\n",
       "Commodore 64 Rank         1.0     172.000000  ...     172.000000     172.00000\n",
       "Arcade Rank               1.0     160.000000  ...     160.000000     160.00000\n",
       "Atari ST Rank             1.0     134.000000  ...     134.000000     134.00000\n",
       "\n",
       "[37 rows x 8 columns]"
      ]
     },
     "execution_count": 14,
     "metadata": {
      "tags": []
     },
     "output_type": "execute_result"
    }
   ],
   "source": [
    "bg_detail.describe().T"
   ]
  },
  {
   "cell_type": "code",
   "execution_count": 15,
   "metadata": {
    "colab": {
     "base_uri": "https://localhost:8080/",
     "height": 52
    },
    "executionInfo": {
     "elapsed": 1085,
     "status": "ok",
     "timestamp": 1602489305519,
     "user": {
      "displayName": "xing wei chia",
      "photoUrl": "",
      "userId": "07433573390488668056"
     },
     "user_tz": -480
    },
    "id": "60Twi6ZMphfD",
    "outputId": "ca2e634f-83f2-481c-ea12-a2167ae18853"
   },
   "outputs": [
    {
     "name": "stdout",
     "output_type": "stream",
     "text": [
      "No. of unique ID: 19230\n",
      "No. of unique boardgame name: 18889\n"
     ]
    }
   ],
   "source": [
    "# Check for the amount of game\n",
    "print('No. of unique ID: ' + str(bg_detail['id'].nunique()))\n",
    "print('No. of unique boardgame name: ' + str(bg_detail['primary'].nunique()))"
   ]
  },
  {
   "cell_type": "code",
   "execution_count": 16,
   "metadata": {
    "colab": {
     "base_uri": "https://localhost:8080/",
     "height": 527
    },
    "executionInfo": {
     "elapsed": 1202,
     "status": "ok",
     "timestamp": 1602489307321,
     "user": {
      "displayName": "xing wei chia",
      "photoUrl": "",
      "userId": "07433573390488668056"
     },
     "user_tz": -480
    },
    "id": "InGUVWWIpjcb",
    "outputId": "7eba6ac5-9435-4e70-b49e-f2af07673f54",
    "scrolled": true
   },
   "outputs": [
    {
     "data": {
      "text/html": [
       "<div>\n",
       "<style scoped>\n",
       "    .dataframe tbody tr th:only-of-type {\n",
       "        vertical-align: middle;\n",
       "    }\n",
       "\n",
       "    .dataframe tbody tr th {\n",
       "        vertical-align: top;\n",
       "    }\n",
       "\n",
       "    .dataframe thead th {\n",
       "        text-align: right;\n",
       "    }\n",
       "</style>\n",
       "<table border=\"1\" class=\"dataframe\">\n",
       "  <thead>\n",
       "    <tr style=\"text-align: right;\">\n",
       "      <th></th>\n",
       "      <th>Unnamed: 0</th>\n",
       "      <th>type</th>\n",
       "      <th>id</th>\n",
       "      <th>thumbnail</th>\n",
       "      <th>image</th>\n",
       "      <th>primary</th>\n",
       "      <th>alternate</th>\n",
       "      <th>description</th>\n",
       "      <th>yearpublished</th>\n",
       "      <th>minplayers</th>\n",
       "      <th>maxplayers</th>\n",
       "      <th>suggested_num_players</th>\n",
       "      <th>suggested_playerage</th>\n",
       "      <th>suggested_language_dependence</th>\n",
       "      <th>playingtime</th>\n",
       "      <th>minplaytime</th>\n",
       "      <th>maxplaytime</th>\n",
       "      <th>minage</th>\n",
       "      <th>boardgamecategory</th>\n",
       "      <th>boardgamemechanic</th>\n",
       "      <th>boardgamefamily</th>\n",
       "      <th>boardgameexpansion</th>\n",
       "      <th>boardgameimplementation</th>\n",
       "      <th>boardgamedesigner</th>\n",
       "      <th>boardgameartist</th>\n",
       "      <th>boardgamepublisher</th>\n",
       "      <th>usersrated</th>\n",
       "      <th>average</th>\n",
       "      <th>bayesaverage</th>\n",
       "      <th>Board Game Rank</th>\n",
       "      <th>Strategy Game Rank</th>\n",
       "      <th>Family Game Rank</th>\n",
       "      <th>stddev</th>\n",
       "      <th>median</th>\n",
       "      <th>owned</th>\n",
       "      <th>trading</th>\n",
       "      <th>wanting</th>\n",
       "      <th>wishing</th>\n",
       "      <th>numcomments</th>\n",
       "      <th>numweights</th>\n",
       "      <th>averageweight</th>\n",
       "      <th>boardgameintegration</th>\n",
       "      <th>boardgamecompilation</th>\n",
       "      <th>Party Game Rank</th>\n",
       "      <th>Abstract Game Rank</th>\n",
       "      <th>Thematic Rank</th>\n",
       "      <th>War Game Rank</th>\n",
       "      <th>Customizable Rank</th>\n",
       "      <th>Children's Game Rank</th>\n",
       "      <th>RPG Item Rank</th>\n",
       "      <th>Accessory Rank</th>\n",
       "      <th>Video Game Rank</th>\n",
       "      <th>Amiga Rank</th>\n",
       "      <th>Commodore 64 Rank</th>\n",
       "      <th>Arcade Rank</th>\n",
       "      <th>Atari ST Rank</th>\n",
       "    </tr>\n",
       "  </thead>\n",
       "  <tbody>\n",
       "    <tr>\n",
       "      <th>501</th>\n",
       "      <td>501</td>\n",
       "      <td>boardgame</td>\n",
       "      <td>205398</td>\n",
       "      <td>https://cf.geekdo-images.com/thumb/img/iZ8PzQk...</td>\n",
       "      <td>https://cf.geekdo-images.com/original/img/iy-N...</td>\n",
       "      <td>Citadels</td>\n",
       "      <td>['Citadela DeLuxe', 'Citadele', 'Citadella', '...</td>\n",
       "      <td>In Citadels, players take on new roles each ro...</td>\n",
       "      <td>2016</td>\n",
       "      <td>2</td>\n",
       "      <td>8</td>\n",
       "      <td>[OrderedDict([('@numplayers', '1'), ('result',...</td>\n",
       "      <td>[OrderedDict([('@value', '2'), ('@numvotes', '...</td>\n",
       "      <td>[OrderedDict([('@level', '36'), ('@value', 'No...</td>\n",
       "      <td>60</td>\n",
       "      <td>30</td>\n",
       "      <td>60</td>\n",
       "      <td>10</td>\n",
       "      <td>['Bluffing', 'Card Game', 'City Building', 'Fa...</td>\n",
       "      <td>['Action Drafting', 'Card Drafting', 'Income',...</td>\n",
       "      <td>['Mechanic: Tableau Building']</td>\n",
       "      <td>NaN</td>\n",
       "      <td>['Citadels', 'Citadels:  The Dark City']</td>\n",
       "      <td>['Bruno Faidutti']</td>\n",
       "      <td>['Andrew Bosley', 'Simon Eckert', 'Tomasz Jedr...</td>\n",
       "      <td>['(Unknown)', '999 Games', 'Asmodee', 'Delta V...</td>\n",
       "      <td>6383</td>\n",
       "      <td>7.32396</td>\n",
       "      <td>6.91166</td>\n",
       "      <td>469</td>\n",
       "      <td>NaN</td>\n",
       "      <td>98.0</td>\n",
       "      <td>1.26265</td>\n",
       "      <td>0</td>\n",
       "      <td>12175</td>\n",
       "      <td>201</td>\n",
       "      <td>172</td>\n",
       "      <td>1765</td>\n",
       "      <td>940</td>\n",
       "      <td>126</td>\n",
       "      <td>1.9762</td>\n",
       "      <td>NaN</td>\n",
       "      <td>NaN</td>\n",
       "      <td>NaN</td>\n",
       "      <td>NaN</td>\n",
       "      <td>NaN</td>\n",
       "      <td>NaN</td>\n",
       "      <td>NaN</td>\n",
       "      <td>NaN</td>\n",
       "      <td>NaN</td>\n",
       "      <td>NaN</td>\n",
       "      <td>NaN</td>\n",
       "      <td>NaN</td>\n",
       "      <td>NaN</td>\n",
       "      <td>NaN</td>\n",
       "      <td>NaN</td>\n",
       "    </tr>\n",
       "    <tr>\n",
       "      <th>538</th>\n",
       "      <td>538</td>\n",
       "      <td>boardgame</td>\n",
       "      <td>10093</td>\n",
       "      <td>https://cf.geekdo-images.com/thumb/img/b2ndmIT...</td>\n",
       "      <td>https://cf.geekdo-images.com/original/img/Il-U...</td>\n",
       "      <td>Axis &amp; Allies</td>\n",
       "      <td>['Axis &amp; Allies (Revised Edition)']</td>\n",
       "      <td>Axis &amp;amp; Allies (2004) aka Axis &amp;amp; Allies...</td>\n",
       "      <td>2004</td>\n",
       "      <td>2</td>\n",
       "      <td>5</td>\n",
       "      <td>[OrderedDict([('@numplayers', '1'), ('result',...</td>\n",
       "      <td>[OrderedDict([('@value', '2'), ('@numvotes', '...</td>\n",
       "      <td>[OrderedDict([('@level', '36'), ('@value', 'No...</td>\n",
       "      <td>240</td>\n",
       "      <td>240</td>\n",
       "      <td>240</td>\n",
       "      <td>12</td>\n",
       "      <td>['Economic', 'Wargame', 'World War II']</td>\n",
       "      <td>['Area Movement', 'Dice Rolling', 'Team-Based ...</td>\n",
       "      <td>['Game: Axis &amp; Allies (Avalon Hill)']</td>\n",
       "      <td>['Conquest of the Pacific']</td>\n",
       "      <td>['Axis &amp; Allies: 1942', 'Axis &amp; Allies']</td>\n",
       "      <td>['Larry Harris, Jr.', 'Mike Selinker']</td>\n",
       "      <td>['Tommy Lee Edwards', 'Todd Gamble', 'Ryan San...</td>\n",
       "      <td>['Avalon Hill Games, Inc.', 'Tilsit']</td>\n",
       "      <td>5740</td>\n",
       "      <td>6.70269</td>\n",
       "      <td>6.34603</td>\n",
       "      <td>1279</td>\n",
       "      <td>NaN</td>\n",
       "      <td>NaN</td>\n",
       "      <td>1.59281</td>\n",
       "      <td>0</td>\n",
       "      <td>7468</td>\n",
       "      <td>384</td>\n",
       "      <td>55</td>\n",
       "      <td>319</td>\n",
       "      <td>1488</td>\n",
       "      <td>604</td>\n",
       "      <td>3.2103</td>\n",
       "      <td>NaN</td>\n",
       "      <td>NaN</td>\n",
       "      <td>NaN</td>\n",
       "      <td>NaN</td>\n",
       "      <td>NaN</td>\n",
       "      <td>461.0</td>\n",
       "      <td>NaN</td>\n",
       "      <td>NaN</td>\n",
       "      <td>NaN</td>\n",
       "      <td>NaN</td>\n",
       "      <td>NaN</td>\n",
       "      <td>NaN</td>\n",
       "      <td>NaN</td>\n",
       "      <td>NaN</td>\n",
       "      <td>NaN</td>\n",
       "    </tr>\n",
       "    <tr>\n",
       "      <th>566</th>\n",
       "      <td>566</td>\n",
       "      <td>boardgame</td>\n",
       "      <td>18833</td>\n",
       "      <td>https://cf.geekdo-images.com/thumb/img/EfIpnO-...</td>\n",
       "      <td>https://cf.geekdo-images.com/original/img/KTdC...</td>\n",
       "      <td>Lord of the Rings: The Confrontation</td>\n",
       "      <td>['Der Herr der Ringe: Die Entscheidung', 'Lord...</td>\n",
       "      <td>This Deluxe Edition of Reiner Knizia&amp;rsquo;s a...</td>\n",
       "      <td>2005</td>\n",
       "      <td>2</td>\n",
       "      <td>2</td>\n",
       "      <td>[OrderedDict([('@numplayers', '1'), ('result',...</td>\n",
       "      <td>[OrderedDict([('@value', '2'), ('@numvotes', '...</td>\n",
       "      <td>[OrderedDict([('@level', '611'), ('@value', 'N...</td>\n",
       "      <td>30</td>\n",
       "      <td>30</td>\n",
       "      <td>30</td>\n",
       "      <td>14</td>\n",
       "      <td>['Adventure', 'Bluffing', 'Deduction', 'Fantas...</td>\n",
       "      <td>['Area Movement', 'Hand Management', 'Secret U...</td>\n",
       "      <td>['Authors: J.R.R. Tolkien', 'Players: Two Play...</td>\n",
       "      <td>['Locust Horde (fan expansion for Lord of the ...</td>\n",
       "      <td>['Lord of the Rings: The Confrontation']</td>\n",
       "      <td>['Reiner Knizia', 'Eric M. Lang', 'Christian T...</td>\n",
       "      <td>['Daarken', 'Chris Dien', 'John Gravato', 'Joh...</td>\n",
       "      <td>['Edge Entertainment', 'Fantasy Flight Games',...</td>\n",
       "      <td>5520</td>\n",
       "      <td>7.48116</td>\n",
       "      <td>7.04563</td>\n",
       "      <td>338</td>\n",
       "      <td>220.0</td>\n",
       "      <td>NaN</td>\n",
       "      <td>1.33442</td>\n",
       "      <td>0</td>\n",
       "      <td>6807</td>\n",
       "      <td>191</td>\n",
       "      <td>284</td>\n",
       "      <td>1282</td>\n",
       "      <td>1461</td>\n",
       "      <td>449</td>\n",
       "      <td>2.2004</td>\n",
       "      <td>NaN</td>\n",
       "      <td>NaN</td>\n",
       "      <td>NaN</td>\n",
       "      <td>NaN</td>\n",
       "      <td>NaN</td>\n",
       "      <td>NaN</td>\n",
       "      <td>NaN</td>\n",
       "      <td>NaN</td>\n",
       "      <td>NaN</td>\n",
       "      <td>NaN</td>\n",
       "      <td>NaN</td>\n",
       "      <td>NaN</td>\n",
       "      <td>NaN</td>\n",
       "      <td>NaN</td>\n",
       "      <td>NaN</td>\n",
       "    </tr>\n",
       "    <tr>\n",
       "      <th>789</th>\n",
       "      <td>789</td>\n",
       "      <td>boardgame</td>\n",
       "      <td>15</td>\n",
       "      <td>https://cf.geekdo-images.com/thumb/img/ku9JLe-...</td>\n",
       "      <td>https://cf.geekdo-images.com/original/img/5koT...</td>\n",
       "      <td>Cosmic Encounter</td>\n",
       "      <td>['Contatos Cósmicos', 'König der Sterne', 'Ren...</td>\n",
       "      <td>By request of Fantasy Flight Games, Board Game...</td>\n",
       "      <td>1977</td>\n",
       "      <td>2</td>\n",
       "      <td>6</td>\n",
       "      <td>[OrderedDict([('@numplayers', '1'), ('result',...</td>\n",
       "      <td>[OrderedDict([('@value', '2'), ('@numvotes', '...</td>\n",
       "      <td>[OrderedDict([('@level', '186'), ('@value', 'N...</td>\n",
       "      <td>90</td>\n",
       "      <td>90</td>\n",
       "      <td>90</td>\n",
       "      <td>12</td>\n",
       "      <td>['Bluffing', 'Negotiation', 'Science Fiction']</td>\n",
       "      <td>['Alliances', 'Hand Management', 'Negotiation'...</td>\n",
       "      <td>['Admin: Better Description Needed!', 'Creatur...</td>\n",
       "      <td>['Cosmic Encounter: Expansion Set #1', 'Cosmic...</td>\n",
       "      <td>['Cosmic Encounter', 'Cosmic Encounter', 'Cosm...</td>\n",
       "      <td>['Bill Eberle', 'Jack Kittredge', 'Bill Norton...</td>\n",
       "      <td>['John Blanche', 'Chris Ferguson', 'Anders Jep...</td>\n",
       "      <td>['Eon', 'Alga', 'ASS Altenburger Spielkarten',...</td>\n",
       "      <td>3820</td>\n",
       "      <td>6.90742</td>\n",
       "      <td>6.46259</td>\n",
       "      <td>1054</td>\n",
       "      <td>640.0</td>\n",
       "      <td>NaN</td>\n",
       "      <td>1.81594</td>\n",
       "      <td>0</td>\n",
       "      <td>4234</td>\n",
       "      <td>201</td>\n",
       "      <td>117</td>\n",
       "      <td>447</td>\n",
       "      <td>1656</td>\n",
       "      <td>426</td>\n",
       "      <td>2.3732</td>\n",
       "      <td>NaN</td>\n",
       "      <td>NaN</td>\n",
       "      <td>NaN</td>\n",
       "      <td>NaN</td>\n",
       "      <td>273.0</td>\n",
       "      <td>NaN</td>\n",
       "      <td>NaN</td>\n",
       "      <td>NaN</td>\n",
       "      <td>NaN</td>\n",
       "      <td>NaN</td>\n",
       "      <td>NaN</td>\n",
       "      <td>NaN</td>\n",
       "      <td>NaN</td>\n",
       "      <td>NaN</td>\n",
       "      <td>NaN</td>\n",
       "    </tr>\n",
       "    <tr>\n",
       "      <th>1395</th>\n",
       "      <td>1395</td>\n",
       "      <td>boardgame</td>\n",
       "      <td>283355</td>\n",
       "      <td>https://cf.geekdo-images.com/thumb/img/kc7qzRL...</td>\n",
       "      <td>https://cf.geekdo-images.com/original/img/MhbV...</td>\n",
       "      <td>Dune</td>\n",
       "      <td>NaN</td>\n",
       "      <td>Imagine you can control the forces of a noble ...</td>\n",
       "      <td>2019</td>\n",
       "      <td>2</td>\n",
       "      <td>6</td>\n",
       "      <td>[OrderedDict([('@numplayers', '1'), ('result',...</td>\n",
       "      <td>[OrderedDict([('@value', '2'), ('@numvotes', '...</td>\n",
       "      <td>[OrderedDict([('@level', '181'), ('@value', 'N...</td>\n",
       "      <td>120</td>\n",
       "      <td>120</td>\n",
       "      <td>120</td>\n",
       "      <td>14</td>\n",
       "      <td>['Bluffing', 'Fighting', 'Negotiation', 'Novel...</td>\n",
       "      <td>['Alliances', 'Area Majority / Influence', 'Au...</td>\n",
       "      <td>['Books: Dune', 'Theme: Deserts']</td>\n",
       "      <td>['Dune: Ixians &amp; Tleilaxu']</td>\n",
       "      <td>['Dune']</td>\n",
       "      <td>['Bill Eberle', 'Jack Kittredge', 'Peter Olotka']</td>\n",
       "      <td>['Ilya Baranovsky']</td>\n",
       "      <td>['Gale Force Nine, LLC']</td>\n",
       "      <td>2074</td>\n",
       "      <td>8.22895</td>\n",
       "      <td>6.93814</td>\n",
       "      <td>443</td>\n",
       "      <td>234.0</td>\n",
       "      <td>NaN</td>\n",
       "      <td>1.63999</td>\n",
       "      <td>0</td>\n",
       "      <td>6504</td>\n",
       "      <td>39</td>\n",
       "      <td>386</td>\n",
       "      <td>2947</td>\n",
       "      <td>568</td>\n",
       "      <td>127</td>\n",
       "      <td>3.9134</td>\n",
       "      <td>NaN</td>\n",
       "      <td>NaN</td>\n",
       "      <td>NaN</td>\n",
       "      <td>NaN</td>\n",
       "      <td>75.0</td>\n",
       "      <td>NaN</td>\n",
       "      <td>NaN</td>\n",
       "      <td>NaN</td>\n",
       "      <td>NaN</td>\n",
       "      <td>NaN</td>\n",
       "      <td>NaN</td>\n",
       "      <td>NaN</td>\n",
       "      <td>NaN</td>\n",
       "      <td>NaN</td>\n",
       "      <td>NaN</td>\n",
       "    </tr>\n",
       "  </tbody>\n",
       "</table>\n",
       "</div>"
      ],
      "text/plain": [
       "      Unnamed: 0       type  ...  Arcade Rank Atari ST Rank\n",
       "501          501  boardgame  ...          NaN           NaN\n",
       "538          538  boardgame  ...          NaN           NaN\n",
       "566          566  boardgame  ...          NaN           NaN\n",
       "789          789  boardgame  ...          NaN           NaN\n",
       "1395        1395  boardgame  ...          NaN           NaN\n",
       "\n",
       "[5 rows x 56 columns]"
      ]
     },
     "execution_count": 16,
     "metadata": {
      "tags": []
     },
     "output_type": "execute_result"
    }
   ],
   "source": [
    "# Check for duplicated game\n",
    "bg_detail[bg_detail['primary'].duplicated()].head()"
   ]
  },
  {
   "cell_type": "code",
   "execution_count": 17,
   "metadata": {
    "colab": {
     "base_uri": "https://localhost:8080/",
     "height": 282
    },
    "executionInfo": {
     "elapsed": 1059,
     "status": "ok",
     "timestamp": 1602489311042,
     "user": {
      "displayName": "xing wei chia",
      "photoUrl": "",
      "userId": "07433573390488668056"
     },
     "user_tz": -480
    },
    "id": "Rah_nn8hpldK",
    "outputId": "22b90b81-b84f-40e2-ae21-f8d97fadee94"
   },
   "outputs": [
    {
     "data": {
      "text/html": [
       "<div>\n",
       "<style scoped>\n",
       "    .dataframe tbody tr th:only-of-type {\n",
       "        vertical-align: middle;\n",
       "    }\n",
       "\n",
       "    .dataframe tbody tr th {\n",
       "        vertical-align: top;\n",
       "    }\n",
       "\n",
       "    .dataframe thead th {\n",
       "        text-align: right;\n",
       "    }\n",
       "</style>\n",
       "<table border=\"1\" class=\"dataframe\">\n",
       "  <thead>\n",
       "    <tr style=\"text-align: right;\">\n",
       "      <th></th>\n",
       "      <th>Unnamed: 0</th>\n",
       "      <th>type</th>\n",
       "      <th>id</th>\n",
       "      <th>thumbnail</th>\n",
       "      <th>image</th>\n",
       "      <th>primary</th>\n",
       "      <th>alternate</th>\n",
       "      <th>description</th>\n",
       "      <th>yearpublished</th>\n",
       "      <th>minplayers</th>\n",
       "      <th>maxplayers</th>\n",
       "      <th>suggested_num_players</th>\n",
       "      <th>suggested_playerage</th>\n",
       "      <th>suggested_language_dependence</th>\n",
       "      <th>playingtime</th>\n",
       "      <th>minplaytime</th>\n",
       "      <th>maxplaytime</th>\n",
       "      <th>minage</th>\n",
       "      <th>boardgamecategory</th>\n",
       "      <th>boardgamemechanic</th>\n",
       "      <th>boardgamefamily</th>\n",
       "      <th>boardgameexpansion</th>\n",
       "      <th>boardgameimplementation</th>\n",
       "      <th>boardgamedesigner</th>\n",
       "      <th>boardgameartist</th>\n",
       "      <th>boardgamepublisher</th>\n",
       "      <th>usersrated</th>\n",
       "      <th>average</th>\n",
       "      <th>bayesaverage</th>\n",
       "      <th>Board Game Rank</th>\n",
       "      <th>Strategy Game Rank</th>\n",
       "      <th>Family Game Rank</th>\n",
       "      <th>stddev</th>\n",
       "      <th>median</th>\n",
       "      <th>owned</th>\n",
       "      <th>trading</th>\n",
       "      <th>wanting</th>\n",
       "      <th>wishing</th>\n",
       "      <th>numcomments</th>\n",
       "      <th>numweights</th>\n",
       "      <th>averageweight</th>\n",
       "      <th>boardgameintegration</th>\n",
       "      <th>boardgamecompilation</th>\n",
       "      <th>Party Game Rank</th>\n",
       "      <th>Abstract Game Rank</th>\n",
       "      <th>Thematic Rank</th>\n",
       "      <th>War Game Rank</th>\n",
       "      <th>Customizable Rank</th>\n",
       "      <th>Children's Game Rank</th>\n",
       "      <th>RPG Item Rank</th>\n",
       "      <th>Accessory Rank</th>\n",
       "      <th>Video Game Rank</th>\n",
       "      <th>Amiga Rank</th>\n",
       "      <th>Commodore 64 Rank</th>\n",
       "      <th>Arcade Rank</th>\n",
       "      <th>Atari ST Rank</th>\n",
       "    </tr>\n",
       "  </thead>\n",
       "  <tbody>\n",
       "    <tr>\n",
       "      <th>19</th>\n",
       "      <td>19</td>\n",
       "      <td>boardgame</td>\n",
       "      <td>478</td>\n",
       "      <td>https://cf.geekdo-images.com/thumb/img/8WHy1HR...</td>\n",
       "      <td>https://cf.geekdo-images.com/original/img/URnu...</td>\n",
       "      <td>Citadels</td>\n",
       "      <td>['Citadelă', 'Citadela', 'Citadele', 'Citadele...</td>\n",
       "      <td>In Citadels, players take on new roles each ro...</td>\n",
       "      <td>2000</td>\n",
       "      <td>2</td>\n",
       "      <td>8</td>\n",
       "      <td>[OrderedDict([('@numplayers', '1'), ('result',...</td>\n",
       "      <td>[OrderedDict([('@value', '2'), ('@numvotes', '...</td>\n",
       "      <td>[OrderedDict([('@level', '11'), ('@value', 'No...</td>\n",
       "      <td>60</td>\n",
       "      <td>20</td>\n",
       "      <td>60</td>\n",
       "      <td>10</td>\n",
       "      <td>['Bluffing', 'Card Game', 'City Building', 'De...</td>\n",
       "      <td>['Action Drafting', 'Card Drafting', 'Lose a T...</td>\n",
       "      <td>['Mechanic: Tableau Building', 'Series: Fantas...</td>\n",
       "      <td>['Citadels:  The Dark City']</td>\n",
       "      <td>['Citadels', 'Ohne Furcht und Adel']</td>\n",
       "      <td>['Bruno Faidutti']</td>\n",
       "      <td>['Cyrille Daujean', 'Julien Delval', 'Jesper E...</td>\n",
       "      <td>['Hans im Glück', '(Unknown)', '999 Games', 'A...</td>\n",
       "      <td>46916</td>\n",
       "      <td>7.08726</td>\n",
       "      <td>6.98437</td>\n",
       "      <td>394</td>\n",
       "      <td>309.0</td>\n",
       "      <td>104.0</td>\n",
       "      <td>1.25848</td>\n",
       "      <td>0</td>\n",
       "      <td>62283</td>\n",
       "      <td>1470</td>\n",
       "      <td>335</td>\n",
       "      <td>3086</td>\n",
       "      <td>9601</td>\n",
       "      <td>3608</td>\n",
       "      <td>2.0529</td>\n",
       "      <td>NaN</td>\n",
       "      <td>NaN</td>\n",
       "      <td>NaN</td>\n",
       "      <td>NaN</td>\n",
       "      <td>NaN</td>\n",
       "      <td>NaN</td>\n",
       "      <td>NaN</td>\n",
       "      <td>NaN</td>\n",
       "      <td>NaN</td>\n",
       "      <td>NaN</td>\n",
       "      <td>NaN</td>\n",
       "      <td>NaN</td>\n",
       "      <td>NaN</td>\n",
       "      <td>NaN</td>\n",
       "      <td>NaN</td>\n",
       "    </tr>\n",
       "    <tr>\n",
       "      <th>501</th>\n",
       "      <td>501</td>\n",
       "      <td>boardgame</td>\n",
       "      <td>205398</td>\n",
       "      <td>https://cf.geekdo-images.com/thumb/img/iZ8PzQk...</td>\n",
       "      <td>https://cf.geekdo-images.com/original/img/iy-N...</td>\n",
       "      <td>Citadels</td>\n",
       "      <td>['Citadela DeLuxe', 'Citadele', 'Citadella', '...</td>\n",
       "      <td>In Citadels, players take on new roles each ro...</td>\n",
       "      <td>2016</td>\n",
       "      <td>2</td>\n",
       "      <td>8</td>\n",
       "      <td>[OrderedDict([('@numplayers', '1'), ('result',...</td>\n",
       "      <td>[OrderedDict([('@value', '2'), ('@numvotes', '...</td>\n",
       "      <td>[OrderedDict([('@level', '36'), ('@value', 'No...</td>\n",
       "      <td>60</td>\n",
       "      <td>30</td>\n",
       "      <td>60</td>\n",
       "      <td>10</td>\n",
       "      <td>['Bluffing', 'Card Game', 'City Building', 'Fa...</td>\n",
       "      <td>['Action Drafting', 'Card Drafting', 'Income',...</td>\n",
       "      <td>['Mechanic: Tableau Building']</td>\n",
       "      <td>NaN</td>\n",
       "      <td>['Citadels', 'Citadels:  The Dark City']</td>\n",
       "      <td>['Bruno Faidutti']</td>\n",
       "      <td>['Andrew Bosley', 'Simon Eckert', 'Tomasz Jedr...</td>\n",
       "      <td>['(Unknown)', '999 Games', 'Asmodee', 'Delta V...</td>\n",
       "      <td>6383</td>\n",
       "      <td>7.32396</td>\n",
       "      <td>6.91166</td>\n",
       "      <td>469</td>\n",
       "      <td>NaN</td>\n",
       "      <td>98.0</td>\n",
       "      <td>1.26265</td>\n",
       "      <td>0</td>\n",
       "      <td>12175</td>\n",
       "      <td>201</td>\n",
       "      <td>172</td>\n",
       "      <td>1765</td>\n",
       "      <td>940</td>\n",
       "      <td>126</td>\n",
       "      <td>1.9762</td>\n",
       "      <td>NaN</td>\n",
       "      <td>NaN</td>\n",
       "      <td>NaN</td>\n",
       "      <td>NaN</td>\n",
       "      <td>NaN</td>\n",
       "      <td>NaN</td>\n",
       "      <td>NaN</td>\n",
       "      <td>NaN</td>\n",
       "      <td>NaN</td>\n",
       "      <td>NaN</td>\n",
       "      <td>NaN</td>\n",
       "      <td>NaN</td>\n",
       "      <td>NaN</td>\n",
       "      <td>NaN</td>\n",
       "      <td>NaN</td>\n",
       "    </tr>\n",
       "  </tbody>\n",
       "</table>\n",
       "</div>"
      ],
      "text/plain": [
       "     Unnamed: 0       type  ...  Arcade Rank Atari ST Rank\n",
       "19           19  boardgame  ...          NaN           NaN\n",
       "501         501  boardgame  ...          NaN           NaN\n",
       "\n",
       "[2 rows x 56 columns]"
      ]
     },
     "execution_count": 17,
     "metadata": {
      "tags": []
     },
     "output_type": "execute_result"
    }
   ],
   "source": [
    "bg_detail[bg_detail['primary']=='Citadels']"
   ]
  },
  {
   "cell_type": "markdown",
   "metadata": {
    "id": "UWmlzCvtpq04"
   },
   "source": [
    "Note: \n",
    "- Similar to board game general dataset, there are board games with same name but published in different years.\n",
    "- There are 100 games less in this board game details dataset compared to board game general dataset"
   ]
  },
  {
   "cell_type": "markdown",
   "metadata": {
    "id": "-Yf-tWskp_BL"
   },
   "source": [
    "## Merge both datasets as game id are same"
   ]
  },
  {
   "cell_type": "code",
   "execution_count": 18,
   "metadata": {
    "colab": {
     "base_uri": "https://localhost:8080/",
     "height": 561
    },
    "executionInfo": {
     "elapsed": 1120,
     "status": "ok",
     "timestamp": 1602489316343,
     "user": {
      "displayName": "xing wei chia",
      "photoUrl": "",
      "userId": "07433573390488668056"
     },
     "user_tz": -480
    },
    "id": "o5lIyXX1p_zP",
    "outputId": "c15a13a7-7241-4b43-f909-3b202f55e88f",
    "scrolled": true
   },
   "outputs": [
    {
     "data": {
      "text/html": [
       "<div>\n",
       "<style scoped>\n",
       "    .dataframe tbody tr th:only-of-type {\n",
       "        vertical-align: middle;\n",
       "    }\n",
       "\n",
       "    .dataframe tbody tr th {\n",
       "        vertical-align: top;\n",
       "    }\n",
       "\n",
       "    .dataframe thead th {\n",
       "        text-align: right;\n",
       "    }\n",
       "</style>\n",
       "<table border=\"1\" class=\"dataframe\">\n",
       "  <thead>\n",
       "    <tr style=\"text-align: right;\">\n",
       "      <th></th>\n",
       "      <th>unnamed: 0</th>\n",
       "      <th>id</th>\n",
       "      <th>name</th>\n",
       "      <th>year</th>\n",
       "      <th>rank</th>\n",
       "      <th>average_x</th>\n",
       "      <th>bayes average</th>\n",
       "      <th>users rated</th>\n",
       "      <th>url</th>\n",
       "      <th>thumbnail_x</th>\n",
       "      <th>Unnamed: 0</th>\n",
       "      <th>type</th>\n",
       "      <th>thumbnail_y</th>\n",
       "      <th>image</th>\n",
       "      <th>primary</th>\n",
       "      <th>alternate</th>\n",
       "      <th>description</th>\n",
       "      <th>yearpublished</th>\n",
       "      <th>minplayers</th>\n",
       "      <th>maxplayers</th>\n",
       "      <th>suggested_num_players</th>\n",
       "      <th>suggested_playerage</th>\n",
       "      <th>suggested_language_dependence</th>\n",
       "      <th>playingtime</th>\n",
       "      <th>minplaytime</th>\n",
       "      <th>maxplaytime</th>\n",
       "      <th>minage</th>\n",
       "      <th>boardgamecategory</th>\n",
       "      <th>boardgamemechanic</th>\n",
       "      <th>boardgamefamily</th>\n",
       "      <th>boardgameexpansion</th>\n",
       "      <th>boardgameimplementation</th>\n",
       "      <th>boardgamedesigner</th>\n",
       "      <th>boardgameartist</th>\n",
       "      <th>boardgamepublisher</th>\n",
       "      <th>usersrated</th>\n",
       "      <th>average_y</th>\n",
       "      <th>bayesaverage</th>\n",
       "      <th>Board Game Rank</th>\n",
       "      <th>Strategy Game Rank</th>\n",
       "      <th>Family Game Rank</th>\n",
       "      <th>stddev</th>\n",
       "      <th>median</th>\n",
       "      <th>owned</th>\n",
       "      <th>trading</th>\n",
       "      <th>wanting</th>\n",
       "      <th>wishing</th>\n",
       "      <th>numcomments</th>\n",
       "      <th>numweights</th>\n",
       "      <th>averageweight</th>\n",
       "      <th>boardgameintegration</th>\n",
       "      <th>boardgamecompilation</th>\n",
       "      <th>Party Game Rank</th>\n",
       "      <th>Abstract Game Rank</th>\n",
       "      <th>Thematic Rank</th>\n",
       "      <th>War Game Rank</th>\n",
       "      <th>Customizable Rank</th>\n",
       "      <th>Children's Game Rank</th>\n",
       "      <th>RPG Item Rank</th>\n",
       "      <th>Accessory Rank</th>\n",
       "      <th>Video Game Rank</th>\n",
       "      <th>Amiga Rank</th>\n",
       "      <th>Commodore 64 Rank</th>\n",
       "      <th>Arcade Rank</th>\n",
       "      <th>Atari ST Rank</th>\n",
       "    </tr>\n",
       "  </thead>\n",
       "  <tbody>\n",
       "    <tr>\n",
       "      <th>0</th>\n",
       "      <td>90</td>\n",
       "      <td>30549</td>\n",
       "      <td>Pandemic</td>\n",
       "      <td>2008</td>\n",
       "      <td>91</td>\n",
       "      <td>7.62</td>\n",
       "      <td>7.518</td>\n",
       "      <td>96186</td>\n",
       "      <td>/boardgame/30549/pandemic</td>\n",
       "      <td>https://cf.geekdo-images.com/micro/img/0m3-oqB...</td>\n",
       "      <td>0</td>\n",
       "      <td>boardgame</td>\n",
       "      <td>https://cf.geekdo-images.com/thumb/img/HEKrtpT...</td>\n",
       "      <td>https://cf.geekdo-images.com/original/img/j-pf...</td>\n",
       "      <td>Pandemic</td>\n",
       "      <td>['EPIZOotic', 'Pandemia', 'Pandemia 10 Anivers...</td>\n",
       "      <td>In Pandemic, several virulent diseases have br...</td>\n",
       "      <td>2008</td>\n",
       "      <td>2</td>\n",
       "      <td>4</td>\n",
       "      <td>[OrderedDict([('@numplayers', '1'), ('result',...</td>\n",
       "      <td>[OrderedDict([('@value', '2'), ('@numvotes', '...</td>\n",
       "      <td>[OrderedDict([('@level', '16'), ('@value', 'No...</td>\n",
       "      <td>45</td>\n",
       "      <td>45</td>\n",
       "      <td>45</td>\n",
       "      <td>8</td>\n",
       "      <td>['Medical']</td>\n",
       "      <td>['Action Points', 'Cooperative Game', 'Hand Ma...</td>\n",
       "      <td>['Game: Pandemic', 'Medical: Diseases', 'Occup...</td>\n",
       "      <td>['Pandemic: Gen Con 2016 Promos – Z-Force Team...</td>\n",
       "      <td>['Pandemic Legacy: Season 0', 'Pandemic Legacy...</td>\n",
       "      <td>['Matt Leacock']</td>\n",
       "      <td>['Josh Cappel', 'Christian Hanisch', 'Régis Mo...</td>\n",
       "      <td>['Z-Man Games, Inc.', '(Unknown)', 'Albi', 'As...</td>\n",
       "      <td>96241</td>\n",
       "      <td>7.61567</td>\n",
       "      <td>7.51795</td>\n",
       "      <td>91</td>\n",
       "      <td>104.0</td>\n",
       "      <td>10.0</td>\n",
       "      <td>1.32632</td>\n",
       "      <td>0</td>\n",
       "      <td>144727</td>\n",
       "      <td>2191</td>\n",
       "      <td>640</td>\n",
       "      <td>8571</td>\n",
       "      <td>15778</td>\n",
       "      <td>5232</td>\n",
       "      <td>2.4148</td>\n",
       "      <td>NaN</td>\n",
       "      <td>NaN</td>\n",
       "      <td>NaN</td>\n",
       "      <td>NaN</td>\n",
       "      <td>NaN</td>\n",
       "      <td>NaN</td>\n",
       "      <td>NaN</td>\n",
       "      <td>NaN</td>\n",
       "      <td>NaN</td>\n",
       "      <td>NaN</td>\n",
       "      <td>NaN</td>\n",
       "      <td>NaN</td>\n",
       "      <td>NaN</td>\n",
       "      <td>NaN</td>\n",
       "      <td>NaN</td>\n",
       "    </tr>\n",
       "    <tr>\n",
       "      <th>1</th>\n",
       "      <td>172</td>\n",
       "      <td>822</td>\n",
       "      <td>Carcassonne</td>\n",
       "      <td>2000</td>\n",
       "      <td>173</td>\n",
       "      <td>7.42</td>\n",
       "      <td>7.311</td>\n",
       "      <td>96181</td>\n",
       "      <td>/boardgame/822/carcassonne</td>\n",
       "      <td>https://cf.geekdo-images.com/micro/img/z0tTaij...</td>\n",
       "      <td>1</td>\n",
       "      <td>boardgame</td>\n",
       "      <td>https://cf.geekdo-images.com/thumb/img/kqE4YJS...</td>\n",
       "      <td>https://cf.geekdo-images.com/original/img/o4p6...</td>\n",
       "      <td>Carcassonne</td>\n",
       "      <td>['Carcassonne Jubilee Edition', 'Carcassonne: ...</td>\n",
       "      <td>Carcassonne is a tile-placement game in which ...</td>\n",
       "      <td>2000</td>\n",
       "      <td>2</td>\n",
       "      <td>5</td>\n",
       "      <td>[OrderedDict([('@numplayers', '1'), ('result',...</td>\n",
       "      <td>[OrderedDict([('@value', '2'), ('@numvotes', '...</td>\n",
       "      <td>[OrderedDict([('@level', '41'), ('@value', 'No...</td>\n",
       "      <td>45</td>\n",
       "      <td>30</td>\n",
       "      <td>45</td>\n",
       "      <td>7</td>\n",
       "      <td>['City Building', 'Medieval', 'Territory Build...</td>\n",
       "      <td>['Area Majority / Influence', 'Map Addition', ...</td>\n",
       "      <td>['Components: Black meeples', 'Components: Blu...</td>\n",
       "      <td>['20 Jahre Darmstadt Spielt', 'Apothecaries An...</td>\n",
       "      <td>['The Ark of the Covenant', 'Carcassonne: Amaz...</td>\n",
       "      <td>['Klaus-Jürgen Wrede']</td>\n",
       "      <td>['Doris Matthäus', 'Anne Pätzke', 'Chris Quill...</td>\n",
       "      <td>['Hans im Glück', '999 Games', 'Albi', 'Bard C...</td>\n",
       "      <td>96228</td>\n",
       "      <td>7.41884</td>\n",
       "      <td>7.31105</td>\n",
       "      <td>173</td>\n",
       "      <td>NaN</td>\n",
       "      <td>34.0</td>\n",
       "      <td>1.30369</td>\n",
       "      <td>0</td>\n",
       "      <td>140066</td>\n",
       "      <td>1587</td>\n",
       "      <td>539</td>\n",
       "      <td>6286</td>\n",
       "      <td>17720</td>\n",
       "      <td>7304</td>\n",
       "      <td>1.9158</td>\n",
       "      <td>['Carcassonne: Wheel of Fortune']</td>\n",
       "      <td>['Carcassonne Big Box', 'Carcassonne Big Box 2...</td>\n",
       "      <td>NaN</td>\n",
       "      <td>NaN</td>\n",
       "      <td>NaN</td>\n",
       "      <td>NaN</td>\n",
       "      <td>NaN</td>\n",
       "      <td>NaN</td>\n",
       "      <td>NaN</td>\n",
       "      <td>NaN</td>\n",
       "      <td>NaN</td>\n",
       "      <td>NaN</td>\n",
       "      <td>NaN</td>\n",
       "      <td>NaN</td>\n",
       "      <td>NaN</td>\n",
       "    </tr>\n",
       "    <tr>\n",
       "      <th>2</th>\n",
       "      <td>380</td>\n",
       "      <td>13</td>\n",
       "      <td>Catan</td>\n",
       "      <td>1995</td>\n",
       "      <td>381</td>\n",
       "      <td>7.16</td>\n",
       "      <td>7.001</td>\n",
       "      <td>96171</td>\n",
       "      <td>/boardgame/13/catan</td>\n",
       "      <td>https://cf.geekdo-images.com/micro/img/e0y6Bog...</td>\n",
       "      <td>2</td>\n",
       "      <td>boardgame</td>\n",
       "      <td>https://cf.geekdo-images.com/thumb/img/g8LvJsd...</td>\n",
       "      <td>https://cf.geekdo-images.com/original/img/A-0y...</td>\n",
       "      <td>Catan</td>\n",
       "      <td>['CATAN', 'Catan (Колонизаторы)', 'Catan telep...</td>\n",
       "      <td>In Catan (formerly The Settlers of Catan), pla...</td>\n",
       "      <td>1995</td>\n",
       "      <td>3</td>\n",
       "      <td>4</td>\n",
       "      <td>[OrderedDict([('@numplayers', '1'), ('result',...</td>\n",
       "      <td>[OrderedDict([('@value', '2'), ('@numvotes', '...</td>\n",
       "      <td>[OrderedDict([('@level', '226'), ('@value', 'N...</td>\n",
       "      <td>120</td>\n",
       "      <td>60</td>\n",
       "      <td>120</td>\n",
       "      <td>10</td>\n",
       "      <td>['Economic', 'Negotiation']</td>\n",
       "      <td>['Dice Rolling', 'Hexagon Grid', 'Income', 'Mo...</td>\n",
       "      <td>['Game: Catan', 'Promotional: Promo Board Games']</td>\n",
       "      <td>['20 Jahre Darmstadt Spielt', 'Brettspiel Adve...</td>\n",
       "      <td>['Baden-Württemberg Catan', \"CATAN 3D Collecto...</td>\n",
       "      <td>['Klaus Teuber']</td>\n",
       "      <td>['Volkan Baga', 'Tanja Donner', 'Pete Fenlon',...</td>\n",
       "      <td>['KOSMOS', '999 Games', 'Albi', 'Astrel Games'...</td>\n",
       "      <td>96213</td>\n",
       "      <td>7.16265</td>\n",
       "      <td>7.00045</td>\n",
       "      <td>381</td>\n",
       "      <td>348.0</td>\n",
       "      <td>108.0</td>\n",
       "      <td>1.47908</td>\n",
       "      <td>0</td>\n",
       "      <td>144656</td>\n",
       "      <td>1825</td>\n",
       "      <td>474</td>\n",
       "      <td>5310</td>\n",
       "      <td>17859</td>\n",
       "      <td>7187</td>\n",
       "      <td>2.3264</td>\n",
       "      <td>NaN</td>\n",
       "      <td>[\"CATAN 3D Collector's Edition\", 'Catan: 25 Ja...</td>\n",
       "      <td>NaN</td>\n",
       "      <td>NaN</td>\n",
       "      <td>NaN</td>\n",
       "      <td>NaN</td>\n",
       "      <td>NaN</td>\n",
       "      <td>NaN</td>\n",
       "      <td>NaN</td>\n",
       "      <td>NaN</td>\n",
       "      <td>NaN</td>\n",
       "      <td>NaN</td>\n",
       "      <td>NaN</td>\n",
       "      <td>NaN</td>\n",
       "      <td>NaN</td>\n",
       "    </tr>\n",
       "    <tr>\n",
       "      <th>3</th>\n",
       "      <td>49</td>\n",
       "      <td>68448</td>\n",
       "      <td>7 Wonders</td>\n",
       "      <td>2010</td>\n",
       "      <td>50</td>\n",
       "      <td>7.76</td>\n",
       "      <td>7.662</td>\n",
       "      <td>79830</td>\n",
       "      <td>/boardgame/68448/7-wonders</td>\n",
       "      <td>https://cf.geekdo-images.com/micro/img/h-Ejv31...</td>\n",
       "      <td>3</td>\n",
       "      <td>boardgame</td>\n",
       "      <td>https://cf.geekdo-images.com/thumb/img/Grz-qM9...</td>\n",
       "      <td>https://cf.geekdo-images.com/original/img/3DP_...</td>\n",
       "      <td>7 Wonders</td>\n",
       "      <td>['7 csoda', '7 Cudów Świata', '7 divů světa', ...</td>\n",
       "      <td>You are the leader of one of the 7 great citie...</td>\n",
       "      <td>2010</td>\n",
       "      <td>2</td>\n",
       "      <td>7</td>\n",
       "      <td>[OrderedDict([('@numplayers', '1'), ('result',...</td>\n",
       "      <td>[OrderedDict([('@value', '2'), ('@numvotes', '...</td>\n",
       "      <td>[OrderedDict([('@level', '1'), ('@value', 'No ...</td>\n",
       "      <td>30</td>\n",
       "      <td>30</td>\n",
       "      <td>30</td>\n",
       "      <td>10</td>\n",
       "      <td>['Ancient', 'Card Game', 'City Building', 'Civ...</td>\n",
       "      <td>['Card Drafting', 'Drafting', 'Hand Management...</td>\n",
       "      <td>['Game: 7 Wonders', 'Mechanic: Tableau Building']</td>\n",
       "      <td>['7 Wonders: Armada', '7 Wonders: Babel', '7 W...</td>\n",
       "      <td>['7 Wonders (Second Edition)', '7 Wonders Duel']</td>\n",
       "      <td>['Antoine Bauza']</td>\n",
       "      <td>['Antoine Bauza', 'Miguel Coimbra']</td>\n",
       "      <td>['Repos Production', 'ADC Blackfire Entertainm...</td>\n",
       "      <td>79873</td>\n",
       "      <td>7.76049</td>\n",
       "      <td>7.66214</td>\n",
       "      <td>51</td>\n",
       "      <td>58.0</td>\n",
       "      <td>6.0</td>\n",
       "      <td>1.27618</td>\n",
       "      <td>0</td>\n",
       "      <td>106137</td>\n",
       "      <td>1393</td>\n",
       "      <td>1044</td>\n",
       "      <td>10875</td>\n",
       "      <td>13304</td>\n",
       "      <td>4423</td>\n",
       "      <td>2.3321</td>\n",
       "      <td>NaN</td>\n",
       "      <td>NaN</td>\n",
       "      <td>NaN</td>\n",
       "      <td>NaN</td>\n",
       "      <td>NaN</td>\n",
       "      <td>NaN</td>\n",
       "      <td>NaN</td>\n",
       "      <td>NaN</td>\n",
       "      <td>NaN</td>\n",
       "      <td>NaN</td>\n",
       "      <td>NaN</td>\n",
       "      <td>NaN</td>\n",
       "      <td>NaN</td>\n",
       "      <td>NaN</td>\n",
       "      <td>NaN</td>\n",
       "    </tr>\n",
       "    <tr>\n",
       "      <th>4</th>\n",
       "      <td>87</td>\n",
       "      <td>36218</td>\n",
       "      <td>Dominion</td>\n",
       "      <td>2008</td>\n",
       "      <td>88</td>\n",
       "      <td>7.63</td>\n",
       "      <td>7.521</td>\n",
       "      <td>74933</td>\n",
       "      <td>/boardgame/36218/dominion</td>\n",
       "      <td>https://cf.geekdo-images.com/micro/img/VYp2s2f...</td>\n",
       "      <td>4</td>\n",
       "      <td>boardgame</td>\n",
       "      <td>https://cf.geekdo-images.com/thumb/img/iPlTR5c...</td>\n",
       "      <td>https://cf.geekdo-images.com/original/img/oN8C...</td>\n",
       "      <td>Dominion</td>\n",
       "      <td>['Dominion: Basisspiel', 'Dominion: In naam va...</td>\n",
       "      <td>&amp;quot;You are a monarch, like your parents bef...</td>\n",
       "      <td>2008</td>\n",
       "      <td>2</td>\n",
       "      <td>4</td>\n",
       "      <td>[OrderedDict([('@numplayers', '1'), ('result',...</td>\n",
       "      <td>[OrderedDict([('@value', '2'), ('@numvotes', '...</td>\n",
       "      <td>[OrderedDict([('@level', '31'), ('@value', 'No...</td>\n",
       "      <td>30</td>\n",
       "      <td>30</td>\n",
       "      <td>30</td>\n",
       "      <td>13</td>\n",
       "      <td>['Card Game', 'Medieval']</td>\n",
       "      <td>['Deck, Bag, and Pool Building', 'Delayed Purc...</td>\n",
       "      <td>['Crowdfunding: Wspieram', 'Game: Dominion', '...</td>\n",
       "      <td>['Ancient Times (Fan Expansion for Dominion)',...</td>\n",
       "      <td>['Dominion (Second Edition)', 'Het Koninkrijk ...</td>\n",
       "      <td>['Donald X. Vaccarino']</td>\n",
       "      <td>['Matthias Catrein', 'Julien Delval', 'Tomasz ...</td>\n",
       "      <td>['Rio Grande Games', '999 Games', 'Albi', 'Bar...</td>\n",
       "      <td>74959</td>\n",
       "      <td>7.62671</td>\n",
       "      <td>7.52038</td>\n",
       "      <td>89</td>\n",
       "      <td>89.0</td>\n",
       "      <td>NaN</td>\n",
       "      <td>1.42504</td>\n",
       "      <td>0</td>\n",
       "      <td>97736</td>\n",
       "      <td>1897</td>\n",
       "      <td>637</td>\n",
       "      <td>7607</td>\n",
       "      <td>13008</td>\n",
       "      <td>4850</td>\n",
       "      <td>2.3586</td>\n",
       "      <td>['Dominion: Intrigue']</td>\n",
       "      <td>['Dominion Big Box (English)', 'Dominion Big B...</td>\n",
       "      <td>NaN</td>\n",
       "      <td>NaN</td>\n",
       "      <td>NaN</td>\n",
       "      <td>NaN</td>\n",
       "      <td>NaN</td>\n",
       "      <td>NaN</td>\n",
       "      <td>NaN</td>\n",
       "      <td>NaN</td>\n",
       "      <td>NaN</td>\n",
       "      <td>NaN</td>\n",
       "      <td>NaN</td>\n",
       "      <td>NaN</td>\n",
       "      <td>NaN</td>\n",
       "    </tr>\n",
       "  </tbody>\n",
       "</table>\n",
       "</div>"
      ],
      "text/plain": [
       "   unnamed: 0     id  ... Arcade Rank  Atari ST Rank\n",
       "0          90  30549  ...         NaN            NaN\n",
       "1         172    822  ...         NaN            NaN\n",
       "2         380     13  ...         NaN            NaN\n",
       "3          49  68448  ...         NaN            NaN\n",
       "4          87  36218  ...         NaN            NaN\n",
       "\n",
       "[5 rows x 65 columns]"
      ]
     },
     "execution_count": 18,
     "metadata": {
      "tags": []
     },
     "output_type": "execute_result"
    }
   ],
   "source": [
    "bg = pd.merge(bgames, bg_detail, on='id', how='inner')\n",
    "bg.head()"
   ]
  },
  {
   "cell_type": "code",
   "execution_count": 19,
   "metadata": {
    "colab": {
     "base_uri": "https://localhost:8080/",
     "height": 200
    },
    "executionInfo": {
     "elapsed": 1047,
     "status": "ok",
     "timestamp": 1602489320786,
     "user": {
      "displayName": "xing wei chia",
      "photoUrl": "",
      "userId": "07433573390488668056"
     },
     "user_tz": -480
    },
    "id": "ul31MfgJqDrc",
    "outputId": "99d9284d-7952-4af0-e455-dbb16a1e5107"
   },
   "outputs": [
    {
     "data": {
      "text/html": [
       "<div>\n",
       "<style scoped>\n",
       "    .dataframe tbody tr th:only-of-type {\n",
       "        vertical-align: middle;\n",
       "    }\n",
       "\n",
       "    .dataframe tbody tr th {\n",
       "        vertical-align: top;\n",
       "    }\n",
       "\n",
       "    .dataframe thead th {\n",
       "        text-align: right;\n",
       "    }\n",
       "</style>\n",
       "<table border=\"1\" class=\"dataframe\">\n",
       "  <thead>\n",
       "    <tr style=\"text-align: right;\">\n",
       "      <th></th>\n",
       "      <th>name</th>\n",
       "      <th>primary</th>\n",
       "    </tr>\n",
       "  </thead>\n",
       "  <tbody>\n",
       "    <tr>\n",
       "      <th>0</th>\n",
       "      <td>Pandemic</td>\n",
       "      <td>Pandemic</td>\n",
       "    </tr>\n",
       "    <tr>\n",
       "      <th>1</th>\n",
       "      <td>Carcassonne</td>\n",
       "      <td>Carcassonne</td>\n",
       "    </tr>\n",
       "    <tr>\n",
       "      <th>2</th>\n",
       "      <td>Catan</td>\n",
       "      <td>Catan</td>\n",
       "    </tr>\n",
       "    <tr>\n",
       "      <th>3</th>\n",
       "      <td>7 Wonders</td>\n",
       "      <td>7 Wonders</td>\n",
       "    </tr>\n",
       "    <tr>\n",
       "      <th>4</th>\n",
       "      <td>Dominion</td>\n",
       "      <td>Dominion</td>\n",
       "    </tr>\n",
       "  </tbody>\n",
       "</table>\n",
       "</div>"
      ],
      "text/plain": [
       "          name      primary\n",
       "0     Pandemic     Pandemic\n",
       "1  Carcassonne  Carcassonne\n",
       "2        Catan        Catan\n",
       "3    7 Wonders    7 Wonders\n",
       "4     Dominion     Dominion"
      ]
     },
     "execution_count": 19,
     "metadata": {
      "tags": []
     },
     "output_type": "execute_result"
    }
   ],
   "source": [
    "# Checking on duplicated columns\n",
    "bg[['name','primary']].head()"
   ]
  },
  {
   "cell_type": "code",
   "execution_count": 20,
   "metadata": {
    "colab": {
     "base_uri": "https://localhost:8080/",
     "height": 200
    },
    "executionInfo": {
     "elapsed": 1103,
     "status": "ok",
     "timestamp": 1602489325664,
     "user": {
      "displayName": "xing wei chia",
      "photoUrl": "",
      "userId": "07433573390488668056"
     },
     "user_tz": -480
    },
    "id": "X9oWb-8tqFf1",
    "outputId": "45a96721-6aa7-41bc-bf6b-db8db7455bf9"
   },
   "outputs": [
    {
     "data": {
      "text/html": [
       "<div>\n",
       "<style scoped>\n",
       "    .dataframe tbody tr th:only-of-type {\n",
       "        vertical-align: middle;\n",
       "    }\n",
       "\n",
       "    .dataframe tbody tr th {\n",
       "        vertical-align: top;\n",
       "    }\n",
       "\n",
       "    .dataframe thead th {\n",
       "        text-align: right;\n",
       "    }\n",
       "</style>\n",
       "<table border=\"1\" class=\"dataframe\">\n",
       "  <thead>\n",
       "    <tr style=\"text-align: right;\">\n",
       "      <th></th>\n",
       "      <th>year</th>\n",
       "      <th>yearpublished</th>\n",
       "    </tr>\n",
       "  </thead>\n",
       "  <tbody>\n",
       "    <tr>\n",
       "      <th>0</th>\n",
       "      <td>2008</td>\n",
       "      <td>2008</td>\n",
       "    </tr>\n",
       "    <tr>\n",
       "      <th>1</th>\n",
       "      <td>2000</td>\n",
       "      <td>2000</td>\n",
       "    </tr>\n",
       "    <tr>\n",
       "      <th>2</th>\n",
       "      <td>1995</td>\n",
       "      <td>1995</td>\n",
       "    </tr>\n",
       "    <tr>\n",
       "      <th>3</th>\n",
       "      <td>2010</td>\n",
       "      <td>2010</td>\n",
       "    </tr>\n",
       "    <tr>\n",
       "      <th>4</th>\n",
       "      <td>2008</td>\n",
       "      <td>2008</td>\n",
       "    </tr>\n",
       "  </tbody>\n",
       "</table>\n",
       "</div>"
      ],
      "text/plain": [
       "   year  yearpublished\n",
       "0  2008           2008\n",
       "1  2000           2000\n",
       "2  1995           1995\n",
       "3  2010           2010\n",
       "4  2008           2008"
      ]
     },
     "execution_count": 20,
     "metadata": {
      "tags": []
     },
     "output_type": "execute_result"
    }
   ],
   "source": [
    "# Checking on duplicated columns\n",
    "bg[['year','yearpublished']].head()"
   ]
  },
  {
   "cell_type": "code",
   "execution_count": 21,
   "metadata": {
    "colab": {
     "base_uri": "https://localhost:8080/",
     "height": 200
    },
    "executionInfo": {
     "elapsed": 671,
     "status": "ok",
     "timestamp": 1602489326844,
     "user": {
      "displayName": "xing wei chia",
      "photoUrl": "",
      "userId": "07433573390488668056"
     },
     "user_tz": -480
    },
    "id": "2Mz9tloCqHTV",
    "outputId": "6d73ddb3-577c-418c-f99c-1576ce6cbe56"
   },
   "outputs": [
    {
     "data": {
      "text/html": [
       "<div>\n",
       "<style scoped>\n",
       "    .dataframe tbody tr th:only-of-type {\n",
       "        vertical-align: middle;\n",
       "    }\n",
       "\n",
       "    .dataframe tbody tr th {\n",
       "        vertical-align: top;\n",
       "    }\n",
       "\n",
       "    .dataframe thead th {\n",
       "        text-align: right;\n",
       "    }\n",
       "</style>\n",
       "<table border=\"1\" class=\"dataframe\">\n",
       "  <thead>\n",
       "    <tr style=\"text-align: right;\">\n",
       "      <th></th>\n",
       "      <th>average_x</th>\n",
       "      <th>average_y</th>\n",
       "    </tr>\n",
       "  </thead>\n",
       "  <tbody>\n",
       "    <tr>\n",
       "      <th>0</th>\n",
       "      <td>7.62</td>\n",
       "      <td>7.61567</td>\n",
       "    </tr>\n",
       "    <tr>\n",
       "      <th>1</th>\n",
       "      <td>7.42</td>\n",
       "      <td>7.41884</td>\n",
       "    </tr>\n",
       "    <tr>\n",
       "      <th>2</th>\n",
       "      <td>7.16</td>\n",
       "      <td>7.16265</td>\n",
       "    </tr>\n",
       "    <tr>\n",
       "      <th>3</th>\n",
       "      <td>7.76</td>\n",
       "      <td>7.76049</td>\n",
       "    </tr>\n",
       "    <tr>\n",
       "      <th>4</th>\n",
       "      <td>7.63</td>\n",
       "      <td>7.62671</td>\n",
       "    </tr>\n",
       "  </tbody>\n",
       "</table>\n",
       "</div>"
      ],
      "text/plain": [
       "   average_x  average_y\n",
       "0       7.62    7.61567\n",
       "1       7.42    7.41884\n",
       "2       7.16    7.16265\n",
       "3       7.76    7.76049\n",
       "4       7.63    7.62671"
      ]
     },
     "execution_count": 21,
     "metadata": {
      "tags": []
     },
     "output_type": "execute_result"
    }
   ],
   "source": [
    "# Checking on duplicated columns\n",
    "bg[['average_x','average_y']].head()"
   ]
  },
  {
   "cell_type": "code",
   "execution_count": 22,
   "metadata": {
    "colab": {
     "base_uri": "https://localhost:8080/",
     "height": 200
    },
    "executionInfo": {
     "elapsed": 1073,
     "status": "ok",
     "timestamp": 1602489328875,
     "user": {
      "displayName": "xing wei chia",
      "photoUrl": "",
      "userId": "07433573390488668056"
     },
     "user_tz": -480
    },
    "id": "6LD5H4rdqJJn",
    "outputId": "221f4c20-4586-453a-f15a-9159c94bab95"
   },
   "outputs": [
    {
     "data": {
      "text/html": [
       "<div>\n",
       "<style scoped>\n",
       "    .dataframe tbody tr th:only-of-type {\n",
       "        vertical-align: middle;\n",
       "    }\n",
       "\n",
       "    .dataframe tbody tr th {\n",
       "        vertical-align: top;\n",
       "    }\n",
       "\n",
       "    .dataframe thead th {\n",
       "        text-align: right;\n",
       "    }\n",
       "</style>\n",
       "<table border=\"1\" class=\"dataframe\">\n",
       "  <thead>\n",
       "    <tr style=\"text-align: right;\">\n",
       "      <th></th>\n",
       "      <th>bayes average</th>\n",
       "      <th>bayesaverage</th>\n",
       "    </tr>\n",
       "  </thead>\n",
       "  <tbody>\n",
       "    <tr>\n",
       "      <th>0</th>\n",
       "      <td>7.518</td>\n",
       "      <td>7.51795</td>\n",
       "    </tr>\n",
       "    <tr>\n",
       "      <th>1</th>\n",
       "      <td>7.311</td>\n",
       "      <td>7.31105</td>\n",
       "    </tr>\n",
       "    <tr>\n",
       "      <th>2</th>\n",
       "      <td>7.001</td>\n",
       "      <td>7.00045</td>\n",
       "    </tr>\n",
       "    <tr>\n",
       "      <th>3</th>\n",
       "      <td>7.662</td>\n",
       "      <td>7.66214</td>\n",
       "    </tr>\n",
       "    <tr>\n",
       "      <th>4</th>\n",
       "      <td>7.521</td>\n",
       "      <td>7.52038</td>\n",
       "    </tr>\n",
       "  </tbody>\n",
       "</table>\n",
       "</div>"
      ],
      "text/plain": [
       "   bayes average  bayesaverage\n",
       "0          7.518       7.51795\n",
       "1          7.311       7.31105\n",
       "2          7.001       7.00045\n",
       "3          7.662       7.66214\n",
       "4          7.521       7.52038"
      ]
     },
     "execution_count": 22,
     "metadata": {
      "tags": []
     },
     "output_type": "execute_result"
    }
   ],
   "source": [
    "# Checking on duplicated columns\n",
    "bg[['bayes average','bayesaverage']].head()"
   ]
  },
  {
   "cell_type": "code",
   "execution_count": 23,
   "metadata": {
    "colab": {
     "base_uri": "https://localhost:8080/",
     "height": 200
    },
    "executionInfo": {
     "elapsed": 698,
     "status": "ok",
     "timestamp": 1602489330052,
     "user": {
      "displayName": "xing wei chia",
      "photoUrl": "",
      "userId": "07433573390488668056"
     },
     "user_tz": -480
    },
    "id": "pW_OX5VeqRXf",
    "outputId": "556a3b68-2a55-49af-fd88-5ef0ef4f0ce5"
   },
   "outputs": [
    {
     "data": {
      "text/html": [
       "<div>\n",
       "<style scoped>\n",
       "    .dataframe tbody tr th:only-of-type {\n",
       "        vertical-align: middle;\n",
       "    }\n",
       "\n",
       "    .dataframe tbody tr th {\n",
       "        vertical-align: top;\n",
       "    }\n",
       "\n",
       "    .dataframe thead th {\n",
       "        text-align: right;\n",
       "    }\n",
       "</style>\n",
       "<table border=\"1\" class=\"dataframe\">\n",
       "  <thead>\n",
       "    <tr style=\"text-align: right;\">\n",
       "      <th></th>\n",
       "      <th>users rated</th>\n",
       "      <th>usersrated</th>\n",
       "    </tr>\n",
       "  </thead>\n",
       "  <tbody>\n",
       "    <tr>\n",
       "      <th>0</th>\n",
       "      <td>96186</td>\n",
       "      <td>96241</td>\n",
       "    </tr>\n",
       "    <tr>\n",
       "      <th>1</th>\n",
       "      <td>96181</td>\n",
       "      <td>96228</td>\n",
       "    </tr>\n",
       "    <tr>\n",
       "      <th>2</th>\n",
       "      <td>96171</td>\n",
       "      <td>96213</td>\n",
       "    </tr>\n",
       "    <tr>\n",
       "      <th>3</th>\n",
       "      <td>79830</td>\n",
       "      <td>79873</td>\n",
       "    </tr>\n",
       "    <tr>\n",
       "      <th>4</th>\n",
       "      <td>74933</td>\n",
       "      <td>74959</td>\n",
       "    </tr>\n",
       "  </tbody>\n",
       "</table>\n",
       "</div>"
      ],
      "text/plain": [
       "   users rated  usersrated\n",
       "0        96186       96241\n",
       "1        96181       96228\n",
       "2        96171       96213\n",
       "3        79830       79873\n",
       "4        74933       74959"
      ]
     },
     "execution_count": 23,
     "metadata": {
      "tags": []
     },
     "output_type": "execute_result"
    }
   ],
   "source": [
    "# Checking on duplicated columns\n",
    "bg[['users rated','usersrated']].head()"
   ]
  },
  {
   "cell_type": "code",
   "execution_count": 24,
   "metadata": {
    "executionInfo": {
     "elapsed": 2316,
     "status": "ok",
     "timestamp": 1602489335216,
     "user": {
      "displayName": "xing wei chia",
      "photoUrl": "",
      "userId": "07433573390488668056"
     },
     "user_tz": -480
    },
    "id": "C7SYnbFAqUHN"
   },
   "outputs": [],
   "source": [
    "# Drop duplicated columns\n",
    "bg.drop(columns = ['unnamed: 0','yearpublished','average_x','thumbnail_x','Unnamed: 0','primary','usersrated','bayesaverage'],\n",
    "        inplace=True)\n",
    "\n",
    "# Rename columns\n",
    "bg.rename(columns = {'thumbnail_y':'thumbnail','average_y':'average'},inplace=True)"
   ]
  },
  {
   "cell_type": "code",
   "execution_count": 25,
   "metadata": {
    "colab": {
     "base_uri": "https://localhost:8080/",
     "height": 1000
    },
    "executionInfo": {
     "elapsed": 1226,
     "status": "ok",
     "timestamp": 1602489337529,
     "user": {
      "displayName": "xing wei chia",
      "photoUrl": "",
      "userId": "07433573390488668056"
     },
     "user_tz": -480
    },
    "id": "7p-BytKBqWjb",
    "outputId": "b9d6b450-d34f-404e-e568-d9775ffe89da",
    "scrolled": true
   },
   "outputs": [
    {
     "name": "stdout",
     "output_type": "stream",
     "text": [
      "<class 'pandas.core.frame.DataFrame'>\n",
      "Int64Index: 19230 entries, 0 to 19229\n",
      "Data columns (total 57 columns):\n",
      " #   Column                         Non-Null Count  Dtype  \n",
      "---  ------                         --------------  -----  \n",
      " 0   id                             19230 non-null  int64  \n",
      " 1   name                           19230 non-null  object \n",
      " 2   year                           19230 non-null  int64  \n",
      " 3   rank                           19230 non-null  int64  \n",
      " 4   bayes average                  19230 non-null  float64\n",
      " 5   users rated                    19230 non-null  int64  \n",
      " 6   url                            19230 non-null  object \n",
      " 7   type                           19230 non-null  object \n",
      " 8   thumbnail                      19211 non-null  object \n",
      " 9   image                          19211 non-null  object \n",
      " 10  alternate                      7685 non-null   object \n",
      " 11  description                    19229 non-null  object \n",
      " 12  minplayers                     19230 non-null  int64  \n",
      " 13  maxplayers                     19230 non-null  int64  \n",
      " 14  suggested_num_players          19230 non-null  object \n",
      " 15  suggested_playerage            16884 non-null  object \n",
      " 16  suggested_language_dependence  16645 non-null  object \n",
      " 17  playingtime                    19230 non-null  int64  \n",
      " 18  minplaytime                    19230 non-null  int64  \n",
      " 19  maxplaytime                    19230 non-null  int64  \n",
      " 20  minage                         19230 non-null  int64  \n",
      " 21  boardgamecategory              19009 non-null  object \n",
      " 22  boardgamemechanic              17681 non-null  object \n",
      " 23  boardgamefamily                14743 non-null  object \n",
      " 24  boardgameexpansion             4784 non-null   object \n",
      " 25  boardgameimplementation        4091 non-null   object \n",
      " 26  boardgamedesigner              18800 non-null  object \n",
      " 27  boardgameartist                13833 non-null  object \n",
      " 28  boardgamepublisher             19230 non-null  object \n",
      " 29  average                        19230 non-null  float64\n",
      " 30  Board Game Rank                19230 non-null  int64  \n",
      " 31  Strategy Game Rank             2075 non-null   float64\n",
      " 32  Family Game Rank               2001 non-null   float64\n",
      " 33  stddev                         19230 non-null  float64\n",
      " 34  median                         19230 non-null  int64  \n",
      " 35  owned                          19230 non-null  int64  \n",
      " 36  trading                        19230 non-null  int64  \n",
      " 37  wanting                        19230 non-null  int64  \n",
      " 38  wishing                        19230 non-null  int64  \n",
      " 39  numcomments                    19230 non-null  int64  \n",
      " 40  numweights                     19230 non-null  int64  \n",
      " 41  averageweight                  19230 non-null  float64\n",
      " 42  boardgameintegration           1418 non-null   object \n",
      " 43  boardgamecompilation           694 non-null    object \n",
      " 44  Party Game Rank                582 non-null    float64\n",
      " 45  Abstract Game Rank             1026 non-null   float64\n",
      " 46  Thematic Rank                  1125 non-null   float64\n",
      " 47  War Game Rank                  3213 non-null   float64\n",
      " 48  Customizable Rank              289 non-null    float64\n",
      " 49  Children's Game Rank           810 non-null    float64\n",
      " 50  RPG Item Rank                  1 non-null      float64\n",
      " 51  Accessory Rank                 1 non-null      float64\n",
      " 52  Video Game Rank                1 non-null      float64\n",
      " 53  Amiga Rank                     1 non-null      float64\n",
      " 54  Commodore 64 Rank              1 non-null      float64\n",
      " 55  Arcade Rank                    1 non-null      float64\n",
      " 56  Atari ST Rank                  1 non-null      float64\n",
      "dtypes: float64(19), int64(18), object(20)\n",
      "memory usage: 8.5+ MB\n"
     ]
    }
   ],
   "source": [
    "bg.info()"
   ]
  },
  {
   "cell_type": "code",
   "execution_count": null,
   "metadata": {
    "id": "kSTynqGxqYJj"
   },
   "outputs": [],
   "source": [
    "# Save a dataset \n",
    "# bg.to_csv('boardgames_content.csv',index=False)"
   ]
  },
  {
   "cell_type": "markdown",
   "metadata": {
    "id": "PVrhoGtGzx3T"
   },
   "source": [
    "Note:\n",
    "- This dataset will be used for content based filtering recommendation in notebook 3."
   ]
  },
  {
   "cell_type": "markdown",
   "metadata": {
    "id": "rG7HRwLhqtyM"
   },
   "source": [
    "## EDA on Board Game Content "
   ]
  },
  {
   "cell_type": "markdown",
   "metadata": {
    "id": "tgUuhF6sPD6u"
   },
   "source": [
    "### Year Published"
   ]
  },
  {
   "cell_type": "code",
   "execution_count": 26,
   "metadata": {
    "colab": {
     "base_uri": "https://localhost:8080/",
     "height": 282
    },
    "executionInfo": {
     "elapsed": 1187,
     "status": "ok",
     "timestamp": 1602489431645,
     "user": {
      "displayName": "xing wei chia",
      "photoUrl": "",
      "userId": "07433573390488668056"
     },
     "user_tz": -480
    },
    "id": "hQWtHvsqqvyv",
    "outputId": "e835a6ee-71d6-46fc-e3bd-700c7a268484"
   },
   "outputs": [
    {
     "data": {
      "text/html": [
       "<div>\n",
       "<style scoped>\n",
       "    .dataframe tbody tr th:only-of-type {\n",
       "        vertical-align: middle;\n",
       "    }\n",
       "\n",
       "    .dataframe tbody tr th {\n",
       "        vertical-align: top;\n",
       "    }\n",
       "\n",
       "    .dataframe thead th {\n",
       "        text-align: right;\n",
       "    }\n",
       "</style>\n",
       "<table border=\"1\" class=\"dataframe\">\n",
       "  <thead>\n",
       "    <tr style=\"text-align: right;\">\n",
       "      <th></th>\n",
       "      <th>id</th>\n",
       "      <th>name</th>\n",
       "      <th>year</th>\n",
       "      <th>rank</th>\n",
       "      <th>bayes average</th>\n",
       "      <th>users rated</th>\n",
       "      <th>url</th>\n",
       "      <th>type</th>\n",
       "      <th>thumbnail</th>\n",
       "      <th>image</th>\n",
       "      <th>alternate</th>\n",
       "      <th>description</th>\n",
       "      <th>minplayers</th>\n",
       "      <th>maxplayers</th>\n",
       "      <th>suggested_num_players</th>\n",
       "      <th>suggested_playerage</th>\n",
       "      <th>suggested_language_dependence</th>\n",
       "      <th>playingtime</th>\n",
       "      <th>minplaytime</th>\n",
       "      <th>maxplaytime</th>\n",
       "      <th>minage</th>\n",
       "      <th>boardgamecategory</th>\n",
       "      <th>boardgamemechanic</th>\n",
       "      <th>boardgamefamily</th>\n",
       "      <th>boardgameexpansion</th>\n",
       "      <th>boardgameimplementation</th>\n",
       "      <th>boardgamedesigner</th>\n",
       "      <th>boardgameartist</th>\n",
       "      <th>boardgamepublisher</th>\n",
       "      <th>average</th>\n",
       "      <th>Board Game Rank</th>\n",
       "      <th>Strategy Game Rank</th>\n",
       "      <th>Family Game Rank</th>\n",
       "      <th>stddev</th>\n",
       "      <th>median</th>\n",
       "      <th>owned</th>\n",
       "      <th>trading</th>\n",
       "      <th>wanting</th>\n",
       "      <th>wishing</th>\n",
       "      <th>numcomments</th>\n",
       "      <th>numweights</th>\n",
       "      <th>averageweight</th>\n",
       "      <th>boardgameintegration</th>\n",
       "      <th>boardgamecompilation</th>\n",
       "      <th>Party Game Rank</th>\n",
       "      <th>Abstract Game Rank</th>\n",
       "      <th>Thematic Rank</th>\n",
       "      <th>War Game Rank</th>\n",
       "      <th>Customizable Rank</th>\n",
       "      <th>Children's Game Rank</th>\n",
       "      <th>RPG Item Rank</th>\n",
       "      <th>Accessory Rank</th>\n",
       "      <th>Video Game Rank</th>\n",
       "      <th>Amiga Rank</th>\n",
       "      <th>Commodore 64 Rank</th>\n",
       "      <th>Arcade Rank</th>\n",
       "      <th>Atari ST Rank</th>\n",
       "    </tr>\n",
       "  </thead>\n",
       "  <tbody>\n",
       "    <tr>\n",
       "      <th>1765</th>\n",
       "      <td>30618</td>\n",
       "      <td>Eat Poop You Cat</td>\n",
       "      <td>0</td>\n",
       "      <td>960</td>\n",
       "      <td>6.524</td>\n",
       "      <td>1560</td>\n",
       "      <td>/boardgame/30618/eat-poop-you-cat</td>\n",
       "      <td>boardgame</td>\n",
       "      <td>https://cf.geekdo-images.com/thumb/img/RYlMwHC...</td>\n",
       "      <td>https://cf.geekdo-images.com/original/img/hjqV...</td>\n",
       "      <td>['Birthday Kitten', 'Broken Picture Telephone'...</td>\n",
       "      <td>Each player starts with a piece of paper and a...</td>\n",
       "      <td>3</td>\n",
       "      <td>99</td>\n",
       "      <td>[OrderedDict([('@numplayers', '1'), ('result',...</td>\n",
       "      <td>[OrderedDict([('@value', '2'), ('@numvotes', '...</td>\n",
       "      <td>[OrderedDict([('@level', '21'), ('@value', 'No...</td>\n",
       "      <td>20</td>\n",
       "      <td>20</td>\n",
       "      <td>20</td>\n",
       "      <td>0</td>\n",
       "      <td>['Humor', 'Party Game']</td>\n",
       "      <td>['Paper-and-Pencil']</td>\n",
       "      <td>['Admin: Outside the Scope of BGG']</td>\n",
       "      <td>NaN</td>\n",
       "      <td>NaN</td>\n",
       "      <td>['(Uncredited)']</td>\n",
       "      <td>NaN</td>\n",
       "      <td>['(Public Domain)']</td>\n",
       "      <td>7.47447</td>\n",
       "      <td>961</td>\n",
       "      <td>NaN</td>\n",
       "      <td>NaN</td>\n",
       "      <td>1.76688</td>\n",
       "      <td>0</td>\n",
       "      <td>797</td>\n",
       "      <td>4</td>\n",
       "      <td>16</td>\n",
       "      <td>171</td>\n",
       "      <td>505</td>\n",
       "      <td>116</td>\n",
       "      <td>1.1121</td>\n",
       "      <td>NaN</td>\n",
       "      <td>NaN</td>\n",
       "      <td>29.0</td>\n",
       "      <td>NaN</td>\n",
       "      <td>NaN</td>\n",
       "      <td>NaN</td>\n",
       "      <td>NaN</td>\n",
       "      <td>NaN</td>\n",
       "      <td>NaN</td>\n",
       "      <td>NaN</td>\n",
       "      <td>NaN</td>\n",
       "      <td>NaN</td>\n",
       "      <td>NaN</td>\n",
       "      <td>NaN</td>\n",
       "      <td>NaN</td>\n",
       "    </tr>\n",
       "    <tr>\n",
       "      <th>1795</th>\n",
       "      <td>5072</td>\n",
       "      <td>Carrom</td>\n",
       "      <td>0</td>\n",
       "      <td>1468</td>\n",
       "      <td>6.267</td>\n",
       "      <td>1526</td>\n",
       "      <td>/boardgame/5072/carrom</td>\n",
       "      <td>boardgame</td>\n",
       "      <td>https://cf.geekdo-images.com/thumb/img/KNzA5Z4...</td>\n",
       "      <td>https://cf.geekdo-images.com/original/img/tmjr...</td>\n",
       "      <td>['Bichoncho', 'Bob Spil', 'Carambole', 'Caramb...</td>\n",
       "      <td>Carrom is most easily described as &amp;quot;finge...</td>\n",
       "      <td>2</td>\n",
       "      <td>4</td>\n",
       "      <td>[OrderedDict([('@numplayers', '1'), ('result',...</td>\n",
       "      <td>[OrderedDict([('@value', '2'), ('@numvotes', '...</td>\n",
       "      <td>[OrderedDict([('@level', '6'), ('@value', 'No ...</td>\n",
       "      <td>60</td>\n",
       "      <td>60</td>\n",
       "      <td>60</td>\n",
       "      <td>6</td>\n",
       "      <td>['Action / Dexterity']</td>\n",
       "      <td>['Flicking', 'Team-Based Game']</td>\n",
       "      <td>['Mechanic: Finger Flicking Games', 'Tradition...</td>\n",
       "      <td>NaN</td>\n",
       "      <td>NaN</td>\n",
       "      <td>['(Uncredited)']</td>\n",
       "      <td>NaN</td>\n",
       "      <td>['(Public Domain)', '(Unknown)', 'ABRA', 'ASS ...</td>\n",
       "      <td>7.01652</td>\n",
       "      <td>1468</td>\n",
       "      <td>NaN</td>\n",
       "      <td>367.0</td>\n",
       "      <td>1.51345</td>\n",
       "      <td>0</td>\n",
       "      <td>1708</td>\n",
       "      <td>34</td>\n",
       "      <td>54</td>\n",
       "      <td>346</td>\n",
       "      <td>406</td>\n",
       "      <td>120</td>\n",
       "      <td>1.4833</td>\n",
       "      <td>NaN</td>\n",
       "      <td>NaN</td>\n",
       "      <td>NaN</td>\n",
       "      <td>NaN</td>\n",
       "      <td>NaN</td>\n",
       "      <td>NaN</td>\n",
       "      <td>NaN</td>\n",
       "      <td>NaN</td>\n",
       "      <td>NaN</td>\n",
       "      <td>NaN</td>\n",
       "      <td>NaN</td>\n",
       "      <td>NaN</td>\n",
       "      <td>NaN</td>\n",
       "      <td>NaN</td>\n",
       "      <td>NaN</td>\n",
       "    </tr>\n",
       "  </tbody>\n",
       "</table>\n",
       "</div>"
      ],
      "text/plain": [
       "         id              name  ...  Arcade Rank  Atari ST Rank\n",
       "1765  30618  Eat Poop You Cat  ...          NaN            NaN\n",
       "1795   5072            Carrom  ...          NaN            NaN\n",
       "\n",
       "[2 rows x 57 columns]"
      ]
     },
     "execution_count": 26,
     "metadata": {
      "tags": []
     },
     "output_type": "execute_result"
    }
   ],
   "source": [
    "bg[bg['year'] == 0].head(2)"
   ]
  },
  {
   "cell_type": "markdown",
   "metadata": {
    "id": "C5pja8y1q09j"
   },
   "source": [
    "Note: \n",
    "- Some are not really a boardgame but it was in board game geek database\n",
    "\n",
    "eg: Eat Poop You Cat does not comport with the BGG guidelines for what constitutes a game, but is kept in the database by popular demand and administrative fiat.(https://boardgamegeek.com/wiki/page/thing:30618)"
   ]
  },
  {
   "cell_type": "code",
   "execution_count": 27,
   "metadata": {
    "colab": {
     "base_uri": "https://localhost:8080/",
     "height": 316
    },
    "executionInfo": {
     "elapsed": 1237,
     "status": "ok",
     "timestamp": 1602489456196,
     "user": {
      "displayName": "xing wei chia",
      "photoUrl": "",
      "userId": "07433573390488668056"
     },
     "user_tz": -480
    },
    "id": "FPs8oitSqxpU",
    "outputId": "5734539a-3824-48bb-e5e8-0a76536c6c9c"
   },
   "outputs": [
    {
     "data": {
      "text/html": [
       "<div>\n",
       "<style scoped>\n",
       "    .dataframe tbody tr th:only-of-type {\n",
       "        vertical-align: middle;\n",
       "    }\n",
       "\n",
       "    .dataframe tbody tr th {\n",
       "        vertical-align: top;\n",
       "    }\n",
       "\n",
       "    .dataframe thead th {\n",
       "        text-align: right;\n",
       "    }\n",
       "</style>\n",
       "<table border=\"1\" class=\"dataframe\">\n",
       "  <thead>\n",
       "    <tr style=\"text-align: right;\">\n",
       "      <th></th>\n",
       "      <th>id</th>\n",
       "      <th>name</th>\n",
       "      <th>year</th>\n",
       "      <th>rank</th>\n",
       "      <th>bayes average</th>\n",
       "      <th>users rated</th>\n",
       "      <th>url</th>\n",
       "      <th>type</th>\n",
       "      <th>thumbnail</th>\n",
       "      <th>image</th>\n",
       "      <th>alternate</th>\n",
       "      <th>description</th>\n",
       "      <th>minplayers</th>\n",
       "      <th>maxplayers</th>\n",
       "      <th>suggested_num_players</th>\n",
       "      <th>suggested_playerage</th>\n",
       "      <th>suggested_language_dependence</th>\n",
       "      <th>playingtime</th>\n",
       "      <th>minplaytime</th>\n",
       "      <th>maxplaytime</th>\n",
       "      <th>minage</th>\n",
       "      <th>boardgamecategory</th>\n",
       "      <th>boardgamemechanic</th>\n",
       "      <th>boardgamefamily</th>\n",
       "      <th>boardgameexpansion</th>\n",
       "      <th>boardgameimplementation</th>\n",
       "      <th>boardgamedesigner</th>\n",
       "      <th>boardgameartist</th>\n",
       "      <th>boardgamepublisher</th>\n",
       "      <th>average</th>\n",
       "      <th>Board Game Rank</th>\n",
       "      <th>Strategy Game Rank</th>\n",
       "      <th>Family Game Rank</th>\n",
       "      <th>stddev</th>\n",
       "      <th>median</th>\n",
       "      <th>owned</th>\n",
       "      <th>trading</th>\n",
       "      <th>wanting</th>\n",
       "      <th>wishing</th>\n",
       "      <th>numcomments</th>\n",
       "      <th>numweights</th>\n",
       "      <th>averageweight</th>\n",
       "      <th>boardgameintegration</th>\n",
       "      <th>boardgamecompilation</th>\n",
       "      <th>Party Game Rank</th>\n",
       "      <th>Abstract Game Rank</th>\n",
       "      <th>Thematic Rank</th>\n",
       "      <th>War Game Rank</th>\n",
       "      <th>Customizable Rank</th>\n",
       "      <th>Children's Game Rank</th>\n",
       "      <th>RPG Item Rank</th>\n",
       "      <th>Accessory Rank</th>\n",
       "      <th>Video Game Rank</th>\n",
       "      <th>Amiga Rank</th>\n",
       "      <th>Commodore 64 Rank</th>\n",
       "      <th>Arcade Rank</th>\n",
       "      <th>Atari ST Rank</th>\n",
       "    </tr>\n",
       "  </thead>\n",
       "  <tbody>\n",
       "    <tr>\n",
       "      <th>187</th>\n",
       "      <td>188</td>\n",
       "      <td>Go</td>\n",
       "      <td>2200</td>\n",
       "      <td>162</td>\n",
       "      <td>7.330</td>\n",
       "      <td>14296</td>\n",
       "      <td>/boardgame/188/go</td>\n",
       "      <td>boardgame</td>\n",
       "      <td>https://cf.geekdo-images.com/thumb/img/jldK9or...</td>\n",
       "      <td>https://cf.geekdo-images.com/original/img/bCv9...</td>\n",
       "      <td>['Atari Go', 'Baduk', 'Cờ Vây', 'The Game of G...</td>\n",
       "      <td>By all appearances, it's just two players taki...</td>\n",
       "      <td>2</td>\n",
       "      <td>2</td>\n",
       "      <td>[OrderedDict([('@numplayers', '1'), ('result',...</td>\n",
       "      <td>[OrderedDict([('@value', '2'), ('@numvotes', '...</td>\n",
       "      <td>[OrderedDict([('@level', '1'), ('@value', 'No ...</td>\n",
       "      <td>180</td>\n",
       "      <td>30</td>\n",
       "      <td>180</td>\n",
       "      <td>8</td>\n",
       "      <td>['Abstract Strategy']</td>\n",
       "      <td>['Enclosure', 'Square Grid']</td>\n",
       "      <td>['Category: Combinatorial', 'Players: Two Play...</td>\n",
       "      <td>['Joker Go', 'Poker-Go']</td>\n",
       "      <td>NaN</td>\n",
       "      <td>['(Uncredited)']</td>\n",
       "      <td>['(Uncredited)', 'Barbro Hennius', 'Norman Som...</td>\n",
       "      <td>['(Public Domain)', '(Self-Published)', '(Unkn...</td>\n",
       "      <td>7.63476</td>\n",
       "      <td>162</td>\n",
       "      <td>NaN</td>\n",
       "      <td>NaN</td>\n",
       "      <td>1.91066</td>\n",
       "      <td>0</td>\n",
       "      <td>19549</td>\n",
       "      <td>267</td>\n",
       "      <td>144</td>\n",
       "      <td>1529</td>\n",
       "      <td>3590</td>\n",
       "      <td>1392</td>\n",
       "      <td>3.9978</td>\n",
       "      <td>NaN</td>\n",
       "      <td>['The 15 Greatest Board Games in the World', '...</td>\n",
       "      <td>NaN</td>\n",
       "      <td>11.0</td>\n",
       "      <td>NaN</td>\n",
       "      <td>NaN</td>\n",
       "      <td>NaN</td>\n",
       "      <td>NaN</td>\n",
       "      <td>NaN</td>\n",
       "      <td>NaN</td>\n",
       "      <td>NaN</td>\n",
       "      <td>NaN</td>\n",
       "      <td>NaN</td>\n",
       "      <td>NaN</td>\n",
       "      <td>NaN</td>\n",
       "    </tr>\n",
       "    <tr>\n",
       "      <th>266</th>\n",
       "      <td>2397</td>\n",
       "      <td>Backgammon</td>\n",
       "      <td>3000</td>\n",
       "      <td>1238</td>\n",
       "      <td>6.365</td>\n",
       "      <td>11209</td>\n",
       "      <td>/boardgame/2397/backgammon</td>\n",
       "      <td>boardgame</td>\n",
       "      <td>https://cf.geekdo-images.com/thumb/img/OFa9r8x...</td>\n",
       "      <td>https://cf.geekdo-images.com/original/img/xAF3...</td>\n",
       "      <td>['Acey-Deucy  (variation)', 'Aqua Player Float...</td>\n",
       "      <td>Backgammon is a classic abstract strategy game...</td>\n",
       "      <td>2</td>\n",
       "      <td>2</td>\n",
       "      <td>[OrderedDict([('@numplayers', '1'), ('result',...</td>\n",
       "      <td>[OrderedDict([('@value', '2'), ('@numvotes', '...</td>\n",
       "      <td>[OrderedDict([('@level', '6'), ('@value', 'No ...</td>\n",
       "      <td>30</td>\n",
       "      <td>30</td>\n",
       "      <td>30</td>\n",
       "      <td>8</td>\n",
       "      <td>['Abstract Strategy', 'Dice']</td>\n",
       "      <td>['Advantage Token', 'Betting and Bluffing', 'D...</td>\n",
       "      <td>['Movies: Austin Powers', 'Players: Two Player...</td>\n",
       "      <td>['Backgammon: Zombie Rush', 'Dargammon', 'Wham...</td>\n",
       "      <td>NaN</td>\n",
       "      <td>['(Uncredited)']</td>\n",
       "      <td>['(Uncredited)', 'Willem Cornelisz Duyster']</td>\n",
       "      <td>['(Public Domain)', '(Unknown)', '3M', 'Alga',...</td>\n",
       "      <td>6.53543</td>\n",
       "      <td>1238</td>\n",
       "      <td>NaN</td>\n",
       "      <td>NaN</td>\n",
       "      <td>1.60130</td>\n",
       "      <td>0</td>\n",
       "      <td>16960</td>\n",
       "      <td>128</td>\n",
       "      <td>18</td>\n",
       "      <td>214</td>\n",
       "      <td>2967</td>\n",
       "      <td>903</td>\n",
       "      <td>2.0221</td>\n",
       "      <td>NaN</td>\n",
       "      <td>['The Boardgame Book', 'The Book of Classic Bo...</td>\n",
       "      <td>NaN</td>\n",
       "      <td>127.0</td>\n",
       "      <td>NaN</td>\n",
       "      <td>NaN</td>\n",
       "      <td>NaN</td>\n",
       "      <td>NaN</td>\n",
       "      <td>NaN</td>\n",
       "      <td>NaN</td>\n",
       "      <td>NaN</td>\n",
       "      <td>NaN</td>\n",
       "      <td>NaN</td>\n",
       "      <td>NaN</td>\n",
       "      <td>NaN</td>\n",
       "    </tr>\n",
       "  </tbody>\n",
       "</table>\n",
       "</div>"
      ],
      "text/plain": [
       "       id        name  year  ...  Commodore 64 Rank  Arcade Rank  Atari ST Rank\n",
       "187   188          Go  2200  ...                NaN          NaN            NaN\n",
       "266  2397  Backgammon  3000  ...                NaN          NaN            NaN\n",
       "\n",
       "[2 rows x 57 columns]"
      ]
     },
     "execution_count": 27,
     "metadata": {
      "tags": []
     },
     "output_type": "execute_result"
    }
   ],
   "source": [
    "bg[bg['year']>2020].head(2)"
   ]
  },
  {
   "cell_type": "markdown",
   "metadata": {
    "id": "8OV2vAmkq6g7"
   },
   "source": [
    "Note : \n",
    "- Some of the boardgame are old games.\n",
    "\n",
    "eg: Backgammon is one of the oldest known board games. Its history can be traced back nearly 5,000 years to archaeological discoveries in Mesopotamia (https://en.wikipedia.org/wiki/Backgammon)"
   ]
  },
  {
   "cell_type": "code",
   "execution_count": 29,
   "metadata": {
    "colab": {
     "base_uri": "https://localhost:8080/",
     "height": 415
    },
    "executionInfo": {
     "elapsed": 2695,
     "status": "ok",
     "timestamp": 1602489505487,
     "user": {
      "displayName": "xing wei chia",
      "photoUrl": "",
      "userId": "07433573390488668056"
     },
     "user_tz": -480
    },
    "id": "ISP9zRQAq38X",
    "outputId": "01811ea9-4afc-4853-de97-aad1260af0cc"
   },
   "outputs": [
    {
     "name": "stderr",
     "output_type": "stream",
     "text": [
      "/usr/local/lib/python3.6/dist-packages/seaborn/_decorators.py:43: FutureWarning: Pass the following variable as a keyword arg: x. From version 0.12, the only valid positional argument will be `data`, and passing other arguments without an explicit keyword will result in an error or misinterpretation.\n",
      "  FutureWarning\n"
     ]
    },
    {
     "data": {
      "image/png": "[encoded data removed]",
      "text/plain": [
       "<Figure size 1296x360 with 1 Axes>"
      ]
     },
     "metadata": {
      "needs_background": "light",
      "tags": []
     },
     "output_type": "display_data"
    }
   ],
   "source": [
    "# Year of game published\n",
    "plt.figure(figsize=(18,5))\n",
    "plt.xticks(rotation=90)\n",
    "plt.title('Board Games Year Published')\n",
    "sns.countplot(bg[bg['year']>1920]['year']);"
   ]
  },
  {
   "cell_type": "markdown",
   "metadata": {
    "id": "HyA_ccIlrA5Z"
   },
   "source": [
    "Note: \n",
    "- The most amounts of board games being published was between 2015 to 2019"
   ]
  },
  {
   "cell_type": "markdown",
   "metadata": {
    "id": "GH4oyVm72A5T"
   },
   "source": [
    "### Top 5 Board Games_Rank"
   ]
  },
  {
   "cell_type": "code",
   "execution_count": 31,
   "metadata": {
    "colab": {
     "base_uri": "https://localhost:8080/",
     "height": 200
    },
    "executionInfo": {
     "elapsed": 1011,
     "status": "ok",
     "timestamp": 1602489679307,
     "user": {
      "displayName": "xing wei chia",
      "photoUrl": "",
      "userId": "07433573390488668056"
     },
     "user_tz": -480
    },
    "id": "LfLzBtI_Nvey",
    "outputId": "8430a53f-a1e3-4bc2-dee3-d00eb3f80518"
   },
   "outputs": [
    {
     "data": {
      "text/html": [
       "<div>\n",
       "<style scoped>\n",
       "    .dataframe tbody tr th:only-of-type {\n",
       "        vertical-align: middle;\n",
       "    }\n",
       "\n",
       "    .dataframe tbody tr th {\n",
       "        vertical-align: top;\n",
       "    }\n",
       "\n",
       "    .dataframe thead th {\n",
       "        text-align: right;\n",
       "    }\n",
       "</style>\n",
       "<table border=\"1\" class=\"dataframe\">\n",
       "  <thead>\n",
       "    <tr style=\"text-align: right;\">\n",
       "      <th></th>\n",
       "      <th>name</th>\n",
       "      <th>year</th>\n",
       "      <th>rank</th>\n",
       "      <th>bayes average</th>\n",
       "      <th>users rated</th>\n",
       "      <th>average</th>\n",
       "    </tr>\n",
       "  </thead>\n",
       "  <tbody>\n",
       "    <tr>\n",
       "      <th>32</th>\n",
       "      <td>Gloomhaven</td>\n",
       "      <td>2017</td>\n",
       "      <td>1</td>\n",
       "      <td>8.569</td>\n",
       "      <td>37053</td>\n",
       "      <td>8.81990</td>\n",
       "    </tr>\n",
       "    <tr>\n",
       "      <th>29</th>\n",
       "      <td>Pandemic Legacy: Season 1</td>\n",
       "      <td>2015</td>\n",
       "      <td>2</td>\n",
       "      <td>8.470</td>\n",
       "      <td>38345</td>\n",
       "      <td>8.62029</td>\n",
       "    </tr>\n",
       "    <tr>\n",
       "      <th>177</th>\n",
       "      <td>Brass: Birmingham</td>\n",
       "      <td>2018</td>\n",
       "      <td>3</td>\n",
       "      <td>8.305</td>\n",
       "      <td>14531</td>\n",
       "      <td>8.63813</td>\n",
       "    </tr>\n",
       "    <tr>\n",
       "      <th>10</th>\n",
       "      <td>Terraforming Mars</td>\n",
       "      <td>2016</td>\n",
       "      <td>4</td>\n",
       "      <td>8.282</td>\n",
       "      <td>57319</td>\n",
       "      <td>8.43086</td>\n",
       "    </tr>\n",
       "    <tr>\n",
       "      <th>259</th>\n",
       "      <td>Twilight Imperium (Fourth Edition)</td>\n",
       "      <td>2017</td>\n",
       "      <td>5</td>\n",
       "      <td>8.213</td>\n",
       "      <td>11466</td>\n",
       "      <td>8.68786</td>\n",
       "    </tr>\n",
       "  </tbody>\n",
       "</table>\n",
       "</div>"
      ],
      "text/plain": [
       "                                   name  year  ...  users rated  average\n",
       "32                           Gloomhaven  2017  ...        37053  8.81990\n",
       "29            Pandemic Legacy: Season 1  2015  ...        38345  8.62029\n",
       "177                   Brass: Birmingham  2018  ...        14531  8.63813\n",
       "10                    Terraforming Mars  2016  ...        57319  8.43086\n",
       "259  Twilight Imperium (Fourth Edition)  2017  ...        11466  8.68786\n",
       "\n",
       "[5 rows x 6 columns]"
      ]
     },
     "execution_count": 31,
     "metadata": {
      "tags": []
     },
     "output_type": "execute_result"
    }
   ],
   "source": [
    "# Top 5 board game has higher rank\n",
    "bg.sort_values(by=['rank'], inplace=True)\n",
    "bg[['name','year','rank','bayes average','users rated','average']].head()"
   ]
  },
  {
   "cell_type": "markdown",
   "metadata": {
    "id": "J6jt_gfx1MbT"
   },
   "source": [
    "Note:\n",
    "- Highest rank board games doesn't equal to highest users rated board game, the rank is based on the composite score (bayes average) of the board games where the composite score is calculated from the sales, users rating and etc. "
   ]
  },
  {
   "cell_type": "code",
   "execution_count": 35,
   "metadata": {
    "colab": {
     "base_uri": "https://localhost:8080/",
     "height": 350
    },
    "executionInfo": {
     "elapsed": 1257,
     "status": "ok",
     "timestamp": 1602490036273,
     "user": {
      "displayName": "xing wei chia",
      "photoUrl": "",
      "userId": "07433573390488668056"
     },
     "user_tz": -480
    },
    "id": "eDvX6iqF1L2p",
    "outputId": "e4ee4e50-9bac-40dc-dec0-43220da8a005"
   },
   "outputs": [
    {
     "data": {
      "image/png": "[encoded data removed]",
      "text/plain": [
       "<Figure size 1080x360 with 1 Axes>"
      ]
     },
     "metadata": {
      "needs_background": "light",
      "tags": []
     },
     "output_type": "display_data"
    }
   ],
   "source": [
    "# Bayes average\n",
    "plt.figure(figsize=(15,5))\n",
    "plt.title('Distribution of Bayes Average Score')\n",
    "plt.xlabel('Bayes Average')\n",
    "plt.ylabel('Counts')\n",
    "plt.hist(bg['bayes average'], color='purple', range=(0,10));"
   ]
  },
  {
   "cell_type": "markdown",
   "metadata": {
    "id": "0bw31ocsPKZ_"
   },
   "source": [
    "### Top 5 Board Games_Users Rated"
   ]
  },
  {
   "cell_type": "code",
   "execution_count": 32,
   "metadata": {
    "colab": {
     "base_uri": "https://localhost:8080/",
     "height": 200
    },
    "executionInfo": {
     "elapsed": 1156,
     "status": "ok",
     "timestamp": 1602489943944,
     "user": {
      "displayName": "xing wei chia",
      "photoUrl": "",
      "userId": "07433573390488668056"
     },
     "user_tz": -480
    },
    "id": "yOzabh0TRR7W",
    "outputId": "dcb1e064-54ea-4cca-d1dc-b01f448cf8e8"
   },
   "outputs": [
    {
     "data": {
      "text/html": [
       "<div>\n",
       "<style scoped>\n",
       "    .dataframe tbody tr th:only-of-type {\n",
       "        vertical-align: middle;\n",
       "    }\n",
       "\n",
       "    .dataframe tbody tr th {\n",
       "        vertical-align: top;\n",
       "    }\n",
       "\n",
       "    .dataframe thead th {\n",
       "        text-align: right;\n",
       "    }\n",
       "</style>\n",
       "<table border=\"1\" class=\"dataframe\">\n",
       "  <thead>\n",
       "    <tr style=\"text-align: right;\">\n",
       "      <th></th>\n",
       "      <th>name</th>\n",
       "      <th>year</th>\n",
       "      <th>rank</th>\n",
       "      <th>bayes average</th>\n",
       "      <th>users rated</th>\n",
       "      <th>average</th>\n",
       "    </tr>\n",
       "  </thead>\n",
       "  <tbody>\n",
       "    <tr>\n",
       "      <th>0</th>\n",
       "      <td>Pandemic</td>\n",
       "      <td>2008</td>\n",
       "      <td>91</td>\n",
       "      <td>7.518</td>\n",
       "      <td>96186</td>\n",
       "      <td>7.61567</td>\n",
       "    </tr>\n",
       "    <tr>\n",
       "      <th>1</th>\n",
       "      <td>Carcassonne</td>\n",
       "      <td>2000</td>\n",
       "      <td>173</td>\n",
       "      <td>7.311</td>\n",
       "      <td>96181</td>\n",
       "      <td>7.41884</td>\n",
       "    </tr>\n",
       "    <tr>\n",
       "      <th>2</th>\n",
       "      <td>Catan</td>\n",
       "      <td>1995</td>\n",
       "      <td>381</td>\n",
       "      <td>7.001</td>\n",
       "      <td>96171</td>\n",
       "      <td>7.16265</td>\n",
       "    </tr>\n",
       "    <tr>\n",
       "      <th>3</th>\n",
       "      <td>7 Wonders</td>\n",
       "      <td>2010</td>\n",
       "      <td>50</td>\n",
       "      <td>7.662</td>\n",
       "      <td>79830</td>\n",
       "      <td>7.76049</td>\n",
       "    </tr>\n",
       "    <tr>\n",
       "      <th>4</th>\n",
       "      <td>Dominion</td>\n",
       "      <td>2008</td>\n",
       "      <td>88</td>\n",
       "      <td>7.521</td>\n",
       "      <td>74933</td>\n",
       "      <td>7.62671</td>\n",
       "    </tr>\n",
       "  </tbody>\n",
       "</table>\n",
       "</div>"
      ],
      "text/plain": [
       "          name  year  rank  bayes average  users rated  average\n",
       "0     Pandemic  2008    91          7.518        96186  7.61567\n",
       "1  Carcassonne  2000   173          7.311        96181  7.41884\n",
       "2        Catan  1995   381          7.001        96171  7.16265\n",
       "3    7 Wonders  2010    50          7.662        79830  7.76049\n",
       "4     Dominion  2008    88          7.521        74933  7.62671"
      ]
     },
     "execution_count": 32,
     "metadata": {
      "tags": []
     },
     "output_type": "execute_result"
    }
   ],
   "source": [
    "# Top 5 board game has higher users rated\n",
    "bg.sort_values(by=['users rated'], inplace=True, ascending=False)\n",
    "bg[['name','year','rank','bayes average','users rated','average']].head()"
   ]
  },
  {
   "cell_type": "markdown",
   "metadata": {
    "id": "ACH-7CenPZTc"
   },
   "source": [
    "### Top 5 Board Games_Average Score"
   ]
  },
  {
   "cell_type": "code",
   "execution_count": 33,
   "metadata": {
    "colab": {
     "base_uri": "https://localhost:8080/",
     "height": 200
    },
    "executionInfo": {
     "elapsed": 983,
     "status": "ok",
     "timestamp": 1602489955549,
     "user": {
      "displayName": "xing wei chia",
      "photoUrl": "",
      "userId": "07433573390488668056"
     },
     "user_tz": -480
    },
    "id": "WCY_ggWlRuDG",
    "outputId": "322b7414-c011-4179-a8e3-08971521bc18"
   },
   "outputs": [
    {
     "data": {
      "text/html": [
       "<div>\n",
       "<style scoped>\n",
       "    .dataframe tbody tr th:only-of-type {\n",
       "        vertical-align: middle;\n",
       "    }\n",
       "\n",
       "    .dataframe tbody tr th {\n",
       "        vertical-align: top;\n",
       "    }\n",
       "\n",
       "    .dataframe thead th {\n",
       "        text-align: right;\n",
       "    }\n",
       "</style>\n",
       "<table border=\"1\" class=\"dataframe\">\n",
       "  <thead>\n",
       "    <tr style=\"text-align: right;\">\n",
       "      <th></th>\n",
       "      <th>name</th>\n",
       "      <th>year</th>\n",
       "      <th>rank</th>\n",
       "      <th>bayes average</th>\n",
       "      <th>users rated</th>\n",
       "      <th>average</th>\n",
       "    </tr>\n",
       "  </thead>\n",
       "  <tbody>\n",
       "    <tr>\n",
       "      <th>18431</th>\n",
       "      <td>Aeolis</td>\n",
       "      <td>2020</td>\n",
       "      <td>13362</td>\n",
       "      <td>5.519</td>\n",
       "      <td>32</td>\n",
       "      <td>9.68750</td>\n",
       "    </tr>\n",
       "    <tr>\n",
       "      <th>17356</th>\n",
       "      <td>Dungeon Crusade: Book I – Genesis of Evil</td>\n",
       "      <td>2020</td>\n",
       "      <td>11748</td>\n",
       "      <td>5.531</td>\n",
       "      <td>37</td>\n",
       "      <td>9.56541</td>\n",
       "    </tr>\n",
       "    <tr>\n",
       "      <th>16450</th>\n",
       "      <td>Thug Life the Game</td>\n",
       "      <td>0</td>\n",
       "      <td>14118</td>\n",
       "      <td>5.513</td>\n",
       "      <td>42</td>\n",
       "      <td>9.39286</td>\n",
       "    </tr>\n",
       "    <tr>\n",
       "      <th>12690</th>\n",
       "      <td>TerroriXico</td>\n",
       "      <td>2017</td>\n",
       "      <td>15423</td>\n",
       "      <td>5.504</td>\n",
       "      <td>71</td>\n",
       "      <td>9.38028</td>\n",
       "    </tr>\n",
       "    <tr>\n",
       "      <th>17917</th>\n",
       "      <td>Conqueror: Final Conquest</td>\n",
       "      <td>2019</td>\n",
       "      <td>14884</td>\n",
       "      <td>5.508</td>\n",
       "      <td>35</td>\n",
       "      <td>9.36000</td>\n",
       "    </tr>\n",
       "  </tbody>\n",
       "</table>\n",
       "</div>"
      ],
      "text/plain": [
       "                                            name  year  ...  users rated  average\n",
       "18431                                     Aeolis  2020  ...           32  9.68750\n",
       "17356  Dungeon Crusade: Book I – Genesis of Evil  2020  ...           37  9.56541\n",
       "16450                         Thug Life the Game     0  ...           42  9.39286\n",
       "12690                                TerroriXico  2017  ...           71  9.38028\n",
       "17917                  Conqueror: Final Conquest  2019  ...           35  9.36000\n",
       "\n",
       "[5 rows x 6 columns]"
      ]
     },
     "execution_count": 33,
     "metadata": {
      "tags": []
     },
     "output_type": "execute_result"
    }
   ],
   "source": [
    "# Top 5 board game with higher average score\n",
    "bg.sort_values(by=['average'], inplace=True, ascending=False)\n",
    "bg[['name','year','rank','bayes average','users rated','average']].head()"
   ]
  },
  {
   "cell_type": "code",
   "execution_count": 34,
   "metadata": {
    "colab": {
     "base_uri": "https://localhost:8080/",
     "height": 350
    },
    "executionInfo": {
     "elapsed": 1071,
     "status": "ok",
     "timestamp": 1602489990368,
     "user": {
      "displayName": "xing wei chia",
      "photoUrl": "",
      "userId": "07433573390488668056"
     },
     "user_tz": -480
    },
    "id": "ScNGbyT7QPGD",
    "outputId": "26e69e48-7bca-4a18-8589-7ac8be8a52c8"
   },
   "outputs": [
    {
     "data": {
      "image/png": "[encoded data removed]",
      "text/plain": [
       "<Figure size 1080x360 with 1 Axes>"
      ]
     },
     "metadata": {
      "needs_background": "light",
      "tags": []
     },
     "output_type": "display_data"
    }
   ],
   "source": [
    "# Average Score\n",
    "plt.figure(figsize=(15,5))\n",
    "plt.title('Distribution of Average Score')\n",
    "plt.xlabel('Average Score')\n",
    "plt.ylabel('Counts')\n",
    "plt.hist(bg['average'], color='c', range=(0,10));"
   ]
  },
  {
   "cell_type": "markdown",
   "metadata": {
    "id": "ldtGmraDRxfv"
   },
   "source": [
    "### Owned, Trading, Wanting, Wishing"
   ]
  },
  {
   "cell_type": "code",
   "execution_count": 37,
   "metadata": {
    "colab": {
     "base_uri": "https://localhost:8080/",
     "height": 200
    },
    "executionInfo": {
     "elapsed": 1033,
     "status": "ok",
     "timestamp": 1602490144279,
     "user": {
      "displayName": "xing wei chia",
      "photoUrl": "",
      "userId": "07433573390488668056"
     },
     "user_tz": -480
    },
    "id": "3D7j2PXlAzNO",
    "outputId": "0e769dbd-35ca-48f6-fff7-c1eb51157536"
   },
   "outputs": [
    {
     "data": {
      "text/html": [
       "<div>\n",
       "<style scoped>\n",
       "    .dataframe tbody tr th:only-of-type {\n",
       "        vertical-align: middle;\n",
       "    }\n",
       "\n",
       "    .dataframe tbody tr th {\n",
       "        vertical-align: top;\n",
       "    }\n",
       "\n",
       "    .dataframe thead th {\n",
       "        text-align: right;\n",
       "    }\n",
       "</style>\n",
       "<table border=\"1\" class=\"dataframe\">\n",
       "  <thead>\n",
       "    <tr style=\"text-align: right;\">\n",
       "      <th></th>\n",
       "      <th>name</th>\n",
       "      <th>year</th>\n",
       "      <th>rank</th>\n",
       "      <th>bayes average</th>\n",
       "      <th>users rated</th>\n",
       "      <th>average</th>\n",
       "      <th>owned</th>\n",
       "    </tr>\n",
       "  </thead>\n",
       "  <tbody>\n",
       "    <tr>\n",
       "      <th>0</th>\n",
       "      <td>Pandemic</td>\n",
       "      <td>2008</td>\n",
       "      <td>91</td>\n",
       "      <td>7.518</td>\n",
       "      <td>96186</td>\n",
       "      <td>7.61567</td>\n",
       "      <td>144727</td>\n",
       "    </tr>\n",
       "    <tr>\n",
       "      <th>2</th>\n",
       "      <td>Catan</td>\n",
       "      <td>1995</td>\n",
       "      <td>381</td>\n",
       "      <td>7.001</td>\n",
       "      <td>96171</td>\n",
       "      <td>7.16265</td>\n",
       "      <td>144656</td>\n",
       "    </tr>\n",
       "    <tr>\n",
       "      <th>1</th>\n",
       "      <td>Carcassonne</td>\n",
       "      <td>2000</td>\n",
       "      <td>173</td>\n",
       "      <td>7.311</td>\n",
       "      <td>96181</td>\n",
       "      <td>7.41884</td>\n",
       "      <td>140066</td>\n",
       "    </tr>\n",
       "    <tr>\n",
       "      <th>3</th>\n",
       "      <td>7 Wonders</td>\n",
       "      <td>2010</td>\n",
       "      <td>50</td>\n",
       "      <td>7.662</td>\n",
       "      <td>79830</td>\n",
       "      <td>7.76049</td>\n",
       "      <td>106137</td>\n",
       "    </tr>\n",
       "    <tr>\n",
       "      <th>6</th>\n",
       "      <td>Codenames</td>\n",
       "      <td>2015</td>\n",
       "      <td>81</td>\n",
       "      <td>7.552</td>\n",
       "      <td>62535</td>\n",
       "      <td>7.63806</td>\n",
       "      <td>99320</td>\n",
       "    </tr>\n",
       "  </tbody>\n",
       "</table>\n",
       "</div>"
      ],
      "text/plain": [
       "          name  year  rank  bayes average  users rated  average   owned\n",
       "0     Pandemic  2008    91          7.518        96186  7.61567  144727\n",
       "2        Catan  1995   381          7.001        96171  7.16265  144656\n",
       "1  Carcassonne  2000   173          7.311        96181  7.41884  140066\n",
       "3    7 Wonders  2010    50          7.662        79830  7.76049  106137\n",
       "6    Codenames  2015    81          7.552        62535  7.63806   99320"
      ]
     },
     "execution_count": 37,
     "metadata": {
      "tags": []
     },
     "output_type": "execute_result"
    }
   ],
   "source": [
    "# Top 5 board game with higher owned\n",
    "bg.sort_values(by=['owned'], inplace=True, ascending=False)\n",
    "bg[['name','year','rank','bayes average','users rated','average','owned']].head()"
   ]
  },
  {
   "cell_type": "markdown",
   "metadata": {
    "id": "Gv60kr9-2z4Z"
   },
   "source": [
    "Note:\n",
    "- Higher ownership of board games may lead to higher no. of ratings. However, the rank of the game may not neccessarily be the top board game as the rank takes into account user rating. "
   ]
  },
  {
   "cell_type": "code",
   "execution_count": 38,
   "metadata": {
    "colab": {
     "base_uri": "https://localhost:8080/",
     "height": 200
    },
    "executionInfo": {
     "elapsed": 1442,
     "status": "ok",
     "timestamp": 1602490546078,
     "user": {
      "displayName": "xing wei chia",
      "photoUrl": "",
      "userId": "07433573390488668056"
     },
     "user_tz": -480
    },
    "id": "BlK9Ie3lBPKR",
    "outputId": "c991630a-20c3-4f1d-a72f-1f3a30c46880"
   },
   "outputs": [
    {
     "data": {
      "text/html": [
       "<div>\n",
       "<style scoped>\n",
       "    .dataframe tbody tr th:only-of-type {\n",
       "        vertical-align: middle;\n",
       "    }\n",
       "\n",
       "    .dataframe tbody tr th {\n",
       "        vertical-align: top;\n",
       "    }\n",
       "\n",
       "    .dataframe thead th {\n",
       "        text-align: right;\n",
       "    }\n",
       "</style>\n",
       "<table border=\"1\" class=\"dataframe\">\n",
       "  <thead>\n",
       "    <tr style=\"text-align: right;\">\n",
       "      <th></th>\n",
       "      <th>name</th>\n",
       "      <th>year</th>\n",
       "      <th>rank</th>\n",
       "      <th>bayes average</th>\n",
       "      <th>users rated</th>\n",
       "      <th>average</th>\n",
       "      <th>trading</th>\n",
       "    </tr>\n",
       "  </thead>\n",
       "  <tbody>\n",
       "    <tr>\n",
       "      <th>26</th>\n",
       "      <td>Munchkin</td>\n",
       "      <td>2001</td>\n",
       "      <td>4159</td>\n",
       "      <td>5.737</td>\n",
       "      <td>39933</td>\n",
       "      <td>5.90672</td>\n",
       "      <td>2411</td>\n",
       "    </tr>\n",
       "    <tr>\n",
       "      <th>0</th>\n",
       "      <td>Pandemic</td>\n",
       "      <td>2008</td>\n",
       "      <td>91</td>\n",
       "      <td>7.518</td>\n",
       "      <td>96186</td>\n",
       "      <td>7.61567</td>\n",
       "      <td>2191</td>\n",
       "    </tr>\n",
       "    <tr>\n",
       "      <th>27</th>\n",
       "      <td>Forbidden Island</td>\n",
       "      <td>2010</td>\n",
       "      <td>697</td>\n",
       "      <td>6.708</td>\n",
       "      <td>39861</td>\n",
       "      <td>6.80092</td>\n",
       "      <td>1974</td>\n",
       "    </tr>\n",
       "    <tr>\n",
       "      <th>9</th>\n",
       "      <td>Small World</td>\n",
       "      <td>2009</td>\n",
       "      <td>238</td>\n",
       "      <td>7.182</td>\n",
       "      <td>59196</td>\n",
       "      <td>7.27135</td>\n",
       "      <td>1945</td>\n",
       "    </tr>\n",
       "    <tr>\n",
       "      <th>4</th>\n",
       "      <td>Dominion</td>\n",
       "      <td>2008</td>\n",
       "      <td>88</td>\n",
       "      <td>7.521</td>\n",
       "      <td>74933</td>\n",
       "      <td>7.62671</td>\n",
       "      <td>1897</td>\n",
       "    </tr>\n",
       "  </tbody>\n",
       "</table>\n",
       "</div>"
      ],
      "text/plain": [
       "                name  year  rank  bayes average  users rated  average  trading\n",
       "26          Munchkin  2001  4159          5.737        39933  5.90672     2411\n",
       "0           Pandemic  2008    91          7.518        96186  7.61567     2191\n",
       "27  Forbidden Island  2010   697          6.708        39861  6.80092     1974\n",
       "9        Small World  2009   238          7.182        59196  7.27135     1945\n",
       "4           Dominion  2008    88          7.521        74933  7.62671     1897"
      ]
     },
     "execution_count": 38,
     "metadata": {
      "tags": []
     },
     "output_type": "execute_result"
    }
   ],
   "source": [
    "# Top 5 board game with higher trading\n",
    "bg.sort_values(by=['trading'], inplace=True, ascending=False)\n",
    "bg[['name','year','rank','bayes average','users rated','average','trading']].head()"
   ]
  },
  {
   "cell_type": "markdown",
   "metadata": {
    "id": "Qwr3_g5P4ecT"
   },
   "source": [
    "Note:\n",
    "- Though there are certain games with higher ranking, they may not have as much tradability as some others. This is likely due to how some games have more value in terms of fun, replay value, and flexible maximum number of players. \n"
   ]
  },
  {
   "cell_type": "code",
   "execution_count": 42,
   "metadata": {
    "colab": {
     "base_uri": "https://localhost:8080/",
     "height": 200
    },
    "executionInfo": {
     "elapsed": 1037,
     "status": "ok",
     "timestamp": 1602491126725,
     "user": {
      "displayName": "xing wei chia",
      "photoUrl": "",
      "userId": "07433573390488668056"
     },
     "user_tz": -480
    },
    "id": "Y_ViFO5iBlVf",
    "outputId": "400a82ae-dfd7-46c6-f1c9-25794921df33"
   },
   "outputs": [
    {
     "data": {
      "text/html": [
       "<div>\n",
       "<style scoped>\n",
       "    .dataframe tbody tr th:only-of-type {\n",
       "        vertical-align: middle;\n",
       "    }\n",
       "\n",
       "    .dataframe tbody tr th {\n",
       "        vertical-align: top;\n",
       "    }\n",
       "\n",
       "    .dataframe thead th {\n",
       "        text-align: right;\n",
       "    }\n",
       "</style>\n",
       "<table border=\"1\" class=\"dataframe\">\n",
       "  <thead>\n",
       "    <tr style=\"text-align: right;\">\n",
       "      <th></th>\n",
       "      <th>name</th>\n",
       "      <th>year</th>\n",
       "      <th>rank</th>\n",
       "      <th>bayes average</th>\n",
       "      <th>users rated</th>\n",
       "      <th>average</th>\n",
       "      <th>wanting</th>\n",
       "    </tr>\n",
       "  </thead>\n",
       "  <tbody>\n",
       "    <tr>\n",
       "      <th>10</th>\n",
       "      <td>Terraforming Mars</td>\n",
       "      <td>2016</td>\n",
       "      <td>4</td>\n",
       "      <td>8.282</td>\n",
       "      <td>57319</td>\n",
       "      <td>8.43086</td>\n",
       "      <td>2081</td>\n",
       "    </tr>\n",
       "    <tr>\n",
       "      <th>17</th>\n",
       "      <td>Scythe</td>\n",
       "      <td>2016</td>\n",
       "      <td>11</td>\n",
       "      <td>8.093</td>\n",
       "      <td>52485</td>\n",
       "      <td>8.24896</td>\n",
       "      <td>1956</td>\n",
       "    </tr>\n",
       "    <tr>\n",
       "      <th>107</th>\n",
       "      <td>Spirit Island</td>\n",
       "      <td>2017</td>\n",
       "      <td>13</td>\n",
       "      <td>8.056</td>\n",
       "      <td>20726</td>\n",
       "      <td>8.32081</td>\n",
       "      <td>1767</td>\n",
       "    </tr>\n",
       "    <tr>\n",
       "      <th>165</th>\n",
       "      <td>A Feast for Odin</td>\n",
       "      <td>2016</td>\n",
       "      <td>22</td>\n",
       "      <td>7.907</td>\n",
       "      <td>15424</td>\n",
       "      <td>8.18208</td>\n",
       "      <td>1746</td>\n",
       "    </tr>\n",
       "    <tr>\n",
       "      <th>65</th>\n",
       "      <td>Great Western Trail</td>\n",
       "      <td>2016</td>\n",
       "      <td>10</td>\n",
       "      <td>8.109</td>\n",
       "      <td>26372</td>\n",
       "      <td>8.29052</td>\n",
       "      <td>1746</td>\n",
       "    </tr>\n",
       "  </tbody>\n",
       "</table>\n",
       "</div>"
      ],
      "text/plain": [
       "                    name  year  rank  ...  users rated  average  wanting\n",
       "10     Terraforming Mars  2016     4  ...        57319  8.43086     2081\n",
       "17                Scythe  2016    11  ...        52485  8.24896     1956\n",
       "107        Spirit Island  2017    13  ...        20726  8.32081     1767\n",
       "165     A Feast for Odin  2016    22  ...        15424  8.18208     1746\n",
       "65   Great Western Trail  2016    10  ...        26372  8.29052     1746\n",
       "\n",
       "[5 rows x 7 columns]"
      ]
     },
     "execution_count": 42,
     "metadata": {
      "tags": []
     },
     "output_type": "execute_result"
    }
   ],
   "source": [
    "# Top 5 board game with higher wanting\n",
    "bg.sort_values(by=['wanting'], inplace=True, ascending=False)\n",
    "bg[['name','year','rank','bayes average','users rated','average','wanting']].head()"
   ]
  },
  {
   "cell_type": "code",
   "execution_count": 43,
   "metadata": {
    "colab": {
     "base_uri": "https://localhost:8080/",
     "height": 200
    },
    "executionInfo": {
     "elapsed": 1034,
     "status": "ok",
     "timestamp": 1602491143725,
     "user": {
      "displayName": "xing wei chia",
      "photoUrl": "",
      "userId": "07433573390488668056"
     },
     "user_tz": -480
    },
    "id": "IL3iOpx3BuOa",
    "outputId": "e5589235-dd9c-4636-85c8-49e63cd5368f"
   },
   "outputs": [
    {
     "data": {
      "text/html": [
       "<div>\n",
       "<style scoped>\n",
       "    .dataframe tbody tr th:only-of-type {\n",
       "        vertical-align: middle;\n",
       "    }\n",
       "\n",
       "    .dataframe tbody tr th {\n",
       "        vertical-align: top;\n",
       "    }\n",
       "\n",
       "    .dataframe thead th {\n",
       "        text-align: right;\n",
       "    }\n",
       "</style>\n",
       "<table border=\"1\" class=\"dataframe\">\n",
       "  <thead>\n",
       "    <tr style=\"text-align: right;\">\n",
       "      <th></th>\n",
       "      <th>name</th>\n",
       "      <th>year</th>\n",
       "      <th>rank</th>\n",
       "      <th>bayes average</th>\n",
       "      <th>users rated</th>\n",
       "      <th>average</th>\n",
       "      <th>wishing</th>\n",
       "    </tr>\n",
       "  </thead>\n",
       "  <tbody>\n",
       "    <tr>\n",
       "      <th>17</th>\n",
       "      <td>Scythe</td>\n",
       "      <td>2016</td>\n",
       "      <td>11</td>\n",
       "      <td>8.093</td>\n",
       "      <td>52485</td>\n",
       "      <td>8.24896</td>\n",
       "      <td>16232</td>\n",
       "    </tr>\n",
       "    <tr>\n",
       "      <th>10</th>\n",
       "      <td>Terraforming Mars</td>\n",
       "      <td>2016</td>\n",
       "      <td>4</td>\n",
       "      <td>8.282</td>\n",
       "      <td>57319</td>\n",
       "      <td>8.43086</td>\n",
       "      <td>16064</td>\n",
       "    </tr>\n",
       "    <tr>\n",
       "      <th>32</th>\n",
       "      <td>Gloomhaven</td>\n",
       "      <td>2017</td>\n",
       "      <td>1</td>\n",
       "      <td>8.569</td>\n",
       "      <td>37053</td>\n",
       "      <td>8.81990</td>\n",
       "      <td>15036</td>\n",
       "    </tr>\n",
       "    <tr>\n",
       "      <th>31</th>\n",
       "      <td>Terra Mystica</td>\n",
       "      <td>2012</td>\n",
       "      <td>15</td>\n",
       "      <td>8.006</td>\n",
       "      <td>37267</td>\n",
       "      <td>8.15825</td>\n",
       "      <td>11763</td>\n",
       "    </tr>\n",
       "    <tr>\n",
       "      <th>107</th>\n",
       "      <td>Spirit Island</td>\n",
       "      <td>2017</td>\n",
       "      <td>13</td>\n",
       "      <td>8.056</td>\n",
       "      <td>20726</td>\n",
       "      <td>8.32081</td>\n",
       "      <td>11650</td>\n",
       "    </tr>\n",
       "  </tbody>\n",
       "</table>\n",
       "</div>"
      ],
      "text/plain": [
       "                  name  year  rank  ...  users rated  average  wishing\n",
       "17              Scythe  2016    11  ...        52485  8.24896    16232\n",
       "10   Terraforming Mars  2016     4  ...        57319  8.43086    16064\n",
       "32          Gloomhaven  2017     1  ...        37053  8.81990    15036\n",
       "31       Terra Mystica  2012    15  ...        37267  8.15825    11763\n",
       "107      Spirit Island  2017    13  ...        20726  8.32081    11650\n",
       "\n",
       "[5 rows x 7 columns]"
      ]
     },
     "execution_count": 43,
     "metadata": {
      "tags": []
     },
     "output_type": "execute_result"
    }
   ],
   "source": [
    "# Top 5 board game with higher wishing\n",
    "bg.sort_values(by=['wishing'], inplace=True, ascending=False)\n",
    "bg[['name','year','rank','bayes average','users rated','average','wishing']].head()"
   ]
  },
  {
   "cell_type": "markdown",
   "metadata": {
    "id": "LRmGL4rM6nYx"
   },
   "source": [
    "Note:\n",
    "- There are more players 'wishing' and 'wanting' games that have higher rank (Top 30)."
   ]
  },
  {
   "cell_type": "markdown",
   "metadata": {
    "id": "zBa5Qr2irTqx"
   },
   "source": [
    "# Board Game Reviews"
   ]
  },
  {
   "cell_type": "code",
   "execution_count": 44,
   "metadata": {
    "colab": {
     "base_uri": "https://localhost:8080/",
     "height": 200
    },
    "executionInfo": {
     "elapsed": 30150,
     "status": "ok",
     "timestamp": 1602491406184,
     "user": {
      "displayName": "xing wei chia",
      "photoUrl": "",
      "userId": "07433573390488668056"
     },
     "user_tz": -480
    },
    "id": "E44rtS8GrWXC",
    "outputId": "cf3741bc-7501-4c83-e1e8-9026e0201c76"
   },
   "outputs": [
    {
     "data": {
      "text/html": [
       "<div>\n",
       "<style scoped>\n",
       "    .dataframe tbody tr th:only-of-type {\n",
       "        vertical-align: middle;\n",
       "    }\n",
       "\n",
       "    .dataframe tbody tr th {\n",
       "        vertical-align: top;\n",
       "    }\n",
       "\n",
       "    .dataframe thead th {\n",
       "        text-align: right;\n",
       "    }\n",
       "</style>\n",
       "<table border=\"1\" class=\"dataframe\">\n",
       "  <thead>\n",
       "    <tr style=\"text-align: right;\">\n",
       "      <th></th>\n",
       "      <th>Unnamed: 0</th>\n",
       "      <th>user</th>\n",
       "      <th>rating</th>\n",
       "      <th>comment</th>\n",
       "      <th>ID</th>\n",
       "      <th>name</th>\n",
       "    </tr>\n",
       "  </thead>\n",
       "  <tbody>\n",
       "    <tr>\n",
       "      <th>0</th>\n",
       "      <td>0</td>\n",
       "      <td>Torsten</td>\n",
       "      <td>10.0</td>\n",
       "      <td>NaN</td>\n",
       "      <td>30549</td>\n",
       "      <td>Pandemic</td>\n",
       "    </tr>\n",
       "    <tr>\n",
       "      <th>1</th>\n",
       "      <td>1</td>\n",
       "      <td>mitnachtKAUBO-I</td>\n",
       "      <td>10.0</td>\n",
       "      <td>Hands down my favorite new game of BGG CON 200...</td>\n",
       "      <td>30549</td>\n",
       "      <td>Pandemic</td>\n",
       "    </tr>\n",
       "    <tr>\n",
       "      <th>2</th>\n",
       "      <td>2</td>\n",
       "      <td>avlawn</td>\n",
       "      <td>10.0</td>\n",
       "      <td>I tend to either love or easily tire of co-op ...</td>\n",
       "      <td>30549</td>\n",
       "      <td>Pandemic</td>\n",
       "    </tr>\n",
       "    <tr>\n",
       "      <th>3</th>\n",
       "      <td>3</td>\n",
       "      <td>Mike Mayer</td>\n",
       "      <td>10.0</td>\n",
       "      <td>NaN</td>\n",
       "      <td>30549</td>\n",
       "      <td>Pandemic</td>\n",
       "    </tr>\n",
       "    <tr>\n",
       "      <th>4</th>\n",
       "      <td>4</td>\n",
       "      <td>Mease19</td>\n",
       "      <td>10.0</td>\n",
       "      <td>This is an amazing co-op game.  I play mostly ...</td>\n",
       "      <td>30549</td>\n",
       "      <td>Pandemic</td>\n",
       "    </tr>\n",
       "  </tbody>\n",
       "</table>\n",
       "</div>"
      ],
      "text/plain": [
       "   Unnamed: 0             user  ...     ID      name\n",
       "0           0          Torsten  ...  30549  Pandemic\n",
       "1           1  mitnachtKAUBO-I  ...  30549  Pandemic\n",
       "2           2           avlawn  ...  30549  Pandemic\n",
       "3           3       Mike Mayer  ...  30549  Pandemic\n",
       "4           4          Mease19  ...  30549  Pandemic\n",
       "\n",
       "[5 rows x 6 columns]"
      ]
     },
     "execution_count": 44,
     "metadata": {
      "tags": []
     },
     "output_type": "execute_result"
    }
   ],
   "source": [
    "bg_reviews = pd.read_csv(file + 'bgg-15m-reviews.csv')\n",
    "bg_reviews.head()"
   ]
  },
  {
   "cell_type": "code",
   "execution_count": 45,
   "metadata": {
    "colab": {
     "base_uri": "https://localhost:8080/",
     "height": 248
    },
    "executionInfo": {
     "elapsed": 1133,
     "status": "ok",
     "timestamp": 1602491423034,
     "user": {
      "displayName": "xing wei chia",
      "photoUrl": "",
      "userId": "07433573390488668056"
     },
     "user_tz": -480
    },
    "id": "fRc67MqcrbmM",
    "outputId": "485d9604-a12d-4948-d600-202c84b8a363"
   },
   "outputs": [
    {
     "name": "stdout",
     "output_type": "stream",
     "text": [
      "<class 'pandas.core.frame.DataFrame'>\n",
      "RangeIndex: 15823269 entries, 0 to 15823268\n",
      "Data columns (total 6 columns):\n",
      " #   Column      Dtype  \n",
      "---  ------      -----  \n",
      " 0   Unnamed: 0  int64  \n",
      " 1   user        object \n",
      " 2   rating      float64\n",
      " 3   comment     object \n",
      " 4   ID          int64  \n",
      " 5   name        object \n",
      "dtypes: float64(1), int64(2), object(3)\n",
      "memory usage: 724.3+ MB\n"
     ]
    }
   ],
   "source": [
    "bg_reviews.info()"
   ]
  },
  {
   "cell_type": "code",
   "execution_count": 46,
   "metadata": {
    "executionInfo": {
     "elapsed": 1021,
     "status": "ok",
     "timestamp": 1602491482140,
     "user": {
      "displayName": "xing wei chia",
      "photoUrl": "",
      "userId": "07433573390488668056"
     },
     "user_tz": -480
    },
    "id": "fhd2F-h1utzi"
   },
   "outputs": [],
   "source": [
    "bg_reviews.columns = bg_reviews.columns.str.lower() "
   ]
  },
  {
   "cell_type": "code",
   "execution_count": 47,
   "metadata": {
    "colab": {
     "base_uri": "https://localhost:8080/",
     "height": 52
    },
    "executionInfo": {
     "elapsed": 1951,
     "status": "ok",
     "timestamp": 1602491484748,
     "user": {
      "displayName": "xing wei chia",
      "photoUrl": "",
      "userId": "07433573390488668056"
     },
     "user_tz": -480
    },
    "id": "TSy_jrUGueYg",
    "outputId": "13c4c6cf-7635-410d-a51b-7a29c84ef723"
   },
   "outputs": [
    {
     "name": "stdout",
     "output_type": "stream",
     "text": [
      "No. of unique ID: 19330\n",
      "No. of unique boardgame name: 18984\n"
     ]
    }
   ],
   "source": [
    "# Check the sum of boardgame\n",
    "print('No. of unique ID: ' + str(bg_reviews['id'].nunique()))\n",
    "print('No. of unique boardgame name: ' + str(bg_reviews['name'].nunique()))"
   ]
  },
  {
   "cell_type": "markdown",
   "metadata": {
    "id": "y2P75NkPu4Zm"
   },
   "source": [
    "Note: \n",
    "- There are total 19330 games"
   ]
  },
  {
   "cell_type": "code",
   "execution_count": 48,
   "metadata": {
    "colab": {
     "base_uri": "https://localhost:8080/",
     "height": 70
    },
    "executionInfo": {
     "elapsed": 5781,
     "status": "ok",
     "timestamp": 1602491493001,
     "user": {
      "displayName": "xing wei chia",
      "photoUrl": "",
      "userId": "07433573390488668056"
     },
     "user_tz": -480
    },
    "id": "xo8RpzdXsJ08",
    "outputId": "f7b2b8cf-0cdf-400c-b1b4-671e8c245f30"
   },
   "outputs": [
    {
     "data": {
      "text/plain": [
       "user             66\n",
       "comment    12828246\n",
       "dtype: int64"
      ]
     },
     "execution_count": 48,
     "metadata": {
      "tags": []
     },
     "output_type": "execute_result"
    }
   ],
   "source": [
    "# Check the null value\n",
    "bg_reviews.isnull().sum()[bg_reviews.isnull().sum() != 0]"
   ]
  },
  {
   "cell_type": "markdown",
   "metadata": {
    "id": "Jqr-fOJ5sYbm"
   },
   "source": [
    "Note: \n",
    "- 66 user never input their name and 12828246 user only rate but never leave comments"
   ]
  },
  {
   "cell_type": "markdown",
   "metadata": {
    "id": "iEIMaemW3I_Q"
   },
   "source": [
    "## EDA on Board Game Review"
   ]
  },
  {
   "cell_type": "code",
   "execution_count": 50,
   "metadata": {
    "colab": {
     "base_uri": "https://localhost:8080/",
     "height": 350
    },
    "executionInfo": {
     "elapsed": 2219,
     "status": "ok",
     "timestamp": 1602491523501,
     "user": {
      "displayName": "xing wei chia",
      "photoUrl": "",
      "userId": "07433573390488668056"
     },
     "user_tz": -480
    },
    "id": "y1YV536gsO3z",
    "outputId": "baf8e443-2a7f-4603-8cc2-c5ab3f6b6539"
   },
   "outputs": [
    {
     "data": {
      "image/png": "[encoded data removed]",
      "text/plain": [
       "<Figure size 1080x360 with 1 Axes>"
      ]
     },
     "metadata": {
      "needs_background": "light",
      "tags": []
     },
     "output_type": "display_data"
    }
   ],
   "source": [
    "# Check the rating for user without user name\n",
    "plt.figure(figsize=(15,5))\n",
    "plt.title('Rating of anonymous user')\n",
    "plt.xlabel('Rating')\n",
    "plt.ylabel('Counts of anonymous user')\n",
    "plt.hist(bg_reviews[bg_reviews['user'].isnull()]['rating']);"
   ]
  },
  {
   "cell_type": "code",
   "execution_count": 51,
   "metadata": {
    "colab": {
     "base_uri": "https://localhost:8080/",
     "height": 350
    },
    "executionInfo": {
     "elapsed": 3457,
     "status": "ok",
     "timestamp": 1602491530541,
     "user": {
      "displayName": "xing wei chia",
      "photoUrl": "",
      "userId": "07433573390488668056"
     },
     "user_tz": -480
    },
    "id": "nZT-11MVtW93",
    "outputId": "a09a70e9-8cba-4ace-df50-d6244feffdb4"
   },
   "outputs": [
    {
     "data": {
      "image/png": "[encoded data removed]",
      "text/plain": [
       "<Figure size 1080x360 with 1 Axes>"
      ]
     },
     "metadata": {
      "needs_background": "light",
      "tags": []
     },
     "output_type": "display_data"
    }
   ],
   "source": [
    "# Check the rating for user without comments\n",
    "plt.figure(figsize=(15,5))\n",
    "plt.title('Rating without comments')\n",
    "plt.xlabel('Rating')\n",
    "plt.ylabel('Counts of user')\n",
    "plt.hist(bg_reviews[bg_reviews['comment'].isnull()]['rating']);"
   ]
  },
  {
   "cell_type": "markdown",
   "metadata": {
    "id": "OCir52oY375a"
   },
   "source": [
    "## Rating"
   ]
  },
  {
   "cell_type": "code",
   "execution_count": 52,
   "metadata": {
    "colab": {
     "base_uri": "https://localhost:8080/",
     "height": 350
    },
    "executionInfo": {
     "elapsed": 1544,
     "status": "ok",
     "timestamp": 1602491538635,
     "user": {
      "displayName": "xing wei chia",
      "photoUrl": "",
      "userId": "07433573390488668056"
     },
     "user_tz": -480
    },
    "id": "TKbbXUqRtnoe",
    "outputId": "d437f999-06a3-4ba4-ed6c-f1ecf7e3dc8a"
   },
   "outputs": [
    {
     "data": {
      "image/png": "[encoded data removed]",
      "text/plain": [
       "<Figure size 1080x360 with 1 Axes>"
      ]
     },
     "metadata": {
      "needs_background": "light",
      "tags": []
     },
     "output_type": "display_data"
    }
   ],
   "source": [
    "# Check the overall rating \n",
    "plt.figure(figsize=(15,5))\n",
    "plt.title('Distribution of rating')\n",
    "plt.xlabel('Rating')\n",
    "plt.ylabel('Counts of user')\n",
    "plt.hist(bg_reviews['rating'], color='pink');"
   ]
  },
  {
   "cell_type": "code",
   "execution_count": 56,
   "metadata": {
    "colab": {
     "base_uri": "https://localhost:8080/",
     "height": 295
    },
    "executionInfo": {
     "elapsed": 2408,
     "status": "ok",
     "timestamp": 1602491725041,
     "user": {
      "displayName": "xing wei chia",
      "photoUrl": "",
      "userId": "07433573390488668056"
     },
     "user_tz": -480
    },
    "id": "a6ubZmGqYrat",
    "outputId": "8b7cbe7d-2f08-4ab8-a908-2ab8072b5d69"
   },
   "outputs": [
    {
     "data": {
      "image/png": "[encoded data removed]",
      "text/plain": [
       "<Figure size 576x288 with 1 Axes>"
      ]
     },
     "metadata": {
      "needs_background": "light",
      "tags": []
     },
     "output_type": "display_data"
    }
   ],
   "source": [
    "# Top 5 game with higher rating\n",
    "ga_rating = bg_reviews.groupby('name')['rating'].mean().sort_values(ascending=False).head()\n",
    "\n",
    "plt.figure(figsize=(8,4))\n",
    "plt.barh(ga_rating.index, ga_rating, color='pink', alpha =0.8)\n",
    "plt.gca().invert_yaxis()\n",
    "plt.xlabel(\"Rating\")\n",
    "plt.title(\"High Rating Boardgames\");"
   ]
  },
  {
   "cell_type": "code",
   "execution_count": 54,
   "metadata": {
    "colab": {
     "base_uri": "https://localhost:8080/",
     "height": 141
    },
    "executionInfo": {
     "elapsed": 956,
     "status": "ok",
     "timestamp": 1602491587760,
     "user": {
      "displayName": "xing wei chia",
      "photoUrl": "",
      "userId": "07433573390488668056"
     },
     "user_tz": -480
    },
    "id": "mRmx_JBbZOt5",
    "outputId": "5ae2ceb4-fbf3-41c9-b3d0-400e2aed7249"
   },
   "outputs": [
    {
     "data": {
      "text/plain": [
       "name\n",
       "Aeolis                                       9.687500\n",
       "Dungeon Crusade: Book I – Genesis of Evil    9.565405\n",
       "Thug Life the Game                           9.392857\n",
       "TerroriXico                                  9.380282\n",
       "Conqueror: Final Conquest                    9.360000\n",
       "Name: rating, dtype: float64"
      ]
     },
     "execution_count": 54,
     "metadata": {
      "tags": []
     },
     "output_type": "execute_result"
    }
   ],
   "source": [
    "ga_rating"
   ]
  },
  {
   "cell_type": "code",
   "execution_count": 55,
   "metadata": {
    "colab": {
     "base_uri": "https://localhost:8080/",
     "height": 177
    },
    "executionInfo": {
     "elapsed": 2162,
     "status": "ok",
     "timestamp": 1602491639093,
     "user": {
      "displayName": "xing wei chia",
      "photoUrl": "",
      "userId": "07433573390488668056"
     },
     "user_tz": -480
    },
    "id": "WA11zs-d8SWw",
    "outputId": "992ca729-2fe5-4b90-c62e-a11b4864d2e5"
   },
   "outputs": [
    {
     "data": {
      "text/plain": [
       "count    18984.000000\n",
       "mean         6.398336\n",
       "std          0.928890\n",
       "min          1.048437\n",
       "25%          5.814587\n",
       "50%          6.425602\n",
       "75%          7.016227\n",
       "max          9.687500\n",
       "Name: rating, dtype: float64"
      ]
     },
     "execution_count": 55,
     "metadata": {
      "tags": []
     },
     "output_type": "execute_result"
    }
   ],
   "source": [
    "ga_rating_df = bg_reviews.groupby('name')['rating'].mean().sort_values(ascending=False)\n",
    "ga_rating_df.describe()"
   ]
  },
  {
   "cell_type": "markdown",
   "metadata": {
    "id": "eRnVwymC8hLX"
   },
   "source": [
    "Note:\n",
    "- Average rating per game is 6.40"
   ]
  },
  {
   "cell_type": "code",
   "execution_count": 58,
   "metadata": {
    "colab": {
     "base_uri": "https://localhost:8080/",
     "height": 141
    },
    "executionInfo": {
     "elapsed": 2198,
     "status": "ok",
     "timestamp": 1602491762367,
     "user": {
      "displayName": "xing wei chia",
      "photoUrl": "",
      "userId": "07433573390488668056"
     },
     "user_tz": -480
    },
    "id": "ueRFAyF_4UGa",
    "outputId": "d6e4d6e8-591e-4532-d590-7a336607dd8a"
   },
   "outputs": [
    {
     "data": {
      "text/plain": [
       "name\n",
       "Pandemic       96234\n",
       "Carcassonne    96221\n",
       "Catan          96185\n",
       "7 Wonders      79870\n",
       "Dominion       74954\n",
       "Name: rating, dtype: int64"
      ]
     },
     "execution_count": 58,
     "metadata": {
      "tags": []
     },
     "output_type": "execute_result"
    }
   ],
   "source": [
    "## Top 5 game with higher number of rating\n",
    "bg_reviews.groupby('name')['rating'].count().sort_values(ascending=False).head()"
   ]
  },
  {
   "cell_type": "code",
   "execution_count": 59,
   "metadata": {
    "colab": {
     "base_uri": "https://localhost:8080/",
     "height": 295
    },
    "executionInfo": {
     "elapsed": 2505,
     "status": "ok",
     "timestamp": 1602491767266,
     "user": {
      "displayName": "xing wei chia",
      "photoUrl": "",
      "userId": "07433573390488668056"
     },
     "user_tz": -480
    },
    "id": "tsvk8jPEZUlg",
    "outputId": "e4e53958-c60a-419d-9a1d-88adcae1418c"
   },
   "outputs": [
    {
     "data": {
      "image/png": "[encoded data removed]",
      "text/plain": [
       "<Figure size 576x288 with 1 Axes>"
      ]
     },
     "metadata": {
      "needs_background": "light",
      "tags": []
     },
     "output_type": "display_data"
    }
   ],
   "source": [
    "# Top 5 game with higher number of rating\n",
    "ga_nrating = bg_reviews.groupby('name')['rating'].count().sort_values(ascending=False).head()\n",
    "\n",
    "plt.figure(figsize=(8,4))\n",
    "plt.barh(ga_nrating.index, ga_nrating, color='pink', alpha =0.5)\n",
    "plt.gca().invert_yaxis()\n",
    "plt.xlabel(\"No. of Rating\")\n",
    "plt.title(\"Top Rated Boardgame\");"
   ]
  },
  {
   "cell_type": "markdown",
   "metadata": {
    "id": "GZNzRD1Y8_BM"
   },
   "source": [
    "Note:\n",
    "- Board games that have higher no.of ratings are also the games that have higher ownership."
   ]
  },
  {
   "cell_type": "markdown",
   "metadata": {
    "id": "75UREmAHwHBP"
   },
   "source": [
    "## Comment"
   ]
  },
  {
   "cell_type": "code",
   "execution_count": 64,
   "metadata": {
    "colab": {
     "base_uri": "https://localhost:8080/",
     "height": 35
    },
    "executionInfo": {
     "elapsed": 4837,
     "status": "ok",
     "timestamp": 1602491958496,
     "user": {
      "displayName": "xing wei chia",
      "photoUrl": "",
      "userId": "07433573390488668056"
     },
     "user_tz": -480
    },
    "id": "Yt_T7NTBxI4k",
    "outputId": "ef6d53c6-3eee-4715-8b27-a4ee4ee1c975"
   },
   "outputs": [
    {
     "data": {
      "text/plain": [
       "(2995023, 5)"
      ]
     },
     "execution_count": 64,
     "metadata": {
      "tags": []
     },
     "output_type": "execute_result"
    }
   ],
   "source": [
    "bg_reviews.drop(columns = 'unnamed: 0',inplace=True)\n",
    "\n",
    "bg_reviews_new = bg_reviews.dropna()\n",
    "bg_reviews_new.shape"
   ]
  },
  {
   "cell_type": "code",
   "execution_count": 65,
   "metadata": {
    "colab": {
     "base_uri": "https://localhost:8080/",
     "height": 35
    },
    "executionInfo": {
     "elapsed": 64003,
     "status": "ok",
     "timestamp": 1602492025657,
     "user": {
      "displayName": "xing wei chia",
      "photoUrl": "",
      "userId": "07433573390488668056"
     },
     "user_tz": -480
    },
    "id": "aDNiSdQcwMYU",
    "outputId": "f16a7d46-58f7-49f4-fff0-9e79e6a70b99"
   },
   "outputs": [
    {
     "data": {
      "text/plain": [
       "2995023"
      ]
     },
     "execution_count": 65,
     "metadata": {
      "tags": []
     },
     "output_type": "execute_result"
    }
   ],
   "source": [
    "# Calculate the comment length\n",
    "comment_len = []\n",
    "\n",
    "for row in bg_reviews_new['comment']:\n",
    "  res = len(re.findall(r'\\w+', row))\n",
    "  comment_len.append(res)\n",
    "\n",
    "len(comment_len)"
   ]
  },
  {
   "cell_type": "code",
   "execution_count": 66,
   "metadata": {
    "colab": {
     "base_uri": "https://localhost:8080/",
     "height": 327
    },
    "executionInfo": {
     "elapsed": 1460,
     "status": "ok",
     "timestamp": 1602492030142,
     "user": {
      "displayName": "xing wei chia",
      "photoUrl": "",
      "userId": "07433573390488668056"
     },
     "user_tz": -480
    },
    "id": "Qj36GK-3wMLW",
    "outputId": "9a1f18b2-bc66-4031-dc98-ce38a323eb69"
   },
   "outputs": [
    {
     "name": "stderr",
     "output_type": "stream",
     "text": [
      "/usr/local/lib/python3.6/dist-packages/ipykernel_launcher.py:1: SettingWithCopyWarning: \n",
      "A value is trying to be set on a copy of a slice from a DataFrame.\n",
      "Try using .loc[row_indexer,col_indexer] = value instead\n",
      "\n",
      "See the caveats in the documentation: https://pandas.pydata.org/pandas-docs/stable/user_guide/indexing.html#returning-a-view-versus-a-copy\n",
      "  \"\"\"Entry point for launching an IPython kernel.\n"
     ]
    },
    {
     "data": {
      "text/html": [
       "<div>\n",
       "<style scoped>\n",
       "    .dataframe tbody tr th:only-of-type {\n",
       "        vertical-align: middle;\n",
       "    }\n",
       "\n",
       "    .dataframe tbody tr th {\n",
       "        vertical-align: top;\n",
       "    }\n",
       "\n",
       "    .dataframe thead th {\n",
       "        text-align: right;\n",
       "    }\n",
       "</style>\n",
       "<table border=\"1\" class=\"dataframe\">\n",
       "  <thead>\n",
       "    <tr style=\"text-align: right;\">\n",
       "      <th></th>\n",
       "      <th>user</th>\n",
       "      <th>rating</th>\n",
       "      <th>comment</th>\n",
       "      <th>id</th>\n",
       "      <th>name</th>\n",
       "      <th>comment_len</th>\n",
       "    </tr>\n",
       "  </thead>\n",
       "  <tbody>\n",
       "    <tr>\n",
       "      <th>1</th>\n",
       "      <td>mitnachtKAUBO-I</td>\n",
       "      <td>10.0</td>\n",
       "      <td>Hands down my favorite new game of BGG CON 200...</td>\n",
       "      <td>30549</td>\n",
       "      <td>Pandemic</td>\n",
       "      <td>84</td>\n",
       "    </tr>\n",
       "    <tr>\n",
       "      <th>2</th>\n",
       "      <td>avlawn</td>\n",
       "      <td>10.0</td>\n",
       "      <td>I tend to either love or easily tire of co-op ...</td>\n",
       "      <td>30549</td>\n",
       "      <td>Pandemic</td>\n",
       "      <td>78</td>\n",
       "    </tr>\n",
       "    <tr>\n",
       "      <th>4</th>\n",
       "      <td>Mease19</td>\n",
       "      <td>10.0</td>\n",
       "      <td>This is an amazing co-op game.  I play mostly ...</td>\n",
       "      <td>30549</td>\n",
       "      <td>Pandemic</td>\n",
       "      <td>62</td>\n",
       "    </tr>\n",
       "    <tr>\n",
       "      <th>5</th>\n",
       "      <td>cfarrell</td>\n",
       "      <td>10.0</td>\n",
       "      <td>Hey! I can finally rate this game I've been pl...</td>\n",
       "      <td>30549</td>\n",
       "      <td>Pandemic</td>\n",
       "      <td>223</td>\n",
       "    </tr>\n",
       "    <tr>\n",
       "      <th>8</th>\n",
       "      <td>gregd</td>\n",
       "      <td>10.0</td>\n",
       "      <td>Love it- great fun with my son. 2 plays so far...</td>\n",
       "      <td>30549</td>\n",
       "      <td>Pandemic</td>\n",
       "      <td>16</td>\n",
       "    </tr>\n",
       "  </tbody>\n",
       "</table>\n",
       "</div>"
      ],
      "text/plain": [
       "              user  rating  ...      name  comment_len\n",
       "1  mitnachtKAUBO-I    10.0  ...  Pandemic           84\n",
       "2           avlawn    10.0  ...  Pandemic           78\n",
       "4          Mease19    10.0  ...  Pandemic           62\n",
       "5         cfarrell    10.0  ...  Pandemic          223\n",
       "8            gregd    10.0  ...  Pandemic           16\n",
       "\n",
       "[5 rows x 6 columns]"
      ]
     },
     "execution_count": 66,
     "metadata": {
      "tags": []
     },
     "output_type": "execute_result"
    }
   ],
   "source": [
    "bg_reviews_new['comment_len'] = comment_len\n",
    "bg_reviews_new.head()"
   ]
  },
  {
   "cell_type": "code",
   "execution_count": 67,
   "metadata": {
    "colab": {
     "base_uri": "https://localhost:8080/",
     "height": 177
    },
    "executionInfo": {
     "elapsed": 1043,
     "status": "ok",
     "timestamp": 1602492032300,
     "user": {
      "displayName": "xing wei chia",
      "photoUrl": "",
      "userId": "07433573390488668056"
     },
     "user_tz": -480
    },
    "id": "JzAwIMxu2_5z",
    "outputId": "55c6bb92-69c2-4229-da37-768e6751ec28"
   },
   "outputs": [
    {
     "data": {
      "text/plain": [
       "count    2.995023e+06\n",
       "mean     3.906617e+01\n",
       "std      6.152684e+01\n",
       "min      0.000000e+00\n",
       "25%      9.000000e+00\n",
       "50%      2.200000e+01\n",
       "75%      4.600000e+01\n",
       "max      4.596000e+03\n",
       "Name: comment_len, dtype: float64"
      ]
     },
     "execution_count": 67,
     "metadata": {
      "tags": []
     },
     "output_type": "execute_result"
    }
   ],
   "source": [
    "bg_reviews_new['comment_len'].describe()"
   ]
  },
  {
   "cell_type": "markdown",
   "metadata": {
    "id": "XMmP98sM-Ae1"
   },
   "source": [
    "Note:\n",
    "- Average comment length is about 40 words where the range is from 0 to 4596."
   ]
  },
  {
   "cell_type": "code",
   "execution_count": 68,
   "metadata": {
    "colab": {
     "base_uri": "https://localhost:8080/",
     "height": 141
    },
    "executionInfo": {
     "elapsed": 1326,
     "status": "ok",
     "timestamp": 1602492097205,
     "user": {
      "displayName": "xing wei chia",
      "photoUrl": "",
      "userId": "07433573390488668056"
     },
     "user_tz": -480
    },
    "id": "GdAHGJFu5yKN",
    "outputId": "54fd9039-e242-45ce-ee9f-23b0cc53494a"
   },
   "outputs": [
    {
     "data": {
      "text/plain": [
       "name\n",
       "Ovni                             473.500000\n",
       "Frostgrave: Ghost Archipelago    420.000000\n",
       "Fortress Sevastopol              262.800000\n",
       "Futboard                         247.333333\n",
       "Escola de Dragões                240.000000\n",
       "Name: comment_len, dtype: float64"
      ]
     },
     "execution_count": 68,
     "metadata": {
      "tags": []
     },
     "output_type": "execute_result"
    }
   ],
   "source": [
    "# Top 5 board game with longer comment length\n",
    "bg_reviews_new.groupby('name')['comment_len'].mean().sort_values(ascending=False).head()"
   ]
  },
  {
   "cell_type": "code",
   "execution_count": 69,
   "metadata": {
    "colab": {
     "base_uri": "https://localhost:8080/",
     "height": 350
    },
    "executionInfo": {
     "elapsed": 1462,
     "status": "ok",
     "timestamp": 1602492101779,
     "user": {
      "displayName": "xing wei chia",
      "photoUrl": "",
      "userId": "07433573390488668056"
     },
     "user_tz": -480
    },
    "id": "agDyGzYi5x7q",
    "outputId": "fc38a837-507f-4f54-8ac0-69882b2b187a"
   },
   "outputs": [
    {
     "data": {
      "image/png": "[encoded data removed]",
      "text/plain": [
       "<Figure size 1080x360 with 1 Axes>"
      ]
     },
     "metadata": {
      "needs_background": "light",
      "tags": []
     },
     "output_type": "display_data"
    }
   ],
   "source": [
    "bg_comment_len = bg_reviews_new.groupby('name')['comment_len'].mean()\n",
    "\n",
    "plt.figure(figsize=(15,5))\n",
    "plt.title('Average comment length by boardgame')\n",
    "plt.xlabel('Average comment length')\n",
    "plt.ylabel('Counts of boardgames')\n",
    "plt.hist(bg_comment_len, color='orange', range=(0,200));"
   ]
  },
  {
   "cell_type": "markdown",
   "metadata": {
    "id": "j69W1n4U7sUQ"
   },
   "source": [
    "## No. of Ratings"
   ]
  },
  {
   "cell_type": "code",
   "execution_count": 70,
   "metadata": {
    "colab": {
     "base_uri": "https://localhost:8080/",
     "height": 327
    },
    "executionInfo": {
     "elapsed": 1096,
     "status": "ok",
     "timestamp": 1602492115568,
     "user": {
      "displayName": "xing wei chia",
      "photoUrl": "",
      "userId": "07433573390488668056"
     },
     "user_tz": -480
    },
    "id": "Lq0bi-dL-d1s",
    "outputId": "ca073163-0f8b-422f-def0-906d37930a36"
   },
   "outputs": [
    {
     "name": "stderr",
     "output_type": "stream",
     "text": [
      "/usr/local/lib/python3.6/dist-packages/ipykernel_launcher.py:1: SettingWithCopyWarning: \n",
      "A value is trying to be set on a copy of a slice from a DataFrame.\n",
      "Try using .loc[row_indexer,col_indexer] = value instead\n",
      "\n",
      "See the caveats in the documentation: https://pandas.pydata.org/pandas-docs/stable/user_guide/indexing.html#returning-a-view-versus-a-copy\n",
      "  \"\"\"Entry point for launching an IPython kernel.\n"
     ]
    },
    {
     "data": {
      "text/html": [
       "<div>\n",
       "<style scoped>\n",
       "    .dataframe tbody tr th:only-of-type {\n",
       "        vertical-align: middle;\n",
       "    }\n",
       "\n",
       "    .dataframe tbody tr th {\n",
       "        vertical-align: top;\n",
       "    }\n",
       "\n",
       "    .dataframe thead th {\n",
       "        text-align: right;\n",
       "    }\n",
       "</style>\n",
       "<table border=\"1\" class=\"dataframe\">\n",
       "  <thead>\n",
       "    <tr style=\"text-align: right;\">\n",
       "      <th></th>\n",
       "      <th>user</th>\n",
       "      <th>rating</th>\n",
       "      <th>comment</th>\n",
       "      <th>id</th>\n",
       "      <th>name</th>\n",
       "      <th>comment_len</th>\n",
       "      <th>no of rating</th>\n",
       "    </tr>\n",
       "  </thead>\n",
       "  <tbody>\n",
       "    <tr>\n",
       "      <th>1</th>\n",
       "      <td>mitnachtKAUBO-I</td>\n",
       "      <td>10.0</td>\n",
       "      <td>Hands down my favorite new game of BGG CON 200...</td>\n",
       "      <td>30549</td>\n",
       "      <td>Pandemic</td>\n",
       "      <td>84</td>\n",
       "      <td>13482</td>\n",
       "    </tr>\n",
       "    <tr>\n",
       "      <th>2</th>\n",
       "      <td>avlawn</td>\n",
       "      <td>10.0</td>\n",
       "      <td>I tend to either love or easily tire of co-op ...</td>\n",
       "      <td>30549</td>\n",
       "      <td>Pandemic</td>\n",
       "      <td>78</td>\n",
       "      <td>13482</td>\n",
       "    </tr>\n",
       "    <tr>\n",
       "      <th>4</th>\n",
       "      <td>Mease19</td>\n",
       "      <td>10.0</td>\n",
       "      <td>This is an amazing co-op game.  I play mostly ...</td>\n",
       "      <td>30549</td>\n",
       "      <td>Pandemic</td>\n",
       "      <td>62</td>\n",
       "      <td>13482</td>\n",
       "    </tr>\n",
       "    <tr>\n",
       "      <th>5</th>\n",
       "      <td>cfarrell</td>\n",
       "      <td>10.0</td>\n",
       "      <td>Hey! I can finally rate this game I've been pl...</td>\n",
       "      <td>30549</td>\n",
       "      <td>Pandemic</td>\n",
       "      <td>223</td>\n",
       "      <td>13482</td>\n",
       "    </tr>\n",
       "    <tr>\n",
       "      <th>8</th>\n",
       "      <td>gregd</td>\n",
       "      <td>10.0</td>\n",
       "      <td>Love it- great fun with my son. 2 plays so far...</td>\n",
       "      <td>30549</td>\n",
       "      <td>Pandemic</td>\n",
       "      <td>16</td>\n",
       "      <td>13482</td>\n",
       "    </tr>\n",
       "  </tbody>\n",
       "</table>\n",
       "</div>"
      ],
      "text/plain": [
       "              user  rating  ... comment_len  no of rating\n",
       "1  mitnachtKAUBO-I    10.0  ...          84         13482\n",
       "2           avlawn    10.0  ...          78         13482\n",
       "4          Mease19    10.0  ...          62         13482\n",
       "5         cfarrell    10.0  ...         223         13482\n",
       "8            gregd    10.0  ...          16         13482\n",
       "\n",
       "[5 rows x 7 columns]"
      ]
     },
     "execution_count": 70,
     "metadata": {
      "tags": []
     },
     "output_type": "execute_result"
    }
   ],
   "source": [
    "bg_reviews_new['no of rating'] = bg_reviews_new.groupby('name')['rating'].transform('count')\n",
    "bg_reviews_new.head()"
   ]
  },
  {
   "cell_type": "code",
   "execution_count": 71,
   "metadata": {
    "colab": {
     "base_uri": "https://localhost:8080/",
     "height": 200
    },
    "executionInfo": {
     "elapsed": 1105,
     "status": "ok",
     "timestamp": 1602492118588,
     "user": {
      "displayName": "xing wei chia",
      "photoUrl": "",
      "userId": "07433573390488668056"
     },
     "user_tz": -480
    },
    "id": "IV4sQDEBNLYt",
    "outputId": "9260f81a-43f0-4283-f79b-0ca113246388"
   },
   "outputs": [
    {
     "data": {
      "text/html": [
       "<div>\n",
       "<style scoped>\n",
       "    .dataframe tbody tr th:only-of-type {\n",
       "        vertical-align: middle;\n",
       "    }\n",
       "\n",
       "    .dataframe tbody tr th {\n",
       "        vertical-align: top;\n",
       "    }\n",
       "\n",
       "    .dataframe thead th {\n",
       "        text-align: right;\n",
       "    }\n",
       "</style>\n",
       "<table border=\"1\" class=\"dataframe\">\n",
       "  <thead>\n",
       "    <tr style=\"text-align: right;\">\n",
       "      <th></th>\n",
       "      <th>user</th>\n",
       "      <th>rating</th>\n",
       "      <th>comment</th>\n",
       "      <th>id</th>\n",
       "      <th>name</th>\n",
       "      <th>comment_len</th>\n",
       "      <th>no of rating</th>\n",
       "    </tr>\n",
       "  </thead>\n",
       "  <tbody>\n",
       "    <tr>\n",
       "      <th>15823242</th>\n",
       "      <td>ChiefMe</td>\n",
       "      <td>10.0</td>\n",
       "      <td>KS Collector's Bundle with a friend of mine</td>\n",
       "      <td>281515</td>\n",
       "      <td>Company of Heroes</td>\n",
       "      <td>9</td>\n",
       "      <td>6</td>\n",
       "    </tr>\n",
       "    <tr>\n",
       "      <th>15823247</th>\n",
       "      <td>Mukaz</td>\n",
       "      <td>10.0</td>\n",
       "      <td>Belekokio Gerumo...</td>\n",
       "      <td>281515</td>\n",
       "      <td>Company of Heroes</td>\n",
       "      <td>2</td>\n",
       "      <td>6</td>\n",
       "    </tr>\n",
       "    <tr>\n",
       "      <th>15823253</th>\n",
       "      <td>jpaquila</td>\n",
       "      <td>10.0</td>\n",
       "      <td>Excelente!! lo mejor que probé.</td>\n",
       "      <td>281515</td>\n",
       "      <td>Company of Heroes</td>\n",
       "      <td>5</td>\n",
       "      <td>6</td>\n",
       "    </tr>\n",
       "    <tr>\n",
       "      <th>15823264</th>\n",
       "      <td>Fafhrd65</td>\n",
       "      <td>8.0</td>\n",
       "      <td>Turn based preview looks very promising. The g...</td>\n",
       "      <td>281515</td>\n",
       "      <td>Company of Heroes</td>\n",
       "      <td>98</td>\n",
       "      <td>6</td>\n",
       "    </tr>\n",
       "    <tr>\n",
       "      <th>15823265</th>\n",
       "      <td>PlatinumOh</td>\n",
       "      <td>8.0</td>\n",
       "      <td>KS</td>\n",
       "      <td>281515</td>\n",
       "      <td>Company of Heroes</td>\n",
       "      <td>1</td>\n",
       "      <td>6</td>\n",
       "    </tr>\n",
       "  </tbody>\n",
       "</table>\n",
       "</div>"
      ],
      "text/plain": [
       "                user  rating  ... comment_len  no of rating\n",
       "15823242     ChiefMe    10.0  ...           9             6\n",
       "15823247       Mukaz    10.0  ...           2             6\n",
       "15823253    jpaquila    10.0  ...           5             6\n",
       "15823264    Fafhrd65     8.0  ...          98             6\n",
       "15823265  PlatinumOh     8.0  ...           1             6\n",
       "\n",
       "[5 rows x 7 columns]"
      ]
     },
     "execution_count": 71,
     "metadata": {
      "tags": []
     },
     "output_type": "execute_result"
    }
   ],
   "source": [
    "bg_reviews_new.tail()"
   ]
  },
  {
   "cell_type": "code",
   "execution_count": 72,
   "metadata": {
    "executionInfo": {
     "elapsed": 1335,
     "status": "ok",
     "timestamp": 1602492127140,
     "user": {
      "displayName": "xing wei chia",
      "photoUrl": "",
      "userId": "07433573390488668056"
     },
     "user_tz": -480
    },
    "id": "ubKcuap23W3T"
   },
   "outputs": [],
   "source": [
    "# bg_reviews_new.to_csv('boardgames_ratings.csv',index=False)"
   ]
  },
  {
   "cell_type": "code",
   "execution_count": 73,
   "metadata": {
    "colab": {
     "base_uri": "https://localhost:8080/",
     "height": 35
    },
    "executionInfo": {
     "elapsed": 990,
     "status": "ok",
     "timestamp": 1602492131293,
     "user": {
      "displayName": "xing wei chia",
      "photoUrl": "",
      "userId": "07433573390488668056"
     },
     "user_tz": -480
    },
    "id": "Ni2yUBsv3cc8",
    "outputId": "62053a98-152c-445f-df78-da1d0e6475c3"
   },
   "outputs": [
    {
     "data": {
      "text/plain": [
       "(2995023, 7)"
      ]
     },
     "execution_count": 73,
     "metadata": {
      "tags": []
     },
     "output_type": "execute_result"
    }
   ],
   "source": [
    "bg_reviews_new.shape"
   ]
  },
  {
   "cell_type": "code",
   "execution_count": 74,
   "metadata": {
    "colab": {
     "base_uri": "https://localhost:8080/",
     "height": 35
    },
    "executionInfo": {
     "elapsed": 1128,
     "status": "ok",
     "timestamp": 1602492133405,
     "user": {
      "displayName": "xing wei chia",
      "photoUrl": "",
      "userId": "07433573390488668056"
     },
     "user_tz": -480
    },
    "id": "7b5LXXzg60DR",
    "outputId": "20837e78-a54e-4181-dcd1-251565009a8d"
   },
   "outputs": [
    {
     "data": {
      "text/plain": [
       "18978"
      ]
     },
     "execution_count": 74,
     "metadata": {
      "tags": []
     },
     "output_type": "execute_result"
    }
   ],
   "source": [
    "bg_reviews_new['name'].nunique()"
   ]
  },
  {
   "cell_type": "markdown",
   "metadata": {
    "id": "s7tMxFvF-Yyg"
   },
   "source": [
    "Note:\n",
    "- This dataset will be use later in notebook 2 in order to build a recommendation system based on user rating."
   ]
  },
  {
   "cell_type": "markdown",
   "metadata": {
    "id": "3e2vUD_k_14a"
   },
   "source": [
    "## Cleaning Comment\n"
   ]
  },
  {
   "cell_type": "code",
   "execution_count": 75,
   "metadata": {
    "executionInfo": {
     "elapsed": 621,
     "status": "ok",
     "timestamp": 1602492217827,
     "user": {
      "displayName": "xing wei chia",
      "photoUrl": "",
      "userId": "07433573390488668056"
     },
     "user_tz": -480
    },
    "id": "D_U8g6LoBXLx"
   },
   "outputs": [],
   "source": [
    "# nltk.download('stopwords')"
   ]
  },
  {
   "cell_type": "code",
   "execution_count": null,
   "metadata": {
    "id": "p0ScSp-vBYln"
   },
   "outputs": [],
   "source": [
    "# nltk.download('wordnet')"
   ]
  },
  {
   "cell_type": "code",
   "execution_count": null,
   "metadata": {
    "id": "5nXTwHTE_4CC"
   },
   "outputs": [],
   "source": [
    "# # Cleaning user comment\n",
    "\n",
    "# def clean_comment(comment):\n",
    "    \n",
    "#     comment_text = BeautifulSoup(comment).get_text()      # 1. Remove HTML.\n",
    "#     letters= re.sub(\"[^a-zA-Z]\", \" \", comment_text)       # 2. Remove non-letters.\n",
    "#     words = letters.lower().split()                       # 3. Convert to lower case, split into individual words.\n",
    "#     stops = set(stopwords.words('english'))\n",
    "#     meaningful_words = [w for w in words if w not in stops]   # 4. Remove stopwords.\n",
    "#     lemmatizer = WordNetLemmatizer()                          # 5. Lemmatize\n",
    "#     meaningful_words_lemmatized = [lemmatizer.lemmatize(w) for w in meaningful_words]   \n",
    "    \n",
    "#     return(\" \".join(meaningful_words_lemmatized))  # 6.Join the words back into one string separated by space,return the result."
   ]
  },
  {
   "cell_type": "code",
   "execution_count": null,
   "metadata": {
    "id": "9tb6pHo0ALYV"
   },
   "outputs": [],
   "source": [
    "# comment_clean = []\n",
    "# for comment in bg_reviews_new['comment']:\n",
    "#     comment_clean.append(clean_comment(comment))"
   ]
  },
  {
   "cell_type": "code",
   "execution_count": null,
   "metadata": {
    "id": "V2p3eq06APSm"
   },
   "outputs": [],
   "source": [
    "# len(comment_clean)"
   ]
  },
  {
   "cell_type": "code",
   "execution_count": null,
   "metadata": {
    "id": "05b-BPe0ARe6"
   },
   "outputs": [],
   "source": [
    "# # Check the comment after cleaning\n",
    "# comment_clean[2]"
   ]
  },
  {
   "cell_type": "code",
   "execution_count": null,
   "metadata": {
    "id": "e0LMTt0EATCP"
   },
   "outputs": [],
   "source": [
    "# bg_reviews_new['clean_comment'] = comment_clean\n",
    "# bg_reviews_new.head()"
   ]
  },
  {
   "cell_type": "code",
   "execution_count": null,
   "metadata": {
    "id": "ijeAmZ_cAXQs"
   },
   "outputs": [],
   "source": [
    "# bg_reviews_new.to_csv('boardgames_comment.csv',index=False)"
   ]
  },
  {
   "cell_type": "markdown",
   "metadata": {
    "id": "zcZ1-fU5-x1L"
   },
   "source": [
    "Note:\n",
    "\n",
    "- This dataset will be used for topic modelling on the user comments to further understand players' interest."
   ]
  }
 ],
 "metadata": {
  "accelerator": "GPU",
  "colab": {
   "authorship_tag": "ABX9TyNyExQgcq/azD1ZZxkqc9sk",
   "collapsed_sections": [],
   "mount_file_id": "1hEbzO1LEHRAtMcIYpsWBDGLYoMq7GA_q",
   "name": "1. Board Game Recommendation_Data.ipynb",
   "provenance": [],
   "toc_visible": true
  },
  "kernelspec": {
   "display_name": "Python 3",
   "language": "python",
   "name": "python3"
  },
  "language_info": {
   "codemirror_mode": {
    "name": "ipython",
    "version": 3
   },
   "file_extension": ".py",
   "mimetype": "text/x-python",
   "name": "python",
   "nbconvert_exporter": "python",
   "pygments_lexer": "ipython3",
   "version": "3.7.6"
  }
 },
 "nbformat": 4,
 "nbformat_minor": 1
}
