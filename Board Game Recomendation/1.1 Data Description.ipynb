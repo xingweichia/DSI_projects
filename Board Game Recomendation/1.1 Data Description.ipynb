{
 "cells": [
  {
   "cell_type": "markdown",
   "metadata": {},
   "source": [
    "Board Game General data description:\n",
    "\n",
    "Column  | Description\n",
    "------------- | -------------\n",
    "Unnamed  | Index of the table\n",
    "ID  | Board game id that matches to the game name\n",
    "Name  | Board game name\n",
    "Year | Year of published\n",
    "Rank | Board game rank in bgg.com site among all games (0-19.3k)\n",
    "Average | Average score of the game based on user rating\n",
    "Bayes average | Geek score (in bgg site)\n",
    "Users rated | No. of user rated\n",
    "URL | Board game page\n",
    "Thumbnail | Link to board game thumb"
   ]
  },
  {
   "cell_type": "markdown",
   "metadata": {},
   "source": [
    "Board Game Details data description:\n",
    "\n",
    "|Column  | Description|\n",
    "|------------- | -------------|\n",
    "|Unnamed  | Index of the table|\n",
    "|type | Game types|\n",
    "|ID  | Board game id that matches to the game name|\n",
    "|Thumbnail | Link to board game thumb|\n",
    "|Image | Board game image|\n",
    "|Primary | Primary name of the game|\n",
    "|Alternate | Alternate name of the game (including version number)|\n",
    "|Description | Board game description|\n",
    "|Yearpublished | Year of published|\n",
    "|minplayers/maxplayers | Minimum and maximum players of the game|\n",
    "|suggested_num_players | Suggested number of players|\n",
    "|suggested_playerage | Suggested player's age|\n",
    "|suggedted_language_dependence | Suggested player language dependence|\n",
    "|playingtime / minplaytime/ maxplaytime | Playing time/minimum and maximum playing time of the game|\n",
    "|boardgamecategory/ boardgamemechanic/ boardgamefamily| Board game details|\n",
    "|boardgameexpansion/ boardgameimplementation | Board game details|\n",
    "|boardgamedesigner/ boardgameartist/ boardgamepublisher |Board game details |\n",
    "|boardgameintegration/boardgamecompilation | Board game details |\n",
    "|Usersrated | No. of user rated|\n",
    "|Average | Average score of the game based on user rating|\n",
    "|Bayes average | Geek score (in bgg site)|\n",
    "|stddev/median | Standard deviation and median of score|\n",
    "|owned/ trading/ wanting/ wishing | Number of players owned/ wanting/ wishing/ trading for the board game|\n",
    "|numcomments | Number of comments |\n",
    "|numweights/averageweight | Weight/average weight of the game based on comments|\n",
    "|Board Game Rank/Strategy Game Rank/Family Game Rank/Party Game Rank|Board game rank based on category|\n",
    "|Abstract Game Rank/Thematic Rank/War Game Rank/Customizable Rank|Board game rank based on category|\n",
    "|Children's Game Rank/RPG Item Rank/Accessory Rank/Video Game Rank|Board game rank based on category|\n",
    "|Amiga Rank/Commodore 64 Rank/Arcade Rank/Atari ST Rank | Board game rank based on category|"
   ]
  },
  {
   "cell_type": "markdown",
   "metadata": {},
   "source": [
    "Board Game Reviews data description:\n",
    "\n",
    "Column  | Description\n",
    "------------- | -------------\n",
    "Unnamed  | Index of the table\n",
    "User | Username of players\n",
    "Rating | Rating given by user\n",
    "Comment | Players comments\n",
    "ID  | Board game id that matches to the game name\n",
    "Name  | Board game name"
   ]
  }
 ],
 "metadata": {
  "kernelspec": {
   "display_name": "Python 3",
   "language": "python",
   "name": "python3"
  },
  "language_info": {
   "codemirror_mode": {
    "name": "ipython",
    "version": 3
   },
   "file_extension": ".py",
   "mimetype": "text/x-python",
   "name": "python",
   "nbconvert_exporter": "python",
   "pygments_lexer": "ipython3",
   "version": "3.7.6"
  }
 },
 "nbformat": 4,
 "nbformat_minor": 4
}
