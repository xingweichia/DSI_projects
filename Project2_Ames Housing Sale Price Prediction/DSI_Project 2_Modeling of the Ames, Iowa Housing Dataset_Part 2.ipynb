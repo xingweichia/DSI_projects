{
 "cells": [
  {
   "cell_type": "markdown",
   "metadata": {},
   "source": [
    "# DSI Project 2: Modeling of the Ames, Iowa Housing Dataset\n",
    "\n",
    "\n",
    "## Part 2_Content:\n",
    "\n",
    "In this Part 2 of the project, we are going to use the features that we selected in Part 1 to create regression model and to choose the model that has lower Mean Squared Error(MSE) and Root Mean Squared Error(RMSE).\n",
    "\n",
    "- [Import Libraries & Load Data](#Import-Libraries-&-Load-Data)\n",
    "- [Model Preparation & Scalling](#Model-Preparation-&-Scalling)\n",
    "- [Baseline Prediction](#Baseline-Prediction)\n",
    "- [Model Fitting and Evaluation](#Model-Fitting-and-Evaluation)\n",
    "- [Prediction with Best Model](#Prediction-with-Best-Model)\n",
    "- [Conclusion](#Conclusion)"
   ]
  },
  {
   "cell_type": "markdown",
   "metadata": {},
   "source": [
    "## Import Libraries & Load Data\n",
    "---"
   ]
  },
  {
   "cell_type": "code",
   "execution_count": 1,
   "metadata": {},
   "outputs": [],
   "source": [
    "import pandas as pd\n",
    "import numpy as np\n",
    "import matplotlib.pyplot as plt\n",
    "import seaborn as sns\n",
    "\n",
    "from sklearn.model_selection import train_test_split, cross_val_score, cross_val_predict\n",
    "from sklearn.linear_model import LinearRegression, LassoCV, RidgeCV, Ridge, Lasso, ElasticNet, ElasticNetCV, LogisticRegression\n",
    "from sklearn.metrics import r2_score, mean_squared_error\n",
    "from sklearn.preprocessing import StandardScaler, PolynomialFeatures\n",
    "from sklearn.feature_selection import RFE"
   ]
  },
  {
   "cell_type": "code",
   "execution_count": 2,
   "metadata": {},
   "outputs": [],
   "source": [
    "train_c = pd.read_csv('./datasets/train_cleaned.csv')\n",
    "test_c = pd.read_csv('./datasets/test_cleaned.csv')"
   ]
  },
  {
   "cell_type": "code",
   "execution_count": 3,
   "metadata": {},
   "outputs": [
    {
     "data": {
      "text/html": [
       "<div>\n",
       "<style scoped>\n",
       "    .dataframe tbody tr th:only-of-type {\n",
       "        vertical-align: middle;\n",
       "    }\n",
       "\n",
       "    .dataframe tbody tr th {\n",
       "        vertical-align: top;\n",
       "    }\n",
       "\n",
       "    .dataframe thead th {\n",
       "        text-align: right;\n",
       "    }\n",
       "</style>\n",
       "<table border=\"1\" class=\"dataframe\">\n",
       "  <thead>\n",
       "    <tr style=\"text-align: right;\">\n",
       "      <th></th>\n",
       "      <th>Lot Area</th>\n",
       "      <th>Lot Shape</th>\n",
       "      <th>Overall Qual</th>\n",
       "      <th>Mas Vnr Area</th>\n",
       "      <th>Exter Qual</th>\n",
       "      <th>Bsmt Qual</th>\n",
       "      <th>Bsmt Cond</th>\n",
       "      <th>Bsmt Exposure</th>\n",
       "      <th>BsmtFin Type 1</th>\n",
       "      <th>BsmtFin SF 1</th>\n",
       "      <th>...</th>\n",
       "      <th>Mas Vnr Type_Stone</th>\n",
       "      <th>Foundation_BrkTil</th>\n",
       "      <th>Foundation_CBlock</th>\n",
       "      <th>Foundation_PConc</th>\n",
       "      <th>Garage Type_Attchd</th>\n",
       "      <th>Garage Type_BuiltIn</th>\n",
       "      <th>Garage Type_Detchd</th>\n",
       "      <th>Garage Type_None</th>\n",
       "      <th>Sale Type_New</th>\n",
       "      <th>Sale Type_WD</th>\n",
       "    </tr>\n",
       "  </thead>\n",
       "  <tbody>\n",
       "    <tr>\n",
       "      <th>0</th>\n",
       "      <td>13517</td>\n",
       "      <td>3</td>\n",
       "      <td>6</td>\n",
       "      <td>289.0</td>\n",
       "      <td>4</td>\n",
       "      <td>3</td>\n",
       "      <td>3</td>\n",
       "      <td>1</td>\n",
       "      <td>6</td>\n",
       "      <td>533.0</td>\n",
       "      <td>...</td>\n",
       "      <td>0</td>\n",
       "      <td>0</td>\n",
       "      <td>1</td>\n",
       "      <td>0</td>\n",
       "      <td>1</td>\n",
       "      <td>0</td>\n",
       "      <td>0</td>\n",
       "      <td>0</td>\n",
       "      <td>0</td>\n",
       "      <td>1</td>\n",
       "    </tr>\n",
       "    <tr>\n",
       "      <th>1</th>\n",
       "      <td>11492</td>\n",
       "      <td>3</td>\n",
       "      <td>7</td>\n",
       "      <td>132.0</td>\n",
       "      <td>4</td>\n",
       "      <td>4</td>\n",
       "      <td>3</td>\n",
       "      <td>1</td>\n",
       "      <td>6</td>\n",
       "      <td>637.0</td>\n",
       "      <td>...</td>\n",
       "      <td>0</td>\n",
       "      <td>0</td>\n",
       "      <td>0</td>\n",
       "      <td>1</td>\n",
       "      <td>1</td>\n",
       "      <td>0</td>\n",
       "      <td>0</td>\n",
       "      <td>0</td>\n",
       "      <td>0</td>\n",
       "      <td>1</td>\n",
       "    </tr>\n",
       "    <tr>\n",
       "      <th>2</th>\n",
       "      <td>7922</td>\n",
       "      <td>4</td>\n",
       "      <td>5</td>\n",
       "      <td>0.0</td>\n",
       "      <td>3</td>\n",
       "      <td>3</td>\n",
       "      <td>3</td>\n",
       "      <td>1</td>\n",
       "      <td>6</td>\n",
       "      <td>731.0</td>\n",
       "      <td>...</td>\n",
       "      <td>0</td>\n",
       "      <td>0</td>\n",
       "      <td>1</td>\n",
       "      <td>0</td>\n",
       "      <td>0</td>\n",
       "      <td>0</td>\n",
       "      <td>1</td>\n",
       "      <td>0</td>\n",
       "      <td>0</td>\n",
       "      <td>1</td>\n",
       "    </tr>\n",
       "    <tr>\n",
       "      <th>3</th>\n",
       "      <td>9802</td>\n",
       "      <td>4</td>\n",
       "      <td>5</td>\n",
       "      <td>0.0</td>\n",
       "      <td>3</td>\n",
       "      <td>4</td>\n",
       "      <td>3</td>\n",
       "      <td>1</td>\n",
       "      <td>1</td>\n",
       "      <td>0.0</td>\n",
       "      <td>...</td>\n",
       "      <td>0</td>\n",
       "      <td>0</td>\n",
       "      <td>0</td>\n",
       "      <td>1</td>\n",
       "      <td>0</td>\n",
       "      <td>1</td>\n",
       "      <td>0</td>\n",
       "      <td>0</td>\n",
       "      <td>0</td>\n",
       "      <td>1</td>\n",
       "    </tr>\n",
       "    <tr>\n",
       "      <th>4</th>\n",
       "      <td>14235</td>\n",
       "      <td>3</td>\n",
       "      <td>6</td>\n",
       "      <td>0.0</td>\n",
       "      <td>3</td>\n",
       "      <td>2</td>\n",
       "      <td>4</td>\n",
       "      <td>1</td>\n",
       "      <td>1</td>\n",
       "      <td>0.0</td>\n",
       "      <td>...</td>\n",
       "      <td>0</td>\n",
       "      <td>0</td>\n",
       "      <td>0</td>\n",
       "      <td>1</td>\n",
       "      <td>0</td>\n",
       "      <td>0</td>\n",
       "      <td>1</td>\n",
       "      <td>0</td>\n",
       "      <td>0</td>\n",
       "      <td>1</td>\n",
       "    </tr>\n",
       "  </tbody>\n",
       "</table>\n",
       "<p>5 rows × 54 columns</p>\n",
       "</div>"
      ],
      "text/plain": [
       "   Lot Area  Lot Shape  Overall Qual  Mas Vnr Area  Exter Qual  Bsmt Qual  \\\n",
       "0     13517          3             6         289.0           4          3   \n",
       "1     11492          3             7         132.0           4          4   \n",
       "2      7922          4             5           0.0           3          3   \n",
       "3      9802          4             5           0.0           3          4   \n",
       "4     14235          3             6           0.0           3          2   \n",
       "\n",
       "   Bsmt Cond  Bsmt Exposure  BsmtFin Type 1  BsmtFin SF 1  ...  \\\n",
       "0          3              1               6         533.0  ...   \n",
       "1          3              1               6         637.0  ...   \n",
       "2          3              1               6         731.0  ...   \n",
       "3          3              1               1           0.0  ...   \n",
       "4          4              1               1           0.0  ...   \n",
       "\n",
       "   Mas Vnr Type_Stone  Foundation_BrkTil  Foundation_CBlock  Foundation_PConc  \\\n",
       "0                   0                  0                  1                 0   \n",
       "1                   0                  0                  0                 1   \n",
       "2                   0                  0                  1                 0   \n",
       "3                   0                  0                  0                 1   \n",
       "4                   0                  0                  0                 1   \n",
       "\n",
       "   Garage Type_Attchd  Garage Type_BuiltIn  Garage Type_Detchd  \\\n",
       "0                   1                    0                   0   \n",
       "1                   1                    0                   0   \n",
       "2                   0                    0                   1   \n",
       "3                   0                    1                   0   \n",
       "4                   0                    0                   1   \n",
       "\n",
       "   Garage Type_None  Sale Type_New  Sale Type_WD   \n",
       "0                 0              0              1  \n",
       "1                 0              0              1  \n",
       "2                 0              0              1  \n",
       "3                 0              0              1  \n",
       "4                 0              0              1  \n",
       "\n",
       "[5 rows x 54 columns]"
      ]
     },
     "execution_count": 3,
     "metadata": {},
     "output_type": "execute_result"
    }
   ],
   "source": [
    "train_c.head()"
   ]
  },
  {
   "cell_type": "code",
   "execution_count": 4,
   "metadata": {},
   "outputs": [
    {
     "data": {
      "text/plain": [
       "(2049, 54)"
      ]
     },
     "execution_count": 4,
     "metadata": {},
     "output_type": "execute_result"
    }
   ],
   "source": [
    "train_c.shape"
   ]
  },
  {
   "cell_type": "code",
   "execution_count": 5,
   "metadata": {},
   "outputs": [
    {
     "data": {
      "text/html": [
       "<div>\n",
       "<style scoped>\n",
       "    .dataframe tbody tr th:only-of-type {\n",
       "        vertical-align: middle;\n",
       "    }\n",
       "\n",
       "    .dataframe tbody tr th {\n",
       "        vertical-align: top;\n",
       "    }\n",
       "\n",
       "    .dataframe thead th {\n",
       "        text-align: right;\n",
       "    }\n",
       "</style>\n",
       "<table border=\"1\" class=\"dataframe\">\n",
       "  <thead>\n",
       "    <tr style=\"text-align: right;\">\n",
       "      <th></th>\n",
       "      <th>Id</th>\n",
       "      <th>Lot Area</th>\n",
       "      <th>Lot Shape</th>\n",
       "      <th>Overall Qual</th>\n",
       "      <th>Mas Vnr Area</th>\n",
       "      <th>Exter Qual</th>\n",
       "      <th>Bsmt Qual</th>\n",
       "      <th>Bsmt Cond</th>\n",
       "      <th>Bsmt Exposure</th>\n",
       "      <th>BsmtFin Type 1</th>\n",
       "      <th>...</th>\n",
       "      <th>Mas Vnr Type_Stone</th>\n",
       "      <th>Foundation_BrkTil</th>\n",
       "      <th>Foundation_CBlock</th>\n",
       "      <th>Foundation_PConc</th>\n",
       "      <th>Garage Type_Attchd</th>\n",
       "      <th>Garage Type_BuiltIn</th>\n",
       "      <th>Garage Type_Detchd</th>\n",
       "      <th>Garage Type_None</th>\n",
       "      <th>Sale Type_New</th>\n",
       "      <th>Sale Type_WD</th>\n",
       "    </tr>\n",
       "  </thead>\n",
       "  <tbody>\n",
       "    <tr>\n",
       "      <th>0</th>\n",
       "      <td>2658</td>\n",
       "      <td>9142</td>\n",
       "      <td>4</td>\n",
       "      <td>6</td>\n",
       "      <td>0.0</td>\n",
       "      <td>3</td>\n",
       "      <td>2</td>\n",
       "      <td>3</td>\n",
       "      <td>1</td>\n",
       "      <td>1</td>\n",
       "      <td>...</td>\n",
       "      <td>0</td>\n",
       "      <td>0</td>\n",
       "      <td>0</td>\n",
       "      <td>0</td>\n",
       "      <td>0</td>\n",
       "      <td>0</td>\n",
       "      <td>1</td>\n",
       "      <td>0</td>\n",
       "      <td>0</td>\n",
       "      <td>1</td>\n",
       "    </tr>\n",
       "    <tr>\n",
       "      <th>1</th>\n",
       "      <td>2718</td>\n",
       "      <td>9662</td>\n",
       "      <td>3</td>\n",
       "      <td>5</td>\n",
       "      <td>0.0</td>\n",
       "      <td>3</td>\n",
       "      <td>4</td>\n",
       "      <td>3</td>\n",
       "      <td>1</td>\n",
       "      <td>1</td>\n",
       "      <td>...</td>\n",
       "      <td>0</td>\n",
       "      <td>0</td>\n",
       "      <td>1</td>\n",
       "      <td>0</td>\n",
       "      <td>1</td>\n",
       "      <td>0</td>\n",
       "      <td>0</td>\n",
       "      <td>0</td>\n",
       "      <td>0</td>\n",
       "      <td>1</td>\n",
       "    </tr>\n",
       "    <tr>\n",
       "      <th>2</th>\n",
       "      <td>2414</td>\n",
       "      <td>17104</td>\n",
       "      <td>3</td>\n",
       "      <td>7</td>\n",
       "      <td>0.0</td>\n",
       "      <td>4</td>\n",
       "      <td>4</td>\n",
       "      <td>4</td>\n",
       "      <td>3</td>\n",
       "      <td>6</td>\n",
       "      <td>...</td>\n",
       "      <td>0</td>\n",
       "      <td>0</td>\n",
       "      <td>0</td>\n",
       "      <td>1</td>\n",
       "      <td>1</td>\n",
       "      <td>0</td>\n",
       "      <td>0</td>\n",
       "      <td>0</td>\n",
       "      <td>1</td>\n",
       "      <td>0</td>\n",
       "    </tr>\n",
       "    <tr>\n",
       "      <th>3</th>\n",
       "      <td>1989</td>\n",
       "      <td>8520</td>\n",
       "      <td>4</td>\n",
       "      <td>5</td>\n",
       "      <td>0.0</td>\n",
       "      <td>4</td>\n",
       "      <td>3</td>\n",
       "      <td>3</td>\n",
       "      <td>1</td>\n",
       "      <td>1</td>\n",
       "      <td>...</td>\n",
       "      <td>0</td>\n",
       "      <td>0</td>\n",
       "      <td>1</td>\n",
       "      <td>0</td>\n",
       "      <td>0</td>\n",
       "      <td>0</td>\n",
       "      <td>1</td>\n",
       "      <td>0</td>\n",
       "      <td>0</td>\n",
       "      <td>1</td>\n",
       "    </tr>\n",
       "    <tr>\n",
       "      <th>4</th>\n",
       "      <td>625</td>\n",
       "      <td>9500</td>\n",
       "      <td>3</td>\n",
       "      <td>6</td>\n",
       "      <td>247.0</td>\n",
       "      <td>3</td>\n",
       "      <td>4</td>\n",
       "      <td>3</td>\n",
       "      <td>1</td>\n",
       "      <td>4</td>\n",
       "      <td>...</td>\n",
       "      <td>0</td>\n",
       "      <td>0</td>\n",
       "      <td>1</td>\n",
       "      <td>0</td>\n",
       "      <td>1</td>\n",
       "      <td>0</td>\n",
       "      <td>0</td>\n",
       "      <td>0</td>\n",
       "      <td>0</td>\n",
       "      <td>1</td>\n",
       "    </tr>\n",
       "  </tbody>\n",
       "</table>\n",
       "<p>5 rows × 54 columns</p>\n",
       "</div>"
      ],
      "text/plain": [
       "     Id  Lot Area  Lot Shape  Overall Qual  Mas Vnr Area  Exter Qual  \\\n",
       "0  2658      9142          4             6           0.0           3   \n",
       "1  2718      9662          3             5           0.0           3   \n",
       "2  2414     17104          3             7           0.0           4   \n",
       "3  1989      8520          4             5           0.0           4   \n",
       "4   625      9500          3             6         247.0           3   \n",
       "\n",
       "   Bsmt Qual  Bsmt Cond  Bsmt Exposure  BsmtFin Type 1  ...  \\\n",
       "0          2          3              1               1  ...   \n",
       "1          4          3              1               1  ...   \n",
       "2          4          4              3               6  ...   \n",
       "3          3          3              1               1  ...   \n",
       "4          4          3              1               4  ...   \n",
       "\n",
       "   Mas Vnr Type_Stone  Foundation_BrkTil  Foundation_CBlock  Foundation_PConc  \\\n",
       "0                   0                  0                  0                 0   \n",
       "1                   0                  0                  1                 0   \n",
       "2                   0                  0                  0                 1   \n",
       "3                   0                  0                  1                 0   \n",
       "4                   0                  0                  1                 0   \n",
       "\n",
       "   Garage Type_Attchd  Garage Type_BuiltIn  Garage Type_Detchd  \\\n",
       "0                   0                    0                   1   \n",
       "1                   1                    0                   0   \n",
       "2                   1                    0                   0   \n",
       "3                   0                    0                   1   \n",
       "4                   1                    0                   0   \n",
       "\n",
       "   Garage Type_None  Sale Type_New  Sale Type_WD   \n",
       "0                 0              0              1  \n",
       "1                 0              0              1  \n",
       "2                 0              1              0  \n",
       "3                 0              0              1  \n",
       "4                 0              0              1  \n",
       "\n",
       "[5 rows x 54 columns]"
      ]
     },
     "execution_count": 5,
     "metadata": {},
     "output_type": "execute_result"
    }
   ],
   "source": [
    "test_c.head()"
   ]
  },
  {
   "cell_type": "code",
   "execution_count": 6,
   "metadata": {},
   "outputs": [
    {
     "data": {
      "text/plain": [
       "(879, 54)"
      ]
     },
     "execution_count": 6,
     "metadata": {},
     "output_type": "execute_result"
    }
   ],
   "source": [
    "test_c.shape"
   ]
  },
  {
   "cell_type": "markdown",
   "metadata": {},
   "source": [
    "## Model Preparation & Scalling\n",
    "----\n",
    "\n",
    "Using all 53 features as the predictors and scale the predictor in order to fit the model"
   ]
  },
  {
   "cell_type": "code",
   "execution_count": 7,
   "metadata": {},
   "outputs": [],
   "source": [
    "features = [col for col in train_c.columns if col !='SalePrice']\n",
    "\n",
    "X = train_c[features]\n",
    "y = train_c['SalePrice']"
   ]
  },
  {
   "cell_type": "code",
   "execution_count": 8,
   "metadata": {},
   "outputs": [
    {
     "name": "stdout",
     "output_type": "stream",
     "text": [
      "(2049, 53) (2049,)\n"
     ]
    }
   ],
   "source": [
    "print(X.shape , y.shape)"
   ]
  },
  {
   "cell_type": "code",
   "execution_count": 9,
   "metadata": {},
   "outputs": [],
   "source": [
    "X_train, X_test, y_train, y_test = train_test_split(X,y,random_state=42) # using default test size"
   ]
  },
  {
   "cell_type": "markdown",
   "metadata": {},
   "source": [
    "#### Note that we have done the data cleaning by imputing mean to fill in the null value. This might affect the variance of the data but assume that the effect of mean imputation is not significance in this case as there is only one imputation done."
   ]
  },
  {
   "cell_type": "code",
   "execution_count": 10,
   "metadata": {},
   "outputs": [
    {
     "data": {
      "text/plain": [
       "(1536, 53)"
      ]
     },
     "execution_count": 10,
     "metadata": {},
     "output_type": "execute_result"
    }
   ],
   "source": [
    "X_train.shape  # 75% of data"
   ]
  },
  {
   "cell_type": "code",
   "execution_count": 11,
   "metadata": {},
   "outputs": [
    {
     "data": {
      "text/plain": [
       "(513, 53)"
      ]
     },
     "execution_count": 11,
     "metadata": {},
     "output_type": "execute_result"
    }
   ],
   "source": [
    "X_test.shape   # 25% of data"
   ]
  },
  {
   "cell_type": "code",
   "execution_count": 12,
   "metadata": {},
   "outputs": [],
   "source": [
    "# Scalling\n",
    "ss = StandardScaler()\n",
    "ss.fit(X_train)\n",
    "\n",
    "X_train_scaled = ss.transform(X_train)\n",
    "X_test_scaled = ss.transform(X_test)"
   ]
  },
  {
   "cell_type": "markdown",
   "metadata": {},
   "source": [
    "## Baseline Prediction\n",
    "-----\n",
    "In the baseline model, use the mean of the sale price in our training data as the prediction."
   ]
  },
  {
   "cell_type": "code",
   "execution_count": 13,
   "metadata": {},
   "outputs": [
    {
     "data": {
      "text/plain": [
       "180512.78059895834"
      ]
     },
     "execution_count": 13,
     "metadata": {},
     "output_type": "execute_result"
    }
   ],
   "source": [
    "y_hat = np.mean(y_train)\n",
    "y_hat"
   ]
  },
  {
   "cell_type": "code",
   "execution_count": 14,
   "metadata": {},
   "outputs": [],
   "source": [
    "# checking the mse of the baseline model with validation data\n",
    "def mse(y_hat,y_true):\n",
    "    diff = y_true -y_hat\n",
    "    return np.mean(diff**2) "
   ]
  },
  {
   "cell_type": "code",
   "execution_count": 15,
   "metadata": {},
   "outputs": [
    {
     "name": "stdout",
     "output_type": "stream",
     "text": [
      "Validation MSE for baseline prediction: 7274817059.24217\n"
     ]
    }
   ],
   "source": [
    "print('Validation MSE for baseline prediction: ' + str(mse(y_hat,y_test)))  #validation"
   ]
  },
  {
   "cell_type": "markdown",
   "metadata": {},
   "source": [
    "MSE for baseline prediction is high as we are just using the mean of the target in training dataset."
   ]
  },
  {
   "cell_type": "markdown",
   "metadata": {},
   "source": [
    "## Model Fitting and Evaluation\n",
    "-----"
   ]
  },
  {
   "cell_type": "markdown",
   "metadata": {},
   "source": [
    "### Linear Regression with 53 features_Model 1"
   ]
  },
  {
   "cell_type": "code",
   "execution_count": 16,
   "metadata": {},
   "outputs": [],
   "source": [
    "# Function for linear regression\n",
    "def lin_reg (X_train_scaled, y_train, X_test_scaled, y_test):\n",
    "    lr = LinearRegression()\n",
    "    lr.fit(X_train_scaled, y_train)\n",
    "    print('Linear Regression Training R2: ' + str(lr.score(X_train_scaled,y_train)))\n",
    "    print('Linear Regression Validation R2: ' + str(lr.score(X_test_scaled,y_test)))\n",
    "    print('Linear Regression Estimated R2: ' + str((cross_val_score(lr, X_train_scaled,y_train,cv=10)).mean()))\n",
    "    print('\\n')\n",
    "    print('Linear Regression Training MSE: ' + str(mean_squared_error(y_train,lr.predict(X_train_scaled))))\n",
    "    print('Linear Regression Validation MSE: ' + str(mean_squared_error(y_test,lr.predict(X_test_scaled))))\n",
    "    print('Linear Regression Estimated MSE: ' + \n",
    "          str((-cross_val_score(lr, X_train_scaled,y_train,cv=10,scoring='neg_mean_squared_error')).mean()))\n",
    "    \n",
    "    print('Linear Regression Estimated RMSE: ' + \n",
    "          str(np.sqrt((-cross_val_score(lr, X_train_scaled,y_train,cv=10,scoring='neg_mean_squared_error')).mean())))"
   ]
  },
  {
   "cell_type": "code",
   "execution_count": 17,
   "metadata": {},
   "outputs": [
    {
     "name": "stdout",
     "output_type": "stream",
     "text": [
      "Linear Regression Training R2: 0.8713431600864785\n",
      "Linear Regression Validation R2: 0.8810314314974069\n",
      "Linear Regression Estimated R2: 0.8198752801333749\n",
      "\n",
      "\n",
      "Linear Regression Training MSE: 765602068.8275162\n",
      "Linear Regression Validation MSE: 863889493.4596654\n",
      "Linear Regression Estimated MSE: 994572610.0431755\n",
      "Linear Regression Estimated RMSE: 31536.84527728123\n"
     ]
    }
   ],
   "source": [
    "lin_reg(X_train_scaled, y_train, X_test_scaled, y_test)"
   ]
  },
  {
   "cell_type": "markdown",
   "metadata": {},
   "source": [
    "- Comparing training R2 and validation R2, underfitting observed on this model as the validation R2 is higher than training R2.\n",
    "- Even though the MSE is lower than the MSE in baseline model, the MSE from Linear Regression is still in a very large scale. "
   ]
  },
  {
   "cell_type": "markdown",
   "metadata": {},
   "source": [
    "### Ridge Regression with 53 features_Model 2"
   ]
  },
  {
   "cell_type": "code",
   "execution_count": 18,
   "metadata": {},
   "outputs": [],
   "source": [
    "# Function for ridge regression\n",
    "def ridge_reg (X_train_scaled, y_train, X_test_scaled, y_test):\n",
    "    ridge = RidgeCV(alphas=np.logspace(0.1,10,100),cv=10)  # find the alpha to be use\n",
    "    ridge.fit(X_train_scaled,y_train)\n",
    "    \n",
    "    # use the alpha to fit again so that can use all the data\n",
    "    alpha = ridge.alpha_\n",
    "    print('alpha: ',alpha)\n",
    "    \n",
    "    ridge_a = Ridge(alpha=alpha)\n",
    "    ridge_a.fit(X_train_scaled,y_train)\n",
    "    \n",
    "    # evaluate the model    \n",
    "    print('Ridge Regression Training R2: ' + str(ridge_a.score(X_train_scaled,y_train)))\n",
    "    print('Ridge Regression Validation R2: ' + str(ridge_a.score(X_test_scaled,y_test)))\n",
    "    print('Ridge Regression Estimated R2: ' + str((cross_val_score(ridge_a, X_train_scaled,y_train,cv=10)).mean()))\n",
    "    print('\\n')\n",
    "    print('Ridge Regression Training MSE: ' + str(mean_squared_error(y_train,ridge_a.predict(X_train_scaled))))\n",
    "    print('Ridge Regression Validation MSE: ' + str(mean_squared_error(y_test,ridge_a.predict(X_test_scaled))))\n",
    "    print('Ridge Regression Estimated MSE: ' + \n",
    "          str((-cross_val_score(ridge_a, X_train_scaled,y_train,cv=10,scoring='neg_mean_squared_error')).mean()))\n",
    "    \n",
    "    print('Ridge Regression Estimated RMSE: ' + \n",
    "          str(np.sqrt((-cross_val_score(ridge_a, X_train_scaled,y_train,cv=10,scoring='neg_mean_squared_error')).mean())))  "
   ]
  },
  {
   "cell_type": "code",
   "execution_count": 19,
   "metadata": {},
   "outputs": [
    {
     "name": "stdout",
     "output_type": "stream",
     "text": [
      "alpha:  501.18723362727246\n",
      "Ridge Regression Training R2: 0.8614245829676239\n",
      "Ridge Regression Validation R2: 0.8674083154456624\n",
      "Ridge Regression Estimated R2: 0.831624301123535\n",
      "\n",
      "\n",
      "Ridge Regression Training MSE: 824624839.5338736\n",
      "Ridge Regression Validation MSE: 962813662.8719193\n",
      "Ridge Regression Estimated MSE: 948345517.5216703\n",
      "Ridge Regression Estimated RMSE: 30795.219069226805\n"
     ]
    }
   ],
   "source": [
    "ridge_reg(X_train_scaled, y_train, X_test_scaled, y_test)"
   ]
  },
  {
   "cell_type": "markdown",
   "metadata": {},
   "source": [
    "As compare to Model 1 Linear Regresssion:\n",
    "- R2 on both training and validation are higher/better than Linear Regression. Underfitting still observed in this model as regularization are more useful in reducing overfitting.\n",
    "- MSE & RMSE are lower and better than Linear Regression.\n",
    "\n",
    "                        Model 2 Ridge Regression is better than Model 1 Linear Regression"
   ]
  },
  {
   "cell_type": "markdown",
   "metadata": {},
   "source": [
    "### Lasso Regression with 53 Features_Model 3"
   ]
  },
  {
   "cell_type": "code",
   "execution_count": 20,
   "metadata": {},
   "outputs": [],
   "source": [
    "# Function for lasso regression\n",
    "def lasso_reg (X_train_scaled, y_train, X_test_scaled, y_test):\n",
    "    lasso = LassoCV(n_alphas=500,cv=10,max_iter=100000)  # find the alpha\n",
    "    lasso.fit(X_train_scaled,y_train)\n",
    "    \n",
    "    # use the alpha to fit \n",
    "    alpha = lasso.alpha_\n",
    "    print('alpha: ', alpha)\n",
    "    \n",
    "    lasso_a = Lasso(alpha=alpha,max_iter=100000)\n",
    "    lasso_a.fit(X_train_scaled,y_train)\n",
    "    \n",
    "    # evaluate the model\n",
    "    print('Lasso Regression Training R2: ' + str(lasso_a.score(X_train_scaled,y_train)))\n",
    "    print('Lasso Regression Validation R2: ' + str(lasso_a.score(X_test_scaled,y_test)))\n",
    "    print('Lasso Regression Estimated R2: ' + str((cross_val_score(lasso_a, X_train_scaled,y_train,cv=10)).mean()))\n",
    "    print('\\n')\n",
    "    print('Lasso Regression Training MSE: ' + str(mean_squared_error(y_train,lasso_a.predict(X_train_scaled))))\n",
    "    print('Lasso Regression Validation MSE: ' + str(mean_squared_error(y_test,lasso_a.predict(X_test_scaled))))\n",
    "    print('Lasso Regression Estimated MSE: ' + \n",
    "          str((-cross_val_score(lasso_a, X_train_scaled,y_train,cv=10,scoring='neg_mean_squared_error')).mean()))\n",
    "    \n",
    "    print('Lasso Regression Estimated RMSE: ' + \n",
    "          str(np.sqrt((-cross_val_score(lasso_a, X_train_scaled,y_train,cv=10,scoring='neg_mean_squared_error')).mean())))"
   ]
  },
  {
   "cell_type": "code",
   "execution_count": 21,
   "metadata": {},
   "outputs": [
    {
     "name": "stdout",
     "output_type": "stream",
     "text": [
      "alpha:  1172.9229946846488\n",
      "Lasso Regression Training R2: 0.8642369319557133\n",
      "Lasso Regression Validation R2: 0.8749662314574309\n",
      "Lasso Regression Estimated R2: 0.8244000336320466\n",
      "\n",
      "\n",
      "Lasso Regression Training MSE: 807889311.0925303\n",
      "Lasso Regression Validation MSE: 907931904.4612925\n",
      "Lasso Regression Estimated MSE: 976173632.1318712\n",
      "Lasso Regression Estimated RMSE: 31243.777494596765\n"
     ]
    }
   ],
   "source": [
    "lasso_reg(X_train_scaled, y_train, X_test_scaled, y_test)"
   ]
  },
  {
   "cell_type": "markdown",
   "metadata": {},
   "source": [
    "As compared to Model 2 Ridge Regression: \n",
    "- R2 on both training and validation are lower \n",
    "- MSE & RMSE are higher which means Ridge Regression perform better \n",
    "\n",
    "                            Model 2 Ridge Regression is better than Model 3 Lasso Regression"
   ]
  },
  {
   "cell_type": "markdown",
   "metadata": {},
   "source": [
    "### Elastic Net with 53 Features_Model 4\n",
    "\n",
    "Note: l1_ratio :amount of ridge vs. lasso (0 = all ridge, 1 = all lasso)"
   ]
  },
  {
   "cell_type": "code",
   "execution_count": 22,
   "metadata": {},
   "outputs": [],
   "source": [
    "# Function for elastic net regression\n",
    "def elasticnet_reg (X_train_scaled, y_train, X_test_scaled, y_test):\n",
    "    enet = ElasticNetCV(l1_ratio=np.linspace(0.01, 1.0, 25), n_alphas=500,cv=10,max_iter=100000)  # find the ratio & alpha\n",
    "    enet.fit(X_train_scaled,y_train)\n",
    "    \n",
    "    # use the optimal ratio & alpha to fit\n",
    "    ratio = enet.l1_ratio_\n",
    "    alpha = enet.alpha_\n",
    "    print('l1_ratio: ', ratio)\n",
    "    print('alpha: ', alpha)\n",
    "    \n",
    "    enet_a = ElasticNet(alpha=alpha, l1_ratio=ratio)\n",
    "    enet_a.fit(X_train_scaled,y_train)\n",
    "    \n",
    "    # evaluate the model\n",
    "    print('ElasticNet Regression Training R2: ' + str(enet_a.score(X_train_scaled,y_train)))\n",
    "    print('ElasticNet Regression Validation R2: ' + str(enet_a.score(X_test_scaled,y_test)))\n",
    "    print('ElasticNet Regression Estimated R2: ' + str((cross_val_score(enet_a, X_train_scaled,y_train,cv=10)).mean()))\n",
    "    print('\\n')\n",
    "    print('ElasticNet Regression Training MSE: ' + str(mean_squared_error(y_train,enet_a.predict(X_train_scaled))))\n",
    "    print('ElasticNet Regression Validation MSE: ' + str(mean_squared_error(y_test,enet_a.predict(X_test_scaled))))\n",
    "    print('ElasticNet Regression Estimated MSE: ' + \n",
    "          str((-cross_val_score(enet_a, X_train_scaled,y_train,cv=10,scoring='neg_mean_squared_error')).mean()))\n",
    "    print('ElasticNet Regression Estimated RMSE: ' + \n",
    "          str(np.sqrt((-cross_val_score(enet_a, X_train_scaled,y_train,cv=10,scoring='neg_mean_squared_error')).mean())))"
   ]
  },
  {
   "cell_type": "code",
   "execution_count": 23,
   "metadata": {},
   "outputs": [
    {
     "name": "stdout",
     "output_type": "stream",
     "text": [
      "l1_ratio:  1.0\n",
      "alpha:  1172.9229946846488\n",
      "ElasticNet Regression Training R2: 0.8642369319557133\n",
      "ElasticNet Regression Validation R2: 0.8749662314574309\n",
      "ElasticNet Regression Estimated R2: 0.8244000336320466\n",
      "\n",
      "\n",
      "ElasticNet Regression Training MSE: 807889311.0925303\n",
      "ElasticNet Regression Validation MSE: 907931904.4612925\n",
      "ElasticNet Regression Estimated MSE: 976173632.1318712\n",
      "ElasticNet Regression Estimated RMSE: 31243.777494596765\n"
     ]
    }
   ],
   "source": [
    "elasticnet_reg(X_train_scaled, y_train, X_test_scaled, y_test)"
   ]
  },
  {
   "cell_type": "markdown",
   "metadata": {},
   "source": [
    "With Elastic Net CV, optimal l1_ratio is 1 which indicates that it is equivalent with Lasso. The result of this model is similar to Lasso and thus, among all 4 models with 53 features, Ridge Regression is the best model.\n"
   ]
  },
  {
   "cell_type": "markdown",
   "metadata": {},
   "source": [
    "### Regularization/Feature Selection  with Lasso\n",
    "\n",
    "Regularization will helps to reduce the multicolinearity in the data. Assume that after regularization, the features that has been selected in Lasso will fit the Linear Regression better as it reduces the multicolinearity in the data. \n",
    "\n",
    "Along reducing of the coefficients, Lasso also perform feature selection. If the coeficient of a particular feature is 0, it is equivalent to the feature is being excluded from the model."
   ]
  },
  {
   "cell_type": "markdown",
   "metadata": {},
   "source": [
    "Checking the coefficient of the features in Lasso"
   ]
  },
  {
   "cell_type": "code",
   "execution_count": 24,
   "metadata": {
    "scrolled": false
   },
   "outputs": [
    {
     "data": {
      "image/png": "[encoded data removed]",
      "text/plain": [
       "<Figure size 1440x432 with 1 Axes>"
      ]
     },
     "metadata": {
      "needs_background": "light"
     },
     "output_type": "display_data"
    }
   ],
   "source": [
    "# lasso.coef_ \n",
    "    \n",
    "lasso_a = Lasso(alpha=1172.9229946846488)\n",
    "lasso_a.fit(X_train_scaled,y_train)\n",
    "    \n",
    "# checking the coefficient\n",
    "pd.Series(lasso_a.coef_,index=X.columns).plot.bar(figsize=(20,6));"
   ]
  },
  {
   "cell_type": "code",
   "execution_count": 25,
   "metadata": {
    "scrolled": true
   },
   "outputs": [
    {
     "data": {
      "text/html": [
       "<div>\n",
       "<style scoped>\n",
       "    .dataframe tbody tr th:only-of-type {\n",
       "        vertical-align: middle;\n",
       "    }\n",
       "\n",
       "    .dataframe tbody tr th {\n",
       "        vertical-align: top;\n",
       "    }\n",
       "\n",
       "    .dataframe thead th {\n",
       "        text-align: right;\n",
       "    }\n",
       "</style>\n",
       "<table border=\"1\" class=\"dataframe\">\n",
       "  <thead>\n",
       "    <tr style=\"text-align: right;\">\n",
       "      <th></th>\n",
       "      <th>coef</th>\n",
       "      <th>features</th>\n",
       "    </tr>\n",
       "  </thead>\n",
       "  <tbody>\n",
       "    <tr>\n",
       "      <th>0</th>\n",
       "      <td>3207.702972</td>\n",
       "      <td>Lot Area</td>\n",
       "    </tr>\n",
       "    <tr>\n",
       "      <th>2</th>\n",
       "      <td>15477.368820</td>\n",
       "      <td>Overall Qual</td>\n",
       "    </tr>\n",
       "    <tr>\n",
       "      <th>3</th>\n",
       "      <td>2391.640817</td>\n",
       "      <td>Mas Vnr Area</td>\n",
       "    </tr>\n",
       "    <tr>\n",
       "      <th>4</th>\n",
       "      <td>5872.263574</td>\n",
       "      <td>Exter Qual</td>\n",
       "    </tr>\n",
       "    <tr>\n",
       "      <th>5</th>\n",
       "      <td>943.330555</td>\n",
       "      <td>Bsmt Qual</td>\n",
       "    </tr>\n",
       "    <tr>\n",
       "      <th>7</th>\n",
       "      <td>5052.052541</td>\n",
       "      <td>Bsmt Exposure</td>\n",
       "    </tr>\n",
       "    <tr>\n",
       "      <th>8</th>\n",
       "      <td>1216.610630</td>\n",
       "      <td>BsmtFin Type 1</td>\n",
       "    </tr>\n",
       "    <tr>\n",
       "      <th>9</th>\n",
       "      <td>4378.424036</td>\n",
       "      <td>BsmtFin SF 1</td>\n",
       "    </tr>\n",
       "    <tr>\n",
       "      <th>10</th>\n",
       "      <td>2082.596964</td>\n",
       "      <td>Total Bsmt SF</td>\n",
       "    </tr>\n",
       "    <tr>\n",
       "      <th>11</th>\n",
       "      <td>2300.861789</td>\n",
       "      <td>Heating QC</td>\n",
       "    </tr>\n",
       "    <tr>\n",
       "      <th>13</th>\n",
       "      <td>21302.357122</td>\n",
       "      <td>Gr Liv Area</td>\n",
       "    </tr>\n",
       "    <tr>\n",
       "      <th>14</th>\n",
       "      <td>1695.841842</td>\n",
       "      <td>Bsmt Full Bath</td>\n",
       "    </tr>\n",
       "    <tr>\n",
       "      <th>15</th>\n",
       "      <td>460.870617</td>\n",
       "      <td>Full Bath</td>\n",
       "    </tr>\n",
       "    <tr>\n",
       "      <th>17</th>\n",
       "      <td>6968.824588</td>\n",
       "      <td>Kitchen Qual</td>\n",
       "    </tr>\n",
       "    <tr>\n",
       "      <th>18</th>\n",
       "      <td>201.453552</td>\n",
       "      <td>Fireplaces</td>\n",
       "    </tr>\n",
       "    <tr>\n",
       "      <th>19</th>\n",
       "      <td>4951.243881</td>\n",
       "      <td>Fireplace Qu</td>\n",
       "    </tr>\n",
       "    <tr>\n",
       "      <th>20</th>\n",
       "      <td>906.539753</td>\n",
       "      <td>Garage Finish</td>\n",
       "    </tr>\n",
       "    <tr>\n",
       "      <th>21</th>\n",
       "      <td>5871.260982</td>\n",
       "      <td>Garage Area</td>\n",
       "    </tr>\n",
       "    <tr>\n",
       "      <th>23</th>\n",
       "      <td>774.622423</td>\n",
       "      <td>Wood Deck SF</td>\n",
       "    </tr>\n",
       "    <tr>\n",
       "      <th>24</th>\n",
       "      <td>401.905632</td>\n",
       "      <td>Open Porch SF</td>\n",
       "    </tr>\n",
       "    <tr>\n",
       "      <th>25</th>\n",
       "      <td>-3232.151315</td>\n",
       "      <td>age</td>\n",
       "    </tr>\n",
       "    <tr>\n",
       "      <th>30</th>\n",
       "      <td>-2238.559317</td>\n",
       "      <td>MS Zoning_RM</td>\n",
       "    </tr>\n",
       "    <tr>\n",
       "      <th>31</th>\n",
       "      <td>3050.289408</td>\n",
       "      <td>Land Contour_HLS</td>\n",
       "    </tr>\n",
       "    <tr>\n",
       "      <th>32</th>\n",
       "      <td>2709.991533</td>\n",
       "      <td>Neighborhood_NoRidge</td>\n",
       "    </tr>\n",
       "    <tr>\n",
       "      <th>33</th>\n",
       "      <td>7310.439296</td>\n",
       "      <td>Neighborhood_NridgHt</td>\n",
       "    </tr>\n",
       "    <tr>\n",
       "      <th>34</th>\n",
       "      <td>-23.989771</td>\n",
       "      <td>Neighborhood_OldTown</td>\n",
       "    </tr>\n",
       "    <tr>\n",
       "      <th>35</th>\n",
       "      <td>4531.715754</td>\n",
       "      <td>Neighborhood_StoneBr</td>\n",
       "    </tr>\n",
       "    <tr>\n",
       "      <th>36</th>\n",
       "      <td>-1071.836383</td>\n",
       "      <td>House Style_2Story</td>\n",
       "    </tr>\n",
       "    <tr>\n",
       "      <th>38</th>\n",
       "      <td>3087.727328</td>\n",
       "      <td>Roof Style_Hip</td>\n",
       "    </tr>\n",
       "    <tr>\n",
       "      <th>40</th>\n",
       "      <td>391.955594</td>\n",
       "      <td>Exterior 2nd_VinylSd</td>\n",
       "    </tr>\n",
       "    <tr>\n",
       "      <th>46</th>\n",
       "      <td>511.658728</td>\n",
       "      <td>Foundation_PConc</td>\n",
       "    </tr>\n",
       "    <tr>\n",
       "      <th>48</th>\n",
       "      <td>259.890270</td>\n",
       "      <td>Garage Type_BuiltIn</td>\n",
       "    </tr>\n",
       "    <tr>\n",
       "      <th>51</th>\n",
       "      <td>3932.438076</td>\n",
       "      <td>Sale Type_New</td>\n",
       "    </tr>\n",
       "  </tbody>\n",
       "</table>\n",
       "</div>"
      ],
      "text/plain": [
       "            coef              features\n",
       "0    3207.702972              Lot Area\n",
       "2   15477.368820          Overall Qual\n",
       "3    2391.640817          Mas Vnr Area\n",
       "4    5872.263574            Exter Qual\n",
       "5     943.330555             Bsmt Qual\n",
       "7    5052.052541         Bsmt Exposure\n",
       "8    1216.610630        BsmtFin Type 1\n",
       "9    4378.424036          BsmtFin SF 1\n",
       "10   2082.596964         Total Bsmt SF\n",
       "11   2300.861789            Heating QC\n",
       "13  21302.357122           Gr Liv Area\n",
       "14   1695.841842        Bsmt Full Bath\n",
       "15    460.870617             Full Bath\n",
       "17   6968.824588          Kitchen Qual\n",
       "18    201.453552            Fireplaces\n",
       "19   4951.243881          Fireplace Qu\n",
       "20    906.539753         Garage Finish\n",
       "21   5871.260982           Garage Area\n",
       "23    774.622423          Wood Deck SF\n",
       "24    401.905632         Open Porch SF\n",
       "25  -3232.151315                   age\n",
       "30  -2238.559317          MS Zoning_RM\n",
       "31   3050.289408      Land Contour_HLS\n",
       "32   2709.991533  Neighborhood_NoRidge\n",
       "33   7310.439296  Neighborhood_NridgHt\n",
       "34    -23.989771  Neighborhood_OldTown\n",
       "35   4531.715754  Neighborhood_StoneBr\n",
       "36  -1071.836383    House Style_2Story\n",
       "38   3087.727328        Roof Style_Hip\n",
       "40    391.955594  Exterior 2nd_VinylSd\n",
       "46    511.658728      Foundation_PConc\n",
       "48    259.890270   Garage Type_BuiltIn\n",
       "51   3932.438076         Sale Type_New"
      ]
     },
     "execution_count": 25,
     "metadata": {},
     "output_type": "execute_result"
    }
   ],
   "source": [
    "sub_lasso_co = pd.DataFrame({'coef':lasso_a.coef_,'features':X.columns})\n",
    "sub_features = sub_lasso_co[sub_lasso_co['coef']!=0]\n",
    "sub_features"
   ]
  },
  {
   "cell_type": "code",
   "execution_count": 26,
   "metadata": {},
   "outputs": [
    {
     "data": {
      "text/plain": [
       "33"
      ]
     },
     "execution_count": 26,
     "metadata": {},
     "output_type": "execute_result"
    }
   ],
   "source": [
    "sub_lasso_f = sub_features['features']\n",
    "len(sub_lasso_f)"
   ]
  },
  {
   "cell_type": "markdown",
   "metadata": {},
   "source": [
    "Total of 33 features has been selected by Lasso from total of 53 features"
   ]
  },
  {
   "cell_type": "markdown",
   "metadata": {},
   "source": [
    "### Linear Regression with Features Selected from Lasso_Model 5\n",
    "With the features selected from Lasso, it should fit the Linear Regression better."
   ]
  },
  {
   "cell_type": "code",
   "execution_count": 27,
   "metadata": {},
   "outputs": [],
   "source": [
    "X_subls = X_train[sub_lasso_f]"
   ]
  },
  {
   "cell_type": "code",
   "execution_count": 28,
   "metadata": {},
   "outputs": [],
   "source": [
    "X_subls_test = X_test[sub_lasso_f]"
   ]
  },
  {
   "cell_type": "code",
   "execution_count": 29,
   "metadata": {},
   "outputs": [],
   "source": [
    "# Scalling\n",
    "ss = StandardScaler()\n",
    "ss.fit(X_subls)\n",
    "\n",
    "Xsubls_train_scaled = ss.transform(X_subls)\n",
    "Xsubls_test_scaled = ss.transform(X_subls_test)"
   ]
  },
  {
   "cell_type": "code",
   "execution_count": 30,
   "metadata": {},
   "outputs": [
    {
     "name": "stdout",
     "output_type": "stream",
     "text": [
      "Linear Regression Training R2: 0.8669168794495028\n",
      "Linear Regression Validation R2: 0.8800264516886461\n",
      "Linear Regression Estimated R2: 0.824037344937933\n",
      "\n",
      "\n",
      "Linear Regression Training MSE: 791941668.1458077\n",
      "Linear Regression Validation MSE: 871187147.8641449\n",
      "Linear Regression Estimated MSE: 974197236.4494388\n",
      "Linear Regression Estimated RMSE: 31212.132840442653\n"
     ]
    }
   ],
   "source": [
    "lin_reg(Xsubls_train_scaled, y_train, Xsubls_test_scaled, y_test)"
   ]
  },
  {
   "cell_type": "markdown",
   "metadata": {},
   "source": [
    "With the subset of features, Linear Regression did perform better with higher R2 and lower MSE as compare to Linear Regression with 53 features."
   ]
  },
  {
   "cell_type": "markdown",
   "metadata": {},
   "source": [
    "## Prediction with Best Model\n",
    "----\n",
    "\n",
    "### Prediction with Model 5 Linear regression with 33 Features"
   ]
  },
  {
   "cell_type": "code",
   "execution_count": 31,
   "metadata": {},
   "outputs": [],
   "source": [
    "X_test_l = test_c[sub_lasso_f]\n",
    "X_sub = X[sub_lasso_f]"
   ]
  },
  {
   "cell_type": "code",
   "execution_count": 32,
   "metadata": {},
   "outputs": [],
   "source": [
    "# Scalling\n",
    "ss = StandardScaler()\n",
    "ss.fit(X_sub)\n",
    "\n",
    "Xsub_scaled = ss.transform(X_sub)\n",
    "X1_test_scaled = ss.transform(X_test_l)"
   ]
  },
  {
   "cell_type": "code",
   "execution_count": 33,
   "metadata": {},
   "outputs": [
    {
     "data": {
      "text/plain": [
       "LinearRegression(copy_X=True, fit_intercept=True, n_jobs=None, normalize=False)"
      ]
     },
     "execution_count": 33,
     "metadata": {},
     "output_type": "execute_result"
    }
   ],
   "source": [
    "lr = LinearRegression()\n",
    "lr.fit(Xsub_scaled,y)"
   ]
  },
  {
   "cell_type": "code",
   "execution_count": 34,
   "metadata": {},
   "outputs": [],
   "source": [
    "y_preds_lr = lr.predict(X1_test_scaled)"
   ]
  },
  {
   "cell_type": "code",
   "execution_count": 35,
   "metadata": {},
   "outputs": [],
   "source": [
    "lr_test_submission = pd.DataFrame({'Id': test_c['Id'],'SalePrice':y_preds_lr})"
   ]
  },
  {
   "cell_type": "code",
   "execution_count": 36,
   "metadata": {},
   "outputs": [
    {
     "data": {
      "text/html": [
       "<div>\n",
       "<style scoped>\n",
       "    .dataframe tbody tr th:only-of-type {\n",
       "        vertical-align: middle;\n",
       "    }\n",
       "\n",
       "    .dataframe tbody tr th {\n",
       "        vertical-align: top;\n",
       "    }\n",
       "\n",
       "    .dataframe thead th {\n",
       "        text-align: right;\n",
       "    }\n",
       "</style>\n",
       "<table border=\"1\" class=\"dataframe\">\n",
       "  <thead>\n",
       "    <tr style=\"text-align: right;\">\n",
       "      <th></th>\n",
       "      <th>Id</th>\n",
       "      <th>SalePrice</th>\n",
       "    </tr>\n",
       "  </thead>\n",
       "  <tbody>\n",
       "    <tr>\n",
       "      <th>0</th>\n",
       "      <td>2658</td>\n",
       "      <td>129605.694585</td>\n",
       "    </tr>\n",
       "    <tr>\n",
       "      <th>1</th>\n",
       "      <td>2718</td>\n",
       "      <td>163027.666305</td>\n",
       "    </tr>\n",
       "    <tr>\n",
       "      <th>2</th>\n",
       "      <td>2414</td>\n",
       "      <td>233949.376108</td>\n",
       "    </tr>\n",
       "    <tr>\n",
       "      <th>3</th>\n",
       "      <td>1989</td>\n",
       "      <td>101061.795288</td>\n",
       "    </tr>\n",
       "    <tr>\n",
       "      <th>4</th>\n",
       "      <td>625</td>\n",
       "      <td>174197.218481</td>\n",
       "    </tr>\n",
       "  </tbody>\n",
       "</table>\n",
       "</div>"
      ],
      "text/plain": [
       "     Id      SalePrice\n",
       "0  2658  129605.694585\n",
       "1  2718  163027.666305\n",
       "2  2414  233949.376108\n",
       "3  1989  101061.795288\n",
       "4   625  174197.218481"
      ]
     },
     "execution_count": 36,
     "metadata": {},
     "output_type": "execute_result"
    }
   ],
   "source": [
    "lr_test_submission.head()"
   ]
  },
  {
   "cell_type": "code",
   "execution_count": 37,
   "metadata": {},
   "outputs": [],
   "source": [
    "lr_test_submission.to_csv('./datasets/lr_test_submission.csv', index=False)"
   ]
  },
  {
   "cell_type": "markdown",
   "metadata": {},
   "source": [
    "### Kaggle Score: 30907.43847"
   ]
  },
  {
   "cell_type": "markdown",
   "metadata": {},
   "source": [
    "## Conclusion\n",
    "-------"
   ]
  },
  {
   "cell_type": "markdown",
   "metadata": {},
   "source": [
    "|Model No|Model|Estimated R2|Estimated MSE|Estimated RMSE|\n",
    "|--------|-----|------------|-------------|-------------|\n",
    "|1|Linear Regression (53 features)|0.8199|994572610.04|31536.85|\n",
    "|2|Ridge Regression (53 features)|0.8316|948345517.52|30795.22|\n",
    "|3|Lasso Regression (53 features)|0.8244|976173632.13|31243.78|\n",
    "|4|ElasticNet (53 features)|0.8244|976173632.13|31243.78|\n",
    "|5|Linear Regression (33 features)|0.8240|974197236.45|31212.13|\n",
    "\n",
    "\n",
    "There are total 5 models created in this project. Among the 4 models (Linear,Ridge,Lasso, and ElasticNet) with 53 features, Ridge Regression performed better with highest estimated R2 score and lowest estimated MSE. In both Linear Regression, model with features selected after Lasso regularization perform better in terms of R2 and MSE. \n",
    "\n",
    "Best model among all 5 models created will be Ridge Regression (53 features) by looking only at the R2 and MSE scores. However, considering the model will be frequently used in the company to predict the sale price of the house, the least complex model would be better as less predictors(features) is needed. Looking at Model 5 Linear Regression with 33 features, MSE is the second lowest. Thus, Model 5 Linear Regresssion with 33 features would be the ideal model to be used for prediction.\n"
   ]
  }
 ],
 "metadata": {
  "kernelspec": {
   "display_name": "Python 3",
   "language": "python",
   "name": "python3"
  },
  "language_info": {
   "codemirror_mode": {
    "name": "ipython",
    "version": 3
   },
   "file_extension": ".py",
   "mimetype": "text/x-python",
   "name": "python",
   "nbconvert_exporter": "python",
   "pygments_lexer": "ipython3",
   "version": "3.7.6"
  }
 },
 "nbformat": 4,
 "nbformat_minor": 4
}
